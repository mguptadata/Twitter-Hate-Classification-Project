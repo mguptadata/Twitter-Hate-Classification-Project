{
 "cells": [
  {
   "cell_type": "code",
   "execution_count": 2,
   "metadata": {},
   "outputs": [],
   "source": [
    "import requests\n",
    "from bs4 import BeautifulSoup\n",
    "import pandas as pd"
   ]
  },
  {
   "cell_type": "code",
   "execution_count": null,
   "metadata": {},
   "outputs": [],
   "source": [
    "twitter_handles = ['realDonaldTrump','SteveKingIA', 'AlexJones_Quote', 'IngrahamAngle', 'RichardBSpencer', ]\n",
    "\n",
    "def get_tweets (twitter_handle):\n",
    "\n",
    "    tweet_list = []\n",
    "     \n",
    "    for handle in twitter_handles:\n",
    "        \n",
    "        twitter_url = requests.get('https://twitter.com/' + handle).text\n",
    "        \n",
    "        soup = BeautifulSoup(twitter_url,'lxml')\n",
    "        \n",
    "        tweets = soup.find_all(\"p\")\n",
    "        \n",
    "        tweets = soup.find_all(\"p\", {\"class\" : \"TweetTextSize\"})\n",
    "       \n",
    "        for tweet in tweets:\n",
    "            \n",
    "            tweet_list.append((handle, tweet.text))\n",
    "            \n",
    "    df = pd.DataFrame(tweet_list, columns=['handle', 'tweet'])\n",
    "    df['handle_index'] = df.groupby('handle').cumcount()\n",
    "    \n",
    "    return df"
   ]
  },
  {
   "cell_type": "code",
   "execution_count": null,
   "metadata": {},
   "outputs": [],
   "source": [
    "df = get_tweets(twitter_handle)"
   ]
  },
  {
   "cell_type": "code",
   "execution_count": null,
   "metadata": {
    "scrolled": true
   },
   "outputs": [],
   "source": [
    "df.to_csv('scraped_tweets.csv')"
   ]
  },
  {
   "cell_type": "code",
   "execution_count": null,
   "metadata": {},
   "outputs": [],
   "source": []
  }
 ],
 "metadata": {
  "kernelspec": {
   "display_name": "Python 3",
   "language": "python",
   "name": "python3"
  },
  "language_info": {
   "codemirror_mode": {
    "name": "ipython",
    "version": 3
   },
   "file_extension": ".py",
   "mimetype": "text/x-python",
   "name": "python",
   "nbconvert_exporter": "python",
   "pygments_lexer": "ipython3",
   "version": "3.7.3"
  }
 },
 "nbformat": 4,
 "nbformat_minor": 2
}
