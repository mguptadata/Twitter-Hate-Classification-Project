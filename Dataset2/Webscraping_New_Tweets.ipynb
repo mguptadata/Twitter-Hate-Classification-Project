{
 "cells": [
  {
   "cell_type": "code",
   "execution_count": 2,
   "metadata": {},
   "outputs": [],
   "source": [
    "import requests\n",
    "from bs4 import BeautifulSoup\n",
    "import pandas as pd"
   ]
  },
  {
   "cell_type": "code",
   "execution_count": null,
   "metadata": {},
   "outputs": [],
   "source": [
    "twitter_handles = ['realDonaldTrump','SteveKingIA', 'AlexJones_Quote', 'IngrahamAngle', 'RichardBSpencer',\n",
    "                   'TheEllenShow', 'BreneBrown']"
   ]
  },
  {
   "cell_type": "code",
   "execution_count": 118,
   "metadata": {},
   "outputs": [],
   "source": [
    "# twitter_users = ['TheEllenShow''BreneBrown']\n",
    "\n",
    "twitter_handles = ['TheEllenShow', 'BreneBrown']\n",
    "\n",
    "def get_tweets (twitter_handle):\n",
    "    \n",
    "    tweet_list = []\n",
    "    \n",
    "    for handle in twitter_handles:\n",
    "        \n",
    "        twitter_url = requests.get('https://twitter.com/' + handle).text\n",
    "        \n",
    "        soup = BeautifulSoup(twitter_url,'lxml')\n",
    "        \n",
    "        tweets = soup.find_all(\"p\")\n",
    "        \n",
    "        tweets = soup.find_all(\"p\", {\"class\" : \"TweetTextSize\"})\n",
    "       \n",
    "        for tweet in tweets:\n",
    "            \n",
    "            tweet_list.append(tweet.text)\n",
    "            \n",
    "    return tweet_list"
   ]
  },
  {
   "cell_type": "code",
   "execution_count": 121,
   "metadata": {},
   "outputs": [],
   "source": [
    "tweet_list = get_tweets(twitter_handle)"
   ]
  },
  {
   "cell_type": "code",
   "execution_count": 123,
   "metadata": {
    "collapsed": true
   },
   "outputs": [
    {
     "data": {
      "text/plain": [
       "['We’d rate all these tiny passengers 5 stars. #ellentubehttp://ellen.tv/2Y36dlM\\xa0',\n",
       " '.@MsSarahPaulson might be my all-time favorite person to scare.pic.twitter.com/Wbmjx1FFOG',\n",
       " 'Happy birthday, @JLo! Love, your Maid of Honor.',\n",
       " 'It’s @DavidDobrik’s birthday! David’s #BurningQuestions are even hotter than his flamethrower.http://ellen.tv/32Mp2Z7\\xa0',\n",
       " 'I loved watching Seth on our show \"Fearless.\" I’m glad @AshleyGraham checked in on him. @ellentube #ThanksSponsorhttp://ellen.tv/2Z7JAZV\\xa0',\n",
       " '.@IdrisElba is still currently the Sexiest Man Alive, if you were wondering.pic.twitter.com/WIYwbtHeNm',\n",
       " 'Brielle is adorable. Baby goats are adorable. This video is adorable squared. It’s simple math. #ThanksSponsorhttp://ellen.tv/2YlC1By\\xa0',\n",
       " 'Happy birthday, @SelenaGomez! You’re the 3rd most followed person on Instagram, so I thought I’d send you this on Twitter.',\n",
       " 'The snuggle is real.pic.twitter.com/DXUXF6f0AW',\n",
       " 'Happy birthday, @DavidSpade. I love it every time you’re here, even if you do steal all the light bulbs from the dressing room.',\n",
       " 'Of course, @JesseTyler Ferguson does an incredible @CelineDion impression.http://ellen.tv/2YjcA3w\\xa0',\n",
       " 'Watching this clip of Ellie inspired me all over again. #MondayMotivationhttp://ellen.tv/2RN8av8\\xa0',\n",
       " 'I had a lot of fun with the cast of #BigLittleLies this season. I can’t wait for the finale! #BLL2 @LauraDern @ReeseW @shailenewoodleypic.twitter.com/kTIuuewtKh',\n",
       " 'What do you and @TheKalenAllen have in common? You’re both ready for the weekend with this episode of #OMKalen. #ASMRpic.twitter.com/liKbB1ypIZ',\n",
       " '#TheLionKing is here! Okay lions, now let’s get in formation. #HakunaMatata @Beyonce @iamjohnoliver @donaldglover @billyeichner @Sethrogenpic.twitter.com/d1tS2nRpr5',\n",
       " 'Her future’s so bright, she’s gotta wear shades (and a big hat).pic.twitter.com/tZpf7OJJ8P',\n",
       " 'We all scream for great ice cream videos. Thanks for sending these to @ellentube!http://ellen.tv/2Y1NLF5\\xa0',\n",
       " 'True story... @itsJulieBowen had been hiding in there for 3 days. @BlakeSheltonpic.twitter.com/VSiEY0bkUn',\n",
       " 'You have to see what @TheKalenAllen is doing tonight. #TheLionKinghttps://twitter.com/AlanKMBC/status/1152024826355183616\\xa0…',\n",
       " 'Still the greatest scare of all time. #TBT @TaylorSwift13pic.twitter.com/wHZ9wUSctK',\n",
       " 'Courageous leadership is a practice. We have great free downloads and resources on our Dare to Lead hub. Stay brave, awkward, and kind.\\n\\nhttps://daretolead.brenebrown.com/\\xa0pic.twitter.com/7JZOdclM11',\n",
       " 'We use POV for “point of view.” \\n\\nFunny story: I used POV 10 times with a military audience until a guy raised his hand and said, “Mam, I’m not clear on why we bring our personally owned vehicle” to the meeting. \\n\\nGood lesson on not using acronyms - or at least clarifying first!https://twitter.com/cloralee3/status/1148993515684290560\\xa0…',\n",
       " ' Another great example of courage as a skill set and practice. Listen, listen, and discern.https://twitter.com/AndreDarnell3/status/1148982472857796610\\xa0…',\n",
       " ' great example of courage as a daily practice - especially around receiving feedback from people who aren’t skilled up to offer it in a meaningful way.https://twitter.com/ajwilliamsco/status/1148984718680924160\\xa0…',\n",
       " 'There is no mastery without feedback. But it’s hard. \\n\\nThis checklist has really helped me over the years.\\n\\nMy mantra for receiving feedback: Be brave. Listen. You can take what’s helpful and leave the rest.\\n\\nMy mantra for giving feedback: Clear is kind. Unclear is unkind.pic.twitter.com/v7VqppsyvN',\n",
       " 'Counterfeit and summary books on @amazon - huge issue. And, my friend @TheBloggess is right. We both have publishers to advocate and help. It’s brutally unfair to new writers. \\n\\nAnd, it’s fixable. With great technology and scale comes great responsibility.https://twitter.com/TheBloggess/status/1148663876214562817\\xa0…',\n",
       " 'I believe! Thank you @USWNT \\nGOAT!!! ',\n",
       " 'GGGGGOOOAAAAAAALLLLLL! \\nWay to go Rose!',\n",
       " 'GGGGGOOOOAAAAAAAALLLLLLLL! Way to go Rapinoe!',\n",
       " 'I love this. https://twitter.com/profkeithdevlin/status/1146239338625134597\\xa0…',\n",
       " '2019 is halfway over! https://trib.al/uAE4U0o\\xa0',\n",
       " '\"Niceness stays quiet. Kindness speaks up. Niceness is toxic. Kindness is healing. Niceness lies to keep the peace. Kindness knows the only way to make peace is to tell the truth. Niceness holds back. Kindness moves forward with humility, gentleness & grace.\" Allison Vesterfeltpic.twitter.com/t3pCdjNahz',\n",
       " 'Me and the incomparable @BreneBrown on the #UNDERTHESKIN PODCAST this week. What a woman! What a conversation! Subscribe http://luminary.link/russell\\xa0 @hearluminarypic.twitter.com/dHJAfJ446G',\n",
       " '.@GilbertLiz is back on @SuperSoulSunday and she told me, “I do not want to come all this distance to live a human life and miss the experience.” Let that sink in. What an aha moment. This Sunday at 11a on @OWNTVpic.twitter.com/Q3rRraGj64',\n",
       " 'Thank you, Henri. These are the lies that keep us small, afraid and quiet.pic.twitter.com/S6mKAc7d18',\n",
       " 'Such a fun convo with with @RyanSeacrest ! You can listen at 8:25a PT!  https://www.youtube.com/watch?v=gr-WvA7uFDQ\\xa0… https://twitter.com/RyanSeacrest/status/1136415151534551040\\xa0…',\n",
       " 'It was so fun @RyanSeacrest - brave on! https://twitter.com/RyanSeacrest/status/1136414899838603264\\xa0…',\n",
       " 'You will never walk alone! Congrats @LFC - so excited!!! pic.twitter.com/9fvW9OU0qS',\n",
       " 'Clear is kind and unclear is unkind. \\n@1stCovMpls Thank you living a gospel of Loving All and honoring a faith communion of love, acceptance, and finding God in each other.',\n",
       " 'We broke my website! But we’re back: https://brenebrown.com/articles/2019/05/31/what-being-sober-has-meant-to-me/\\xa0…https://twitter.com/Birditola/status/1134501455941914624\\xa0…']"
      ]
     },
     "execution_count": 123,
     "metadata": {},
     "output_type": "execute_result"
    }
   ],
   "source": [
    "tweet_list"
   ]
  },
  {
   "cell_type": "code",
   "execution_count": 124,
   "metadata": {},
   "outputs": [
    {
     "data": {
      "text/plain": [
       "str"
      ]
     },
     "execution_count": 124,
     "metadata": {},
     "output_type": "execute_result"
    }
   ],
   "source": [
    "type(tweet_list[20])"
   ]
  },
  {
   "cell_type": "code",
   "execution_count": 114,
   "metadata": {},
   "outputs": [],
   "source": [
    "list = get_tweets(twitter_handle)"
   ]
  },
  {
   "cell_type": "code",
   "execution_count": null,
   "metadata": {},
   "outputs": [],
   "source": []
  },
  {
   "cell_type": "code",
   "execution_count": 161,
   "metadata": {},
   "outputs": [],
   "source": [
    "# twitter_users = ['RepSteveKing', 'TheEllenShow']\n",
    "twitter_handles = ['realDonaldTrump','SteveKingIA', 'AlexJones_Quote', 'IngrahamAngle', 'RichardBSpencer']\n",
    "\n",
    "def get_tweets (twitter_handle):\n",
    "\n",
    "    tweet_list = []\n",
    "     \n",
    "    for handle in twitter_handles:\n",
    "        \n",
    "        twitter_url = requests.get('https://twitter.com/' + handle).text\n",
    "        \n",
    "        soup = BeautifulSoup(twitter_url,'lxml')\n",
    "        \n",
    "        tweets = soup.find_all(\"p\")\n",
    "        \n",
    "        tweets = soup.find_all(\"p\", {\"class\" : \"TweetTextSize\"})\n",
    "       \n",
    "        for tweet in tweets:\n",
    "            \n",
    "            tweet_list.append((handle, tweet.text))\n",
    "            \n",
    "    df = pd.DataFrame(tweet_list, columns=['handle', 'tweet'])\n",
    "    df['handle_index'] = df.groupby('handle').cumcount()\n",
    "    \n",
    "    return df"
   ]
  },
  {
   "cell_type": "code",
   "execution_count": 162,
   "metadata": {},
   "outputs": [],
   "source": [
    "df = get_tweets(twitter_handle)"
   ]
  },
  {
   "cell_type": "code",
   "execution_count": 164,
   "metadata": {
    "scrolled": true
   },
   "outputs": [],
   "source": [
    "df.to_csv('scraped_tweets.csv')"
   ]
  },
  {
   "cell_type": "code",
   "execution_count": null,
   "metadata": {},
   "outputs": [],
   "source": []
  }
 ],
 "metadata": {
  "kernelspec": {
   "display_name": "Python 3",
   "language": "python",
   "name": "python3"
  },
  "language_info": {
   "codemirror_mode": {
    "name": "ipython",
    "version": 3
   },
   "file_extension": ".py",
   "mimetype": "text/x-python",
   "name": "python",
   "nbconvert_exporter": "python",
   "pygments_lexer": "ipython3",
   "version": "3.7.3"
  }
 },
 "nbformat": 4,
 "nbformat_minor": 2
}
