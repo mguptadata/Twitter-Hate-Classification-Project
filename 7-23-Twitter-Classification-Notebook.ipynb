{
 "cells": [
  {
   "cell_type": "code",
   "execution_count": 65,
   "metadata": {},
   "outputs": [],
   "source": [
    "from __future__ import print_function\n",
    "\n",
    "import pandas as pd \n",
    "import numpy as np \n",
    "import sklearn\n",
    "\n",
    "# NLTK/NLP\n",
    "from sklearn.feature_extraction.text import TfidfVectorizer, CountVectorizer\n",
    "import nltk\n",
    "from nltk import FreqDist, word_tokenize\n",
    "import string, re\n",
    "import urllib\n",
    "from nltk.stem.snowball import SnowballStemmer\n",
    "from nltk.corpus import stopwords\n",
    "from gensim.models import word2vec\n",
    "from nltk.collocations import *\n",
    "import gensim\n",
    "\n",
    "# Classifiers \n",
    "from sklearn.ensemble import RandomForestClassifier \n",
    "from sklearn.linear_model import LogisticRegression\n",
    "from sklearn.svm import SVC\n",
    "from sklearn.neighbors import KNeighborsClassifier\n",
    "from sklearn.naive_bayes import GaussianNB\n",
    "from sklearn.model_selection import GridSearchCV\n",
    "\n",
    "# Metrics\n",
    "from sklearn import metrics\n",
    "from sklearn.metrics import accuracy_score, confusion_matrix, classification_report, roc_curve, auc, precision_recall_curve\n",
    "from sklearn.model_selection import train_test_split\n",
    "\n",
    "\n",
    "#Sampling\n",
    "from imblearn.pipeline import make_pipeline, Pipeline\n",
    "from imblearn.over_sampling import SMOTE\n",
    "from sklearn.utils import resample\n",
    "\n",
    "import sklearn.decomposition as decomposition\n",
    "\n",
    "#Visualization\n",
    "from wordcloud import WordCloud\n",
    "import matplotlib.pyplot as plt \n",
    "import seaborn as sns\n",
    "%matplotlib inline\n",
    "\n",
    "import warnings \n",
    "warnings.filterwarnings(\"ignore\")\n",
    "\n",
    "from nltk.stem.wordnet import WordNetLemmatizer\n",
    "\n",
    "lemmatizer = WordNetLemmatizer()"
   ]
  },
  {
   "cell_type": "code",
   "execution_count": 66,
   "metadata": {},
   "outputs": [],
   "source": [
    "# import customized functions\n",
    "# import import_ipynb\n",
    "# from custom_functions import *\n",
    "\n",
    "%run custom_functions.ipynb"
   ]
  },
  {
   "cell_type": "code",
   "execution_count": 67,
   "metadata": {},
   "outputs": [],
   "source": [
    "df = pd.read_csv('data/cleaned-reshuffled.csv')\n",
    "df.drop(['Unnamed: 0'], axis = 1, inplace = True)\n",
    "df.lem_tweet= df.lem_tweet.apply(str)\n",
    "df.stem_tweet= df.stem_tweet.apply(str)"
   ]
  },
  {
   "cell_type": "markdown",
   "metadata": {},
   "source": [
    "## Train / Test Split for TF-IDF"
   ]
  },
  {
   "cell_type": "code",
   "execution_count": 68,
   "metadata": {},
   "outputs": [],
   "source": [
    "X = df.drop(['label'], axis = 1)"
   ]
  },
  {
   "cell_type": "code",
   "execution_count": 69,
   "metadata": {},
   "outputs": [],
   "source": [
    "y = df['label']"
   ]
  },
  {
   "cell_type": "code",
   "execution_count": 70,
   "metadata": {},
   "outputs": [],
   "source": [
    "#splitting into train and test \n",
    "X_model, X_test, y_model, y_test = train_test_split(X, y, stratify = y,  test_size=0.20, random_state=123)\n",
    "\n",
    "#splitting \"model\" into train and validation sets\n",
    "X_train, X_val, y_train, y_val = train_test_split(X_model, y_model, test_size=0.20, random_state=123)\n",
    "\n",
    "# df_train_full = X_train.copy()\n",
    "# df_train_full['label']= y_train\n",
    "# train_full_df.to_csv('train_full_df.csv')"
   ]
  },
  {
   "cell_type": "code",
   "execution_count": 71,
   "metadata": {},
   "outputs": [
    {
     "data": {
      "text/plain": [
       "0    0.929854\n",
       "1    0.070146\n",
       "Name: label, dtype: float64"
      ]
     },
     "execution_count": 71,
     "metadata": {},
     "output_type": "execute_result"
    }
   ],
   "source": [
    "y.value_counts(normalize=True)"
   ]
  },
  {
   "cell_type": "markdown",
   "metadata": {},
   "source": [
    "### Upsampling and Downsampling Training Data"
   ]
  },
  {
   "cell_type": "code",
   "execution_count": 72,
   "metadata": {},
   "outputs": [
    {
     "data": {
      "text/html": [
       "<div>\n",
       "<style scoped>\n",
       "    .dataframe tbody tr th:only-of-type {\n",
       "        vertical-align: middle;\n",
       "    }\n",
       "\n",
       "    .dataframe tbody tr th {\n",
       "        vertical-align: top;\n",
       "    }\n",
       "\n",
       "    .dataframe thead th {\n",
       "        text-align: right;\n",
       "    }\n",
       "</style>\n",
       "<table border=\"1\" class=\"dataframe\">\n",
       "  <thead>\n",
       "    <tr style=\"text-align: right;\">\n",
       "      <th></th>\n",
       "      <th>id</th>\n",
       "      <th>tweet</th>\n",
       "      <th>tidy_tweet</th>\n",
       "      <th>no_hash_tweet</th>\n",
       "      <th>tokenized_tweet</th>\n",
       "      <th>stemmed_tokens</th>\n",
       "      <th>lemmatized_tokens</th>\n",
       "      <th>lem_tweet</th>\n",
       "      <th>stem_tweet</th>\n",
       "      <th>label</th>\n",
       "    </tr>\n",
       "  </thead>\n",
       "  <tbody>\n",
       "    <tr>\n",
       "      <th>565</th>\n",
       "      <td>20676</td>\n",
       "      <td>@user f*** this  ð¦ðº government that deli...</td>\n",
       "      <td>this government that deliberately toures #refu...</td>\n",
       "      <td>this government that deliberately toures refug...</td>\n",
       "      <td>['this', 'government', 'that', 'deliberately',...</td>\n",
       "      <td>['this', 'govern', 'that', 'deliber', 'tour', ...</td>\n",
       "      <td>['this', 'government', 'that', 'deliberately',...</td>\n",
       "      <td>this government that deliberately toures refug...</td>\n",
       "      <td>this government that deliberately toures refug...</td>\n",
       "      <td>1</td>\n",
       "    </tr>\n",
       "    <tr>\n",
       "      <th>21531</th>\n",
       "      <td>24025</td>\n",
       "      <td>despite a demoralizing 2016: may ur #newyear20...</td>\n",
       "      <td>despite demoralizing #newyear #classism free #...</td>\n",
       "      <td>despite demoralizing newyear classism free sag...</td>\n",
       "      <td>['despite', 'demoralizing', 'newyear', 'classi...</td>\n",
       "      <td>['despit', 'demor', 'newyear', 'classism', 'fr...</td>\n",
       "      <td>['despite', 'demoralizing', 'newyear', 'classi...</td>\n",
       "      <td>despite demoralizing newyear classism free sag...</td>\n",
       "      <td>despite demoralizing newyear classism free sag...</td>\n",
       "      <td>1</td>\n",
       "    </tr>\n",
       "    <tr>\n",
       "      <th>13300</th>\n",
       "      <td>18145</td>\n",
       "      <td>@user #koreans &amp;amp; joseon people in japan, w...</td>\n",
       "      <td>#koreans joseon people japan will abuse claims...</td>\n",
       "      <td>koreans joseon people japan will abuse claims ...</td>\n",
       "      <td>['koreans', 'joseon', 'people', 'japan', 'will...</td>\n",
       "      <td>['korean', 'joseon', 'peopl', 'japan', 'will',...</td>\n",
       "      <td>['korean', 'joseon', 'people', 'japan', 'will'...</td>\n",
       "      <td>koreans joseon people japan will abuse claims ...</td>\n",
       "      <td>koreans joseon people japan will abuse claims ...</td>\n",
       "      <td>1</td>\n",
       "    </tr>\n",
       "    <tr>\n",
       "      <th>18925</th>\n",
       "      <td>8506</td>\n",
       "      <td>@user @user @user @user classic ! yet you jewi...</td>\n",
       "      <td>classic jewish bastards wonder sooo hated world</td>\n",
       "      <td>classic jewish bastards wonder sooo hated world</td>\n",
       "      <td>['classic', 'jewish', 'bastards', 'wonder', 's...</td>\n",
       "      <td>['classic', 'jewish', 'bastard', 'wonder', 'so...</td>\n",
       "      <td>['classic', 'jewish', 'bastard', 'wonder', 'so...</td>\n",
       "      <td>classic jewish bastards wonder sooo hated world</td>\n",
       "      <td>classic jewish bastards wonder sooo hated world</td>\n",
       "      <td>1</td>\n",
       "    </tr>\n",
       "    <tr>\n",
       "      <th>12619</th>\n",
       "      <td>15464</td>\n",
       "      <td>@user did someone say #antisemetic ? gee (((@u...</td>\n",
       "      <td>someone #antisemetic triggered</td>\n",
       "      <td>someone antisemetic triggered</td>\n",
       "      <td>['someone', 'antisemetic', 'triggered']</td>\n",
       "      <td>['someon', 'antisemet', 'trigger']</td>\n",
       "      <td>['someone', 'antisemetic', 'triggered']</td>\n",
       "      <td>someone antisemetic triggered</td>\n",
       "      <td>someone antisemetic trigg</td>\n",
       "      <td>1</td>\n",
       "    </tr>\n",
       "    <tr>\n",
       "      <th>26964</th>\n",
       "      <td>28937</td>\n",
       "      <td>couldn't have said this any better nor truthfu...</td>\n",
       "      <td>couldn have said this better truthfully donny ...</td>\n",
       "      <td>couldn have said this better truthfully donny ...</td>\n",
       "      <td>['couldn', 'have', 'said', 'this', 'better', '...</td>\n",
       "      <td>['couldn', 'have', 'said', 'this', 'better', '...</td>\n",
       "      <td>['couldn', 'have', 'said', 'this', 'better', '...</td>\n",
       "      <td>couldn have said this better truthfully donny ...</td>\n",
       "      <td>couldn have said this better truthfully donny ...</td>\n",
       "      <td>1</td>\n",
       "    </tr>\n",
       "    <tr>\n",
       "      <th>17273</th>\n",
       "      <td>25291</td>\n",
       "      <td>@user racism stuffed into skinny jeans with a ...</td>\n",
       "      <td>racism stuffed into skinny jeans with hipster ...</td>\n",
       "      <td>racism stuffed into skinny jeans with hipster ...</td>\n",
       "      <td>['racism', 'stuffed', 'into', 'skinny', 'jeans...</td>\n",
       "      <td>['racism', 'stuf', 'into', 'skinni', 'jean', '...</td>\n",
       "      <td>['racism', 'stuffed', 'into', 'skinny', 'jean'...</td>\n",
       "      <td>racism stuffed into skinny jeans with hipster ...</td>\n",
       "      <td>racism stuffed into skinny jeans with hipster ...</td>\n",
       "      <td>1</td>\n",
       "    </tr>\n",
       "    <tr>\n",
       "      <th>1561</th>\n",
       "      <td>12717</td>\n",
       "      <td>the end of   #me #selfie # #love #messi #cr7 #...</td>\n",
       "      <td>#selfie #love #messi #religion #christianity #...</td>\n",
       "      <td>selfie love messi religion christianity mecca ...</td>\n",
       "      <td>['selfie', 'love', 'messi', 'religion', 'chris...</td>\n",
       "      <td>['selfi', 'love', 'messi', 'religion', 'christ...</td>\n",
       "      <td>['selfie', 'love', 'messi', 'religion', 'chris...</td>\n",
       "      <td>selfie love messi religion christianity mecca ...</td>\n",
       "      <td>selfie love messi religion christianity mecca l</td>\n",
       "      <td>1</td>\n",
       "    </tr>\n",
       "    <tr>\n",
       "      <th>17875</th>\n",
       "      <td>11612</td>\n",
       "      <td>trump ally wishes mad cow disease death for ob...</td>\n",
       "      <td>trump ally wishes disease death obama #unfitto...</td>\n",
       "      <td>trump ally wishes disease death obama unfittob...</td>\n",
       "      <td>['trump', 'ally', 'wishes', 'disease', 'death'...</td>\n",
       "      <td>['trump', 'alli', 'wish', 'diseas', 'death', '...</td>\n",
       "      <td>['trump', 'ally', 'wish', 'disease', 'death', ...</td>\n",
       "      <td>trump ally wishes disease death obama unfittob...</td>\n",
       "      <td>trump ally wishes disease death obama unfittob...</td>\n",
       "      <td>1</td>\n",
       "    </tr>\n",
       "    <tr>\n",
       "      <th>17184</th>\n",
       "      <td>20554</td>\n",
       "      <td>opinion:  is rife in the #lgbt community. #gay...</td>\n",
       "      <td>opinion rife #lgbt community #gay people deman...</td>\n",
       "      <td>opinion rife lgbt community gay people demand ...</td>\n",
       "      <td>['opinion', 'rife', 'lgbt', 'community', 'gay'...</td>\n",
       "      <td>['opinion', 'rife', 'lgbt', 'communiti', 'gay'...</td>\n",
       "      <td>['opinion', 'rife', 'lgbt', 'community', 'gay'...</td>\n",
       "      <td>opinion rife lgbt community gay people demand ...</td>\n",
       "      <td>opinion rife lgbt community gay people demand ...</td>\n",
       "      <td>1</td>\n",
       "    </tr>\n",
       "    <tr>\n",
       "      <th>8573</th>\n",
       "      <td>25151</td>\n",
       "      <td>@user #allahsoil the cold war was fought over ...</td>\n",
       "      <td>#allahsoil cold fought over #teambts #teamsupe...</td>\n",
       "      <td>allahsoil cold fought over teambts teamsuperju...</td>\n",
       "      <td>['allahsoil', 'cold', 'fought', 'over', 'teamb...</td>\n",
       "      <td>['allahsoil', 'cold', 'fought', 'over', 'teamb...</td>\n",
       "      <td>['allahsoil', 'cold', 'fought', 'over', 'teamb...</td>\n",
       "      <td>allahsoil cold fought over teambts teamsuperju...</td>\n",
       "      <td>allahsoil cold fought over teambts teamsuperju...</td>\n",
       "      <td>1</td>\n",
       "    </tr>\n",
       "    <tr>\n",
       "      <th>26779</th>\n",
       "      <td>13585</td>\n",
       "      <td>omg, these trump suppoers are deplorable! #dum...</td>\n",
       "      <td>these trump suppoers deplorable #dumptrump #no...</td>\n",
       "      <td>these trump suppoers deplorable dumptrump notm...</td>\n",
       "      <td>['these', 'trump', 'suppoers', 'deplorable', '...</td>\n",
       "      <td>['these', 'trump', 'suppoer', 'deplor', 'dumpt...</td>\n",
       "      <td>['these', 'trump', 'suppoers', 'deplorable', '...</td>\n",
       "      <td>these trump suppoers deplorable dumptrump notm...</td>\n",
       "      <td>these trump suppoers deplorable dumptrump notm...</td>\n",
       "      <td>1</td>\n",
       "    </tr>\n",
       "    <tr>\n",
       "      <th>15332</th>\n",
       "      <td>2581</td>\n",
       "      <td>sea shepherd suppoers are racist!   #antiracis...</td>\n",
       "      <td>shepherd suppoers racist #antiracism #seashepherd</td>\n",
       "      <td>shepherd suppoers racist antiracism seashepherd</td>\n",
       "      <td>['shepherd', 'suppoers', 'racist', 'antiracism...</td>\n",
       "      <td>['shepherd', 'suppoer', 'racist', 'antirac', '...</td>\n",
       "      <td>['shepherd', 'suppoers', 'racist', 'antiracism...</td>\n",
       "      <td>shepherd suppoers racist antiracism seashepherd</td>\n",
       "      <td>shepherd suppoers racist antiracism seashepherd</td>\n",
       "      <td>1</td>\n",
       "    </tr>\n",
       "    <tr>\n",
       "      <th>12290</th>\n",
       "      <td>6519</td>\n",
       "      <td>.@user @user while @user can use phrases like ...</td>\n",
       "      <td>while phrases like #sandniggers acceptable</td>\n",
       "      <td>while phrases like sandniggers acceptable</td>\n",
       "      <td>['while', 'phrases', 'like', 'sandniggers', 'a...</td>\n",
       "      <td>['while', 'phrase', 'like', 'sandnigg', 'accept']</td>\n",
       "      <td>['while', 'phrase', 'like', 'sandniggers', 'ac...</td>\n",
       "      <td>while phrases like sandniggers acceptable</td>\n",
       "      <td>while phrases like sandniggers accept</td>\n",
       "      <td>1</td>\n",
       "    </tr>\n",
       "    <tr>\n",
       "      <th>24159</th>\n",
       "      <td>9563</td>\n",
       "      <td>@user #allahsoil enlightenment is wasted on th...</td>\n",
       "      <td>#allahsoil enlightenment wasted wilfully blind...</td>\n",
       "      <td>allahsoil enlightenment wasted wilfully blind ...</td>\n",
       "      <td>['allahsoil', 'enlightenment', 'wasted', 'wilf...</td>\n",
       "      <td>['allahsoil', 'enlighten', 'wast', 'wil', 'bli...</td>\n",
       "      <td>['allahsoil', 'enlightenment', 'wasted', 'wilf...</td>\n",
       "      <td>allahsoil enlightenment wasted wilfully blind ...</td>\n",
       "      <td>allahsoil enlightenment wasted wilfully blind ...</td>\n",
       "      <td>1</td>\n",
       "    </tr>\n",
       "    <tr>\n",
       "      <th>25895</th>\n",
       "      <td>8452</td>\n",
       "      <td>@user here comes a  #supermistict douchebag wh...</td>\n",
       "      <td>here comes #supermistict douchebag only poke n...</td>\n",
       "      <td>here comes supermistict douchebag only poke no...</td>\n",
       "      <td>['here', 'comes', 'supermistict', 'douchebag',...</td>\n",
       "      <td>['here', 'come', 'supermistict', 'douchebag', ...</td>\n",
       "      <td>['here', 'come', 'supermistict', 'douchebag', ...</td>\n",
       "      <td>here comes supermistict douchebag only poke no...</td>\n",
       "      <td>here comes supermistict douchebag only poke no...</td>\n",
       "      <td>1</td>\n",
       "    </tr>\n",
       "    <tr>\n",
       "      <th>23934</th>\n",
       "      <td>17750</td>\n",
       "      <td>@user hidden  in #america is as rampant as bla...</td>\n",
       "      <td>hidden #america rampant blatant racism</td>\n",
       "      <td>hidden america rampant blatant racism</td>\n",
       "      <td>['hidden', 'america', 'rampant', 'blatant', 'r...</td>\n",
       "      <td>['hidden', 'america', 'rampant', 'blatant', 'r...</td>\n",
       "      <td>['hidden', 'america', 'rampant', 'blatant', 'r...</td>\n",
       "      <td>hidden america rampant blatant racism</td>\n",
       "      <td>hidden america rampant blatant rac</td>\n",
       "      <td>1</td>\n",
       "    </tr>\n",
       "    <tr>\n",
       "      <th>29174</th>\n",
       "      <td>21389</td>\n",
       "      <td>will the alt-right promote a new kind of  gene...</td>\n",
       "      <td>will right promote kind genetics</td>\n",
       "      <td>will right promote kind genetics</td>\n",
       "      <td>['will', 'right', 'promote', 'kind', 'genetics']</td>\n",
       "      <td>['will', 'right', 'promot', 'kind', 'genet']</td>\n",
       "      <td>['will', 'right', 'promote', 'kind', 'genetics']</td>\n",
       "      <td>will right promote kind genetics</td>\n",
       "      <td>will right promote kind genet</td>\n",
       "      <td>1</td>\n",
       "    </tr>\n",
       "    <tr>\n",
       "      <th>10474</th>\n",
       "      <td>23431</td>\n",
       "      <td>#us why weneed #empathy #ageoftrump #grassroot...</td>\n",
       "      <td>weneed #empathy #ageoftrump #grassrootsaction ...</td>\n",
       "      <td>weneed empathy ageoftrump grassrootsaction cit...</td>\n",
       "      <td>['weneed', 'empathy', 'ageoftrump', 'grassroot...</td>\n",
       "      <td>['wene', 'empathi', 'ageoftrump', 'grassrootsa...</td>\n",
       "      <td>['weneed', 'empathy', 'ageoftrump', 'grassroot...</td>\n",
       "      <td>weneed empathy ageoftrump grassrootsaction cit...</td>\n",
       "      <td>weneed empathy ageoftrump grassrootsaction cit...</td>\n",
       "      <td>1</td>\n",
       "    </tr>\n",
       "    <tr>\n",
       "      <th>30743</th>\n",
       "      <td>12301</td>\n",
       "      <td>black trump suppoer smacks down cnn repoer for...</td>\n",
       "      <td>black trump suppoer smacks down repoer race ba...</td>\n",
       "      <td>black trump suppoer smacks down repoer race ba...</td>\n",
       "      <td>['black', 'trump', 'suppoer', 'smacks', 'down'...</td>\n",
       "      <td>['black', 'trump', 'suppoer', 'smack', 'down',...</td>\n",
       "      <td>['black', 'trump', 'suppoer', 'smack', 'down',...</td>\n",
       "      <td>black trump suppoer smacks down repoer race ba...</td>\n",
       "      <td>black trump suppoer smacks down repoer race ba...</td>\n",
       "      <td>1</td>\n",
       "    </tr>\n",
       "    <tr>\n",
       "      <th>6190</th>\n",
       "      <td>19407</td>\n",
       "      <td>so sick of all the pre-programmed #hillbots rh...</td>\n",
       "      <td>sick programmed #hillbots rhetoric enough alre...</td>\n",
       "      <td>sick programmed hillbots rhetoric enough alrea...</td>\n",
       "      <td>['sick', 'programmed', 'hillbots', 'rhetoric',...</td>\n",
       "      <td>['sick', 'program', 'hillbot', 'rhetor', 'enou...</td>\n",
       "      <td>['sick', 'programmed', 'hillbots', 'rhetoric',...</td>\n",
       "      <td>sick programmed hillbots rhetoric enough alrea...</td>\n",
       "      <td>sick programmed hillbots rhetoric enough alrea...</td>\n",
       "      <td>1</td>\n",
       "    </tr>\n",
       "    <tr>\n",
       "      <th>19746</th>\n",
       "      <td>406</td>\n",
       "      <td>@user when you're blocked by a  troll because ...</td>\n",
       "      <td>when blocked troll because promise #blacklives...</td>\n",
       "      <td>when blocked troll because promise blacklivesm...</td>\n",
       "      <td>['when', 'blocked', 'troll', 'because', 'promi...</td>\n",
       "      <td>['when', 'block', 'troll', 'becaus', 'promis',...</td>\n",
       "      <td>['when', 'blocked', 'troll', 'because', 'promi...</td>\n",
       "      <td>when blocked troll because promise blacklivesm...</td>\n",
       "      <td>when blocked troll because promise blacklivesm...</td>\n",
       "      <td>1</td>\n",
       "    </tr>\n",
       "    <tr>\n",
       "      <th>19581</th>\n",
       "      <td>11720</td>\n",
       "      <td>@user @user you forgot #democrate, because vet...</td>\n",
       "      <td>forgot #democrate because vetting people from ...</td>\n",
       "      <td>forgot democrate because vetting people from t...</td>\n",
       "      <td>['forgot', 'democrate', 'because', 'vetting', ...</td>\n",
       "      <td>['forgot', 'democr', 'becaus', 'vet', 'peopl',...</td>\n",
       "      <td>['forgot', 'democrate', 'because', 'vetting', ...</td>\n",
       "      <td>forgot democrate because vetting people from t...</td>\n",
       "      <td>forgot democrate because vetting people from t...</td>\n",
       "      <td>1</td>\n",
       "    </tr>\n",
       "    <tr>\n",
       "      <th>31767</th>\n",
       "      <td>28476</td>\n",
       "      <td>sea shepherd suppoers are racist!   #antiracis...</td>\n",
       "      <td>shepherd suppoers racist #antiracism #seashepherd</td>\n",
       "      <td>shepherd suppoers racist antiracism seashepherd</td>\n",
       "      <td>['shepherd', 'suppoers', 'racist', 'antiracism...</td>\n",
       "      <td>['shepherd', 'suppoer', 'racist', 'antirac', '...</td>\n",
       "      <td>['shepherd', 'suppoers', 'racist', 'antiracism...</td>\n",
       "      <td>shepherd suppoers racist antiracism seashepherd</td>\n",
       "      <td>shepherd suppoers racist antiracism seashepherd</td>\n",
       "      <td>1</td>\n",
       "    </tr>\n",
       "    <tr>\n",
       "      <th>25210</th>\n",
       "      <td>24768</td>\n",
       "      <td>porn vids web free sex</td>\n",
       "      <td>porn vids free</td>\n",
       "      <td>porn vids free</td>\n",
       "      <td>['porn', 'vids', 'free']</td>\n",
       "      <td>['porn', 'vid', 'free']</td>\n",
       "      <td>['porn', 'vids', 'free']</td>\n",
       "      <td>porn vids free</td>\n",
       "      <td>porn vids fre</td>\n",
       "      <td>1</td>\n",
       "    </tr>\n",
       "    <tr>\n",
       "      <th>19800</th>\n",
       "      <td>19745</td>\n",
       "      <td>@user &amp;amp; the  #democraticpay keeps telling ...</td>\n",
       "      <td>#democraticpay keeps telling that #blm #chicag...</td>\n",
       "      <td>democraticpay keeps telling that blm chicago d...</td>\n",
       "      <td>['democraticpay', 'keeps', 'telling', 'that', ...</td>\n",
       "      <td>['democraticpay', 'keep', 'tell', 'that', 'blm...</td>\n",
       "      <td>['democraticpay', 'keep', 'telling', 'that', '...</td>\n",
       "      <td>democraticpay keeps telling that blm chicago d...</td>\n",
       "      <td>democraticpay keeps telling that blm chicago d...</td>\n",
       "      <td>1</td>\n",
       "    </tr>\n",
       "    <tr>\n",
       "      <th>7812</th>\n",
       "      <td>1242</td>\n",
       "      <td>@user although, i am not a , a #bigot or a #mi...</td>\n",
       "      <td>although #bigot #misogynist hope that still qu...</td>\n",
       "      <td>although bigot misogynist hope that still qual...</td>\n",
       "      <td>['although', 'bigot', 'misogynist', 'hope', 't...</td>\n",
       "      <td>['although', 'bigot', 'misogynist', 'hope', 't...</td>\n",
       "      <td>['although', 'bigot', 'misogynist', 'hope', 't...</td>\n",
       "      <td>although bigot misogynist hope that still qual...</td>\n",
       "      <td>although bigot misogynist hope that still qual...</td>\n",
       "      <td>1</td>\n",
       "    </tr>\n",
       "    <tr>\n",
       "      <th>5074</th>\n",
       "      <td>23280</td>\n",
       "      <td>this is sooooo  or may be just funny</td>\n",
       "      <td>this sooooo just funny</td>\n",
       "      <td>this sooooo just funny</td>\n",
       "      <td>['this', 'sooooo', 'just', 'funny']</td>\n",
       "      <td>['this', 'sooooo', 'just', 'funni']</td>\n",
       "      <td>['this', 'sooooo', 'just', 'funny']</td>\n",
       "      <td>this sooooo just funny</td>\n",
       "      <td>this sooooo just funni</td>\n",
       "      <td>1</td>\n",
       "    </tr>\n",
       "    <tr>\n",
       "      <th>6317</th>\n",
       "      <td>15050</td>\n",
       "      <td>@user âwe the peopleâ originally meant â...</td>\n",
       "      <td>people originally meant white landholding male...</td>\n",
       "      <td>people originally meant white landholding male...</td>\n",
       "      <td>['people', 'originally', 'meant', 'white', 'la...</td>\n",
       "      <td>['peopl', 'origin', 'meant', 'white', 'landhol...</td>\n",
       "      <td>['people', 'originally', 'meant', 'white', 'la...</td>\n",
       "      <td>people originally meant white landholding male...</td>\n",
       "      <td>people originally meant white landholding male...</td>\n",
       "      <td>1</td>\n",
       "    </tr>\n",
       "    <tr>\n",
       "      <th>5988</th>\n",
       "      <td>24766</td>\n",
       "      <td>i've no problem with #universities that teach ...</td>\n",
       "      <td>problem with #universities that teach against ...</td>\n",
       "      <td>problem with universities that teach against w...</td>\n",
       "      <td>['problem', 'with', 'universities', 'that', 't...</td>\n",
       "      <td>['problem', 'with', 'univers', 'that', 'teach'...</td>\n",
       "      <td>['problem', 'with', 'university', 'that', 'tea...</td>\n",
       "      <td>problem with universities that teach against w...</td>\n",
       "      <td>problem with universities that teach against w...</td>\n",
       "      <td>1</td>\n",
       "    </tr>\n",
       "    <tr>\n",
       "      <th>...</th>\n",
       "      <td>...</td>\n",
       "      <td>...</td>\n",
       "      <td>...</td>\n",
       "      <td>...</td>\n",
       "      <td>...</td>\n",
       "      <td>...</td>\n",
       "      <td>...</td>\n",
       "      <td>...</td>\n",
       "      <td>...</td>\n",
       "      <td>...</td>\n",
       "    </tr>\n",
       "    <tr>\n",
       "      <th>3721</th>\n",
       "      <td>17405</td>\n",
       "      <td>check out this new trending #funny #gif !  , p...</td>\n",
       "      <td>check this trending #funny #gif pixel celebrat...</td>\n",
       "      <td>check this trending funny gif pixel celebrate ...</td>\n",
       "      <td>['check', 'this', 'trending', 'funny', 'gif', ...</td>\n",
       "      <td>['check', 'this', 'trend', 'funni', 'gif', 'pi...</td>\n",
       "      <td>['check', 'this', 'trending', 'funny', 'gif', ...</td>\n",
       "      <td>check this trending funny gif pixel celebrate ...</td>\n",
       "      <td>check this trending funny gif pixel celebrate ...</td>\n",
       "      <td>0</td>\n",
       "    </tr>\n",
       "    <tr>\n",
       "      <th>28057</th>\n",
       "      <td>31774</td>\n",
       "      <td>this reminds me of this. i am   love these two...</td>\n",
       "      <td>this reminds this love these they golden #arro...</td>\n",
       "      <td>this reminds this love these they golden arrow...</td>\n",
       "      <td>['this', 'reminds', 'this', 'love', 'these', '...</td>\n",
       "      <td>['this', 'remind', 'this', 'love', 'these', 't...</td>\n",
       "      <td>['this', 'reminds', 'this', 'love', 'these', '...</td>\n",
       "      <td>this reminds this love these they golden arrow...</td>\n",
       "      <td>this reminds this love these they golden arrow ol</td>\n",
       "      <td>0</td>\n",
       "    </tr>\n",
       "    <tr>\n",
       "      <th>15044</th>\n",
       "      <td>5789</td>\n",
       "      <td>livelypics: just when you think you know peop...</td>\n",
       "      <td>livelypics just when think know people they di...</td>\n",
       "      <td>livelypics just when think know people they di...</td>\n",
       "      <td>['livelypics', 'just', 'when', 'think', 'know'...</td>\n",
       "      <td>['livelyp', 'just', 'when', 'think', 'know', '...</td>\n",
       "      <td>['livelypics', 'just', 'when', 'think', 'know'...</td>\n",
       "      <td>livelypics just when think know people they di...</td>\n",
       "      <td>livelypics just when think know people they di...</td>\n",
       "      <td>0</td>\n",
       "    </tr>\n",
       "    <tr>\n",
       "      <th>23222</th>\n",
       "      <td>29934</td>\n",
       "      <td>trying not to shut down but maybe #pokemon wil...</td>\n",
       "      <td>trying shut down maybe #pokemon will help skid</td>\n",
       "      <td>trying shut down maybe pokemon will help skid</td>\n",
       "      <td>['trying', 'shut', 'down', 'maybe', 'pokemon',...</td>\n",
       "      <td>['tri', 'shut', 'down', 'mayb', 'pokemon', 'wi...</td>\n",
       "      <td>['trying', 'shut', 'down', 'maybe', 'pokemon',...</td>\n",
       "      <td>trying shut down maybe pokemon will help skid</td>\n",
       "      <td>trying shut down maybe pokemon will help skid</td>\n",
       "      <td>0</td>\n",
       "    </tr>\n",
       "    <tr>\n",
       "      <th>27273</th>\n",
       "      <td>395</td>\n",
       "      <td>#first #bihday to our #puppy #eloise #sweetbab...</td>\n",
       "      <td>#first #bihday #puppy #eloise #sweetbabins #do...</td>\n",
       "      <td>first bihday puppy eloise sweetbabins dog grow...</td>\n",
       "      <td>['first', 'bihday', 'puppy', 'eloise', 'sweetb...</td>\n",
       "      <td>['first', 'bihday', 'puppi', 'elois', 'sweetba...</td>\n",
       "      <td>['first', 'bihday', 'puppy', 'eloise', 'sweetb...</td>\n",
       "      <td>first bihday puppy eloise sweetbabins dog grow...</td>\n",
       "      <td>first bihday puppy eloise sweetbabins dog grow...</td>\n",
       "      <td>0</td>\n",
       "    </tr>\n",
       "    <tr>\n",
       "      <th>30304</th>\n",
       "      <td>10458</td>\n",
       "      <td>@user it was in ceain areas yeah, you not seen...</td>\n",
       "      <td>ceain areas yeah seen videos seeing little kid...</td>\n",
       "      <td>ceain areas yeah seen videos seeing little kid...</td>\n",
       "      <td>['ceain', 'areas', 'yeah', 'seen', 'videos', '...</td>\n",
       "      <td>['ceain', 'area', 'yeah', 'seen', 'video', 'se...</td>\n",
       "      <td>['ceain', 'area', 'yeah', 'seen', 'video', 'se...</td>\n",
       "      <td>ceain areas yeah seen videos seeing little kid...</td>\n",
       "      <td>ceain areas yeah seen videos seeing little kid...</td>\n",
       "      <td>0</td>\n",
       "    </tr>\n",
       "    <tr>\n",
       "      <th>3928</th>\n",
       "      <td>19081</td>\n",
       "      <td>so many shit talkers/bullies in the youtube co...</td>\n",
       "      <td>many shit talkers bullies youtube comment sect...</td>\n",
       "      <td>many shit talkers bullies youtube comment sect...</td>\n",
       "      <td>['many', 'shit', 'talkers', 'bullies', 'youtub...</td>\n",
       "      <td>['mani', 'shit', 'talker', 'bulli', 'youtub', ...</td>\n",
       "      <td>['many', 'shit', 'talker', 'bully', 'youtube',...</td>\n",
       "      <td>many shit talkers bullies youtube comment sect...</td>\n",
       "      <td>many shit talkers bullies youtube comment sect</td>\n",
       "      <td>0</td>\n",
       "    </tr>\n",
       "    <tr>\n",
       "      <th>269</th>\n",
       "      <td>13429</td>\n",
       "      <td>all ready to pay xx #saturday #daughter #love ...</td>\n",
       "      <td>ready #saturday #daughter #love #pay #igers #i...</td>\n",
       "      <td>ready saturday daughter love pay igers instago...</td>\n",
       "      <td>['ready', 'saturday', 'daughter', 'love', 'pay...</td>\n",
       "      <td>['readi', 'saturday', 'daughter', 'love', 'pay...</td>\n",
       "      <td>['ready', 'saturday', 'daughter', 'love', 'pay...</td>\n",
       "      <td>ready saturday daughter love pay igers instago...</td>\n",
       "      <td>ready saturday daughter love pay igers instago...</td>\n",
       "      <td>0</td>\n",
       "    </tr>\n",
       "    <tr>\n",
       "      <th>9826</th>\n",
       "      <td>6122</td>\n",
       "      <td>feeling a little #mole tonight! ó¾« #food #fo...</td>\n",
       "      <td>feeling little #mole tonight #food #foodblogge...</td>\n",
       "      <td>feeling little mole tonight food foodblogger m...</td>\n",
       "      <td>['feeling', 'little', 'mole', 'tonight', 'food...</td>\n",
       "      <td>['feel', 'littl', 'mole', 'tonight', 'food', '...</td>\n",
       "      <td>['feeling', 'little', 'mole', 'tonight', 'food...</td>\n",
       "      <td>feeling little mole tonight food foodblogger m...</td>\n",
       "      <td>feeling little mole tonight food foodblogger m...</td>\n",
       "      <td>0</td>\n",
       "    </tr>\n",
       "    <tr>\n",
       "      <th>11548</th>\n",
       "      <td>14426</td>\n",
       "      <td>while we're still trying to get over the shock...</td>\n",
       "      <td>while still trying over shock keshi death shua...</td>\n",
       "      <td>while still trying over shock keshi death shua...</td>\n",
       "      <td>['while', 'still', 'trying', 'over', 'shock', ...</td>\n",
       "      <td>['while', 'still', 'tri', 'over', 'shock', 'ke...</td>\n",
       "      <td>['while', 'still', 'trying', 'over', 'shock', ...</td>\n",
       "      <td>while still trying over shock keshi death shua...</td>\n",
       "      <td>while still trying over shock keshi death shua...</td>\n",
       "      <td>0</td>\n",
       "    </tr>\n",
       "    <tr>\n",
       "      <th>19491</th>\n",
       "      <td>19469</td>\n",
       "      <td>fantasy aisle ð #i #fantasy #aisle #summer ...</td>\n",
       "      <td>fantasy aisle #fantasy #aisle #summer #grand #...</td>\n",
       "      <td>fantasy aisle fantasy aisle summer grand vacat...</td>\n",
       "      <td>['fantasy', 'aisle', 'fantasy', 'aisle', 'summ...</td>\n",
       "      <td>['fantasi', 'aisl', 'fantasi', 'aisl', 'summer...</td>\n",
       "      <td>['fantasy', 'aisle', 'fantasy', 'aisle', 'summ...</td>\n",
       "      <td>fantasy aisle fantasy aisle summer grand vacat...</td>\n",
       "      <td>fantasy aisle fantasy aisle summer grand vacat...</td>\n",
       "      <td>0</td>\n",
       "    </tr>\n",
       "    <tr>\n",
       "      <th>31522</th>\n",
       "      <td>17794</td>\n",
       "      <td>have a wonderful f r i d a y ð¸  #love #emik...</td>\n",
       "      <td>have wonderful #love #emikagifts #jewelrydesig...</td>\n",
       "      <td>have wonderful love emikagifts jewelrydesign d...</td>\n",
       "      <td>['have', 'wonderful', 'love', 'emikagifts', 'j...</td>\n",
       "      <td>['have', 'wonder', 'love', 'emikagift', 'jewel...</td>\n",
       "      <td>['have', 'wonderful', 'love', 'emikagifts', 'j...</td>\n",
       "      <td>have wonderful love emikagifts jewelrydesign d...</td>\n",
       "      <td>have wonderful love emikagifts jewelrydesign d...</td>\n",
       "      <td>0</td>\n",
       "    </tr>\n",
       "    <tr>\n",
       "      <th>750</th>\n",
       "      <td>11550</td>\n",
       "      <td>who wants him to be the next commander in chie...</td>\n",
       "      <td>wants next commander chief #scary #disgusting ...</td>\n",
       "      <td>wants next commander chief scary disgusting tr...</td>\n",
       "      <td>['wants', 'next', 'commander', 'chief', 'scary...</td>\n",
       "      <td>['want', 'next', 'command', 'chief', 'scari', ...</td>\n",
       "      <td>['want', 'next', 'commander', 'chief', 'scary'...</td>\n",
       "      <td>wants next commander chief scary disgusting tr...</td>\n",
       "      <td>wants next commander chief scary disgusting tr...</td>\n",
       "      <td>0</td>\n",
       "    </tr>\n",
       "    <tr>\n",
       "      <th>21399</th>\n",
       "      <td>18137</td>\n",
       "      <td>we beat that cock.   #beatit #penis</td>\n",
       "      <td>beat that cock #beatit #penis</td>\n",
       "      <td>beat that cock beatit penis</td>\n",
       "      <td>['beat', 'that', 'cock', 'beatit', 'penis']</td>\n",
       "      <td>['beat', 'that', 'cock', 'beatit', 'peni']</td>\n",
       "      <td>['beat', 'that', 'cock', 'beatit', 'penis']</td>\n",
       "      <td>beat that cock beatit penis</td>\n",
       "      <td>beat that cock beatit peni</td>\n",
       "      <td>0</td>\n",
       "    </tr>\n",
       "    <tr>\n",
       "      <th>16625</th>\n",
       "      <td>14918</td>\n",
       "      <td>lik if u cri everi tim</td>\n",
       "      <td>everi</td>\n",
       "      <td>everi</td>\n",
       "      <td>['everi']</td>\n",
       "      <td>['everi']</td>\n",
       "      <td>['everi']</td>\n",
       "      <td>everi</td>\n",
       "      <td>everi</td>\n",
       "      <td>0</td>\n",
       "    </tr>\n",
       "    <tr>\n",
       "      <th>7084</th>\n",
       "      <td>12925</td>\n",
       "      <td>speakers dinner on eve of #ricsrural conferenc...</td>\n",
       "      <td>speakers dinner #ricsrural conference #betterw...</td>\n",
       "      <td>speakers dinner ricsrural conference betterwri...</td>\n",
       "      <td>['speakers', 'dinner', 'ricsrural', 'conferenc...</td>\n",
       "      <td>['speaker', 'dinner', 'ricsrur', 'confer', 'be...</td>\n",
       "      <td>['speaker', 'dinner', 'ricsrural', 'conference...</td>\n",
       "      <td>speakers dinner ricsrural conference betterwri...</td>\n",
       "      <td>speakers dinner ricsrural conference betterwri...</td>\n",
       "      <td>0</td>\n",
       "    </tr>\n",
       "    <tr>\n",
       "      <th>21332</th>\n",
       "      <td>1640</td>\n",
       "      <td>best facetime today; i can't wait to see my bo...</td>\n",
       "      <td>best facetime today wait wednesday when home #...</td>\n",
       "      <td>best facetime today wait wednesday when home w...</td>\n",
       "      <td>['best', 'facetime', 'today', 'wait', 'wednesd...</td>\n",
       "      <td>['best', 'facetim', 'today', 'wait', 'wednesda...</td>\n",
       "      <td>['best', 'facetime', 'today', 'wait', 'wednesd...</td>\n",
       "      <td>best facetime today wait wednesday when home w...</td>\n",
       "      <td>best facetime today wait wednesday when home w...</td>\n",
       "      <td>0</td>\n",
       "    </tr>\n",
       "    <tr>\n",
       "      <th>28564</th>\n",
       "      <td>18855</td>\n",
       "      <td>archery for year 5 at 1.30pm!   #archery</td>\n",
       "      <td>archery year #archery</td>\n",
       "      <td>archery year archery</td>\n",
       "      <td>['archery', 'year', 'archery']</td>\n",
       "      <td>['archeri', 'year', 'archeri']</td>\n",
       "      <td>['archery', 'year', 'archery']</td>\n",
       "      <td>archery year archery</td>\n",
       "      <td>archery year archeri</td>\n",
       "      <td>0</td>\n",
       "    </tr>\n",
       "    <tr>\n",
       "      <th>12504</th>\n",
       "      <td>23278</td>\n",
       "      <td>#whoolo in film you can have sad endings.  #an...</td>\n",
       "      <td>#whoolo film have endings #anna torv</td>\n",
       "      <td>whoolo film have endings anna torv</td>\n",
       "      <td>['whoolo', 'film', 'have', 'endings', 'anna', ...</td>\n",
       "      <td>['whoolo', 'film', 'have', 'end', 'anna', 'torv']</td>\n",
       "      <td>['whoolo', 'film', 'have', 'ending', 'anna', '...</td>\n",
       "      <td>whoolo film have endings anna torv</td>\n",
       "      <td>whoolo film have endings anna torv</td>\n",
       "      <td>0</td>\n",
       "    </tr>\n",
       "    <tr>\n",
       "      <th>22295</th>\n",
       "      <td>17561</td>\n",
       "      <td>@user @user at what time will the gates open?</td>\n",
       "      <td>what time will gates open</td>\n",
       "      <td>what time will gates open</td>\n",
       "      <td>['what', 'time', 'will', 'gates', 'open']</td>\n",
       "      <td>['what', 'time', 'will', 'gate', 'open']</td>\n",
       "      <td>['what', 'time', 'will', 'gate', 'open']</td>\n",
       "      <td>what time will gates open</td>\n",
       "      <td>what time will gates open</td>\n",
       "      <td>0</td>\n",
       "    </tr>\n",
       "    <tr>\n",
       "      <th>13326</th>\n",
       "      <td>6135</td>\n",
       "      <td>thank you @user for a new #chargehr after mine...</td>\n",
       "      <td>thank #chargehr after mine broke #fitness #bec...</td>\n",
       "      <td>thank chargehr after mine broke fitness becaus...</td>\n",
       "      <td>['thank', 'chargehr', 'after', 'mine', 'broke'...</td>\n",
       "      <td>['thank', 'chargehr', 'after', 'mine', 'broke'...</td>\n",
       "      <td>['thank', 'chargehr', 'after', 'mine', 'broke'...</td>\n",
       "      <td>thank chargehr after mine broke fitness becaus...</td>\n",
       "      <td>thank chargehr after mine broke fitness becaus...</td>\n",
       "      <td>0</td>\n",
       "    </tr>\n",
       "    <tr>\n",
       "      <th>1147</th>\n",
       "      <td>21952</td>\n",
       "      <td>our thoughts and prayers goes out to everyone ...</td>\n",
       "      <td>thoughts prayers goes everyone involved #orlan...</td>\n",
       "      <td>thoughts prayers goes everyone involved orland...</td>\n",
       "      <td>['thoughts', 'prayers', 'goes', 'everyone', 'i...</td>\n",
       "      <td>['thought', 'prayer', 'goe', 'everyon', 'invol...</td>\n",
       "      <td>['thought', 'prayer', 'go', 'everyone', 'invol...</td>\n",
       "      <td>thoughts prayers goes everyone involved orland...</td>\n",
       "      <td>thoughts prayers goes everyone involved orland...</td>\n",
       "      <td>0</td>\n",
       "    </tr>\n",
       "    <tr>\n",
       "      <th>19044</th>\n",
       "      <td>25937</td>\n",
       "      <td>#film   bull up: you will dominate your bull a...</td>\n",
       "      <td>#film bull will dominate your bull will direct...</td>\n",
       "      <td>film bull will dominate your bull will direct ...</td>\n",
       "      <td>['film', 'bull', 'will', 'dominate', 'your', '...</td>\n",
       "      <td>['film', 'bull', 'will', 'domin', 'your', 'bul...</td>\n",
       "      <td>['film', 'bull', 'will', 'dominate', 'your', '...</td>\n",
       "      <td>film bull will dominate your bull will direct ...</td>\n",
       "      <td>film bull will dominate your bull will direct ...</td>\n",
       "      <td>0</td>\n",
       "    </tr>\n",
       "    <tr>\n",
       "      <th>31112</th>\n",
       "      <td>17229</td>\n",
       "      <td>this is horribly sad news. a fine actor with g...</td>\n",
       "      <td>this horribly news fine actor with great thing...</td>\n",
       "      <td>this horribly news fine actor with great thing...</td>\n",
       "      <td>['this', 'horribly', 'news', 'fine', 'actor', ...</td>\n",
       "      <td>['this', 'horribl', 'news', 'fine', 'actor', '...</td>\n",
       "      <td>['this', 'horribly', 'news', 'fine', 'actor', ...</td>\n",
       "      <td>this horribly news fine actor with great thing...</td>\n",
       "      <td>this horribly news fine actor with great thing...</td>\n",
       "      <td>0</td>\n",
       "    </tr>\n",
       "    <tr>\n",
       "      <th>14188</th>\n",
       "      <td>7012</td>\n",
       "      <td>follow your #hea and be   â¤</td>\n",
       "      <td>follow your #hea</td>\n",
       "      <td>follow your hea</td>\n",
       "      <td>['follow', 'your', 'hea']</td>\n",
       "      <td>['follow', 'your', 'hea']</td>\n",
       "      <td>['follow', 'your', 'hea']</td>\n",
       "      <td>follow your hea</td>\n",
       "      <td>follow your hea</td>\n",
       "      <td>0</td>\n",
       "    </tr>\n",
       "    <tr>\n",
       "      <th>1034</th>\n",
       "      <td>31177</td>\n",
       "      <td>cops giving tickets when they didn't even see ...</td>\n",
       "      <td>cops giving tickets when they didn even anythi...</td>\n",
       "      <td>cops giving tickets when they didn even anythi...</td>\n",
       "      <td>['cops', 'giving', 'tickets', 'when', 'they', ...</td>\n",
       "      <td>['cop', 'give', 'ticket', 'when', 'they', 'did...</td>\n",
       "      <td>['cop', 'giving', 'ticket', 'when', 'they', 'd...</td>\n",
       "      <td>cops giving tickets when they didn even anythi...</td>\n",
       "      <td>cops giving tickets when they didn even anythi...</td>\n",
       "      <td>0</td>\n",
       "    </tr>\n",
       "    <tr>\n",
       "      <th>2874</th>\n",
       "      <td>23672</td>\n",
       "      <td>singapore city gallery   #riclswtravelbook #be...</td>\n",
       "      <td>singapore city gallery #riclswtravelbook #bear...</td>\n",
       "      <td>singapore city gallery riclswtravelbook bearlo...</td>\n",
       "      <td>['singapore', 'city', 'gallery', 'riclswtravel...</td>\n",
       "      <td>['singapor', 'citi', 'galleri', 'riclswtravelb...</td>\n",
       "      <td>['singapore', 'city', 'gallery', 'riclswtravel...</td>\n",
       "      <td>singapore city gallery riclswtravelbook bearlo...</td>\n",
       "      <td>singapore city gallery riclswtravelbook bearlo...</td>\n",
       "      <td>0</td>\n",
       "    </tr>\n",
       "    <tr>\n",
       "      <th>8230</th>\n",
       "      <td>19584</td>\n",
       "      <td>oh man, been waiting for #wehappyfew for so lo...</td>\n",
       "      <td>been waiting #wehappyfew long #xboxe</td>\n",
       "      <td>been waiting wehappyfew long xboxe</td>\n",
       "      <td>['been', 'waiting', 'wehappyfew', 'long', 'xbo...</td>\n",
       "      <td>['been', 'wait', 'wehappyfew', 'long', 'xbox']</td>\n",
       "      <td>['been', 'waiting', 'wehappyfew', 'long', 'xbo...</td>\n",
       "      <td>been waiting wehappyfew long xboxe</td>\n",
       "      <td>been waiting wehappyfew long xbox</td>\n",
       "      <td>0</td>\n",
       "    </tr>\n",
       "    <tr>\n",
       "      <th>15277</th>\n",
       "      <td>9967</td>\n",
       "      <td>schools almost over.</td>\n",
       "      <td>schools almost over</td>\n",
       "      <td>schools almost over</td>\n",
       "      <td>['schools', 'almost', 'over']</td>\n",
       "      <td>['school', 'almost', 'over']</td>\n",
       "      <td>['school', 'almost', 'over']</td>\n",
       "      <td>schools almost over</td>\n",
       "      <td>schools almost ov</td>\n",
       "      <td>0</td>\n",
       "    </tr>\n",
       "    <tr>\n",
       "      <th>30396</th>\n",
       "      <td>2987</td>\n",
       "      <td>â #usd/cad bounces-off 0.2900, despite high...</td>\n",
       "      <td>#usd bounces despite higher #blog #silver #gol...</td>\n",
       "      <td>usd bounces despite higher blog silver gold forex</td>\n",
       "      <td>['usd', 'bounces', 'despite', 'higher', 'blog'...</td>\n",
       "      <td>['usd', 'bounc', 'despit', 'higher', 'blog', '...</td>\n",
       "      <td>['usd', 'bounce', 'despite', 'higher', 'blog',...</td>\n",
       "      <td>usd bounces despite higher blog silver gold forex</td>\n",
       "      <td>usd bounces despite higher blog silver gold forex</td>\n",
       "      <td>0</td>\n",
       "    </tr>\n",
       "  </tbody>\n",
       "</table>\n",
       "<p>37982 rows × 10 columns</p>\n",
       "</div>"
      ],
      "text/plain": [
       "          id                                              tweet  \\\n",
       "565    20676  @user f*** this  ð¦ðº government that deli...   \n",
       "21531  24025  despite a demoralizing 2016: may ur #newyear20...   \n",
       "13300  18145  @user #koreans &amp; joseon people in japan, w...   \n",
       "18925   8506  @user @user @user @user classic ! yet you jewi...   \n",
       "12619  15464  @user did someone say #antisemetic ? gee (((@u...   \n",
       "26964  28937  couldn't have said this any better nor truthfu...   \n",
       "17273  25291  @user racism stuffed into skinny jeans with a ...   \n",
       "1561   12717  the end of   #me #selfie # #love #messi #cr7 #...   \n",
       "17875  11612  trump ally wishes mad cow disease death for ob...   \n",
       "17184  20554  opinion:  is rife in the #lgbt community. #gay...   \n",
       "8573   25151  @user #allahsoil the cold war was fought over ...   \n",
       "26779  13585  omg, these trump suppoers are deplorable! #dum...   \n",
       "15332   2581  sea shepherd suppoers are racist!   #antiracis...   \n",
       "12290   6519  .@user @user while @user can use phrases like ...   \n",
       "24159   9563  @user #allahsoil enlightenment is wasted on th...   \n",
       "25895   8452  @user here comes a  #supermistict douchebag wh...   \n",
       "23934  17750  @user hidden  in #america is as rampant as bla...   \n",
       "29174  21389  will the alt-right promote a new kind of  gene...   \n",
       "10474  23431  #us why weneed #empathy #ageoftrump #grassroot...   \n",
       "30743  12301  black trump suppoer smacks down cnn repoer for...   \n",
       "6190   19407  so sick of all the pre-programmed #hillbots rh...   \n",
       "19746    406  @user when you're blocked by a  troll because ...   \n",
       "19581  11720  @user @user you forgot #democrate, because vet...   \n",
       "31767  28476  sea shepherd suppoers are racist!   #antiracis...   \n",
       "25210  24768                             porn vids web free sex   \n",
       "19800  19745  @user &amp; the  #democraticpay keeps telling ...   \n",
       "7812    1242  @user although, i am not a , a #bigot or a #mi...   \n",
       "5074   23280               this is sooooo  or may be just funny   \n",
       "6317   15050  @user âwe the peopleâ originally meant â...   \n",
       "5988   24766  i've no problem with #universities that teach ...   \n",
       "...      ...                                                ...   \n",
       "3721   17405  check out this new trending #funny #gif !  , p...   \n",
       "28057  31774  this reminds me of this. i am   love these two...   \n",
       "15044   5789   livelypics: just when you think you know peop...   \n",
       "23222  29934  trying not to shut down but maybe #pokemon wil...   \n",
       "27273    395  #first #bihday to our #puppy #eloise #sweetbab...   \n",
       "30304  10458  @user it was in ceain areas yeah, you not seen...   \n",
       "3928   19081  so many shit talkers/bullies in the youtube co...   \n",
       "269    13429  all ready to pay xx #saturday #daughter #love ...   \n",
       "9826    6122  feeling a little #mole tonight! ó¾« #food #fo...   \n",
       "11548  14426  while we're still trying to get over the shock...   \n",
       "19491  19469  fantasy aisle ð #i #fantasy #aisle #summer ...   \n",
       "31522  17794  have a wonderful f r i d a y ð¸  #love #emik...   \n",
       "750    11550  who wants him to be the next commander in chie...   \n",
       "21399  18137                we beat that cock.   #beatit #penis   \n",
       "16625  14918                             lik if u cri everi tim   \n",
       "7084   12925  speakers dinner on eve of #ricsrural conferenc...   \n",
       "21332   1640  best facetime today; i can't wait to see my bo...   \n",
       "28564  18855           archery for year 5 at 1.30pm!   #archery   \n",
       "12504  23278  #whoolo in film you can have sad endings.  #an...   \n",
       "22295  17561      @user @user at what time will the gates open?   \n",
       "13326   6135  thank you @user for a new #chargehr after mine...   \n",
       "1147   21952  our thoughts and prayers goes out to everyone ...   \n",
       "19044  25937  #film   bull up: you will dominate your bull a...   \n",
       "31112  17229  this is horribly sad news. a fine actor with g...   \n",
       "14188   7012                      follow your #hea and be   â¤   \n",
       "1034   31177  cops giving tickets when they didn't even see ...   \n",
       "2874   23672  singapore city gallery   #riclswtravelbook #be...   \n",
       "8230   19584  oh man, been waiting for #wehappyfew for so lo...   \n",
       "15277   9967                               schools almost over.   \n",
       "30396   2987   â #usd/cad bounces-off 0.2900, despite high...   \n",
       "\n",
       "                                              tidy_tweet  \\\n",
       "565    this government that deliberately toures #refu...   \n",
       "21531  despite demoralizing #newyear #classism free #...   \n",
       "13300  #koreans joseon people japan will abuse claims...   \n",
       "18925    classic jewish bastards wonder sooo hated world   \n",
       "12619                     someone #antisemetic triggered   \n",
       "26964  couldn have said this better truthfully donny ...   \n",
       "17273  racism stuffed into skinny jeans with hipster ...   \n",
       "1561   #selfie #love #messi #religion #christianity #...   \n",
       "17875  trump ally wishes disease death obama #unfitto...   \n",
       "17184  opinion rife #lgbt community #gay people deman...   \n",
       "8573   #allahsoil cold fought over #teambts #teamsupe...   \n",
       "26779  these trump suppoers deplorable #dumptrump #no...   \n",
       "15332  shepherd suppoers racist #antiracism #seashepherd   \n",
       "12290         while phrases like #sandniggers acceptable   \n",
       "24159  #allahsoil enlightenment wasted wilfully blind...   \n",
       "25895  here comes #supermistict douchebag only poke n...   \n",
       "23934             hidden #america rampant blatant racism   \n",
       "29174                   will right promote kind genetics   \n",
       "10474  weneed #empathy #ageoftrump #grassrootsaction ...   \n",
       "30743  black trump suppoer smacks down repoer race ba...   \n",
       "6190   sick programmed #hillbots rhetoric enough alre...   \n",
       "19746  when blocked troll because promise #blacklives...   \n",
       "19581  forgot #democrate because vetting people from ...   \n",
       "31767  shepherd suppoers racist #antiracism #seashepherd   \n",
       "25210                                     porn vids free   \n",
       "19800  #democraticpay keeps telling that #blm #chicag...   \n",
       "7812   although #bigot #misogynist hope that still qu...   \n",
       "5074                              this sooooo just funny   \n",
       "6317   people originally meant white landholding male...   \n",
       "5988   problem with #universities that teach against ...   \n",
       "...                                                  ...   \n",
       "3721   check this trending #funny #gif pixel celebrat...   \n",
       "28057  this reminds this love these they golden #arro...   \n",
       "15044  livelypics just when think know people they di...   \n",
       "23222     trying shut down maybe #pokemon will help skid   \n",
       "27273  #first #bihday #puppy #eloise #sweetbabins #do...   \n",
       "30304  ceain areas yeah seen videos seeing little kid...   \n",
       "3928   many shit talkers bullies youtube comment sect...   \n",
       "269    ready #saturday #daughter #love #pay #igers #i...   \n",
       "9826   feeling little #mole tonight #food #foodblogge...   \n",
       "11548  while still trying over shock keshi death shua...   \n",
       "19491  fantasy aisle #fantasy #aisle #summer #grand #...   \n",
       "31522  have wonderful #love #emikagifts #jewelrydesig...   \n",
       "750    wants next commander chief #scary #disgusting ...   \n",
       "21399                      beat that cock #beatit #penis   \n",
       "16625                                              everi   \n",
       "7084   speakers dinner #ricsrural conference #betterw...   \n",
       "21332  best facetime today wait wednesday when home #...   \n",
       "28564                              archery year #archery   \n",
       "12504               #whoolo film have endings #anna torv   \n",
       "22295                          what time will gates open   \n",
       "13326  thank #chargehr after mine broke #fitness #bec...   \n",
       "1147   thoughts prayers goes everyone involved #orlan...   \n",
       "19044  #film bull will dominate your bull will direct...   \n",
       "31112  this horribly news fine actor with great thing...   \n",
       "14188                                   follow your #hea   \n",
       "1034   cops giving tickets when they didn even anythi...   \n",
       "2874   singapore city gallery #riclswtravelbook #bear...   \n",
       "8230                been waiting #wehappyfew long #xboxe   \n",
       "15277                                schools almost over   \n",
       "30396  #usd bounces despite higher #blog #silver #gol...   \n",
       "\n",
       "                                           no_hash_tweet  \\\n",
       "565    this government that deliberately toures refug...   \n",
       "21531  despite demoralizing newyear classism free sag...   \n",
       "13300  koreans joseon people japan will abuse claims ...   \n",
       "18925    classic jewish bastards wonder sooo hated world   \n",
       "12619                      someone antisemetic triggered   \n",
       "26964  couldn have said this better truthfully donny ...   \n",
       "17273  racism stuffed into skinny jeans with hipster ...   \n",
       "1561   selfie love messi religion christianity mecca ...   \n",
       "17875  trump ally wishes disease death obama unfittob...   \n",
       "17184  opinion rife lgbt community gay people demand ...   \n",
       "8573   allahsoil cold fought over teambts teamsuperju...   \n",
       "26779  these trump suppoers deplorable dumptrump notm...   \n",
       "15332    shepherd suppoers racist antiracism seashepherd   \n",
       "12290          while phrases like sandniggers acceptable   \n",
       "24159  allahsoil enlightenment wasted wilfully blind ...   \n",
       "25895  here comes supermistict douchebag only poke no...   \n",
       "23934              hidden america rampant blatant racism   \n",
       "29174                   will right promote kind genetics   \n",
       "10474  weneed empathy ageoftrump grassrootsaction cit...   \n",
       "30743  black trump suppoer smacks down repoer race ba...   \n",
       "6190   sick programmed hillbots rhetoric enough alrea...   \n",
       "19746  when blocked troll because promise blacklivesm...   \n",
       "19581  forgot democrate because vetting people from t...   \n",
       "31767    shepherd suppoers racist antiracism seashepherd   \n",
       "25210                                     porn vids free   \n",
       "19800  democraticpay keeps telling that blm chicago d...   \n",
       "7812   although bigot misogynist hope that still qual...   \n",
       "5074                              this sooooo just funny   \n",
       "6317   people originally meant white landholding male...   \n",
       "5988   problem with universities that teach against w...   \n",
       "...                                                  ...   \n",
       "3721   check this trending funny gif pixel celebrate ...   \n",
       "28057  this reminds this love these they golden arrow...   \n",
       "15044  livelypics just when think know people they di...   \n",
       "23222      trying shut down maybe pokemon will help skid   \n",
       "27273  first bihday puppy eloise sweetbabins dog grow...   \n",
       "30304  ceain areas yeah seen videos seeing little kid...   \n",
       "3928   many shit talkers bullies youtube comment sect...   \n",
       "269    ready saturday daughter love pay igers instago...   \n",
       "9826   feeling little mole tonight food foodblogger m...   \n",
       "11548  while still trying over shock keshi death shua...   \n",
       "19491  fantasy aisle fantasy aisle summer grand vacat...   \n",
       "31522  have wonderful love emikagifts jewelrydesign d...   \n",
       "750    wants next commander chief scary disgusting tr...   \n",
       "21399                        beat that cock beatit penis   \n",
       "16625                                              everi   \n",
       "7084   speakers dinner ricsrural conference betterwri...   \n",
       "21332  best facetime today wait wednesday when home w...   \n",
       "28564                               archery year archery   \n",
       "12504                 whoolo film have endings anna torv   \n",
       "22295                          what time will gates open   \n",
       "13326  thank chargehr after mine broke fitness becaus...   \n",
       "1147   thoughts prayers goes everyone involved orland...   \n",
       "19044  film bull will dominate your bull will direct ...   \n",
       "31112  this horribly news fine actor with great thing...   \n",
       "14188                                    follow your hea   \n",
       "1034   cops giving tickets when they didn even anythi...   \n",
       "2874   singapore city gallery riclswtravelbook bearlo...   \n",
       "8230                  been waiting wehappyfew long xboxe   \n",
       "15277                                schools almost over   \n",
       "30396  usd bounces despite higher blog silver gold forex   \n",
       "\n",
       "                                         tokenized_tweet  \\\n",
       "565    ['this', 'government', 'that', 'deliberately',...   \n",
       "21531  ['despite', 'demoralizing', 'newyear', 'classi...   \n",
       "13300  ['koreans', 'joseon', 'people', 'japan', 'will...   \n",
       "18925  ['classic', 'jewish', 'bastards', 'wonder', 's...   \n",
       "12619            ['someone', 'antisemetic', 'triggered']   \n",
       "26964  ['couldn', 'have', 'said', 'this', 'better', '...   \n",
       "17273  ['racism', 'stuffed', 'into', 'skinny', 'jeans...   \n",
       "1561   ['selfie', 'love', 'messi', 'religion', 'chris...   \n",
       "17875  ['trump', 'ally', 'wishes', 'disease', 'death'...   \n",
       "17184  ['opinion', 'rife', 'lgbt', 'community', 'gay'...   \n",
       "8573   ['allahsoil', 'cold', 'fought', 'over', 'teamb...   \n",
       "26779  ['these', 'trump', 'suppoers', 'deplorable', '...   \n",
       "15332  ['shepherd', 'suppoers', 'racist', 'antiracism...   \n",
       "12290  ['while', 'phrases', 'like', 'sandniggers', 'a...   \n",
       "24159  ['allahsoil', 'enlightenment', 'wasted', 'wilf...   \n",
       "25895  ['here', 'comes', 'supermistict', 'douchebag',...   \n",
       "23934  ['hidden', 'america', 'rampant', 'blatant', 'r...   \n",
       "29174   ['will', 'right', 'promote', 'kind', 'genetics']   \n",
       "10474  ['weneed', 'empathy', 'ageoftrump', 'grassroot...   \n",
       "30743  ['black', 'trump', 'suppoer', 'smacks', 'down'...   \n",
       "6190   ['sick', 'programmed', 'hillbots', 'rhetoric',...   \n",
       "19746  ['when', 'blocked', 'troll', 'because', 'promi...   \n",
       "19581  ['forgot', 'democrate', 'because', 'vetting', ...   \n",
       "31767  ['shepherd', 'suppoers', 'racist', 'antiracism...   \n",
       "25210                           ['porn', 'vids', 'free']   \n",
       "19800  ['democraticpay', 'keeps', 'telling', 'that', ...   \n",
       "7812   ['although', 'bigot', 'misogynist', 'hope', 't...   \n",
       "5074                 ['this', 'sooooo', 'just', 'funny']   \n",
       "6317   ['people', 'originally', 'meant', 'white', 'la...   \n",
       "5988   ['problem', 'with', 'universities', 'that', 't...   \n",
       "...                                                  ...   \n",
       "3721   ['check', 'this', 'trending', 'funny', 'gif', ...   \n",
       "28057  ['this', 'reminds', 'this', 'love', 'these', '...   \n",
       "15044  ['livelypics', 'just', 'when', 'think', 'know'...   \n",
       "23222  ['trying', 'shut', 'down', 'maybe', 'pokemon',...   \n",
       "27273  ['first', 'bihday', 'puppy', 'eloise', 'sweetb...   \n",
       "30304  ['ceain', 'areas', 'yeah', 'seen', 'videos', '...   \n",
       "3928   ['many', 'shit', 'talkers', 'bullies', 'youtub...   \n",
       "269    ['ready', 'saturday', 'daughter', 'love', 'pay...   \n",
       "9826   ['feeling', 'little', 'mole', 'tonight', 'food...   \n",
       "11548  ['while', 'still', 'trying', 'over', 'shock', ...   \n",
       "19491  ['fantasy', 'aisle', 'fantasy', 'aisle', 'summ...   \n",
       "31522  ['have', 'wonderful', 'love', 'emikagifts', 'j...   \n",
       "750    ['wants', 'next', 'commander', 'chief', 'scary...   \n",
       "21399        ['beat', 'that', 'cock', 'beatit', 'penis']   \n",
       "16625                                          ['everi']   \n",
       "7084   ['speakers', 'dinner', 'ricsrural', 'conferenc...   \n",
       "21332  ['best', 'facetime', 'today', 'wait', 'wednesd...   \n",
       "28564                     ['archery', 'year', 'archery']   \n",
       "12504  ['whoolo', 'film', 'have', 'endings', 'anna', ...   \n",
       "22295          ['what', 'time', 'will', 'gates', 'open']   \n",
       "13326  ['thank', 'chargehr', 'after', 'mine', 'broke'...   \n",
       "1147   ['thoughts', 'prayers', 'goes', 'everyone', 'i...   \n",
       "19044  ['film', 'bull', 'will', 'dominate', 'your', '...   \n",
       "31112  ['this', 'horribly', 'news', 'fine', 'actor', ...   \n",
       "14188                          ['follow', 'your', 'hea']   \n",
       "1034   ['cops', 'giving', 'tickets', 'when', 'they', ...   \n",
       "2874   ['singapore', 'city', 'gallery', 'riclswtravel...   \n",
       "8230   ['been', 'waiting', 'wehappyfew', 'long', 'xbo...   \n",
       "15277                      ['schools', 'almost', 'over']   \n",
       "30396  ['usd', 'bounces', 'despite', 'higher', 'blog'...   \n",
       "\n",
       "                                          stemmed_tokens  \\\n",
       "565    ['this', 'govern', 'that', 'deliber', 'tour', ...   \n",
       "21531  ['despit', 'demor', 'newyear', 'classism', 'fr...   \n",
       "13300  ['korean', 'joseon', 'peopl', 'japan', 'will',...   \n",
       "18925  ['classic', 'jewish', 'bastard', 'wonder', 'so...   \n",
       "12619                 ['someon', 'antisemet', 'trigger']   \n",
       "26964  ['couldn', 'have', 'said', 'this', 'better', '...   \n",
       "17273  ['racism', 'stuf', 'into', 'skinni', 'jean', '...   \n",
       "1561   ['selfi', 'love', 'messi', 'religion', 'christ...   \n",
       "17875  ['trump', 'alli', 'wish', 'diseas', 'death', '...   \n",
       "17184  ['opinion', 'rife', 'lgbt', 'communiti', 'gay'...   \n",
       "8573   ['allahsoil', 'cold', 'fought', 'over', 'teamb...   \n",
       "26779  ['these', 'trump', 'suppoer', 'deplor', 'dumpt...   \n",
       "15332  ['shepherd', 'suppoer', 'racist', 'antirac', '...   \n",
       "12290  ['while', 'phrase', 'like', 'sandnigg', 'accept']   \n",
       "24159  ['allahsoil', 'enlighten', 'wast', 'wil', 'bli...   \n",
       "25895  ['here', 'come', 'supermistict', 'douchebag', ...   \n",
       "23934  ['hidden', 'america', 'rampant', 'blatant', 'r...   \n",
       "29174       ['will', 'right', 'promot', 'kind', 'genet']   \n",
       "10474  ['wene', 'empathi', 'ageoftrump', 'grassrootsa...   \n",
       "30743  ['black', 'trump', 'suppoer', 'smack', 'down',...   \n",
       "6190   ['sick', 'program', 'hillbot', 'rhetor', 'enou...   \n",
       "19746  ['when', 'block', 'troll', 'becaus', 'promis',...   \n",
       "19581  ['forgot', 'democr', 'becaus', 'vet', 'peopl',...   \n",
       "31767  ['shepherd', 'suppoer', 'racist', 'antirac', '...   \n",
       "25210                            ['porn', 'vid', 'free']   \n",
       "19800  ['democraticpay', 'keep', 'tell', 'that', 'blm...   \n",
       "7812   ['although', 'bigot', 'misogynist', 'hope', 't...   \n",
       "5074                 ['this', 'sooooo', 'just', 'funni']   \n",
       "6317   ['peopl', 'origin', 'meant', 'white', 'landhol...   \n",
       "5988   ['problem', 'with', 'univers', 'that', 'teach'...   \n",
       "...                                                  ...   \n",
       "3721   ['check', 'this', 'trend', 'funni', 'gif', 'pi...   \n",
       "28057  ['this', 'remind', 'this', 'love', 'these', 't...   \n",
       "15044  ['livelyp', 'just', 'when', 'think', 'know', '...   \n",
       "23222  ['tri', 'shut', 'down', 'mayb', 'pokemon', 'wi...   \n",
       "27273  ['first', 'bihday', 'puppi', 'elois', 'sweetba...   \n",
       "30304  ['ceain', 'area', 'yeah', 'seen', 'video', 'se...   \n",
       "3928   ['mani', 'shit', 'talker', 'bulli', 'youtub', ...   \n",
       "269    ['readi', 'saturday', 'daughter', 'love', 'pay...   \n",
       "9826   ['feel', 'littl', 'mole', 'tonight', 'food', '...   \n",
       "11548  ['while', 'still', 'tri', 'over', 'shock', 'ke...   \n",
       "19491  ['fantasi', 'aisl', 'fantasi', 'aisl', 'summer...   \n",
       "31522  ['have', 'wonder', 'love', 'emikagift', 'jewel...   \n",
       "750    ['want', 'next', 'command', 'chief', 'scari', ...   \n",
       "21399         ['beat', 'that', 'cock', 'beatit', 'peni']   \n",
       "16625                                          ['everi']   \n",
       "7084   ['speaker', 'dinner', 'ricsrur', 'confer', 'be...   \n",
       "21332  ['best', 'facetim', 'today', 'wait', 'wednesda...   \n",
       "28564                     ['archeri', 'year', 'archeri']   \n",
       "12504  ['whoolo', 'film', 'have', 'end', 'anna', 'torv']   \n",
       "22295           ['what', 'time', 'will', 'gate', 'open']   \n",
       "13326  ['thank', 'chargehr', 'after', 'mine', 'broke'...   \n",
       "1147   ['thought', 'prayer', 'goe', 'everyon', 'invol...   \n",
       "19044  ['film', 'bull', 'will', 'domin', 'your', 'bul...   \n",
       "31112  ['this', 'horribl', 'news', 'fine', 'actor', '...   \n",
       "14188                          ['follow', 'your', 'hea']   \n",
       "1034   ['cop', 'give', 'ticket', 'when', 'they', 'did...   \n",
       "2874   ['singapor', 'citi', 'galleri', 'riclswtravelb...   \n",
       "8230      ['been', 'wait', 'wehappyfew', 'long', 'xbox']   \n",
       "15277                       ['school', 'almost', 'over']   \n",
       "30396  ['usd', 'bounc', 'despit', 'higher', 'blog', '...   \n",
       "\n",
       "                                       lemmatized_tokens  \\\n",
       "565    ['this', 'government', 'that', 'deliberately',...   \n",
       "21531  ['despite', 'demoralizing', 'newyear', 'classi...   \n",
       "13300  ['korean', 'joseon', 'people', 'japan', 'will'...   \n",
       "18925  ['classic', 'jewish', 'bastard', 'wonder', 'so...   \n",
       "12619            ['someone', 'antisemetic', 'triggered']   \n",
       "26964  ['couldn', 'have', 'said', 'this', 'better', '...   \n",
       "17273  ['racism', 'stuffed', 'into', 'skinny', 'jean'...   \n",
       "1561   ['selfie', 'love', 'messi', 'religion', 'chris...   \n",
       "17875  ['trump', 'ally', 'wish', 'disease', 'death', ...   \n",
       "17184  ['opinion', 'rife', 'lgbt', 'community', 'gay'...   \n",
       "8573   ['allahsoil', 'cold', 'fought', 'over', 'teamb...   \n",
       "26779  ['these', 'trump', 'suppoers', 'deplorable', '...   \n",
       "15332  ['shepherd', 'suppoers', 'racist', 'antiracism...   \n",
       "12290  ['while', 'phrase', 'like', 'sandniggers', 'ac...   \n",
       "24159  ['allahsoil', 'enlightenment', 'wasted', 'wilf...   \n",
       "25895  ['here', 'come', 'supermistict', 'douchebag', ...   \n",
       "23934  ['hidden', 'america', 'rampant', 'blatant', 'r...   \n",
       "29174   ['will', 'right', 'promote', 'kind', 'genetics']   \n",
       "10474  ['weneed', 'empathy', 'ageoftrump', 'grassroot...   \n",
       "30743  ['black', 'trump', 'suppoer', 'smack', 'down',...   \n",
       "6190   ['sick', 'programmed', 'hillbots', 'rhetoric',...   \n",
       "19746  ['when', 'blocked', 'troll', 'because', 'promi...   \n",
       "19581  ['forgot', 'democrate', 'because', 'vetting', ...   \n",
       "31767  ['shepherd', 'suppoers', 'racist', 'antiracism...   \n",
       "25210                           ['porn', 'vids', 'free']   \n",
       "19800  ['democraticpay', 'keep', 'telling', 'that', '...   \n",
       "7812   ['although', 'bigot', 'misogynist', 'hope', 't...   \n",
       "5074                 ['this', 'sooooo', 'just', 'funny']   \n",
       "6317   ['people', 'originally', 'meant', 'white', 'la...   \n",
       "5988   ['problem', 'with', 'university', 'that', 'tea...   \n",
       "...                                                  ...   \n",
       "3721   ['check', 'this', 'trending', 'funny', 'gif', ...   \n",
       "28057  ['this', 'reminds', 'this', 'love', 'these', '...   \n",
       "15044  ['livelypics', 'just', 'when', 'think', 'know'...   \n",
       "23222  ['trying', 'shut', 'down', 'maybe', 'pokemon',...   \n",
       "27273  ['first', 'bihday', 'puppy', 'eloise', 'sweetb...   \n",
       "30304  ['ceain', 'area', 'yeah', 'seen', 'video', 'se...   \n",
       "3928   ['many', 'shit', 'talker', 'bully', 'youtube',...   \n",
       "269    ['ready', 'saturday', 'daughter', 'love', 'pay...   \n",
       "9826   ['feeling', 'little', 'mole', 'tonight', 'food...   \n",
       "11548  ['while', 'still', 'trying', 'over', 'shock', ...   \n",
       "19491  ['fantasy', 'aisle', 'fantasy', 'aisle', 'summ...   \n",
       "31522  ['have', 'wonderful', 'love', 'emikagifts', 'j...   \n",
       "750    ['want', 'next', 'commander', 'chief', 'scary'...   \n",
       "21399        ['beat', 'that', 'cock', 'beatit', 'penis']   \n",
       "16625                                          ['everi']   \n",
       "7084   ['speaker', 'dinner', 'ricsrural', 'conference...   \n",
       "21332  ['best', 'facetime', 'today', 'wait', 'wednesd...   \n",
       "28564                     ['archery', 'year', 'archery']   \n",
       "12504  ['whoolo', 'film', 'have', 'ending', 'anna', '...   \n",
       "22295           ['what', 'time', 'will', 'gate', 'open']   \n",
       "13326  ['thank', 'chargehr', 'after', 'mine', 'broke'...   \n",
       "1147   ['thought', 'prayer', 'go', 'everyone', 'invol...   \n",
       "19044  ['film', 'bull', 'will', 'dominate', 'your', '...   \n",
       "31112  ['this', 'horribly', 'news', 'fine', 'actor', ...   \n",
       "14188                          ['follow', 'your', 'hea']   \n",
       "1034   ['cop', 'giving', 'ticket', 'when', 'they', 'd...   \n",
       "2874   ['singapore', 'city', 'gallery', 'riclswtravel...   \n",
       "8230   ['been', 'waiting', 'wehappyfew', 'long', 'xbo...   \n",
       "15277                       ['school', 'almost', 'over']   \n",
       "30396  ['usd', 'bounce', 'despite', 'higher', 'blog',...   \n",
       "\n",
       "                                               lem_tweet  \\\n",
       "565    this government that deliberately toures refug...   \n",
       "21531  despite demoralizing newyear classism free sag...   \n",
       "13300  koreans joseon people japan will abuse claims ...   \n",
       "18925    classic jewish bastards wonder sooo hated world   \n",
       "12619                      someone antisemetic triggered   \n",
       "26964  couldn have said this better truthfully donny ...   \n",
       "17273  racism stuffed into skinny jeans with hipster ...   \n",
       "1561   selfie love messi religion christianity mecca ...   \n",
       "17875  trump ally wishes disease death obama unfittob...   \n",
       "17184  opinion rife lgbt community gay people demand ...   \n",
       "8573   allahsoil cold fought over teambts teamsuperju...   \n",
       "26779  these trump suppoers deplorable dumptrump notm...   \n",
       "15332    shepherd suppoers racist antiracism seashepherd   \n",
       "12290          while phrases like sandniggers acceptable   \n",
       "24159  allahsoil enlightenment wasted wilfully blind ...   \n",
       "25895  here comes supermistict douchebag only poke no...   \n",
       "23934              hidden america rampant blatant racism   \n",
       "29174                   will right promote kind genetics   \n",
       "10474  weneed empathy ageoftrump grassrootsaction cit...   \n",
       "30743  black trump suppoer smacks down repoer race ba...   \n",
       "6190   sick programmed hillbots rhetoric enough alrea...   \n",
       "19746  when blocked troll because promise blacklivesm...   \n",
       "19581  forgot democrate because vetting people from t...   \n",
       "31767    shepherd suppoers racist antiracism seashepherd   \n",
       "25210                                     porn vids free   \n",
       "19800  democraticpay keeps telling that blm chicago d...   \n",
       "7812   although bigot misogynist hope that still qual...   \n",
       "5074                              this sooooo just funny   \n",
       "6317   people originally meant white landholding male...   \n",
       "5988   problem with universities that teach against w...   \n",
       "...                                                  ...   \n",
       "3721   check this trending funny gif pixel celebrate ...   \n",
       "28057  this reminds this love these they golden arrow...   \n",
       "15044  livelypics just when think know people they di...   \n",
       "23222      trying shut down maybe pokemon will help skid   \n",
       "27273  first bihday puppy eloise sweetbabins dog grow...   \n",
       "30304  ceain areas yeah seen videos seeing little kid...   \n",
       "3928   many shit talkers bullies youtube comment sect...   \n",
       "269    ready saturday daughter love pay igers instago...   \n",
       "9826   feeling little mole tonight food foodblogger m...   \n",
       "11548  while still trying over shock keshi death shua...   \n",
       "19491  fantasy aisle fantasy aisle summer grand vacat...   \n",
       "31522  have wonderful love emikagifts jewelrydesign d...   \n",
       "750    wants next commander chief scary disgusting tr...   \n",
       "21399                        beat that cock beatit penis   \n",
       "16625                                              everi   \n",
       "7084   speakers dinner ricsrural conference betterwri...   \n",
       "21332  best facetime today wait wednesday when home w...   \n",
       "28564                               archery year archery   \n",
       "12504                 whoolo film have endings anna torv   \n",
       "22295                          what time will gates open   \n",
       "13326  thank chargehr after mine broke fitness becaus...   \n",
       "1147   thoughts prayers goes everyone involved orland...   \n",
       "19044  film bull will dominate your bull will direct ...   \n",
       "31112  this horribly news fine actor with great thing...   \n",
       "14188                                    follow your hea   \n",
       "1034   cops giving tickets when they didn even anythi...   \n",
       "2874   singapore city gallery riclswtravelbook bearlo...   \n",
       "8230                  been waiting wehappyfew long xboxe   \n",
       "15277                                schools almost over   \n",
       "30396  usd bounces despite higher blog silver gold forex   \n",
       "\n",
       "                                              stem_tweet  label  \n",
       "565    this government that deliberately toures refug...      1  \n",
       "21531  despite demoralizing newyear classism free sag...      1  \n",
       "13300  koreans joseon people japan will abuse claims ...      1  \n",
       "18925    classic jewish bastards wonder sooo hated world      1  \n",
       "12619                          someone antisemetic trigg      1  \n",
       "26964  couldn have said this better truthfully donny ...      1  \n",
       "17273  racism stuffed into skinny jeans with hipster ...      1  \n",
       "1561     selfie love messi religion christianity mecca l      1  \n",
       "17875  trump ally wishes disease death obama unfittob...      1  \n",
       "17184  opinion rife lgbt community gay people demand ...      1  \n",
       "8573   allahsoil cold fought over teambts teamsuperju...      1  \n",
       "26779  these trump suppoers deplorable dumptrump notm...      1  \n",
       "15332    shepherd suppoers racist antiracism seashepherd      1  \n",
       "12290              while phrases like sandniggers accept      1  \n",
       "24159  allahsoil enlightenment wasted wilfully blind ...      1  \n",
       "25895  here comes supermistict douchebag only poke no...      1  \n",
       "23934                 hidden america rampant blatant rac      1  \n",
       "29174                      will right promote kind genet      1  \n",
       "10474  weneed empathy ageoftrump grassrootsaction cit...      1  \n",
       "30743  black trump suppoer smacks down repoer race ba...      1  \n",
       "6190   sick programmed hillbots rhetoric enough alrea...      1  \n",
       "19746  when blocked troll because promise blacklivesm...      1  \n",
       "19581  forgot democrate because vetting people from t...      1  \n",
       "31767    shepherd suppoers racist antiracism seashepherd      1  \n",
       "25210                                      porn vids fre      1  \n",
       "19800  democraticpay keeps telling that blm chicago d...      1  \n",
       "7812   although bigot misogynist hope that still qual...      1  \n",
       "5074                              this sooooo just funni      1  \n",
       "6317   people originally meant white landholding male...      1  \n",
       "5988   problem with universities that teach against w...      1  \n",
       "...                                                  ...    ...  \n",
       "3721   check this trending funny gif pixel celebrate ...      0  \n",
       "28057  this reminds this love these they golden arrow ol      0  \n",
       "15044  livelypics just when think know people they di...      0  \n",
       "23222      trying shut down maybe pokemon will help skid      0  \n",
       "27273  first bihday puppy eloise sweetbabins dog grow...      0  \n",
       "30304  ceain areas yeah seen videos seeing little kid...      0  \n",
       "3928      many shit talkers bullies youtube comment sect      0  \n",
       "269    ready saturday daughter love pay igers instago...      0  \n",
       "9826   feeling little mole tonight food foodblogger m...      0  \n",
       "11548  while still trying over shock keshi death shua...      0  \n",
       "19491  fantasy aisle fantasy aisle summer grand vacat...      0  \n",
       "31522  have wonderful love emikagifts jewelrydesign d...      0  \n",
       "750    wants next commander chief scary disgusting tr...      0  \n",
       "21399                         beat that cock beatit peni      0  \n",
       "16625                                              everi      0  \n",
       "7084   speakers dinner ricsrural conference betterwri...      0  \n",
       "21332  best facetime today wait wednesday when home w...      0  \n",
       "28564                               archery year archeri      0  \n",
       "12504                 whoolo film have endings anna torv      0  \n",
       "22295                          what time will gates open      0  \n",
       "13326  thank chargehr after mine broke fitness becaus...      0  \n",
       "1147   thoughts prayers goes everyone involved orland...      0  \n",
       "19044  film bull will dominate your bull will direct ...      0  \n",
       "31112  this horribly news fine actor with great thing...      0  \n",
       "14188                                    follow your hea      0  \n",
       "1034   cops giving tickets when they didn even anythi...      0  \n",
       "2874   singapore city gallery riclswtravelbook bearlo...      0  \n",
       "8230                   been waiting wehappyfew long xbox      0  \n",
       "15277                                  schools almost ov      0  \n",
       "30396  usd bounces despite higher blog silver gold forex      0  \n",
       "\n",
       "[37982 rows x 10 columns]"
      ]
     },
     "execution_count": 72,
     "metadata": {},
     "output_type": "execute_result"
    }
   ],
   "source": [
    "upsample_training_data(X_train, y_train)"
   ]
  },
  {
   "cell_type": "code",
   "execution_count": 73,
   "metadata": {},
   "outputs": [],
   "source": [
    "train_upsampled = upsample_training_data(X_train, y_train)\n",
    "\n",
    "X_train_up = train_upsampled.drop(['label'], axis = 1)\n",
    "y_train_up = pd.DataFrame(train_upsampled.label)"
   ]
  },
  {
   "cell_type": "code",
   "execution_count": 74,
   "metadata": {},
   "outputs": [
    {
     "data": {
      "text/plain": [
       "1    18991\n",
       "0    18991\n",
       "Name: label, dtype: int64"
      ]
     },
     "execution_count": 74,
     "metadata": {},
     "output_type": "execute_result"
    }
   ],
   "source": [
    "train_upsampled['label'].value_counts()"
   ]
  },
  {
   "cell_type": "code",
   "execution_count": 75,
   "metadata": {},
   "outputs": [],
   "source": [
    "train_downsampled = downsample_training_data(X_train, y_train)\n",
    "\n",
    "X_train_down = train_downsampled.drop(['label'], axis = 1)\n",
    "y_train_down = pd.DataFrame(train_downsampled.label)"
   ]
  },
  {
   "cell_type": "code",
   "execution_count": 76,
   "metadata": {},
   "outputs": [
    {
     "data": {
      "text/plain": [
       "1    1464\n",
       "0    1464\n",
       "Name: label, dtype: int64"
      ]
     },
     "execution_count": 76,
     "metadata": {},
     "output_type": "execute_result"
    }
   ],
   "source": [
    "train_downsampled['label'].value_counts()"
   ]
  },
  {
   "cell_type": "markdown",
   "metadata": {},
   "source": [
    "## Comparing Vectorization and Method Performance"
   ]
  },
  {
   "cell_type": "code",
   "execution_count": 77,
   "metadata": {},
   "outputs": [],
   "source": [
    "count_vect = CountVectorizer()\n",
    "tfidf_vectorizer = TfidfVectorizer(min_df=.001)\n",
    "tfidf_ngram = TfidfVectorizer(ngram_range=(1,2), min_df=.001)\n",
    "tfidf_ngram2 = TfidfVectorizer(ngram_range=(2,3),min_df=.001)\n",
    "\n",
    "logreg = LogisticRegression()\n",
    "rfc = RandomForestClassifier(random_state=10)\n",
    "nb = GaussianNB()\n",
    "svc = SVC(random_state=10)\n",
    "\n",
    "vectorization_list = [('COUNT_VECTORIZER', count_vect),\n",
    "                      ('TFIDF_VECTORIZER', tfidf_vectorizer),\n",
    "                      ('TFIDF_NGRAM_1_2', tfidf_ngram),\n",
    "                      ('TFIDF_NGRAM_2_3', tfidf_ngram2)]\n",
    "\n"
   ]
  },
  {
   "cell_type": "code",
   "execution_count": 78,
   "metadata": {},
   "outputs": [],
   "source": [
    "%run custom_functions.ipynb"
   ]
  },
  {
   "cell_type": "markdown",
   "metadata": {},
   "source": [
    "## Naive Bayes"
   ]
  },
  {
   "cell_type": "code",
   "execution_count": 14,
   "metadata": {},
   "outputs": [],
   "source": [
    "np.random.seed(0)"
   ]
  },
  {
   "cell_type": "code",
   "execution_count": 15,
   "metadata": {},
   "outputs": [
    {
     "name": "stdout",
     "output_type": "stream",
     "text": [
      "The performance of the COUNT_VECTORIZER is:\n",
      "Train Accuracy: 0.93\n",
      "Train Precision: 0.51\n",
      "Train Recall: 1.0\n",
      "Train F1: 0.68\n",
      "\n",
      "\n",
      "Validation Accuracy: 0.85\n",
      "Validation Precision: 0.24\n",
      "Validation Recall: 0.63\n",
      "The performance of the COUNT_VECTORIZER is:\n",
      "Train Accuracy: 0.93\n",
      "Train Precision: 0.51\n",
      "Train Recall: 1.0\n",
      "Train F1: 0.68\n",
      "\n",
      "\n",
      "Validation Accuracy: 0.85\n",
      "Validation Precision: 0.24\n",
      "Validation Recall: 0.63\n",
      "Validation F1: 0.34\n",
      "\n",
      "\n",
      "Validation F1: 0.34\n",
      "\n",
      "\n",
      "The performance of the TFIDF_VECTORIZER is:\n",
      "Train Accuracy: 0.6\n",
      "Train Precision: 0.15\n",
      "Train Recall: 1.0\n",
      "Train F1: 0.26\n",
      "\n",
      "\n",
      "Validation Accuracy: 0.58\n",
      "Validation Precision: 0.12\n",
      "Validation Recall: 0.88\n",
      "Validation F1: 0.21\n",
      "\n",
      "\n",
      "The performance of the TFIDF_VECTORIZER is:\n",
      "Train Accuracy: 0.6\n",
      "Train Precision: 0.15\n",
      "Train Recall: 1.0\n",
      "Train F1: 0.26\n",
      "\n",
      "\n",
      "Validation Accuracy: 0.58\n",
      "Validation Precision: 0.12\n",
      "Validation Recall: 0.88\n",
      "Validation F1: 0.21\n",
      "\n",
      "\n",
      "The performance of the TFIDF_NGRAM_1_2 is:\n",
      "Train Accuracy: 0.62\n",
      "Train Precision: 0.16\n",
      "Train Recall: 1.0\n",
      "Train F1: 0.28\n",
      "\n",
      "\n",
      "Validation Accuracy: 0.6\n",
      "Validation Precision: 0.13\n",
      "Validation Recall: 0.89\n",
      "Validation F1: 0.22\n",
      "\n",
      "\n",
      "The performance of the TFIDF_NGRAM_1_2 is:\n",
      "Train Accuracy: 0.62\n",
      "Train Precision: 0.16\n",
      "Train Recall: 1.0\n",
      "Train F1: 0.28\n",
      "\n",
      "\n",
      "Validation Accuracy: 0.6\n",
      "Validation Precision: 0.13\n",
      "Validation Recall: 0.89\n",
      "Validation F1: 0.22\n",
      "\n",
      "\n",
      "The performance of the TFIDF_NGRAM_2_3 is:\n",
      "Train Accuracy: 0.22\n",
      "Train Precision: 0.08\n",
      "Train Recall: 1.0\n",
      "Train F1: 0.16\n",
      "\n",
      "\n",
      "Validation Accuracy: 0.2\n",
      "Validation Precision: 0.07\n",
      "Validation Recall: 1.0\n",
      "Validation F1: 0.14\n",
      "\n",
      "\n",
      "The performance of the TFIDF_NGRAM_2_3 is:\n",
      "Train Accuracy: 0.22\n",
      "Train Precision: 0.08\n",
      "Train Recall: 1.0\n",
      "Train F1: 0.16\n",
      "\n",
      "\n",
      "Validation Accuracy: 0.2\n",
      "Validation Precision: 0.07\n",
      "Validation Recall: 1.0\n",
      "Validation F1: 0.14\n",
      "\n",
      "\n"
     ]
    },
    {
     "data": {
      "text/plain": [
       "{'COUNT_VECTORIZER': {'Train Accuracy': 0.9324370569542899,\n",
       "  'Train Precision': 0.5144061841180604,\n",
       "  'Train Recall': 1.0,\n",
       "  'Train F1': 0.6793503480278421,\n",
       "  'Validation Accuracy': 0.8461087211576066,\n",
       "  'Validation Precision': 0.23765786452353616,\n",
       "  'Validation Recall': 0.6272727272727273,\n",
       "  'Validation F1': 0.3447127393838468},\n",
       " 'TFIDF_VECTORIZER': {'Train Accuracy': 0.6011733072598386,\n",
       "  'Train Precision': 0.15215131989191436,\n",
       "  'Train Recall': 1.0,\n",
       "  'Train F1': 0.26411690420349987,\n",
       "  'Validation Accuracy': 0.5803676183026985,\n",
       "  'Validation Precision': 0.12166666666666667,\n",
       "  'Validation Recall': 0.8848484848484849,\n",
       "  'Validation F1': 0.21391941391941394},\n",
       " 'TFIDF_NGRAM_1_2': {'Train Accuracy': 0.6244927890491322,\n",
       "  'Train Precision': 0.1600874794969929,\n",
       "  'Train Recall': 1.0,\n",
       "  'Train F1': 0.2759920821943633,\n",
       "  'Validation Accuracy': 0.6018771998435667,\n",
       "  'Validation Precision': 0.12783595113438045,\n",
       "  'Validation Recall': 0.8878787878787879,\n",
       "  'Validation F1': 0.22349351639969486},\n",
       " 'TFIDF_NGRAM_2_3': {'Train Accuracy': 0.22468834025910536,\n",
       "  'Train Precision': 0.08451192056803095,\n",
       "  'Train Recall': 1.0,\n",
       "  'Train F1': 0.15585245116303828,\n",
       "  'Validation Accuracy': 0.20219006648416113,\n",
       "  'Validation Precision': 0.07463702359346643,\n",
       "  'Validation Recall': 0.996969696969697,\n",
       "  'Validation F1': 0.13887716336006756}}"
      ]
     },
     "execution_count": 15,
     "metadata": {},
     "output_type": "execute_result"
    },
    {
     "data": {
      "text/plain": [
       "{'COUNT_VECTORIZER': {'Train Accuracy': 0.9324370569542899,\n",
       "  'Train Precision': 0.5144061841180604,\n",
       "  'Train Recall': 1.0,\n",
       "  'Train F1': 0.6793503480278421,\n",
       "  'Validation Accuracy': 0.8461087211576066,\n",
       "  'Validation Precision': 0.23765786452353616,\n",
       "  'Validation Recall': 0.6272727272727273,\n",
       "  'Validation F1': 0.3447127393838468},\n",
       " 'TFIDF_VECTORIZER': {'Train Accuracy': 0.6011733072598386,\n",
       "  'Train Precision': 0.15215131989191436,\n",
       "  'Train Recall': 1.0,\n",
       "  'Train F1': 0.26411690420349987,\n",
       "  'Validation Accuracy': 0.5803676183026985,\n",
       "  'Validation Precision': 0.12166666666666667,\n",
       "  'Validation Recall': 0.8848484848484849,\n",
       "  'Validation F1': 0.21391941391941394},\n",
       " 'TFIDF_NGRAM_1_2': {'Train Accuracy': 0.6244927890491322,\n",
       "  'Train Precision': 0.1600874794969929,\n",
       "  'Train Recall': 1.0,\n",
       "  'Train F1': 0.2759920821943633,\n",
       "  'Validation Accuracy': 0.6018771998435667,\n",
       "  'Validation Precision': 0.12783595113438045,\n",
       "  'Validation Recall': 0.8878787878787879,\n",
       "  'Validation F1': 0.22349351639969486},\n",
       " 'TFIDF_NGRAM_2_3': {'Train Accuracy': 0.22468834025910536,\n",
       "  'Train Precision': 0.08451192056803095,\n",
       "  'Train Recall': 1.0,\n",
       "  'Train F1': 0.15585245116303828,\n",
       "  'Validation Accuracy': 0.20219006648416113,\n",
       "  'Validation Precision': 0.07463702359346643,\n",
       "  'Validation Recall': 0.996969696969697,\n",
       "  'Validation F1': 0.13887716336006756}}"
      ]
     },
     "execution_count": 15,
     "metadata": {},
     "output_type": "execute_result"
    }
   ],
   "source": [
    "NB_compare_vectorization_model(X_train.lem_tweet, y_train, \n",
    "                                   X_val.lem_tweet, y_val, GaussianNB())"
   ]
  },
  {
   "cell_type": "markdown",
   "metadata": {},
   "source": [
    "## Logistic Regression"
   ]
  },
  {
   "cell_type": "code",
   "execution_count": 35,
   "metadata": {
    "collapsed": true
   },
   "outputs": [
    {
     "name": "stdout",
     "output_type": "stream",
     "text": [
      "Train Accuracy: 0.88\n",
      "Train Precision: 0.35\n",
      "Train Recall: 0.86\n",
      "Train F1: 0.5\n",
      "\n",
      "\n",
      "Validation Accuracy: 0.86\n",
      "Validation Precision: 0.27\n",
      "Validation Recall: 0.72\n",
      "Validation F1: 0.4\n",
      "Train Accuracy: 0.88\n",
      "Train Precision: 0.35\n",
      "Train Recall: 0.86\n",
      "Train F1: 0.5\n",
      "\n",
      "\n",
      "Validation Accuracy: 0.86\n",
      "Validation Precision: 0.27\n",
      "Validation Recall: 0.72\n",
      "Validation F1: 0.4\n"
     ]
    },
    {
     "data": {
      "text/html": [
       "<div>\n",
       "<style scoped>\n",
       "    .dataframe tbody tr th:only-of-type {\n",
       "        vertical-align: middle;\n",
       "    }\n",
       "\n",
       "    .dataframe tbody tr th {\n",
       "        vertical-align: top;\n",
       "    }\n",
       "\n",
       "    .dataframe thead th {\n",
       "        text-align: right;\n",
       "    }\n",
       "</style>\n",
       "<table border=\"1\" class=\"dataframe\">\n",
       "  <thead>\n",
       "    <tr style=\"text-align: right;\">\n",
       "      <th>Predicted</th>\n",
       "      <th>0</th>\n",
       "      <th>1</th>\n",
       "      <th>All</th>\n",
       "    </tr>\n",
       "    <tr>\n",
       "      <th>Actual</th>\n",
       "      <th></th>\n",
       "      <th></th>\n",
       "      <th></th>\n",
       "    </tr>\n",
       "  </thead>\n",
       "  <tbody>\n",
       "    <tr>\n",
       "      <th>0</th>\n",
       "      <td>4148</td>\n",
       "      <td>636</td>\n",
       "      <td>4784</td>\n",
       "    </tr>\n",
       "    <tr>\n",
       "      <th>1</th>\n",
       "      <td>91</td>\n",
       "      <td>239</td>\n",
       "      <td>330</td>\n",
       "    </tr>\n",
       "    <tr>\n",
       "      <th>All</th>\n",
       "      <td>4239</td>\n",
       "      <td>875</td>\n",
       "      <td>5114</td>\n",
       "    </tr>\n",
       "  </tbody>\n",
       "</table>\n",
       "</div>"
      ],
      "text/plain": [
       "Predicted     0    1   All\n",
       "Actual                    \n",
       "0          4148  636  4784\n",
       "1            91  239   330\n",
       "All        4239  875  5114"
      ]
     },
     "execution_count": 35,
     "metadata": {},
     "output_type": "execute_result"
    },
    {
     "data": {
      "text/html": [
       "<div>\n",
       "<style scoped>\n",
       "    .dataframe tbody tr th:only-of-type {\n",
       "        vertical-align: middle;\n",
       "    }\n",
       "\n",
       "    .dataframe tbody tr th {\n",
       "        vertical-align: top;\n",
       "    }\n",
       "\n",
       "    .dataframe thead th {\n",
       "        text-align: right;\n",
       "    }\n",
       "</style>\n",
       "<table border=\"1\" class=\"dataframe\">\n",
       "  <thead>\n",
       "    <tr style=\"text-align: right;\">\n",
       "      <th>Predicted</th>\n",
       "      <th>0</th>\n",
       "      <th>1</th>\n",
       "      <th>All</th>\n",
       "    </tr>\n",
       "    <tr>\n",
       "      <th>Actual</th>\n",
       "      <th></th>\n",
       "      <th></th>\n",
       "      <th></th>\n",
       "    </tr>\n",
       "  </thead>\n",
       "  <tbody>\n",
       "    <tr>\n",
       "      <th>0</th>\n",
       "      <td>4148</td>\n",
       "      <td>636</td>\n",
       "      <td>4784</td>\n",
       "    </tr>\n",
       "    <tr>\n",
       "      <th>1</th>\n",
       "      <td>91</td>\n",
       "      <td>239</td>\n",
       "      <td>330</td>\n",
       "    </tr>\n",
       "    <tr>\n",
       "      <th>All</th>\n",
       "      <td>4239</td>\n",
       "      <td>875</td>\n",
       "      <td>5114</td>\n",
       "    </tr>\n",
       "  </tbody>\n",
       "</table>\n",
       "</div>"
      ],
      "text/plain": [
       "Predicted     0    1   All\n",
       "Actual                    \n",
       "0          4148  636  4784\n",
       "1            91  239   330\n",
       "All        4239  875  5114"
      ]
     },
     "execution_count": 35,
     "metadata": {},
     "output_type": "execute_result"
    }
   ],
   "source": [
    "SMOTE_vector_model(X_train.lem_tweet, y_train, X_val.lem_tweet, y_val, tfidf_vectorizer, logreg)"
   ]
  },
  {
   "cell_type": "code",
   "execution_count": 18,
   "metadata": {},
   "outputs": [],
   "source": [
    "%run custom_functions.ipynb"
   ]
  },
  {
   "cell_type": "code",
   "execution_count": 63,
   "metadata": {},
   "outputs": [],
   "source": [
    "#Logistic Regression: compare vectorizers with class weight balances + lemmatizing\n",
    "LR_cw_lemm = compare_vectorization_model(X_train.lem_tweet, \n",
    "                            y_train, X_val.lem_tweet, y_val, \n",
    "                            LogisticRegression(class_weight='balanced', solver = 'lbfgs'))"
   ]
  },
  {
   "cell_type": "code",
   "execution_count": 64,
   "metadata": {},
   "outputs": [
    {
     "data": {
      "text/html": [
       "<div>\n",
       "<style scoped>\n",
       "    .dataframe tbody tr th:only-of-type {\n",
       "        vertical-align: middle;\n",
       "    }\n",
       "\n",
       "    .dataframe tbody tr th {\n",
       "        vertical-align: top;\n",
       "    }\n",
       "\n",
       "    .dataframe thead th {\n",
       "        text-align: right;\n",
       "    }\n",
       "</style>\n",
       "<table border=\"1\" class=\"dataframe\">\n",
       "  <thead>\n",
       "    <tr style=\"text-align: right;\">\n",
       "      <th></th>\n",
       "      <th>COUNT_VECTORIZER</th>\n",
       "      <th>TFIDF_VECTORIZER</th>\n",
       "      <th>TFIDF_NGRAM_1_2</th>\n",
       "      <th>TFIDF_NGRAM_2_3</th>\n",
       "    </tr>\n",
       "  </thead>\n",
       "  <tbody>\n",
       "    <tr>\n",
       "      <th>Train Accuracy</th>\n",
       "      <td>0.99</td>\n",
       "      <td>0.88</td>\n",
       "      <td>0.88</td>\n",
       "      <td>0.24</td>\n",
       "    </tr>\n",
       "    <tr>\n",
       "      <th>Train F1</th>\n",
       "      <td>0.92</td>\n",
       "      <td>0.51</td>\n",
       "      <td>0.51</td>\n",
       "      <td>0.16</td>\n",
       "    </tr>\n",
       "    <tr>\n",
       "      <th>Train Precision</th>\n",
       "      <td>0.85</td>\n",
       "      <td>0.36</td>\n",
       "      <td>0.36</td>\n",
       "      <td>0.09</td>\n",
       "    </tr>\n",
       "    <tr>\n",
       "      <th>Train Recall</th>\n",
       "      <td>0.99</td>\n",
       "      <td>0.88</td>\n",
       "      <td>0.88</td>\n",
       "      <td>0.99</td>\n",
       "    </tr>\n",
       "    <tr>\n",
       "      <th>Validation Accuracy</th>\n",
       "      <td>0.95</td>\n",
       "      <td>0.86</td>\n",
       "      <td>0.86</td>\n",
       "      <td>0.22</td>\n",
       "    </tr>\n",
       "    <tr>\n",
       "      <th>Validation F1</th>\n",
       "      <td>0.65</td>\n",
       "      <td>0.41</td>\n",
       "      <td>0.41</td>\n",
       "      <td>0.14</td>\n",
       "    </tr>\n",
       "    <tr>\n",
       "      <th>Validation Precision</th>\n",
       "      <td>0.61</td>\n",
       "      <td>0.28</td>\n",
       "      <td>0.28</td>\n",
       "      <td>0.08</td>\n",
       "    </tr>\n",
       "    <tr>\n",
       "      <th>Validation Recall</th>\n",
       "      <td>0.69</td>\n",
       "      <td>0.72</td>\n",
       "      <td>0.72</td>\n",
       "      <td>0.98</td>\n",
       "    </tr>\n",
       "  </tbody>\n",
       "</table>\n",
       "</div>"
      ],
      "text/plain": [
       "                      COUNT_VECTORIZER  TFIDF_VECTORIZER  TFIDF_NGRAM_1_2  \\\n",
       "Train Accuracy                    0.99              0.88             0.88   \n",
       "Train F1                          0.92              0.51             0.51   \n",
       "Train Precision                   0.85              0.36             0.36   \n",
       "Train Recall                      0.99              0.88             0.88   \n",
       "Validation Accuracy               0.95              0.86             0.86   \n",
       "Validation F1                     0.65              0.41             0.41   \n",
       "Validation Precision              0.61              0.28             0.28   \n",
       "Validation Recall                 0.69              0.72             0.72   \n",
       "\n",
       "                      TFIDF_NGRAM_2_3  \n",
       "Train Accuracy                   0.24  \n",
       "Train F1                         0.16  \n",
       "Train Precision                  0.09  \n",
       "Train Recall                     0.99  \n",
       "Validation Accuracy              0.22  \n",
       "Validation F1                    0.14  \n",
       "Validation Precision             0.08  \n",
       "Validation Recall                0.98  "
      ]
     },
     "execution_count": 64,
     "metadata": {},
     "output_type": "execute_result"
    }
   ],
   "source": [
    "pd.DataFrame(LR_cw_lemm)"
   ]
  },
  {
   "cell_type": "code",
   "execution_count": 58,
   "metadata": {},
   "outputs": [],
   "source": [
    "#Logistic Regression: compare vectorizers with SMOTE + lemmatizing\n",
    "LR_smote_lemm = SMOTE_compare_vectorization_model(X_train.lem_tweet, y_train, X_val.lem_tweet, \n",
    "                                    y_val, LogisticRegression(class_weight='balanced', solver= 'lbfgs'))"
   ]
  },
  {
   "cell_type": "code",
   "execution_count": 59,
   "metadata": {
    "collapsed": true
   },
   "outputs": [
    {
     "data": {
      "text/plain": [
       "{'COUNT_VECTORIZER': {'Train Accuracy': 0.99,\n",
       "  'Train Precision': 0.85,\n",
       "  'Train Recall': 0.99,\n",
       "  'Train F1': 0.92,\n",
       "  'Validation Accuracy': 0.95,\n",
       "  'Validation Precision': 0.61,\n",
       "  'Validation Recall': 0.69,\n",
       "  'Validation F1': 0.65},\n",
       " 'TFIDF_VECTORIZER': {'Train Accuracy': 0.88,\n",
       "  'Train Precision': 0.36,\n",
       "  'Train Recall': 0.88,\n",
       "  'Train F1': 0.51,\n",
       "  'Validation Accuracy': 0.86,\n",
       "  'Validation Precision': 0.28,\n",
       "  'Validation Recall': 0.72,\n",
       "  'Validation F1': 0.41},\n",
       " 'TFIDF_NGRAM_1_2': {'Train Accuracy': 0.88,\n",
       "  'Train Precision': 0.36,\n",
       "  'Train Recall': 0.88,\n",
       "  'Train F1': 0.51,\n",
       "  'Validation Accuracy': 0.86,\n",
       "  'Validation Precision': 0.28,\n",
       "  'Validation Recall': 0.72,\n",
       "  'Validation F1': 0.41},\n",
       " 'TFIDF_NGRAM_2_3': {'Train Accuracy': 0.24,\n",
       "  'Train Precision': 0.09,\n",
       "  'Train Recall': 0.99,\n",
       "  'Train F1': 0.16,\n",
       "  'Validation Accuracy': 0.22,\n",
       "  'Validation Precision': 0.08,\n",
       "  'Validation Recall': 0.98,\n",
       "  'Validation F1': 0.14}}"
      ]
     },
     "execution_count": 59,
     "metadata": {},
     "output_type": "execute_result"
    },
    {
     "data": {
      "text/plain": [
       "{'COUNT_VECTORIZER': {'Train Accuracy': 0.99,\n",
       "  'Train Precision': 0.85,\n",
       "  'Train Recall': 0.99,\n",
       "  'Train F1': 0.92,\n",
       "  'Validation Accuracy': 0.95,\n",
       "  'Validation Precision': 0.61,\n",
       "  'Validation Recall': 0.69,\n",
       "  'Validation F1': 0.65},\n",
       " 'TFIDF_VECTORIZER': {'Train Accuracy': 0.88,\n",
       "  'Train Precision': 0.36,\n",
       "  'Train Recall': 0.88,\n",
       "  'Train F1': 0.51,\n",
       "  'Validation Accuracy': 0.86,\n",
       "  'Validation Precision': 0.28,\n",
       "  'Validation Recall': 0.72,\n",
       "  'Validation F1': 0.41},\n",
       " 'TFIDF_NGRAM_1_2': {'Train Accuracy': 0.88,\n",
       "  'Train Precision': 0.36,\n",
       "  'Train Recall': 0.88,\n",
       "  'Train F1': 0.51,\n",
       "  'Validation Accuracy': 0.86,\n",
       "  'Validation Precision': 0.28,\n",
       "  'Validation Recall': 0.72,\n",
       "  'Validation F1': 0.41},\n",
       " 'TFIDF_NGRAM_2_3': {'Train Accuracy': 0.24,\n",
       "  'Train Precision': 0.09,\n",
       "  'Train Recall': 0.99,\n",
       "  'Train F1': 0.16,\n",
       "  'Validation Accuracy': 0.22,\n",
       "  'Validation Precision': 0.08,\n",
       "  'Validation Recall': 0.98,\n",
       "  'Validation F1': 0.14}}"
      ]
     },
     "execution_count": 59,
     "metadata": {},
     "output_type": "execute_result"
    }
   ],
   "source": [
    "LR_smote_lemm "
   ]
  },
  {
   "cell_type": "code",
   "execution_count": 18,
   "metadata": {
    "collapsed": true
   },
   "outputs": [
    {
     "data": {
      "text/plain": [
       "{'COUNT_VECTORIZER': {'Train Accuracy': 0.99,\n",
       "  'Train Precision': 0.99,\n",
       "  'Train Recall': 1.0,\n",
       "  'Train F1': 0.99,\n",
       "  'Validation Accuracy': 0.95,\n",
       "  'Validation Precision': 0.62,\n",
       "  'Validation Recall': 0.69,\n",
       "  'Validation F1': 0.65},\n",
       " 'TFIDF_VECTORIZER': {'Train Accuracy': 0.93,\n",
       "  'Train Precision': 0.93,\n",
       "  'Train Recall': 0.94,\n",
       "  'Train F1': 0.93,\n",
       "  'Validation Accuracy': 0.91,\n",
       "  'Validation Precision': 0.38,\n",
       "  'Validation Recall': 0.76,\n",
       "  'Validation F1': 0.51},\n",
       " 'TFIDF_NGRAM_1_2': {'Train Accuracy': 0.94,\n",
       "  'Train Precision': 0.93,\n",
       "  'Train Recall': 0.95,\n",
       "  'Train F1': 0.94,\n",
       "  'Validation Accuracy': 0.91,\n",
       "  'Validation Precision': 0.4,\n",
       "  'Validation Recall': 0.76,\n",
       "  'Validation F1': 0.52},\n",
       " 'TFIDF_NGRAM_2_3': {'Train Accuracy': 0.65,\n",
       "  'Train Precision': 0.92,\n",
       "  'Train Recall': 0.32,\n",
       "  'Train F1': 0.48,\n",
       "  'Validation Accuracy': 0.93,\n",
       "  'Validation Precision': 0.38,\n",
       "  'Validation Recall': 0.23,\n",
       "  'Validation F1': 0.28}}"
      ]
     },
     "execution_count": 18,
     "metadata": {},
     "output_type": "execute_result"
    }
   ],
   "source": [
    "#Logistic Regression: compare vectorizers with upsampling + lemmatizing\n",
    "compare_vectorization_model(X_train_up.lem_tweet, y_train_up, X_val.lem_tweet, y_val, \n",
    "                                   LogisticRegression(class_weight='balanced', solver='lbfgs'))"
   ]
  },
  {
   "cell_type": "code",
   "execution_count": 54,
   "metadata": {
    "collapsed": true
   },
   "outputs": [
    {
     "data": {
      "text/html": [
       "<div>\n",
       "<style scoped>\n",
       "    .dataframe tbody tr th:only-of-type {\n",
       "        vertical-align: middle;\n",
       "    }\n",
       "\n",
       "    .dataframe tbody tr th {\n",
       "        vertical-align: top;\n",
       "    }\n",
       "\n",
       "    .dataframe thead th {\n",
       "        text-align: right;\n",
       "    }\n",
       "</style>\n",
       "<table border=\"1\" class=\"dataframe\">\n",
       "  <thead>\n",
       "    <tr style=\"text-align: right;\">\n",
       "      <th></th>\n",
       "      <th>COUNT_VECTORIZER</th>\n",
       "      <th>TFIDF_VECTORIZER</th>\n",
       "      <th>TFIDF_NGRAM_1_2</th>\n",
       "      <th>TFIDF_NGRAM_2_3</th>\n",
       "    </tr>\n",
       "  </thead>\n",
       "  <tbody>\n",
       "    <tr>\n",
       "      <th>Train Accuracy</th>\n",
       "      <td>0.99</td>\n",
       "      <td>0.88</td>\n",
       "      <td>0.88</td>\n",
       "      <td>0.24</td>\n",
       "    </tr>\n",
       "    <tr>\n",
       "      <th>Train F1</th>\n",
       "      <td>0.92</td>\n",
       "      <td>0.50</td>\n",
       "      <td>0.50</td>\n",
       "      <td>0.16</td>\n",
       "    </tr>\n",
       "    <tr>\n",
       "      <th>Train Precision</th>\n",
       "      <td>0.86</td>\n",
       "      <td>0.35</td>\n",
       "      <td>0.35</td>\n",
       "      <td>0.09</td>\n",
       "    </tr>\n",
       "    <tr>\n",
       "      <th>Train Recall</th>\n",
       "      <td>1.00</td>\n",
       "      <td>0.86</td>\n",
       "      <td>0.86</td>\n",
       "      <td>0.99</td>\n",
       "    </tr>\n",
       "    <tr>\n",
       "      <th>Validation Accuracy</th>\n",
       "      <td>0.95</td>\n",
       "      <td>0.86</td>\n",
       "      <td>0.86</td>\n",
       "      <td>0.21</td>\n",
       "    </tr>\n",
       "    <tr>\n",
       "      <th>Validation F1</th>\n",
       "      <td>0.65</td>\n",
       "      <td>0.40</td>\n",
       "      <td>0.40</td>\n",
       "      <td>0.14</td>\n",
       "    </tr>\n",
       "    <tr>\n",
       "      <th>Validation Precision</th>\n",
       "      <td>0.62</td>\n",
       "      <td>0.28</td>\n",
       "      <td>0.28</td>\n",
       "      <td>0.07</td>\n",
       "    </tr>\n",
       "    <tr>\n",
       "      <th>Validation Recall</th>\n",
       "      <td>0.68</td>\n",
       "      <td>0.72</td>\n",
       "      <td>0.71</td>\n",
       "      <td>0.98</td>\n",
       "    </tr>\n",
       "  </tbody>\n",
       "</table>\n",
       "</div>"
      ],
      "text/plain": [
       "                      COUNT_VECTORIZER  TFIDF_VECTORIZER  TFIDF_NGRAM_1_2  \\\n",
       "Train Accuracy                    0.99              0.88             0.88   \n",
       "Train F1                          0.92              0.50             0.50   \n",
       "Train Precision                   0.86              0.35             0.35   \n",
       "Train Recall                      1.00              0.86             0.86   \n",
       "Validation Accuracy               0.95              0.86             0.86   \n",
       "Validation F1                     0.65              0.40             0.40   \n",
       "Validation Precision              0.62              0.28             0.28   \n",
       "Validation Recall                 0.68              0.72             0.71   \n",
       "\n",
       "                      TFIDF_NGRAM_2_3  \n",
       "Train Accuracy                   0.24  \n",
       "Train F1                         0.16  \n",
       "Train Precision                  0.09  \n",
       "Train Recall                     0.99  \n",
       "Validation Accuracy              0.21  \n",
       "Validation F1                    0.14  \n",
       "Validation Precision             0.07  \n",
       "Validation Recall                0.98  "
      ]
     },
     "execution_count": 54,
     "metadata": {},
     "output_type": "execute_result"
    },
    {
     "data": {
      "text/html": [
       "<div>\n",
       "<style scoped>\n",
       "    .dataframe tbody tr th:only-of-type {\n",
       "        vertical-align: middle;\n",
       "    }\n",
       "\n",
       "    .dataframe tbody tr th {\n",
       "        vertical-align: top;\n",
       "    }\n",
       "\n",
       "    .dataframe thead th {\n",
       "        text-align: right;\n",
       "    }\n",
       "</style>\n",
       "<table border=\"1\" class=\"dataframe\">\n",
       "  <thead>\n",
       "    <tr style=\"text-align: right;\">\n",
       "      <th></th>\n",
       "      <th>COUNT_VECTORIZER</th>\n",
       "      <th>TFIDF_VECTORIZER</th>\n",
       "      <th>TFIDF_NGRAM_1_2</th>\n",
       "      <th>TFIDF_NGRAM_2_3</th>\n",
       "    </tr>\n",
       "  </thead>\n",
       "  <tbody>\n",
       "    <tr>\n",
       "      <th>Train Accuracy</th>\n",
       "      <td>0.99</td>\n",
       "      <td>0.88</td>\n",
       "      <td>0.88</td>\n",
       "      <td>0.24</td>\n",
       "    </tr>\n",
       "    <tr>\n",
       "      <th>Train F1</th>\n",
       "      <td>0.92</td>\n",
       "      <td>0.50</td>\n",
       "      <td>0.50</td>\n",
       "      <td>0.16</td>\n",
       "    </tr>\n",
       "    <tr>\n",
       "      <th>Train Precision</th>\n",
       "      <td>0.86</td>\n",
       "      <td>0.35</td>\n",
       "      <td>0.35</td>\n",
       "      <td>0.09</td>\n",
       "    </tr>\n",
       "    <tr>\n",
       "      <th>Train Recall</th>\n",
       "      <td>1.00</td>\n",
       "      <td>0.86</td>\n",
       "      <td>0.86</td>\n",
       "      <td>0.99</td>\n",
       "    </tr>\n",
       "    <tr>\n",
       "      <th>Validation Accuracy</th>\n",
       "      <td>0.95</td>\n",
       "      <td>0.86</td>\n",
       "      <td>0.86</td>\n",
       "      <td>0.21</td>\n",
       "    </tr>\n",
       "    <tr>\n",
       "      <th>Validation F1</th>\n",
       "      <td>0.65</td>\n",
       "      <td>0.40</td>\n",
       "      <td>0.40</td>\n",
       "      <td>0.14</td>\n",
       "    </tr>\n",
       "    <tr>\n",
       "      <th>Validation Precision</th>\n",
       "      <td>0.62</td>\n",
       "      <td>0.28</td>\n",
       "      <td>0.28</td>\n",
       "      <td>0.07</td>\n",
       "    </tr>\n",
       "    <tr>\n",
       "      <th>Validation Recall</th>\n",
       "      <td>0.68</td>\n",
       "      <td>0.72</td>\n",
       "      <td>0.71</td>\n",
       "      <td>0.98</td>\n",
       "    </tr>\n",
       "  </tbody>\n",
       "</table>\n",
       "</div>"
      ],
      "text/plain": [
       "                      COUNT_VECTORIZER  TFIDF_VECTORIZER  TFIDF_NGRAM_1_2  \\\n",
       "Train Accuracy                    0.99              0.88             0.88   \n",
       "Train F1                          0.92              0.50             0.50   \n",
       "Train Precision                   0.86              0.35             0.35   \n",
       "Train Recall                      1.00              0.86             0.86   \n",
       "Validation Accuracy               0.95              0.86             0.86   \n",
       "Validation F1                     0.65              0.40             0.40   \n",
       "Validation Precision              0.62              0.28             0.28   \n",
       "Validation Recall                 0.68              0.72             0.71   \n",
       "\n",
       "                      TFIDF_NGRAM_2_3  \n",
       "Train Accuracy                   0.24  \n",
       "Train F1                         0.16  \n",
       "Train Precision                  0.09  \n",
       "Train Recall                     0.99  \n",
       "Validation Accuracy              0.21  \n",
       "Validation F1                    0.14  \n",
       "Validation Precision             0.07  \n",
       "Validation Recall                0.98  "
      ]
     },
     "execution_count": 54,
     "metadata": {},
     "output_type": "execute_result"
    }
   ],
   "source": [
    "#Logistic Regression: compare vectorizers using stemming + class balances\n",
    "pd.DataFrame(compare_vectorization_model(X_train.stem_tweet, y_train, X_val.stem_tweet, \n",
    "                                    y_val, LogisticRegression(class_weight='balanced', solver='lbfgs')))"
   ]
  },
  {
   "cell_type": "markdown",
   "metadata": {},
   "source": [
    "##### Regularization:\n",
    "\n",
    "- Count Vectorizer:   \n",
    "\n",
    "l2 (default), no alpha tuning: F1: 0.99, 0.66\n",
    "C = .1:  .91,  .52\n",
    "C = .2:  .96,  .57\n",
    "C = .3:  .98,  .58\n",
    "C = .01:  .67,  .39\n",
    "C = .001:  .62, .39"
   ]
  },
  {
   "cell_type": "code",
   "execution_count": 79,
   "metadata": {
    "collapsed": true
   },
   "outputs": [
    {
     "name": "stdout",
     "output_type": "stream",
     "text": [
      "Train Accuracy: 0.91\n",
      "Train Precision: 0.93\n",
      "Train Recall: 0.9\n",
      "Train F1: 0.91\n",
      "\n",
      "\n",
      "Validation Accuracy: 0.92\n",
      "Validation Precision: 0.41\n",
      "Validation Recall: 0.69\n",
      "Validation F1: 0.51\n"
     ]
    },
    {
     "data": {
      "text/html": [
       "<div>\n",
       "<style scoped>\n",
       "    .dataframe tbody tr th:only-of-type {\n",
       "        vertical-align: middle;\n",
       "    }\n",
       "\n",
       "    .dataframe tbody tr th {\n",
       "        vertical-align: top;\n",
       "    }\n",
       "\n",
       "    .dataframe thead th {\n",
       "        text-align: right;\n",
       "    }\n",
       "</style>\n",
       "<table border=\"1\" class=\"dataframe\">\n",
       "  <thead>\n",
       "    <tr style=\"text-align: right;\">\n",
       "      <th>Predicted</th>\n",
       "      <th>0</th>\n",
       "      <th>1</th>\n",
       "      <th>All</th>\n",
       "    </tr>\n",
       "    <tr>\n",
       "      <th>Actual</th>\n",
       "      <th></th>\n",
       "      <th></th>\n",
       "      <th></th>\n",
       "    </tr>\n",
       "  </thead>\n",
       "  <tbody>\n",
       "    <tr>\n",
       "      <th>0</th>\n",
       "      <td>4455</td>\n",
       "      <td>329</td>\n",
       "      <td>4784</td>\n",
       "    </tr>\n",
       "    <tr>\n",
       "      <th>1</th>\n",
       "      <td>102</td>\n",
       "      <td>228</td>\n",
       "      <td>330</td>\n",
       "    </tr>\n",
       "    <tr>\n",
       "      <th>All</th>\n",
       "      <td>4557</td>\n",
       "      <td>557</td>\n",
       "      <td>5114</td>\n",
       "    </tr>\n",
       "  </tbody>\n",
       "</table>\n",
       "</div>"
      ],
      "text/plain": [
       "Predicted     0    1   All\n",
       "Actual                    \n",
       "0          4455  329  4784\n",
       "1           102  228   330\n",
       "All        4557  557  5114"
      ]
     },
     "execution_count": 79,
     "metadata": {},
     "output_type": "execute_result"
    }
   ],
   "source": [
    "single_vector_model(X_train_up.lem_tweet, y_train_up, X_val.lem_tweet, y_val, count_vect, \n",
    "                   LogisticRegression(penalty = 'l1', C = .1,  class_weight='balanced'))"
   ]
  },
  {
   "cell_type": "code",
   "execution_count": 88,
   "metadata": {},
   "outputs": [],
   "source": [
    "X_train_countvect =  count_vect.fit_transform(X_train_up.lem_tweet)\n",
    "X_val_countvect =  count_vect.transform(X_val.lem_tweet)"
   ]
  },
  {
   "cell_type": "code",
   "execution_count": 92,
   "metadata": {},
   "outputs": [],
   "source": [
    "log = LogisticRegression(class_weight='balanced', penalty = 'l1', C = .001)"
   ]
  },
  {
   "cell_type": "code",
   "execution_count": 93,
   "metadata": {
    "scrolled": true
   },
   "outputs": [
    {
     "data": {
      "text/plain": [
       "LogisticRegression(C=1.0, class_weight=None, dual=False, fit_intercept=True,\n",
       "                   intercept_scaling=1, l1_ratio=None, max_iter=100,\n",
       "                   multi_class='warn', n_jobs=None, penalty='l2',\n",
       "                   random_state=None, solver='warn', tol=0.0001, verbose=0,\n",
       "                   warm_start=False)"
      ]
     },
     "execution_count": 93,
     "metadata": {},
     "output_type": "execute_result"
    }
   ],
   "source": [
    "logreg.fit(X_train_countvect, y_train_up)"
   ]
  },
  {
   "cell_type": "code",
   "execution_count": 94,
   "metadata": {},
   "outputs": [],
   "source": [
    "y_val_predict = logreg.predict(X_val_countvect)"
   ]
  },
  {
   "cell_type": "code",
   "execution_count": 98,
   "metadata": {},
   "outputs": [],
   "source": [
    "from sklearn.metrics import roc_curve\n",
    "from sklearn.metrics import roc_auc_score\n",
    "from matplotlib import pyplot"
   ]
  },
  {
   "cell_type": "code",
   "execution_count": 101,
   "metadata": {},
   "outputs": [
    {
     "name": "stdout",
     "output_type": "stream",
     "text": [
      "Average precision-recall score RF: 0.4491201439676215\n"
     ]
    }
   ],
   "source": [
    "from sklearn.metrics import average_precision_score, auc, roc_curve, precision_recall_curve\n",
    "average_precision = average_precision_score(y_val, y_val_predict)\n",
    "\n",
    "print('Average precision-recall score RF: {}'.format(average_precision))"
   ]
  },
  {
   "cell_type": "code",
   "execution_count": 99,
   "metadata": {},
   "outputs": [
    {
     "data": {
      "image/png": "[encoded data removed]",
      "text/plain": [
       "<Figure size 432x288 with 1 Axes>"
      ]
     },
     "metadata": {
      "needs_background": "light"
     },
     "output_type": "display_data"
    }
   ],
   "source": [
    "# calculate roc curve\n",
    "fpr, tpr, thresholds = roc_curve(y_val, y_val_predict)\n",
    "# plot no skill\n",
    "pyplot.plot([0, 1], [0, 1], linestyle='--')\n",
    "# plot the roc curve for the model\n",
    "pyplot.plot(fpr, tpr, marker='.')\n",
    "# show the plot\n",
    "pyplot.show()"
   ]
  },
  {
   "cell_type": "code",
   "execution_count": 103,
   "metadata": {
    "scrolled": true
   },
   "outputs": [
    {
     "data": {
      "text/plain": [
       "Text(0.5, 1.0, '2-class Precision-Recall curve: AP=0.45')"
      ]
     },
     "execution_count": 103,
     "metadata": {},
     "output_type": "execute_result"
    },
    {
     "data": {
      "image/png": "[encoded data removed]",
      "text/plain": [
       "<Figure size 432x288 with 1 Axes>"
      ]
     },
     "metadata": {
      "needs_background": "light"
     },
     "output_type": "display_data"
    }
   ],
   "source": [
    "from sklearn.metrics import precision_recall_curve\n",
    "import matplotlib.pyplot as plt\n",
    "\n",
    "precision, recall, _ = precision_recall_curve(y_val, y_val_predict)\n",
    "\n",
    "plt.step(recall, precision, color='b', alpha=0.2,\n",
    "         where='post')\n",
    "plt.fill_between(recall, precision, step='post', alpha=0.2,\n",
    "                 color='b')\n",
    "\n",
    "plt.xlabel('Recall')\n",
    "plt.ylabel('Precision')\n",
    "plt.ylim([0.0, 1.05])\n",
    "plt.xlim([0.0, 1.0])\n",
    "plt.title('2-class Precision-Recall curve: AP={0:0.2f}'.format(\n",
    "          average_precision))"
   ]
  },
  {
   "cell_type": "code",
   "execution_count": 107,
   "metadata": {},
   "outputs": [
    {
     "data": {
      "text/html": [
       "<div>\n",
       "<style scoped>\n",
       "    .dataframe tbody tr th:only-of-type {\n",
       "        vertical-align: middle;\n",
       "    }\n",
       "\n",
       "    .dataframe tbody tr th {\n",
       "        vertical-align: top;\n",
       "    }\n",
       "\n",
       "    .dataframe thead th {\n",
       "        text-align: right;\n",
       "    }\n",
       "</style>\n",
       "<table border=\"1\" class=\"dataframe\">\n",
       "  <thead>\n",
       "    <tr style=\"text-align: right;\">\n",
       "      <th></th>\n",
       "      <th>predicted 0</th>\n",
       "      <th>predicted 1</th>\n",
       "    </tr>\n",
       "  </thead>\n",
       "  <tbody>\n",
       "    <tr>\n",
       "      <th>actual 0</th>\n",
       "      <td>4647</td>\n",
       "      <td>137</td>\n",
       "    </tr>\n",
       "    <tr>\n",
       "      <th>actual 1</th>\n",
       "      <td>103</td>\n",
       "      <td>227</td>\n",
       "    </tr>\n",
       "  </tbody>\n",
       "</table>\n",
       "</div>"
      ],
      "text/plain": [
       "          predicted 0  predicted 1\n",
       "actual 0         4647          137\n",
       "actual 1          103          227"
      ]
     },
     "execution_count": 107,
     "metadata": {},
     "output_type": "execute_result"
    }
   ],
   "source": [
    "pd.DataFrame(confusion_matrix(y_val, y_val_predict), index = ['actual 0', 'actual 1'], columns = ['predicted 0', 'predicted 1'])"
   ]
  },
  {
   "cell_type": "code",
   "execution_count": 118,
   "metadata": {},
   "outputs": [],
   "source": [
    "predicts = []\n",
    "for item in logreg.predict_proba(X_val_countvect):\n",
    "    if item[0] <= .40:\n",
    "        predicts.append(1)\n",
    "    else:\n",
    "        predicts.append(0)"
   ]
  },
  {
   "cell_type": "code",
   "execution_count": 119,
   "metadata": {},
   "outputs": [
    {
     "data": {
      "text/html": [
       "<div>\n",
       "<style scoped>\n",
       "    .dataframe tbody tr th:only-of-type {\n",
       "        vertical-align: middle;\n",
       "    }\n",
       "\n",
       "    .dataframe tbody tr th {\n",
       "        vertical-align: top;\n",
       "    }\n",
       "\n",
       "    .dataframe thead th {\n",
       "        text-align: right;\n",
       "    }\n",
       "</style>\n",
       "<table border=\"1\" class=\"dataframe\">\n",
       "  <thead>\n",
       "    <tr style=\"text-align: right;\">\n",
       "      <th></th>\n",
       "      <th>predicted 0</th>\n",
       "      <th>predicted 1</th>\n",
       "    </tr>\n",
       "  </thead>\n",
       "  <tbody>\n",
       "    <tr>\n",
       "      <th>actual 0</th>\n",
       "      <td>4686</td>\n",
       "      <td>98</td>\n",
       "    </tr>\n",
       "    <tr>\n",
       "      <th>actual 1</th>\n",
       "      <td>116</td>\n",
       "      <td>214</td>\n",
       "    </tr>\n",
       "  </tbody>\n",
       "</table>\n",
       "</div>"
      ],
      "text/plain": [
       "          predicted 0  predicted 1\n",
       "actual 0         4686           98\n",
       "actual 1          116          214"
      ]
     },
     "execution_count": 119,
     "metadata": {},
     "output_type": "execute_result"
    }
   ],
   "source": [
    "#with threshhold adjustment\n",
    "pd.DataFrame(confusion_matrix(y_val, predicts), index = ['actual 0', 'actual 1'], columns = ['predicted 0', 'predicted 1'])"
   ]
  },
  {
   "cell_type": "markdown",
   "metadata": {},
   "source": [
    "## SVM\n"
   ]
  },
  {
   "cell_type": "code",
   "execution_count": null,
   "metadata": {},
   "outputs": [],
   "source": [
    "#class weight = balanced + lemmatized\n",
    "compare_vectorization_model(X_train.lem_tweet, y_train, X_val.lem_tweet, y_val, \n",
    "                                   SVC(class_weight ='balanced', gamma='auto', ))"
   ]
  },
  {
   "cell_type": "code",
   "execution_count": null,
   "metadata": {},
   "outputs": [],
   "source": [
    "#upsampling + lemmatized\n",
    "compare_vectorization_model(X_train_up.lem_tweet, y_train_up, X_val.lem_tweet, y_val, \n",
    "                                   SVC(class_weight ='balanced', gamma ='auto'))"
   ]
  },
  {
   "cell_type": "code",
   "execution_count": null,
   "metadata": {},
   "outputs": [],
   "source": [
    "#SMOTE + lemmatized \n",
    "SMOTE_compare_vectorization_model(X_train.lem_tweet, y_train, X_val.lem_tweet, \n",
    "                                    y_val, SVC(class_weight ='balanced', gamma='auto', ))"
   ]
  },
  {
   "cell_type": "markdown",
   "metadata": {},
   "source": [
    "#### Grid Searching:"
   ]
  },
  {
   "cell_type": "code",
   "execution_count": null,
   "metadata": {},
   "outputs": [],
   "source": [
    "X_train_tfid2 =  tfidf_ngram2.fit_transform(X_train_up.lemmatized_tweet)\n",
    "X_val_tfid2 =  tfidf_ngram2.transform(X_val.lemmatized_tweet)"
   ]
  },
  {
   "cell_type": "code",
   "execution_count": null,
   "metadata": {},
   "outputs": [],
   "source": [
    "# svc = SVC(kernel='linear', C=1, gamma=1, class_weight ='balanced')\n",
    "\n",
    "params = {\n",
    "'C': [0.1,.2, .3, 0.8,1,1.2,1.4],\n",
    "'kernel':['linear', 'rbf'],\n",
    "'gamma' :[0.1,0.8,1,1.2,1.4]\n",
    "}\n",
    "\n",
    "svm_gs= GridSearchCV(svc, param_grid = params, cv = 3)\n",
    "\n",
    "scores = ['f1','accuracy','recall']"
   ]
  },
  {
   "cell_type": "code",
   "execution_count": null,
   "metadata": {},
   "outputs": [],
   "source": [
    "svm_gs.fit(X_train_tfid2, y_train_up)"
   ]
  },
  {
   "cell_type": "code",
   "execution_count": null,
   "metadata": {},
   "outputs": [],
   "source": [
    "svm_gs.best_estimator_"
   ]
  },
  {
   "cell_type": "code",
   "execution_count": null,
   "metadata": {},
   "outputs": [],
   "source": [
    "single_vector_model()"
   ]
  },
  {
   "cell_type": "code",
   "execution_count": null,
   "metadata": {},
   "outputs": [],
   "source": [
    "compare_vectorization_model(X_train_up.lemmatized_tweet, y_train_up, X_val.lemmatized_tweet, y_val, \n",
    "                                   SVC(C=1.2, cache_size=200, class_weight=None, coef0=0.0,\n",
    "    decision_function_shape='ovr', degree=3, gamma=1.4, kernel='rbf',\n",
    "    max_iter=-1, probability=False, random_state=None, shrinking=True,\n",
    "    tol=0.001, verbose=False))"
   ]
  },
  {
   "cell_type": "markdown",
   "metadata": {},
   "source": [
    "# Random Forest"
   ]
  },
  {
   "cell_type": "markdown",
   "metadata": {},
   "source": [
    "### Compare Multiple Methods:"
   ]
  },
  {
   "cell_type": "code",
   "execution_count": null,
   "metadata": {},
   "outputs": [],
   "source": [
    "np.random.seed(0)"
   ]
  },
  {
   "cell_type": "code",
   "execution_count": null,
   "metadata": {},
   "outputs": [],
   "source": [
    "# Random Forest: compare vectorizers with class weight balances + lemmatizing \n",
    "pd.DataFrame(compare_vectorization_model(X_train.lem_tweet, y_train, X_val.lem_tweet, y_val, \n",
    "                                   RandomForestClassifier(max_depth= 20, \n",
    "                                   n_estimators = 100, class_weight='balanced', random_state=10)))"
   ]
  },
  {
   "cell_type": "code",
   "execution_count": null,
   "metadata": {},
   "outputs": [],
   "source": [
    "# Random Forest: compare vectorizers with upsampling + lemmatizing \n",
    "compare_vectorization_model(X_train_up.lemmatized_tweet, y_train_up, X_val.lemmatized_tweet, y_val, \n",
    "                                   RandomForestClassifier(max_depth= 20,\n",
    "                                   n_estimators = 100, class_weight='balanced', random_state=10))"
   ]
  },
  {
   "cell_type": "code",
   "execution_count": null,
   "metadata": {},
   "outputs": [],
   "source": [
    "# Random Forest: compare vectorizers with SMOTE + lemmatizing  \n",
    "SMOTE_compare_vectorization_model(X_train.lemmatized_tweet, y_train, X_val.lemmatized_tweet, y_val, \n",
    "                                   RandomForestClassifier(max_depth= 20,\n",
    "                                   n_estimators = 100, class_weight = 'balanced', random_state=10))"
   ]
  },
  {
   "cell_type": "code",
   "execution_count": null,
   "metadata": {},
   "outputs": [],
   "source": [
    "# Random Forest: compare vectorizers with upsampling + stemming\n",
    "compare_vectorization_model(X_train.stemmed_tweet_meta, y_train, X_val.stemmed_tweet_meta, y_val, \n",
    "                                   RandomForestClassifier(max_depth= 20,\n",
    "                                   n_estimators = 100, class_weight='balanced', random_state=10))"
   ]
  },
  {
   "cell_type": "markdown",
   "metadata": {},
   "source": [
    "#### Random Forest Fine-Tuning Hyperparameters: Max depth 10.... regularization??"
   ]
  },
  {
   "cell_type": "code",
   "execution_count": null,
   "metadata": {},
   "outputs": [],
   "source": [
    "# Random Forest: compare vectorizers with upsampling + lemmatizing \n",
    "compare_vectorization_model(X_train_up.lemmatized_tweet, y_train_up, X_val.lemmatized_tweet, y_val, \n",
    "                                   RandomForestClassifier(max_depth= 10,\n",
    "                                   n_estimators = 100, class_weight='balanced', random_state=10))"
   ]
  },
  {
   "cell_type": "code",
   "execution_count": null,
   "metadata": {},
   "outputs": [],
   "source": [
    "compare_vectorization_model(X_train_up.lemmatized_tweet, y_train_up, X_val.lemmatized_tweet, y_val, \n",
    "                                   RandomForestClassifier(bootstrap=True, class_weight='balanced',\n",
    "                       criterion='gini', max_depth=20, max_features='auto',\n",
    "                       max_leaf_nodes=200, min_impurity_decrease=0.0,\n",
    "                       min_impurity_split=None, min_samples_leaf=1,\n",
    "                       min_samples_split=2, min_weight_fraction_leaf=0.0,\n",
    "                       n_estimators=100, n_jobs=None, oob_score=False,\n",
    "                       random_state=10, verbose=0, warm_start=False))"
   ]
  },
  {
   "cell_type": "markdown",
   "metadata": {},
   "source": [
    "### Grid-Searching"
   ]
  },
  {
   "cell_type": "code",
   "execution_count": null,
   "metadata": {},
   "outputs": [],
   "source": [
    "np.random.seed(0)\n",
    "# rfc = RandomForestClassifier(n_estimators=60, max_depth=6, random_state=10, class_weight = 'balanced')"
   ]
  },
  {
   "cell_type": "code",
   "execution_count": 31,
   "metadata": {},
   "outputs": [],
   "source": [
    "X_train_countvect =  count_vect.fit_transform(X_train_up.lem_tweet)\n",
    "X_val_countvect =  count_vect.transform(X_val.lem_tweet)\n",
    "# X_test_countvect = count_vect.transform(X_test.lemmatized_tweet)"
   ]
  },
  {
   "cell_type": "code",
   "execution_count": null,
   "metadata": {},
   "outputs": [],
   "source": [
    "np.random.seed(0)\n",
    "\n",
    "parameters = {'n_estimators' : [40, 60, 80, 100],\n",
    "'max_leaf_nodes' : [200, 400, 600],\n",
    "'random_state' : [10],\n",
    "'max_depth': [5, 7, 10, 20],\n",
    " 'verbose' : [0],\n",
    "'class_weight': ['balanced']\n",
    "             }\n",
    "          \n",
    "rfc_gs = GridSearchCV(\n",
    "    RandomForestClassifier(class_weight='balanced', random_state = 10), param_grid=parameters, cv = 3)"
   ]
  },
  {
   "cell_type": "code",
   "execution_count": null,
   "metadata": {},
   "outputs": [],
   "source": [
    "rfc_gs.fit(X_train_countvect, y_train_up)"
   ]
  },
  {
   "cell_type": "code",
   "execution_count": null,
   "metadata": {},
   "outputs": [],
   "source": [
    "rfc_gs.best_params_"
   ]
  },
  {
   "cell_type": "code",
   "execution_count": null,
   "metadata": {},
   "outputs": [],
   "source": [
    "rfc_gs.best_estimator_"
   ]
  },
  {
   "cell_type": "code",
   "execution_count": null,
   "metadata": {},
   "outputs": [],
   "source": [
    "rfc_gs.score(X_val_countvect, y_val)"
   ]
  },
  {
   "cell_type": "code",
   "execution_count": 22,
   "metadata": {},
   "outputs": [],
   "source": [
    "rfc2 = RandomForestClassifier(bootstrap=True, class_weight='balanced',\n",
    "                       criterion='gini', max_depth=20, max_features='auto',\n",
    "                       max_leaf_nodes=200, min_impurity_decrease=0.0,\n",
    "                       min_impurity_split=None, min_samples_leaf=1,\n",
    "                       min_samples_split=2, min_weight_fraction_leaf=0.0,\n",
    "                       n_estimators=100, n_jobs=None, oob_score=False,\n",
    "                       random_state=10, verbose=0, warm_start=False)"
   ]
  },
  {
   "cell_type": "code",
   "execution_count": 23,
   "metadata": {},
   "outputs": [
    {
     "ename": "NameError",
     "evalue": "name 'X_train_countvect' is not defined",
     "output_type": "error",
     "traceback": [
      "\u001b[0;31m---------------------------------------------------------------------------\u001b[0m",
      "\u001b[0;31mNameError\u001b[0m                                 Traceback (most recent call last)",
      "\u001b[0;32m<ipython-input-23-4066454c3fd3>\u001b[0m in \u001b[0;36m<module>\u001b[0;34m\u001b[0m\n\u001b[0;32m----> 1\u001b[0;31m \u001b[0mrfc2\u001b[0m\u001b[0;34m.\u001b[0m\u001b[0mfit\u001b[0m \u001b[0;34m(\u001b[0m\u001b[0mX_train_countvect\u001b[0m\u001b[0;34m,\u001b[0m \u001b[0my_train_up\u001b[0m\u001b[0;34m)\u001b[0m\u001b[0;34m\u001b[0m\u001b[0;34m\u001b[0m\u001b[0m\n\u001b[0m",
      "\u001b[0;31mNameError\u001b[0m: name 'X_train_countvect' is not defined"
     ]
    }
   ],
   "source": [
    "rfc2.fit (X_train_countvect, y_train_up)"
   ]
  },
  {
   "cell_type": "code",
   "execution_count": null,
   "metadata": {},
   "outputs": [],
   "source": [
    "y_train_predict = rfc2.predict(X_train_countvect)\n",
    "metrics.f1_score(y_train_up, y_train_predict)"
   ]
  },
  {
   "cell_type": "code",
   "execution_count": null,
   "metadata": {},
   "outputs": [],
   "source": [
    "y_val_predict = rfc2.predict(X_val_countvect)"
   ]
  },
  {
   "cell_type": "code",
   "execution_count": null,
   "metadata": {},
   "outputs": [],
   "source": [
    "metrics.f1_score(y_val, y_val_predict)"
   ]
  },
  {
   "cell_type": "code",
   "execution_count": null,
   "metadata": {},
   "outputs": [],
   "source": [
    "compare_vectorization_model(X_train.lemmatized_tweet, y_train, X_val.lemmatized_tweet, y_val, \n",
    "                     RandomForestClassifier(class_weight='balanced'))"
   ]
  },
  {
   "cell_type": "markdown",
   "metadata": {},
   "source": [
    "## Word2Vec"
   ]
  },
  {
   "cell_type": "code",
   "execution_count": null,
   "metadata": {},
   "outputs": [],
   "source": [
    "import gensim\n",
    "# https://radimrehurek.com/gensim/models/word2vec.html"
   ]
  },
  {
   "cell_type": "code",
   "execution_count": null,
   "metadata": {},
   "outputs": [],
   "source": [
    "np.random.seed(0)"
   ]
  },
  {
   "cell_type": "code",
   "execution_count": null,
   "metadata": {},
   "outputs": [],
   "source": [
    "# word2vec = gensim.models.Word2Vec()"
   ]
  },
  {
   "cell_type": "code",
   "execution_count": null,
   "metadata": {},
   "outputs": [],
   "source": [
    "# t = time()\n",
    "\n",
    "# word2vec.build_vocab(df_tokenized_list, progress_per=10000)\n",
    "\n",
    "# print('Time to build vocab: {} mins'.format(round((time() - t) / 60, 2)))"
   ]
  },
  {
   "cell_type": "code",
   "execution_count": null,
   "metadata": {},
   "outputs": [],
   "source": []
  },
  {
   "cell_type": "markdown",
   "metadata": {},
   "source": [
    "# Word to Vec"
   ]
  },
  {
   "cell_type": "markdown",
   "metadata": {},
   "source": [
    "### X-train pre-processing"
   ]
  },
  {
   "cell_type": "code",
   "execution_count": null,
   "metadata": {},
   "outputs": [],
   "source": [
    "X_train.tokenized_tweet.head()"
   ]
  },
  {
   "cell_type": "code",
   "execution_count": null,
   "metadata": {
    "scrolled": true
   },
   "outputs": [],
   "source": [
    "X_train.tokenized_tweet.shape"
   ]
  },
  {
   "cell_type": "code",
   "execution_count": null,
   "metadata": {},
   "outputs": [],
   "source": [
    "X_train_token_list = list(X_train['tokenized_tweet'])\n",
    "X_train_token_sumlist = sum(X_train_token_list,[])"
   ]
  },
  {
   "cell_type": "code",
   "execution_count": null,
   "metadata": {},
   "outputs": [],
   "source": [
    "X_train_unique_tokens = set(X_train_token_sumlist)\n",
    "print('The unique number of words in the training dataset is: {}'.format(len(X_train_unique_tokens)))"
   ]
  },
  {
   "cell_type": "code",
   "execution_count": null,
   "metadata": {},
   "outputs": [],
   "source": [
    "X_train_unique_tokens"
   ]
  },
  {
   "cell_type": "code",
   "execution_count": null,
   "metadata": {},
   "outputs": [],
   "source": [
    "X_train_token_list"
   ]
  },
  {
   "cell_type": "markdown",
   "metadata": {},
   "source": [
    "#### X-val pre-processing"
   ]
  },
  {
   "cell_type": "code",
   "execution_count": null,
   "metadata": {},
   "outputs": [],
   "source": [
    "# X_val_token_list = list(X_val['tokenized_tweet'])\n",
    "# X_val_token_sumlist = sum(X_val_token_list,[])\n",
    "# X_val_unique_tokens = set(X_val_token_sumlist)\n",
    "\n",
    "# print('The unique number of words in the validation dataset is: {}'.format(len(X_val_unique_tokens)))"
   ]
  },
  {
   "cell_type": "markdown",
   "metadata": {},
   "source": [
    "#### X-test pre-processing"
   ]
  },
  {
   "cell_type": "code",
   "execution_count": null,
   "metadata": {},
   "outputs": [],
   "source": [
    "# X_test_token_list = list(X_test['tokenized_tweet'])\n",
    "# X_test_token_sumlist = sum(X_test_token_list,[])\n",
    "\n",
    "# X_test_unique_tokens = set(X_test_token_sumlist)\n",
    "# print('The unique number of words in the training dataset is: {}'.format(len(X_test_unique_tokens)))"
   ]
  },
  {
   "cell_type": "markdown",
   "metadata": {},
   "source": [
    "### Modeling"
   ]
  },
  {
   "cell_type": "code",
   "execution_count": null,
   "metadata": {},
   "outputs": [],
   "source": [
    "from time import time\n",
    "t = time()\n",
    "\n",
    "w2v = gensim.models.Word2Vec(X_train_token_list, sg=1, min_count=1)\n",
    "\n",
    "print('Time to train the model: {} mins'.format(round((time() - t) / 60, 2)))"
   ]
  },
  {
   "cell_type": "code",
   "execution_count": null,
   "metadata": {},
   "outputs": [],
   "source": [
    "w2v.train(X_train_token_list, total_examples=w2v.corpus_count, epochs=w2v.epochs)"
   ]
  },
  {
   "cell_type": "code",
   "execution_count": null,
   "metadata": {},
   "outputs": [],
   "source": [
    "#w2v.save('w2v-min1.model')\n",
    "# w2v = gensim.models.Word2Vec.load('w2v-min1.model')"
   ]
  },
  {
   "cell_type": "code",
   "execution_count": null,
   "metadata": {
    "scrolled": false
   },
   "outputs": [],
   "source": [
    "w2v.corpus_count"
   ]
  },
  {
   "cell_type": "code",
   "execution_count": null,
   "metadata": {},
   "outputs": [],
   "source": [
    "w2v_vocab= w2v.wv.vocab"
   ]
  },
  {
   "cell_type": "code",
   "execution_count": null,
   "metadata": {},
   "outputs": [],
   "source": [
    "len(w2v_vocab)"
   ]
  },
  {
   "cell_type": "code",
   "execution_count": null,
   "metadata": {},
   "outputs": [],
   "source": [
    "w2v.wv.vectors.shape"
   ]
  },
  {
   "cell_type": "code",
   "execution_count": null,
   "metadata": {},
   "outputs": [],
   "source": [
    "w2v.wv['trump']"
   ]
  },
  {
   "cell_type": "code",
   "execution_count": null,
   "metadata": {},
   "outputs": [],
   "source": [
    "w2v.wv.most_similar(['trump'])"
   ]
  },
  {
   "cell_type": "code",
   "execution_count": null,
   "metadata": {},
   "outputs": [],
   "source": [
    "w2v.wv.most_similar(positive=['lazy','black'])"
   ]
  },
  {
   "cell_type": "code",
   "execution_count": null,
   "metadata": {},
   "outputs": [],
   "source": [
    "w2v.wv"
   ]
  },
  {
   "cell_type": "code",
   "execution_count": null,
   "metadata": {},
   "outputs": [],
   "source": [
    "w2v.wv.get_keras_embedding"
   ]
  },
  {
   "cell_type": "code",
   "execution_count": null,
   "metadata": {},
   "outputs": [],
   "source": [
    "w2v_X = w2v.wv.vectors"
   ]
  },
  {
   "cell_type": "markdown",
   "metadata": {},
   "source": [
    "#### Classification with Word2Vec"
   ]
  },
  {
   "cell_type": "code",
   "execution_count": null,
   "metadata": {},
   "outputs": [],
   "source": [
    "np.mean([self.w2v[w] for w in words if w in self.w2v]\n",
    "                   or [np.zeros(self.dimensions)], axis=0) for words in X])"
   ]
  },
  {
   "cell_type": "code",
   "execution_count": null,
   "metadata": {},
   "outputs": [],
   "source": [
    "sentence = df_tokenized_list[1]\n",
    "sentence"
   ]
  },
  {
   "cell_type": "code",
   "execution_count": null,
   "metadata": {},
   "outputs": [],
   "source": [
    "np.mean([w2v[w] for w in sentence if w in w2v]\n",
    "                   or [np.zeros(100)], axis=0)"
   ]
  },
  {
   "cell_type": "code",
   "execution_count": null,
   "metadata": {},
   "outputs": [],
   "source": [
    " np.mean([w2v[w] for w in sentence if w in w2v]  or np.zeros(100)"
   ]
  },
  {
   "cell_type": "code",
   "execution_count": null,
   "metadata": {},
   "outputs": [],
   "source": [
    "input_to_lr = np.empty((31410, 100))\n",
    "for sentence in X_train_token_list:\n",
    "    np.append(input_to_lr, np.mean([w2v[w] for w in sentence if w in w2v]\n",
    "                   or [np.zeros(100)], axis=0))\n",
    "# np.mean([w2v[w] for w in sentence if w in w2v], axis=0)"
   ]
  },
  {
   "cell_type": "code",
   "execution_count": null,
   "metadata": {},
   "outputs": [],
   "source": [
    "input_to_lr[0]"
   ]
  },
  {
   "cell_type": "code",
   "execution_count": null,
   "metadata": {},
   "outputs": [],
   "source": [
    "input_to_lr[0].shape"
   ]
  },
  {
   "cell_type": "code",
   "execution_count": null,
   "metadata": {},
   "outputs": [],
   "source": [
    "X_temp = input_to_lr"
   ]
  },
  {
   "cell_type": "code",
   "execution_count": null,
   "metadata": {},
   "outputs": [],
   "source": [
    "X_temp_df = pd.DataFrame(X_temp)"
   ]
  },
  {
   "cell_type": "code",
   "execution_count": null,
   "metadata": {},
   "outputs": [],
   "source": [
    "a.fit(X_train_temp, y)\n",
    "a.score(X_train_temp, y)\n",
    "c = a.predict(X_train_temp)\n",
    "# print scores  \n",
    "print('Train Accuracy: ' + str(round(metrics.f1_score(y, c),2)))"
   ]
  },
  {
   "cell_type": "markdown",
   "metadata": {},
   "source": [
    "## NN"
   ]
  },
  {
   "cell_type": "code",
   "execution_count": null,
   "metadata": {},
   "outputs": [],
   "source": []
  },
  {
   "cell_type": "markdown",
   "metadata": {},
   "source": [
    "## RNN "
   ]
  },
  {
   "cell_type": "code",
   "execution_count": null,
   "metadata": {},
   "outputs": [],
   "source": [
    "from numpy import array\n",
    "from keras.preprocessing.text import one_hot\n",
    "from keras.preprocessing.sequence import pad_sequences\n",
    "from keras.models import Sequential\n",
    "from keras.layers import Dense\n",
    "from keras.layers import Flatten\n",
    "from keras.layers.embeddings import Embedding"
   ]
  },
  {
   "cell_type": "code",
   "execution_count": null,
   "metadata": {},
   "outputs": [],
   "source": [
    "X_train_sample, X_train_remainder, y_train_sample, y_train_remainder = train_test_split(X_train, y_train, test_size=0.99, random_state=123)"
   ]
  },
  {
   "cell_type": "code",
   "execution_count": null,
   "metadata": {},
   "outputs": [],
   "source": [
    "X_train_sample.shape"
   ]
  },
  {
   "cell_type": "code",
   "execution_count": null,
   "metadata": {},
   "outputs": [],
   "source": [
    "X_RNN_sample= X_train_sample['tokenized_tweet']"
   ]
  },
  {
   "cell_type": "code",
   "execution_count": null,
   "metadata": {},
   "outputs": [],
   "source": [
    "X_RNN_sample"
   ]
  },
  {
   "cell_type": "code",
   "execution_count": null,
   "metadata": {},
   "outputs": [],
   "source": [
    "y_RNN_sample=y_train_sample\n",
    "y_RNN_sample.shape"
   ]
  },
  {
   "cell_type": "code",
   "execution_count": null,
   "metadata": {},
   "outputs": [],
   "source": [
    "# define documents\n",
    "docs = X_RNN_sample\n",
    "# define class labels\n",
    "labels = y_RNN_sample"
   ]
  },
  {
   "cell_type": "code",
   "execution_count": null,
   "metadata": {},
   "outputs": [],
   "source": [
    "# integer encode the documents\n",
    "vocab_size = 100\n",
    "encoded_docs = [one_hot(d, vocab_size) for d in docs]\n",
    "print(encoded_docs)"
   ]
  },
  {
   "cell_type": "code",
   "execution_count": null,
   "metadata": {},
   "outputs": [],
   "source": []
  },
  {
   "cell_type": "code",
   "execution_count": null,
   "metadata": {},
   "outputs": [],
   "source": []
  },
  {
   "cell_type": "code",
   "execution_count": null,
   "metadata": {},
   "outputs": [],
   "source": []
  },
  {
   "cell_type": "code",
   "execution_count": null,
   "metadata": {},
   "outputs": [],
   "source": []
  },
  {
   "cell_type": "markdown",
   "metadata": {},
   "source": [
    "## Word2Vec Visualization"
   ]
  },
  {
   "cell_type": "code",
   "execution_count": null,
   "metadata": {},
   "outputs": [],
   "source": [
    "# model = gensim.models.Word2Vec(df_tokenized_list, size=dimsize, window=5, min_count=50, workers=4)"
   ]
  },
  {
   "cell_type": "code",
   "execution_count": null,
   "metadata": {},
   "outputs": [],
   "source": [
    "# tsne_plot(w2v_model)"
   ]
  },
  {
   "cell_type": "markdown",
   "metadata": {},
   "source": [
    "### Extra"
   ]
  },
  {
   "cell_type": "code",
   "execution_count": null,
   "metadata": {},
   "outputs": [],
   "source": [
    "%run custom_functions.ipynb"
   ]
  },
  {
   "cell_type": "code",
   "execution_count": null,
   "metadata": {},
   "outputs": [],
   "source": [
    "#size of hidden layer (length of continuous word representation)\n",
    "dimsize= 100\n",
    "\n",
    "# model_w2v = gensim.models.Word2Vec(X_train_token_list, size= dimsize, window=5, min_count=1, workers=4)\n",
    "model_w2v = gensim.models.Word2Vec(X_train_token_list, size= dimsize,min_count=1)\n",
    "\n",
    "\n",
    "\n",
    "#create average vector for train and test from model\n",
    "#returned list of numpy arrays are then stacked \n",
    "X_train_w2v = np.concatenate([avg_word_vectors(w, dimsize, model_w2v) for w in X_train_token_list])\n",
    "X_val_w2v = np.concatenate([avg_word_vectors(w,dimsize, model_w2v) for w in X_val_token_list])"
   ]
  },
  {
   "cell_type": "code",
   "execution_count": null,
   "metadata": {},
   "outputs": [],
   "source": [
    "X_train_w2v[0]"
   ]
  },
  {
   "cell_type": "code",
   "execution_count": null,
   "metadata": {},
   "outputs": [],
   "source": [
    "X_val_w2v[0]"
   ]
  },
  {
   "cell_type": "code",
   "execution_count": null,
   "metadata": {},
   "outputs": [],
   "source": [
    "X_train_token_list.shape"
   ]
  },
  {
   "cell_type": "code",
   "execution_count": null,
   "metadata": {},
   "outputs": [],
   "source": [
    "input_to_lr = np.empty((31410, 100))\n",
    "for sentence in X_train_token_list:\n",
    "    np.append(input_to_lr, np.mean([model_w2v[w] for w in sentence if w in model_w2v]\n",
    "                   or [np.zeros(100)], axis=0))"
   ]
  },
  {
   "cell_type": "code",
   "execution_count": null,
   "metadata": {},
   "outputs": [],
   "source": [
    "input_to_lr[0]"
   ]
  },
  {
   "cell_type": "code",
   "execution_count": null,
   "metadata": {},
   "outputs": [],
   "source": [
    "def smote_w2v_model (X_train_w2v, y_train, X_val_w2v, y_val, classifier):\n",
    "        \n",
    "    smote = SMOTE(random_state=1, sampling_strategy='not majority')\n",
    "        \n",
    "    pipe = make_pipeline(smote, classifier) \n",
    "    \n",
    "    model = pipe.fit(X_train_w2v, y_train)\n",
    "    \n",
    "    train_predictions = model.predict(X_train_w2v)\n",
    "    val_predictions = model.predict (X_val_w2v)\n",
    "    \n",
    "   # print scores  \n",
    "    print('Train Accuracy: ' + str(round(metrics.accuracy_score(y_train, train_predictions),2)))\n",
    "    print('Train Precision: ' + str(round(metrics.precision_score(y_train, train_predictions),2)))\n",
    "    print('Train Recall: ' + str(round(metrics.recall_score(y_train, train_predictions),2)))\n",
    "    print('Train F1: ' + str(round(metrics.f1_score(y_train, train_predictions),2)))\n",
    "    print('\\n')\n",
    "    print('Validation Accuracy: ' + str(round(metrics.accuracy_score(y_val, val_predictions),2)))\n",
    "    print('Validation Precision: ' + str(round(metrics.precision_score(y_val, val_predictions),2)))\n",
    "    print('Validation Recall: ' + str(round(metrics.recall_score(y_val, val_predictions),2)))\n",
    "    print('Validation F1: ' + str(round(metrics.f1_score(y_val, val_predictions),2)))\n",
    "\n",
    "    log_confusion_test = pd.crosstab(y_val, val_predictions, rownames=['Actual'], colnames=['Predicted'], margins=True)\n",
    "    \n",
    "    return log_confusion_test"
   ]
  },
  {
   "cell_type": "code",
   "execution_count": null,
   "metadata": {},
   "outputs": [],
   "source": [
    "smote_w2v_model(X_train_w2v, y_train, X_val_w2v, y_val, LogisticRegression(solver='lbfgs'))"
   ]
  },
  {
   "cell_type": "code",
   "execution_count": null,
   "metadata": {},
   "outputs": [],
   "source": [
    "smote_w2v_model(X_train_w2v, y_train, X_val_w2v, y_val, RandomForestClassifier(n_estimators=100, max_depth= 20))"
   ]
  },
  {
   "cell_type": "code",
   "execution_count": null,
   "metadata": {},
   "outputs": [],
   "source": [
    "def pca_smote_w2v_model (X_train_w2v, y_train, X_val_w2v, y_val, classifier):\n",
    "    \n",
    "    pca = decomposition.PCA(n_components=50)\n",
    "    \n",
    "    smote = SMOTE(random_state=1, sampling_strategy='not majority')\n",
    "        \n",
    "    pipe = make_pipeline(pca, smote, classifier) \n",
    "    \n",
    "    model = pipe.fit(X_train_w2v, y_train)\n",
    "    \n",
    "    train_predictions = model.predict(X_train_w2v)\n",
    "    val_predictions = model.predict (X_val_w2v)\n",
    "    \n",
    "   # print scores  \n",
    "    print('Train Accuracy: ' + str(round(metrics.accuracy_score(y_train, train_predictions),2)))\n",
    "    print('Train Precision: ' + str(round(metrics.precision_score(y_train, train_predictions),2)))\n",
    "    print('Train Recall: ' + str(round(metrics.recall_score(y_train, train_predictions),2)))\n",
    "    print('Train F1: ' + str(round(metrics.f1_score(y_train, train_predictions),2)))\n",
    "    print('\\n')\n",
    "    print('Validation Accuracy: ' + str(round(metrics.accuracy_score(y_val, val_predictions),2)))\n",
    "    print('Validation Precision: ' + str(round(metrics.precision_score(y_val, val_predictions),2)))\n",
    "    print('Validation Recall: ' + str(round(metrics.recall_score(y_val, val_predictions),2)))\n",
    "    print('Validation F1: ' + str(round(metrics.f1_score(y_val, val_predictions),2)))\n",
    "\n",
    "    log_confusion_test = pd.crosstab(y_val, val_predictions, rownames=['Actual'], colnames=['Predicted'], margins=True)\n",
    "    \n",
    "    return log_confusion_test"
   ]
  },
  {
   "cell_type": "code",
   "execution_count": null,
   "metadata": {},
   "outputs": [],
   "source": [
    "pca_smote_w2v_model(X_train_w2v, y_train, X_val_w2v, y_val, LogisticRegression(solver='lbfgs'))"
   ]
  },
  {
   "cell_type": "code",
   "execution_count": null,
   "metadata": {},
   "outputs": [],
   "source": [
    "pca_smote_w2v_model(X_train_w2v, y_train, X_val_w2v, y_val, RandomForestClassifier(n_estimators=100, max_depth=20))"
   ]
  },
  {
   "cell_type": "markdown",
   "metadata": {},
   "source": [
    "## Glove Embeddings"
   ]
  },
  {
   "cell_type": "code",
   "execution_count": null,
   "metadata": {},
   "outputs": [],
   "source": [
    "# !pip install glove_python"
   ]
  },
  {
   "cell_type": "code",
   "execution_count": null,
   "metadata": {},
   "outputs": [],
   "source": [
    "# ! pip install glove"
   ]
  },
  {
   "cell_type": "code",
   "execution_count": null,
   "metadata": {},
   "outputs": [],
   "source": [
    "# ! pip install glovepy"
   ]
  },
  {
   "cell_type": "code",
   "execution_count": null,
   "metadata": {},
   "outputs": [],
   "source": [
    "from gensim.models import KeyedVectors\n",
    "filename = 'glove.twitter.27B.100d.txt'"
   ]
  },
  {
   "cell_type": "code",
   "execution_count": null,
   "metadata": {},
   "outputs": [],
   "source": [
    "from gensim.scripts.glove2word2vec import glove2word2vec\n",
    "\n",
    "glove_input_file = 'glove.twitter.27B.100d.txt'\n",
    "glove_output_file = 'glove.txt.word2vec'\n",
    "glove2word2vec(glove_input_file, glove_output_file)"
   ]
  },
  {
   "cell_type": "code",
   "execution_count": null,
   "metadata": {},
   "outputs": [],
   "source": [
    "glove_model = KeyedVectors.load_word2vec_format('glove.txt.word2vec', binary=False)"
   ]
  },
  {
   "cell_type": "code",
   "execution_count": null,
   "metadata": {},
   "outputs": [],
   "source": [
    "glove_model.most_similar('love')"
   ]
  },
  {
   "cell_type": "code",
   "execution_count": null,
   "metadata": {},
   "outputs": [],
   "source": [
    "glove_model['love']"
   ]
  },
  {
   "cell_type": "code",
   "execution_count": null,
   "metadata": {},
   "outputs": [],
   "source": [
    "len(glove_model.vocab)"
   ]
  },
  {
   "cell_type": "code",
   "execution_count": null,
   "metadata": {},
   "outputs": [],
   "source": [
    "X_train_glove = np.concatenate([avg_word_vectors(w, dimsize, glove_model) for w in X_train_token_list])\n",
    "X_val_glove = np.concatenate([avg_word_vectors(w, dimsize, glove_model) for w in X_val_token_list])"
   ]
  },
  {
   "cell_type": "code",
   "execution_count": null,
   "metadata": {},
   "outputs": [],
   "source": [
    "X_train_glove[255]"
   ]
  },
  {
   "cell_type": "code",
   "execution_count": null,
   "metadata": {},
   "outputs": [],
   "source": [
    "X_train_glove_2 = np.empty((31410, 100))\n",
    "for sentence in X_train_token_list:\n",
    "    np.append(input_to_lr, np.mean([glove_model[w] for w in sentence if w in glove_model]\n",
    "                   or [np.zeros(100)], axis=0))"
   ]
  },
  {
   "cell_type": "code",
   "execution_count": null,
   "metadata": {},
   "outputs": [],
   "source": [
    "X_train_glove_2[225]"
   ]
  },
  {
   "cell_type": "code",
   "execution_count": null,
   "metadata": {},
   "outputs": [],
   "source": [
    "X_train_glove.shape"
   ]
  },
  {
   "cell_type": "code",
   "execution_count": null,
   "metadata": {},
   "outputs": [],
   "source": [
    "X_train.shape"
   ]
  },
  {
   "cell_type": "markdown",
   "metadata": {},
   "source": [
    "####  Learnco "
   ]
  },
  {
   "cell_type": "code",
   "execution_count": null,
   "metadata": {},
   "outputs": [],
   "source": [
    "glove_dict = {}\n",
    "with open('glove.twitter.27B.100d.txt', 'rb') as f:\n",
    "    for line in f:\n",
    "        parts = line.split()\n",
    "        word = parts[0].decode('utf-8')\n",
    "        if word in X_train_unique_tokens:\n",
    "            vector = np.array(parts[1:], dtype=np.float32)\n",
    "            glove_dict[word] = vector"
   ]
  },
  {
   "cell_type": "code",
   "execution_count": null,
   "metadata": {},
   "outputs": [],
   "source": [
    "glove_dict['love']"
   ]
  },
  {
   "cell_type": "code",
   "execution_count": null,
   "metadata": {
    "scrolled": true
   },
   "outputs": [],
   "source": [
    "input_to_lr = np.empty((31410, 100))\n",
    "for sentence in X_train_token_list:\n",
    "    np.append(input_to_lr, np.mean([w2v[w] for w in sentence if w in w2v]\n",
    "                   or [np.zeros(100)], axis=0))"
   ]
  },
  {
   "cell_type": "code",
   "execution_count": null,
   "metadata": {},
   "outputs": [],
   "source": [
    "input_to_lr['love']"
   ]
  },
  {
   "cell_type": "code",
   "execution_count": null,
   "metadata": {},
   "outputs": [],
   "source": []
  },
  {
   "cell_type": "markdown",
   "metadata": {},
   "source": [
    "## Classification with Word Embeddings"
   ]
  },
  {
   "cell_type": "code",
   "execution_count": null,
   "metadata": {},
   "outputs": [],
   "source": [
    "pca_smote_w2v_model(X_train_glove, y_train, X_val_glove, y_val, RandomForestClassifier(n_estimators=100, max_depth=10))"
   ]
  },
  {
   "cell_type": "code",
   "execution_count": null,
   "metadata": {},
   "outputs": [],
   "source": [
    "def smote_w2v_model (X_train_w2v, y_train, X_val_w2v, y_val, classifier):\n",
    "        \n",
    "    smote = SMOTE(random_state=1, sampling_strategy='not majority')\n",
    "        \n",
    "    pipe = make_pipeline(smote, classifier) \n",
    "    \n",
    "    model = pipe.fit(X_train_w2v, y_train)\n",
    "    \n",
    "    train_predictions = model.predict(X_train_w2v)\n",
    "    val_predictions = model.predict (X_val_w2v)\n",
    "    \n",
    "   # print scores  \n",
    "    print('Train Accuracy: ' + str(round(metrics.accuracy_score(y_train, train_predictions),2)))\n",
    "    print('Train Precision: ' + str(round(metrics.precision_score(y_train, train_predictions),2)))\n",
    "    print('Train Recall: ' + str(round(metrics.recall_score(y_train, train_predictions),2)))\n",
    "    print('Train F1: ' + str(round(metrics.f1_score(y_train, train_predictions),2)))\n",
    "    print('\\n')\n",
    "    print('Validation Accuracy: ' + str(round(metrics.accuracy_score(y_val, val_predictions),2)))\n",
    "    print('Validation Precision: ' + str(round(metrics.precision_score(y_val, val_predictions),2)))\n",
    "    print('Validation Recall: ' + str(round(metrics.recall_score(y_val, val_predictions),2)))\n",
    "    print('Validation F1: ' + str(round(metrics.f1_score(y_val, val_predictions),2)))\n",
    "\n",
    "    log_confusion_test = pd.crosstab(y_val, val_predictions, rownames=['Actual'], colnames=['Predicted'], margins=True)\n",
    "    \n",
    "    return log_confusion_test"
   ]
  },
  {
   "cell_type": "code",
   "execution_count": null,
   "metadata": {},
   "outputs": [],
   "source": [
    "smote_w2v_model (X_train_glove, y_train, X_val_glove, y_val, RandomForestClassifier(max_depth=10))"
   ]
  },
  {
   "cell_type": "code",
   "execution_count": null,
   "metadata": {},
   "outputs": [],
   "source": [
    "smote_w2v_model (X_train_glove, y_train, X_val_glove, y_val, RandomForestClassifier(max_depth=10))"
   ]
  },
  {
   "cell_type": "code",
   "execution_count": null,
   "metadata": {},
   "outputs": [],
   "source": [
    "smote_w2v_model (X_train_glove, y_train, X_val_glove, y_val, LogisticRegression(penalty ='l1', C = 10,\n",
    "                                                                            class_weight='balanced'))"
   ]
  },
  {
   "cell_type": "code",
   "execution_count": null,
   "metadata": {},
   "outputs": [],
   "source": [
    "smote_w2v_model (X_train_glove, y_train, X_val_glove, y_val, LogisticRegression(penalty ='l1', C = .001,\n",
    "                                                                            class_weight='balanced'))"
   ]
  },
  {
   "cell_type": "code",
   "execution_count": null,
   "metadata": {},
   "outputs": [],
   "source": [
    "smote_w2v_model (X_train_glove, y_train, X_val_glove, y_val, LogisticRegression(penalty ='l1', class_weight='balanced'))"
   ]
  },
  {
   "cell_type": "code",
   "execution_count": null,
   "metadata": {},
   "outputs": [],
   "source": [
    "smote_w2v_model (X_train_glove, y_train, X_val_glove, y_val, \n",
    "                 LogisticRegression(penalty ='l2', C = 5, class_weight ={0: 5 , 1: 5}))"
   ]
  },
  {
   "cell_type": "code",
   "execution_count": null,
   "metadata": {},
   "outputs": [],
   "source": [
    "smote_w2v_model (X_train_glove, y_train, X_val_glove, y_val, \n",
    "                 LogisticRegression(penalty ='l2', C = .1, class_weight ={0: 5 , 1: 5}))"
   ]
  },
  {
   "cell_type": "markdown",
   "metadata": {},
   "source": [
    "# Testing Trump Tweets"
   ]
  },
  {
   "cell_type": "code",
   "execution_count": 40,
   "metadata": {
    "scrolled": false
   },
   "outputs": [
    {
     "data": {
      "text/html": [
       "<div>\n",
       "<style scoped>\n",
       "    .dataframe tbody tr th:only-of-type {\n",
       "        vertical-align: middle;\n",
       "    }\n",
       "\n",
       "    .dataframe tbody tr th {\n",
       "        vertical-align: top;\n",
       "    }\n",
       "\n",
       "    .dataframe thead th {\n",
       "        text-align: right;\n",
       "    }\n",
       "</style>\n",
       "<table border=\"1\" class=\"dataframe\">\n",
       "  <thead>\n",
       "    <tr style=\"text-align: right;\">\n",
       "      <th></th>\n",
       "      <th>Unnamed: 0</th>\n",
       "      <th>tweet</th>\n",
       "      <th>tidy_tweet</th>\n",
       "      <th>no_hash_tweet</th>\n",
       "      <th>tokenized_tweet</th>\n",
       "      <th>stemmed_tokens</th>\n",
       "      <th>lemmatized_tokens</th>\n",
       "      <th>lem_tweet</th>\n",
       "      <th>stem_tweet</th>\n",
       "    </tr>\n",
       "  </thead>\n",
       "  <tbody>\n",
       "    <tr>\n",
       "      <th>0</th>\n",
       "      <td>0</td>\n",
       "      <td>So Robert Mueller has now asked for his long t...</td>\n",
       "      <td>Robert Mueller asked long time Never Trumper l...</td>\n",
       "      <td>Robert Mueller asked long time Never Trumper l...</td>\n",
       "      <td>['Robert', 'Mueller', 'asked', 'long', 'time',...</td>\n",
       "      <td>['robert', 'mueller', 'ask', 'long', 'time', '...</td>\n",
       "      <td>['Robert', 'Mueller', 'asked', 'long', 'time',...</td>\n",
       "      <td>Robert Mueller asked long time Never Trumper l...</td>\n",
       "      <td>robert mueller asked long time never trumper l...</td>\n",
       "    </tr>\n",
       "    <tr>\n",
       "      <th>1</th>\n",
       "      <td>1</td>\n",
       "      <td>The young leaders here today (@TPUSA) are part...</td>\n",
       "      <td>young leaders here today part movement unlike ...</td>\n",
       "      <td>young leaders here today part movement unlike ...</td>\n",
       "      <td>['young', 'leaders', 'here', 'today', 'part', ...</td>\n",
       "      <td>['young', 'leader', 'here', 'today', 'part', '...</td>\n",
       "      <td>['young', 'leader', 'here', 'today', 'part', '...</td>\n",
       "      <td>young leaders here today part movement unlike ...</td>\n",
       "      <td>young leaders here today part movement unlike ...</td>\n",
       "    </tr>\n",
       "    <tr>\n",
       "      <th>2</th>\n",
       "      <td>2</td>\n",
       "      <td>Congratulations to our new Secretary of Defens...</td>\n",
       "      <td>Congratulations Secretary Defense Mark twitter</td>\n",
       "      <td>Congratulations Secretary Defense Mark twitter</td>\n",
       "      <td>['Congratulations', 'Secretary', 'Defense', 'M...</td>\n",
       "      <td>['congratul', 'secretari', 'defens', 'mark', '...</td>\n",
       "      <td>['Congratulations', 'Secretary', 'Defense', 'M...</td>\n",
       "      <td>Congratulations Secretary Defense Mark twitter</td>\n",
       "      <td>congratulations secretary defense mark twitt</td>\n",
       "    </tr>\n",
       "    <tr>\n",
       "      <th>3</th>\n",
       "      <td>3</td>\n",
       "      <td>Oh well, we still have the great @seanhannity ...</td>\n",
       "      <td>well still have great hear really strong show ...</td>\n",
       "      <td>well still have great hear really strong show ...</td>\n",
       "      <td>['well', 'still', 'have', 'great', 'hear', 're...</td>\n",
       "      <td>['well', 'still', 'have', 'great', 'hear', 're...</td>\n",
       "      <td>['well', 'still', 'have', 'great', 'hear', 're...</td>\n",
       "      <td>well still have great hear really strong show ...</td>\n",
       "      <td>well still have great hear really strong show ...</td>\n",
       "    </tr>\n",
       "    <tr>\n",
       "      <th>4</th>\n",
       "      <td>4</td>\n",
       "      <td>THANK YOU @TPUSA! #MAGApic.twitter.com/1eqR2Im8dQ</td>\n",
       "      <td>THANK #MAGApic twitter</td>\n",
       "      <td>THANK MAGApic twitter</td>\n",
       "      <td>['THANK', 'MAGApic', 'twitter']</td>\n",
       "      <td>['thank', 'magap', 'twitter']</td>\n",
       "      <td>['THANK', 'MAGApic', 'twitter']</td>\n",
       "      <td>THANK MAGApic twitter</td>\n",
       "      <td>thank magapic twitt</td>\n",
       "    </tr>\n",
       "  </tbody>\n",
       "</table>\n",
       "</div>"
      ],
      "text/plain": [
       "   Unnamed: 0                                              tweet  \\\n",
       "0           0  So Robert Mueller has now asked for his long t...   \n",
       "1           1  The young leaders here today (@TPUSA) are part...   \n",
       "2           2  Congratulations to our new Secretary of Defens...   \n",
       "3           3  Oh well, we still have the great @seanhannity ...   \n",
       "4           4  THANK YOU @TPUSA! #MAGApic.twitter.com/1eqR2Im8dQ   \n",
       "\n",
       "                                          tidy_tweet  \\\n",
       "0  Robert Mueller asked long time Never Trumper l...   \n",
       "1  young leaders here today part movement unlike ...   \n",
       "2     Congratulations Secretary Defense Mark twitter   \n",
       "3  well still have great hear really strong show ...   \n",
       "4                             THANK #MAGApic twitter   \n",
       "\n",
       "                                       no_hash_tweet  \\\n",
       "0  Robert Mueller asked long time Never Trumper l...   \n",
       "1  young leaders here today part movement unlike ...   \n",
       "2     Congratulations Secretary Defense Mark twitter   \n",
       "3  well still have great hear really strong show ...   \n",
       "4                              THANK MAGApic twitter   \n",
       "\n",
       "                                     tokenized_tweet  \\\n",
       "0  ['Robert', 'Mueller', 'asked', 'long', 'time',...   \n",
       "1  ['young', 'leaders', 'here', 'today', 'part', ...   \n",
       "2  ['Congratulations', 'Secretary', 'Defense', 'M...   \n",
       "3  ['well', 'still', 'have', 'great', 'hear', 're...   \n",
       "4                    ['THANK', 'MAGApic', 'twitter']   \n",
       "\n",
       "                                      stemmed_tokens  \\\n",
       "0  ['robert', 'mueller', 'ask', 'long', 'time', '...   \n",
       "1  ['young', 'leader', 'here', 'today', 'part', '...   \n",
       "2  ['congratul', 'secretari', 'defens', 'mark', '...   \n",
       "3  ['well', 'still', 'have', 'great', 'hear', 're...   \n",
       "4                      ['thank', 'magap', 'twitter']   \n",
       "\n",
       "                                   lemmatized_tokens  \\\n",
       "0  ['Robert', 'Mueller', 'asked', 'long', 'time',...   \n",
       "1  ['young', 'leader', 'here', 'today', 'part', '...   \n",
       "2  ['Congratulations', 'Secretary', 'Defense', 'M...   \n",
       "3  ['well', 'still', 'have', 'great', 'hear', 're...   \n",
       "4                    ['THANK', 'MAGApic', 'twitter']   \n",
       "\n",
       "                                           lem_tweet  \\\n",
       "0  Robert Mueller asked long time Never Trumper l...   \n",
       "1  young leaders here today part movement unlike ...   \n",
       "2     Congratulations Secretary Defense Mark twitter   \n",
       "3  well still have great hear really strong show ...   \n",
       "4                              THANK MAGApic twitter   \n",
       "\n",
       "                                          stem_tweet  \n",
       "0  robert mueller asked long time never trumper l...  \n",
       "1  young leaders here today part movement unlike ...  \n",
       "2       congratulations secretary defense mark twitt  \n",
       "3  well still have great hear really strong show ...  \n",
       "4                                thank magapic twitt  "
      ]
     },
     "execution_count": 40,
     "metadata": {},
     "output_type": "execute_result"
    }
   ],
   "source": [
    "trump_df= pd.read_csv('data/cleaned-trump-tweet.csv')\n",
    "trump_df.head()"
   ]
  },
  {
   "cell_type": "code",
   "execution_count": 49,
   "metadata": {},
   "outputs": [
    {
     "data": {
      "text/plain": [
       "0     robert mueller asked long time never trumper l...\n",
       "1     young leaders here today part movement unlike ...\n",
       "2          congratulations secretary defense mark twitt\n",
       "3     well still have great hear really strong show ...\n",
       "4                                   thank magapic twitt\n",
       "5     just watched eric swalwell asked endless softb...\n",
       "6     just back only hear last minute change allowin...\n",
       "7     budget deal gives great victories military vet...\n",
       "8     know over many years chairman police athletic ...\n",
       "9     saddened learn recent passing morgenthau truly...\n",
       "10    leaving turning point will speaking some great...\n",
       "11    when wall southern border that crumbling falli...\n",
       "12    almost minnesota because america hating anti s...\n",
       "13    tariffs remittance fees above guatemala been g...\n",
       "14    guatemala which been forming caravans sending ...\n",
       "15    farmers starting great again after years downw...\n",
       "16                                   keep america great\n",
       "17    congratulations boris johnson becoming prime m...\n",
       "18    best newest military almost totally rebuilt fr...\n",
       "19    newest poll only favor starting ridiculous imp...\n",
       "Name: stem_tweet, dtype: object"
      ]
     },
     "execution_count": 49,
     "metadata": {},
     "output_type": "execute_result"
    }
   ],
   "source": [
    "trump_df.stem_tweet"
   ]
  },
  {
   "cell_type": "code",
   "execution_count": 32,
   "metadata": {},
   "outputs": [],
   "source": [
    "X_train_countvect =  count_vect.fit_transform(X_train_up.lem_tweet)"
   ]
  },
  {
   "cell_type": "code",
   "execution_count": 33,
   "metadata": {},
   "outputs": [
    {
     "data": {
      "text/plain": [
       "LogisticRegression(C=1.0, class_weight=None, dual=False, fit_intercept=True,\n",
       "                   intercept_scaling=1, l1_ratio=None, max_iter=100,\n",
       "                   multi_class='warn', n_jobs=None, penalty='l2',\n",
       "                   random_state=None, solver='warn', tol=0.0001, verbose=0,\n",
       "                   warm_start=False)"
      ]
     },
     "execution_count": 33,
     "metadata": {},
     "output_type": "execute_result"
    }
   ],
   "source": [
    "logreg.fit(X_train_countvect, y_train_up)"
   ]
  },
  {
   "cell_type": "code",
   "execution_count": 53,
   "metadata": {},
   "outputs": [],
   "source": [
    "X_trump = count_vect.transform(trump_df.lem_tweet)"
   ]
  },
  {
   "cell_type": "code",
   "execution_count": 54,
   "metadata": {},
   "outputs": [],
   "source": [
    "X_trump = X_trump.toarray()"
   ]
  },
  {
   "cell_type": "code",
   "execution_count": 52,
   "metadata": {},
   "outputs": [
    {
     "data": {
      "text/plain": [
       "(20, 283)"
      ]
     },
     "execution_count": 52,
     "metadata": {},
     "output_type": "execute_result"
    }
   ],
   "source": [
    "X_trump.shape"
   ]
  },
  {
   "cell_type": "code",
   "execution_count": 45,
   "metadata": {},
   "outputs": [
    {
     "data": {
      "text/plain": [
       "(37982, 9)"
      ]
     },
     "execution_count": 45,
     "metadata": {},
     "output_type": "execute_result"
    }
   ],
   "source": [
    "X_train_up.shape"
   ]
  },
  {
   "cell_type": "code",
   "execution_count": 46,
   "metadata": {},
   "outputs": [
    {
     "data": {
      "text/plain": [
       "(20455, 9)"
      ]
     },
     "execution_count": 46,
     "metadata": {},
     "output_type": "execute_result"
    }
   ],
   "source": [
    "X_train.shape"
   ]
  },
  {
   "cell_type": "code",
   "execution_count": null,
   "metadata": {},
   "outputs": [],
   "source": []
  }
 ],
 "metadata": {
  "kernelspec": {
   "display_name": "Python 3",
   "language": "python",
   "name": "python3"
  },
  "language_info": {
   "codemirror_mode": {
    "name": "ipython",
    "version": 3
   },
   "file_extension": ".py",
   "mimetype": "text/x-python",
   "name": "python",
   "nbconvert_exporter": "python",
   "pygments_lexer": "ipython3",
   "version": "3.7.3"
  }
 },
 "nbformat": 4,
 "nbformat_minor": 2
}
