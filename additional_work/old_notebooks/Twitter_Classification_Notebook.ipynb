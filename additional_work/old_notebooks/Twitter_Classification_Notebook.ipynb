{
 "cells": [
  {
   "cell_type": "code",
   "execution_count": 1,
   "metadata": {},
   "outputs": [
    {
     "name": "stderr",
     "output_type": "stream",
     "text": [
      "Using TensorFlow backend.\n"
     ]
    }
   ],
   "source": [
    "from __future__ import print_function\n",
    "\n",
    "import pandas as pd \n",
    "import numpy as np \n",
    "import sklearn\n",
    "\n",
    "# NLTK/NLP\n",
    "from sklearn.feature_extraction.text import TfidfVectorizer, CountVectorizer\n",
    "import nltk\n",
    "from nltk import FreqDist, word_tokenize\n",
    "import string, re\n",
    "import urllib\n",
    "from nltk.stem.snowball import SnowballStemmer\n",
    "from nltk.corpus import stopwords\n",
    "from gensim.models import word2vec\n",
    "from nltk.collocations import *\n",
    "import gensim\n",
    "from nltk.stem.wordnet import WordNetLemmatizer\n",
    "from gensim.models import KeyedVectors\n",
    "\n",
    "# Classifiers \n",
    "from sklearn.ensemble import RandomForestClassifier \n",
    "from sklearn.linear_model import LogisticRegression\n",
    "from sklearn.svm import SVC\n",
    "from sklearn.neighbors import KNeighborsClassifier\n",
    "from sklearn.naive_bayes import GaussianNB\n",
    "from sklearn.model_selection import GridSearchCV\n",
    "\n",
    "# Metrics\n",
    "from sklearn import metrics\n",
    "from sklearn.metrics import accuracy_score, confusion_matrix, classification_report, roc_curve, auc, precision_recall_curve\n",
    "from sklearn.model_selection import train_test_split\n",
    "\n",
    "\n",
    "#Sampling\n",
    "from imblearn.pipeline import make_pipeline, Pipeline\n",
    "from imblearn.over_sampling import SMOTE\n",
    "from sklearn.utils import resample\n",
    "\n",
    "import sklearn.decomposition as decomposition\n",
    "\n",
    "#Visualization\n",
    "from wordcloud import WordCloud\n",
    "import matplotlib.pyplot as plt \n",
    "import seaborn as sns\n",
    "%matplotlib inline\n",
    "\n",
    "import warnings \n",
    "warnings.filterwarnings(\"ignore\")\n",
    "\n",
    "import csv\n",
    "\n",
    "from sklearn.metrics import roc_curve\n",
    "from sklearn.metrics import roc_auc_score\n",
    "from matplotlib import pyplot\n",
    "\n",
    "from sklearn.metrics import average_precision_score, auc, roc_curve, precision_recall_curve\n",
    "\n"
   ]
  },
  {
   "cell_type": "code",
   "execution_count": 16,
   "metadata": {},
   "outputs": [],
   "source": [
    "import pickle"
   ]
  },
  {
   "cell_type": "code",
   "execution_count": 17,
   "metadata": {},
   "outputs": [],
   "source": [
    "%run custom_functions.ipynb"
   ]
  },
  {
   "cell_type": "code",
   "execution_count": 18,
   "metadata": {},
   "outputs": [],
   "source": [
    "# df = pd.read_csv('data/cleaned-reshuffled.csv')\n",
    "# df.drop(['Unnamed: 0'], axis = 1, inplace = True)\n",
    "# df.lem_tweet= df.lem_tweet.apply(str)\n",
    "# df.stem_tweet= df.stem_tweet.apply(str)\n",
    "# df.tokenized_tweet.apply(eval)\n",
    "# df.stemmed_tokens.apply(eval)\n",
    "# df.lemmatized_tokens.apply(eval)"
   ]
  },
  {
   "cell_type": "code",
   "execution_count": 19,
   "metadata": {},
   "outputs": [],
   "source": [
    "with open('data/cleaned-reshuffled.pkl', 'rb') as f:\n",
    "\tdf = pickle.load(f)"
   ]
  },
  {
   "cell_type": "code",
   "execution_count": 20,
   "metadata": {},
   "outputs": [
    {
     "data": {
      "text/html": [
       "<div>\n",
       "<style scoped>\n",
       "    .dataframe tbody tr th:only-of-type {\n",
       "        vertical-align: middle;\n",
       "    }\n",
       "\n",
       "    .dataframe tbody tr th {\n",
       "        vertical-align: top;\n",
       "    }\n",
       "\n",
       "    .dataframe thead th {\n",
       "        text-align: right;\n",
       "    }\n",
       "</style>\n",
       "<table border=\"1\" class=\"dataframe\">\n",
       "  <thead>\n",
       "    <tr style=\"text-align: right;\">\n",
       "      <th></th>\n",
       "      <th>id</th>\n",
       "      <th>label</th>\n",
       "      <th>tweet</th>\n",
       "      <th>tidy_tweet</th>\n",
       "      <th>no_hash_tweet</th>\n",
       "      <th>tokenized_tweet</th>\n",
       "      <th>stemmed_tokens</th>\n",
       "      <th>lemmatized_tokens</th>\n",
       "      <th>lem_tweet</th>\n",
       "      <th>stem_tweet</th>\n",
       "    </tr>\n",
       "  </thead>\n",
       "  <tbody>\n",
       "    <tr>\n",
       "      <th>0</th>\n",
       "      <td>29727</td>\n",
       "      <td>0</td>\n",
       "      <td>sad to see the scenes of hooligans pre #engrus...</td>\n",
       "      <td>sad to see the scenes of hooligans pre #engrus...</td>\n",
       "      <td>sad to see the scenes of hooligans pre engrus ...</td>\n",
       "      <td>[sad, to, see, the, scenes, of, hooligans, pre...</td>\n",
       "      <td>[sad, to, see, the, scene, of, hooligan, pre, ...</td>\n",
       "      <td>[sad, to, see, the, scene, of, hooligan, pre, ...</td>\n",
       "      <td>sad to see the scenes of hooligans pre engrus ...</td>\n",
       "      <td>sad to see the scenes of hooligans pre engrus ...</td>\n",
       "    </tr>\n",
       "    <tr>\n",
       "      <th>1</th>\n",
       "      <td>14466</td>\n",
       "      <td>0</td>\n",
       "      <td>#gooddyeyoung #yoyoyo  !! super happy to be ap...</td>\n",
       "      <td>#gooddyeyoung #yoyoyo super happy to be apa of...</td>\n",
       "      <td>gooddyeyoung yoyoyo super happy to be apa of t...</td>\n",
       "      <td>[gooddyeyoung, yoyoyo, super, happy, to, be, a...</td>\n",
       "      <td>[gooddyeyoung, yoyoyo, super, happi, to, be, a...</td>\n",
       "      <td>[gooddyeyoung, yoyoyo, super, happy, to, be, a...</td>\n",
       "      <td>gooddyeyoung yoyoyo super happy to be apa of t...</td>\n",
       "      <td>gooddyeyoung yoyoyo super happy to be apa of t...</td>\n",
       "    </tr>\n",
       "    <tr>\n",
       "      <th>2</th>\n",
       "      <td>18194</td>\n",
       "      <td>0</td>\n",
       "      <td>queen evil's bihdayð#lnic #lnicjustanevilbd...</td>\n",
       "      <td>queen evil s bihday #lnic #lnicjustanevilbday ...</td>\n",
       "      <td>queen evil s bihday lnic lnicjustanevilbday bi...</td>\n",
       "      <td>[queen, evil, s, bihday, lnic, lnicjustanevilb...</td>\n",
       "      <td>[queen, evil, s, bihday, lnic, lnicjustanevilb...</td>\n",
       "      <td>[queen, evil, s, bihday, lnic, lnicjustanevilb...</td>\n",
       "      <td>queen evil s bihday lnic lnicjustanevilbday bi...</td>\n",
       "      <td>queen evil s bihday lnic lnicjustanevilbday bi...</td>\n",
       "    </tr>\n",
       "    <tr>\n",
       "      <th>3</th>\n",
       "      <td>18283</td>\n",
       "      <td>1</td>\n",
       "      <td>@user you might be a libtard if... #libtard  #...</td>\n",
       "      <td>you might be a libtard if #libtard #sjw #liber...</td>\n",
       "      <td>you might be a libtard if libtard sjw liberal ...</td>\n",
       "      <td>[you, might, be, a, libtard, if, libtard, sjw,...</td>\n",
       "      <td>[you, might, be, a, libtard, if, libtard, sjw,...</td>\n",
       "      <td>[you, might, be, a, libtard, if, libtard, sjw,...</td>\n",
       "      <td>you might be a libtard if libtard sjw liberal ...</td>\n",
       "      <td>you might be a libtard if libtard sjw liberal ...</td>\n",
       "    </tr>\n",
       "    <tr>\n",
       "      <th>4</th>\n",
       "      <td>25845</td>\n",
       "      <td>0</td>\n",
       "      <td>what are your goals? find out here...   #smile...</td>\n",
       "      <td>what are your goals find out here #smile</td>\n",
       "      <td>what are your goals find out here smile</td>\n",
       "      <td>[what, are, your, goals, find, out, here, smile]</td>\n",
       "      <td>[what, are, your, goal, find, out, here, smile]</td>\n",
       "      <td>[what, are, your, goal, find, out, here, smile]</td>\n",
       "      <td>what are your goals find out here smile</td>\n",
       "      <td>what are your goals find out here smil</td>\n",
       "    </tr>\n",
       "  </tbody>\n",
       "</table>\n",
       "</div>"
      ],
      "text/plain": [
       "      id  label                                              tweet  \\\n",
       "0  29727      0  sad to see the scenes of hooligans pre #engrus...   \n",
       "1  14466      0  #gooddyeyoung #yoyoyo  !! super happy to be ap...   \n",
       "2  18194      0  queen evil's bihdayð#lnic #lnicjustanevilbd...   \n",
       "3  18283      1  @user you might be a libtard if... #libtard  #...   \n",
       "4  25845      0  what are your goals? find out here...   #smile...   \n",
       "\n",
       "                                          tidy_tweet  \\\n",
       "0  sad to see the scenes of hooligans pre #engrus...   \n",
       "1  #gooddyeyoung #yoyoyo super happy to be apa of...   \n",
       "2  queen evil s bihday #lnic #lnicjustanevilbday ...   \n",
       "3  you might be a libtard if #libtard #sjw #liber...   \n",
       "4           what are your goals find out here #smile   \n",
       "\n",
       "                                       no_hash_tweet  \\\n",
       "0  sad to see the scenes of hooligans pre engrus ...   \n",
       "1  gooddyeyoung yoyoyo super happy to be apa of t...   \n",
       "2  queen evil s bihday lnic lnicjustanevilbday bi...   \n",
       "3  you might be a libtard if libtard sjw liberal ...   \n",
       "4            what are your goals find out here smile   \n",
       "\n",
       "                                     tokenized_tweet  \\\n",
       "0  [sad, to, see, the, scenes, of, hooligans, pre...   \n",
       "1  [gooddyeyoung, yoyoyo, super, happy, to, be, a...   \n",
       "2  [queen, evil, s, bihday, lnic, lnicjustanevilb...   \n",
       "3  [you, might, be, a, libtard, if, libtard, sjw,...   \n",
       "4   [what, are, your, goals, find, out, here, smile]   \n",
       "\n",
       "                                      stemmed_tokens  \\\n",
       "0  [sad, to, see, the, scene, of, hooligan, pre, ...   \n",
       "1  [gooddyeyoung, yoyoyo, super, happi, to, be, a...   \n",
       "2  [queen, evil, s, bihday, lnic, lnicjustanevilb...   \n",
       "3  [you, might, be, a, libtard, if, libtard, sjw,...   \n",
       "4    [what, are, your, goal, find, out, here, smile]   \n",
       "\n",
       "                                   lemmatized_tokens  \\\n",
       "0  [sad, to, see, the, scene, of, hooligan, pre, ...   \n",
       "1  [gooddyeyoung, yoyoyo, super, happy, to, be, a...   \n",
       "2  [queen, evil, s, bihday, lnic, lnicjustanevilb...   \n",
       "3  [you, might, be, a, libtard, if, libtard, sjw,...   \n",
       "4    [what, are, your, goal, find, out, here, smile]   \n",
       "\n",
       "                                           lem_tweet  \\\n",
       "0  sad to see the scenes of hooligans pre engrus ...   \n",
       "1  gooddyeyoung yoyoyo super happy to be apa of t...   \n",
       "2  queen evil s bihday lnic lnicjustanevilbday bi...   \n",
       "3  you might be a libtard if libtard sjw liberal ...   \n",
       "4            what are your goals find out here smile   \n",
       "\n",
       "                                          stem_tweet  \n",
       "0  sad to see the scenes of hooligans pre engrus ...  \n",
       "1  gooddyeyoung yoyoyo super happy to be apa of t...  \n",
       "2  queen evil s bihday lnic lnicjustanevilbday bi...  \n",
       "3  you might be a libtard if libtard sjw liberal ...  \n",
       "4             what are your goals find out here smil  "
      ]
     },
     "execution_count": 20,
     "metadata": {},
     "output_type": "execute_result"
    }
   ],
   "source": [
    "df.head()"
   ]
  },
  {
   "cell_type": "markdown",
   "metadata": {},
   "source": [
    "## Train / Val / Test Split"
   ]
  },
  {
   "cell_type": "code",
   "execution_count": 21,
   "metadata": {},
   "outputs": [],
   "source": [
    "X = df.drop(['label'], axis = 1)"
   ]
  },
  {
   "cell_type": "code",
   "execution_count": 22,
   "metadata": {},
   "outputs": [],
   "source": [
    "y = df['label']"
   ]
  },
  {
   "cell_type": "code",
   "execution_count": 23,
   "metadata": {},
   "outputs": [],
   "source": [
    "#splitting into train and test \n",
    "X_model, X_test, y_model, y_test = train_test_split(X, y, stratify = y,  test_size=0.20, random_state=123)\n",
    "\n",
    "#splitting \"model\" into train and validation sets\n",
    "X_train, X_val, y_train, y_val = train_test_split(X_model, y_model, test_size=0.20, random_state=123)\n",
    "\n",
    "# df_train_full = X_train.copy()\n",
    "# df_train_full['label']= y_train\n",
    "# train_full_df.to_csv('train_full_df.csv')"
   ]
  },
  {
   "cell_type": "code",
   "execution_count": 24,
   "metadata": {},
   "outputs": [
    {
     "data": {
      "text/plain": [
       "0    0.929854\n",
       "1    0.070146\n",
       "Name: label, dtype: float64"
      ]
     },
     "execution_count": 24,
     "metadata": {},
     "output_type": "execute_result"
    }
   ],
   "source": [
    "y.value_counts(normalize=True)"
   ]
  },
  {
   "cell_type": "markdown",
   "metadata": {},
   "source": [
    "### Upsampling and Downsampling Training Data"
   ]
  },
  {
   "cell_type": "code",
   "execution_count": 25,
   "metadata": {},
   "outputs": [
    {
     "data": {
      "text/html": [
       "<div>\n",
       "<style scoped>\n",
       "    .dataframe tbody tr th:only-of-type {\n",
       "        vertical-align: middle;\n",
       "    }\n",
       "\n",
       "    .dataframe tbody tr th {\n",
       "        vertical-align: top;\n",
       "    }\n",
       "\n",
       "    .dataframe thead th {\n",
       "        text-align: right;\n",
       "    }\n",
       "</style>\n",
       "<table border=\"1\" class=\"dataframe\">\n",
       "  <thead>\n",
       "    <tr style=\"text-align: right;\">\n",
       "      <th></th>\n",
       "      <th>id</th>\n",
       "      <th>tweet</th>\n",
       "      <th>tidy_tweet</th>\n",
       "      <th>no_hash_tweet</th>\n",
       "      <th>tokenized_tweet</th>\n",
       "      <th>stemmed_tokens</th>\n",
       "      <th>lemmatized_tokens</th>\n",
       "      <th>lem_tweet</th>\n",
       "      <th>stem_tweet</th>\n",
       "      <th>label</th>\n",
       "    </tr>\n",
       "  </thead>\n",
       "  <tbody>\n",
       "    <tr>\n",
       "      <th>565</th>\n",
       "      <td>20676</td>\n",
       "      <td>@user f*** this  ð¦ðº government that deli...</td>\n",
       "      <td>f this government that deliberately toures #re...</td>\n",
       "      <td>f this government that deliberately toures ref...</td>\n",
       "      <td>[f, this, government, that, deliberately, tour...</td>\n",
       "      <td>[f, this, govern, that, deliber, tour, refuge,...</td>\n",
       "      <td>[f, this, government, that, deliberately, tour...</td>\n",
       "      <td>f this government that deliberately toures ref...</td>\n",
       "      <td>f this government that deliberately toures ref...</td>\n",
       "      <td>1</td>\n",
       "    </tr>\n",
       "    <tr>\n",
       "      <th>21531</th>\n",
       "      <td>24025</td>\n",
       "      <td>despite a demoralizing 2016: may ur #newyear20...</td>\n",
       "      <td>despite a demoralizing may ur #newyear be #cla...</td>\n",
       "      <td>despite a demoralizing may ur newyear be class...</td>\n",
       "      <td>[despite, a, demoralizing, may, ur, newyear, b...</td>\n",
       "      <td>[despit, a, demor, may, ur, newyear, be, class...</td>\n",
       "      <td>[despite, a, demoralizing, may, ur, newyear, b...</td>\n",
       "      <td>despite a demoralizing may ur newyear be class...</td>\n",
       "      <td>despite a demoralizing may ur newyear be class...</td>\n",
       "      <td>1</td>\n",
       "    </tr>\n",
       "    <tr>\n",
       "      <th>13300</th>\n",
       "      <td>18145</td>\n",
       "      <td>@user #koreans &amp;amp; joseon people in japan, w...</td>\n",
       "      <td>#koreans amp joseon people in japan will abuse...</td>\n",
       "      <td>koreans amp joseon people in japan will abuse ...</td>\n",
       "      <td>[koreans, amp, joseon, people, in, japan, will...</td>\n",
       "      <td>[korean, amp, joseon, peopl, in, japan, will, ...</td>\n",
       "      <td>[korean, amp, joseon, people, in, japan, will,...</td>\n",
       "      <td>koreans amp joseon people in japan will abuse ...</td>\n",
       "      <td>koreans amp joseon people in japan will abuse ...</td>\n",
       "      <td>1</td>\n",
       "    </tr>\n",
       "    <tr>\n",
       "      <th>18925</th>\n",
       "      <td>8506</td>\n",
       "      <td>@user @user @user @user classic ! yet you jewi...</td>\n",
       "      <td>classic yet you jewish bastards wonder why you...</td>\n",
       "      <td>classic yet you jewish bastards wonder why you...</td>\n",
       "      <td>[classic, yet, you, jewish, bastards, wonder, ...</td>\n",
       "      <td>[classic, yet, you, jewish, bastard, wonder, w...</td>\n",
       "      <td>[classic, yet, you, jewish, bastard, wonder, w...</td>\n",
       "      <td>classic yet you jewish bastards wonder why you...</td>\n",
       "      <td>classic yet you jewish bastards wonder why you...</td>\n",
       "      <td>1</td>\n",
       "    </tr>\n",
       "    <tr>\n",
       "      <th>12619</th>\n",
       "      <td>15464</td>\n",
       "      <td>@user did someone say #antisemetic ? gee (((@u...</td>\n",
       "      <td>did someone say #antisemetic gee you re a bit ...</td>\n",
       "      <td>did someone say antisemetic gee you re a bit t...</td>\n",
       "      <td>[did, someone, say, antisemetic, gee, you, re,...</td>\n",
       "      <td>[did, someon, say, antisemet, gee, you, re, a,...</td>\n",
       "      <td>[did, someone, say, antisemetic, gee, you, re,...</td>\n",
       "      <td>did someone say antisemetic gee you re a bit t...</td>\n",
       "      <td>did someone say antisemetic gee you re a bit t...</td>\n",
       "      <td>1</td>\n",
       "    </tr>\n",
       "    <tr>\n",
       "      <th>26964</th>\n",
       "      <td>28937</td>\n",
       "      <td>couldn't have said this any better nor truthfu...</td>\n",
       "      <td>couldn t have said this any better nor truthfu...</td>\n",
       "      <td>couldn t have said this any better nor truthfu...</td>\n",
       "      <td>[couldn, t, have, said, this, any, better, nor...</td>\n",
       "      <td>[couldn, t, have, said, this, ani, better, nor...</td>\n",
       "      <td>[couldn, t, have, said, this, any, better, nor...</td>\n",
       "      <td>couldn t have said this any better nor truthfu...</td>\n",
       "      <td>couldn t have said this any better nor truthfu...</td>\n",
       "      <td>1</td>\n",
       "    </tr>\n",
       "    <tr>\n",
       "      <th>17273</th>\n",
       "      <td>25291</td>\n",
       "      <td>@user racism stuffed into skinny jeans with a ...</td>\n",
       "      <td>racism stuffed into skinny jeans with a hipste...</td>\n",
       "      <td>racism stuffed into skinny jeans with a hipste...</td>\n",
       "      <td>[racism, stuffed, into, skinny, jeans, with, a...</td>\n",
       "      <td>[racism, stuf, into, skinni, jean, with, a, hi...</td>\n",
       "      <td>[racism, stuffed, into, skinny, jean, with, a,...</td>\n",
       "      <td>racism stuffed into skinny jeans with a hipste...</td>\n",
       "      <td>racism stuffed into skinny jeans with a hipste...</td>\n",
       "      <td>1</td>\n",
       "    </tr>\n",
       "    <tr>\n",
       "      <th>1561</th>\n",
       "      <td>12717</td>\n",
       "      <td>the end of   #me #selfie # #love #messi #cr7 #...</td>\n",
       "      <td>the end of #me #selfie # #love #messi #cr #rel...</td>\n",
       "      <td>the end of me selfie  love messi cr religion c...</td>\n",
       "      <td>[the, end, of, me, selfie, love, messi, cr, re...</td>\n",
       "      <td>[the, end, of, me, selfi, love, messi, cr, rel...</td>\n",
       "      <td>[the, end, of, me, selfie, love, messi, cr, re...</td>\n",
       "      <td>the end of me selfie  love messi cr religion c...</td>\n",
       "      <td>the end of me selfie  love messi cr religion c...</td>\n",
       "      <td>1</td>\n",
       "    </tr>\n",
       "    <tr>\n",
       "      <th>17875</th>\n",
       "      <td>11612</td>\n",
       "      <td>trump ally wishes mad cow disease death for ob...</td>\n",
       "      <td>trump ally wishes mad cow disease death for ob...</td>\n",
       "      <td>trump ally wishes mad cow disease death for ob...</td>\n",
       "      <td>[trump, ally, wishes, mad, cow, disease, death...</td>\n",
       "      <td>[trump, alli, wish, mad, cow, diseas, death, f...</td>\n",
       "      <td>[trump, ally, wish, mad, cow, disease, death, ...</td>\n",
       "      <td>trump ally wishes mad cow disease death for ob...</td>\n",
       "      <td>trump ally wishes mad cow disease death for ob...</td>\n",
       "      <td>1</td>\n",
       "    </tr>\n",
       "    <tr>\n",
       "      <th>17184</th>\n",
       "      <td>20554</td>\n",
       "      <td>opinion:  is rife in the #lgbt community. #gay...</td>\n",
       "      <td>opinion is rife in the #lgbt community #gay pe...</td>\n",
       "      <td>opinion is rife in the lgbt community gay peop...</td>\n",
       "      <td>[opinion, is, rife, in, the, lgbt, community, ...</td>\n",
       "      <td>[opinion, is, rife, in, the, lgbt, communiti, ...</td>\n",
       "      <td>[opinion, is, rife, in, the, lgbt, community, ...</td>\n",
       "      <td>opinion is rife in the lgbt community gay peop...</td>\n",
       "      <td>opinion is rife in the lgbt community gay peop...</td>\n",
       "      <td>1</td>\n",
       "    </tr>\n",
       "    <tr>\n",
       "      <th>8573</th>\n",
       "      <td>25151</td>\n",
       "      <td>@user #allahsoil the cold war was fought over ...</td>\n",
       "      <td>#allahsoil the cold war was fought over oil #t...</td>\n",
       "      <td>allahsoil the cold war was fought over oil tea...</td>\n",
       "      <td>[allahsoil, the, cold, war, was, fought, over,...</td>\n",
       "      <td>[allahsoil, the, cold, war, was, fought, over,...</td>\n",
       "      <td>[allahsoil, the, cold, war, wa, fought, over, ...</td>\n",
       "      <td>allahsoil the cold war was fought over oil tea...</td>\n",
       "      <td>allahsoil the cold war was fought over oil tea...</td>\n",
       "      <td>1</td>\n",
       "    </tr>\n",
       "    <tr>\n",
       "      <th>26779</th>\n",
       "      <td>13585</td>\n",
       "      <td>omg, these trump suppoers are deplorable! #dum...</td>\n",
       "      <td>omg these trump suppoers are deplorable #dumpt...</td>\n",
       "      <td>omg these trump suppoers are deplorable dumptr...</td>\n",
       "      <td>[omg, these, trump, suppoers, are, deplorable,...</td>\n",
       "      <td>[omg, these, trump, suppoer, are, deplor, dump...</td>\n",
       "      <td>[omg, these, trump, suppoers, are, deplorable,...</td>\n",
       "      <td>omg these trump suppoers are deplorable dumptr...</td>\n",
       "      <td>omg these trump suppoers are deplorable dumptr...</td>\n",
       "      <td>1</td>\n",
       "    </tr>\n",
       "    <tr>\n",
       "      <th>15332</th>\n",
       "      <td>2581</td>\n",
       "      <td>sea shepherd suppoers are racist!   #antiracis...</td>\n",
       "      <td>sea shepherd suppoers are racist #antiracism #...</td>\n",
       "      <td>sea shepherd suppoers are racist antiracism se...</td>\n",
       "      <td>[sea, shepherd, suppoers, are, racist, antirac...</td>\n",
       "      <td>[sea, shepherd, suppoer, are, racist, antirac,...</td>\n",
       "      <td>[sea, shepherd, suppoers, are, racist, antirac...</td>\n",
       "      <td>sea shepherd suppoers are racist antiracism se...</td>\n",
       "      <td>sea shepherd suppoers are racist antiracism se...</td>\n",
       "      <td>1</td>\n",
       "    </tr>\n",
       "    <tr>\n",
       "      <th>12290</th>\n",
       "      <td>6519</td>\n",
       "      <td>.@user @user while @user can use phrases like ...</td>\n",
       "      <td>while can use phrases like #sandniggers is acc...</td>\n",
       "      <td>while can use phrases like sandniggers is acce...</td>\n",
       "      <td>[while, can, use, phrases, like, sandniggers, ...</td>\n",
       "      <td>[while, can, use, phrase, like, sandnigg, is, ...</td>\n",
       "      <td>[while, can, use, phrase, like, sandniggers, i...</td>\n",
       "      <td>while can use phrases like sandniggers is acce...</td>\n",
       "      <td>while can use phrases like sandniggers is acce...</td>\n",
       "      <td>1</td>\n",
       "    </tr>\n",
       "    <tr>\n",
       "      <th>24159</th>\n",
       "      <td>9563</td>\n",
       "      <td>@user #allahsoil enlightenment is wasted on th...</td>\n",
       "      <td>#allahsoil enlightenment is wasted on the wilf...</td>\n",
       "      <td>allahsoil enlightenment is wasted on the wilfu...</td>\n",
       "      <td>[allahsoil, enlightenment, is, wasted, on, the...</td>\n",
       "      <td>[allahsoil, enlighten, is, wast, on, the, wil,...</td>\n",
       "      <td>[allahsoil, enlightenment, is, wasted, on, the...</td>\n",
       "      <td>allahsoil enlightenment is wasted on the wilfu...</td>\n",
       "      <td>allahsoil enlightenment is wasted on the wilfu...</td>\n",
       "      <td>1</td>\n",
       "    </tr>\n",
       "    <tr>\n",
       "      <th>25895</th>\n",
       "      <td>8452</td>\n",
       "      <td>@user here comes a  #supermistict douchebag wh...</td>\n",
       "      <td>here comes a #supermistict douchebag who can o...</td>\n",
       "      <td>here comes a supermistict douchebag who can on...</td>\n",
       "      <td>[here, comes, a, supermistict, douchebag, who,...</td>\n",
       "      <td>[here, come, a, supermistict, douchebag, who, ...</td>\n",
       "      <td>[here, come, a, supermistict, douchebag, who, ...</td>\n",
       "      <td>here comes a supermistict douchebag who can on...</td>\n",
       "      <td>here comes a supermistict douchebag who can on...</td>\n",
       "      <td>1</td>\n",
       "    </tr>\n",
       "    <tr>\n",
       "      <th>23934</th>\n",
       "      <td>17750</td>\n",
       "      <td>@user hidden  in #america is as rampant as bla...</td>\n",
       "      <td>hidden in #america is as rampant as blatant ra...</td>\n",
       "      <td>hidden in america is as rampant as blatant racism</td>\n",
       "      <td>[hidden, in, america, is, as, rampant, as, bla...</td>\n",
       "      <td>[hidden, in, america, is, as, rampant, as, bla...</td>\n",
       "      <td>[hidden, in, america, is, a, rampant, a, blata...</td>\n",
       "      <td>hidden in america is as rampant as blatant racism</td>\n",
       "      <td>hidden in america is as rampant as blatant rac</td>\n",
       "      <td>1</td>\n",
       "    </tr>\n",
       "    <tr>\n",
       "      <th>29174</th>\n",
       "      <td>21389</td>\n",
       "      <td>will the alt-right promote a new kind of  gene...</td>\n",
       "      <td>will the alt right promote a new kind of genet...</td>\n",
       "      <td>will the alt right promote a new kind of genet...</td>\n",
       "      <td>[will, the, alt, right, promote, a, new, kind,...</td>\n",
       "      <td>[will, the, alt, right, promot, a, new, kind, ...</td>\n",
       "      <td>[will, the, alt, right, promote, a, new, kind,...</td>\n",
       "      <td>will the alt right promote a new kind of genet...</td>\n",
       "      <td>will the alt right promote a new kind of genet...</td>\n",
       "      <td>1</td>\n",
       "    </tr>\n",
       "    <tr>\n",
       "      <th>10474</th>\n",
       "      <td>23431</td>\n",
       "      <td>#us why weneed #empathy #ageoftrump #grassroot...</td>\n",
       "      <td>#us why weneed #empathy #ageoftrump #grassroot...</td>\n",
       "      <td>us why weneed empathy ageoftrump grassrootsact...</td>\n",
       "      <td>[us, why, weneed, empathy, ageoftrump, grassro...</td>\n",
       "      <td>[us, whi, wene, empathi, ageoftrump, grassroot...</td>\n",
       "      <td>[u, why, weneed, empathy, ageoftrump, grassroo...</td>\n",
       "      <td>us why weneed empathy ageoftrump grassrootsact...</td>\n",
       "      <td>us why weneed empathy ageoftrump grassrootsact...</td>\n",
       "      <td>1</td>\n",
       "    </tr>\n",
       "    <tr>\n",
       "      <th>30743</th>\n",
       "      <td>12301</td>\n",
       "      <td>black trump suppoer smacks down cnn repoer for...</td>\n",
       "      <td>black trump suppoer smacks down cnn repoer for...</td>\n",
       "      <td>black trump suppoer smacks down cnn repoer for...</td>\n",
       "      <td>[black, trump, suppoer, smacks, down, cnn, rep...</td>\n",
       "      <td>[black, trump, suppoer, smack, down, cnn, repo...</td>\n",
       "      <td>[black, trump, suppoer, smack, down, cnn, repo...</td>\n",
       "      <td>black trump suppoer smacks down cnn repoer for...</td>\n",
       "      <td>black trump suppoer smacks down cnn repoer for...</td>\n",
       "      <td>1</td>\n",
       "    </tr>\n",
       "    <tr>\n",
       "      <th>6190</th>\n",
       "      <td>19407</td>\n",
       "      <td>so sick of all the pre-programmed #hillbots rh...</td>\n",
       "      <td>so sick of all the pre programmed #hillbots rh...</td>\n",
       "      <td>so sick of all the pre programmed hillbots rhe...</td>\n",
       "      <td>[so, sick, of, all, the, pre, programmed, hill...</td>\n",
       "      <td>[so, sick, of, all, the, pre, program, hillbot...</td>\n",
       "      <td>[so, sick, of, all, the, pre, programmed, hill...</td>\n",
       "      <td>so sick of all the pre programmed hillbots rhe...</td>\n",
       "      <td>so sick of all the pre programmed hillbots rhe...</td>\n",
       "      <td>1</td>\n",
       "    </tr>\n",
       "    <tr>\n",
       "      <th>19746</th>\n",
       "      <td>406</td>\n",
       "      <td>@user when you're blocked by a  troll because ...</td>\n",
       "      <td>when you re blocked by a troll because you pro...</td>\n",
       "      <td>when you re blocked by a troll because you pro...</td>\n",
       "      <td>[when, you, re, blocked, by, a, troll, because...</td>\n",
       "      <td>[when, you, re, block, by, a, troll, becaus, y...</td>\n",
       "      <td>[when, you, re, blocked, by, a, troll, because...</td>\n",
       "      <td>when you re blocked by a troll because you pro...</td>\n",
       "      <td>when you re blocked by a troll because you pro...</td>\n",
       "      <td>1</td>\n",
       "    </tr>\n",
       "    <tr>\n",
       "      <th>19581</th>\n",
       "      <td>11720</td>\n",
       "      <td>@user @user you forgot #democrate, because vet...</td>\n",
       "      <td>you forgot #democrate because vetting people f...</td>\n",
       "      <td>you forgot democrate because vetting people fr...</td>\n",
       "      <td>[you, forgot, democrate, because, vetting, peo...</td>\n",
       "      <td>[you, forgot, democr, becaus, vet, peopl, from...</td>\n",
       "      <td>[you, forgot, democrate, because, vetting, peo...</td>\n",
       "      <td>you forgot democrate because vetting people fr...</td>\n",
       "      <td>you forgot democrate because vetting people fr...</td>\n",
       "      <td>1</td>\n",
       "    </tr>\n",
       "    <tr>\n",
       "      <th>31767</th>\n",
       "      <td>28476</td>\n",
       "      <td>sea shepherd suppoers are racist!   #antiracis...</td>\n",
       "      <td>sea shepherd suppoers are racist #antiracism #...</td>\n",
       "      <td>sea shepherd suppoers are racist antiracism se...</td>\n",
       "      <td>[sea, shepherd, suppoers, are, racist, antirac...</td>\n",
       "      <td>[sea, shepherd, suppoer, are, racist, antirac,...</td>\n",
       "      <td>[sea, shepherd, suppoers, are, racist, antirac...</td>\n",
       "      <td>sea shepherd suppoers are racist antiracism se...</td>\n",
       "      <td>sea shepherd suppoers are racist antiracism se...</td>\n",
       "      <td>1</td>\n",
       "    </tr>\n",
       "    <tr>\n",
       "      <th>25210</th>\n",
       "      <td>24768</td>\n",
       "      <td>porn vids web free sex</td>\n",
       "      <td>porn vids web free sex</td>\n",
       "      <td>porn vids web free sex</td>\n",
       "      <td>[porn, vids, web, free, sex]</td>\n",
       "      <td>[porn, vid, web, free, sex]</td>\n",
       "      <td>[porn, vids, web, free, sex]</td>\n",
       "      <td>porn vids web free sex</td>\n",
       "      <td>porn vids web free sex</td>\n",
       "      <td>1</td>\n",
       "    </tr>\n",
       "    <tr>\n",
       "      <th>19800</th>\n",
       "      <td>19745</td>\n",
       "      <td>@user &amp;amp; the  #democraticpay keeps telling ...</td>\n",
       "      <td>amp the #democraticpay keeps telling me that #...</td>\n",
       "      <td>amp the democraticpay keeps telling me that bl...</td>\n",
       "      <td>[amp, the, democraticpay, keeps, telling, me, ...</td>\n",
       "      <td>[amp, the, democraticpay, keep, tell, me, that...</td>\n",
       "      <td>[amp, the, democraticpay, keep, telling, me, t...</td>\n",
       "      <td>amp the democraticpay keeps telling me that bl...</td>\n",
       "      <td>amp the democraticpay keeps telling me that bl...</td>\n",
       "      <td>1</td>\n",
       "    </tr>\n",
       "    <tr>\n",
       "      <th>7812</th>\n",
       "      <td>1242</td>\n",
       "      <td>@user although, i am not a , a #bigot or a #mi...</td>\n",
       "      <td>although i am not a a #bigot or a #misogynist ...</td>\n",
       "      <td>although i am not a a bigot or a misogynist so...</td>\n",
       "      <td>[although, i, am, not, a, a, bigot, or, a, mis...</td>\n",
       "      <td>[although, i, am, not, a, a, bigot, or, a, mis...</td>\n",
       "      <td>[although, i, am, not, a, a, bigot, or, a, mis...</td>\n",
       "      <td>although i am not a a bigot or a misogynist so...</td>\n",
       "      <td>although i am not a a bigot or a misogynist so...</td>\n",
       "      <td>1</td>\n",
       "    </tr>\n",
       "    <tr>\n",
       "      <th>5074</th>\n",
       "      <td>23280</td>\n",
       "      <td>this is sooooo  or may be just funny</td>\n",
       "      <td>this is sooooo or may be just funny</td>\n",
       "      <td>this is sooooo or may be just funny</td>\n",
       "      <td>[this, is, sooooo, or, may, be, just, funny]</td>\n",
       "      <td>[this, is, sooooo, or, may, be, just, funni]</td>\n",
       "      <td>[this, is, sooooo, or, may, be, just, funny]</td>\n",
       "      <td>this is sooooo or may be just funny</td>\n",
       "      <td>this is sooooo or may be just funni</td>\n",
       "      <td>1</td>\n",
       "    </tr>\n",
       "    <tr>\n",
       "      <th>6317</th>\n",
       "      <td>15050</td>\n",
       "      <td>@user âwe the peopleâ originally meant â...</td>\n",
       "      <td>we the people originally meant we the white la...</td>\n",
       "      <td>we the people originally meant we the white la...</td>\n",
       "      <td>[we, the, people, originally, meant, we, the, ...</td>\n",
       "      <td>[we, the, peopl, origin, meant, we, the, white...</td>\n",
       "      <td>[we, the, people, originally, meant, we, the, ...</td>\n",
       "      <td>we the people originally meant we the white la...</td>\n",
       "      <td>we the people originally meant we the white la...</td>\n",
       "      <td>1</td>\n",
       "    </tr>\n",
       "    <tr>\n",
       "      <th>5988</th>\n",
       "      <td>24766</td>\n",
       "      <td>i've no problem with #universities that teach ...</td>\n",
       "      <td>i ve no problem with #universities that teach ...</td>\n",
       "      <td>i ve no problem with universities that teach a...</td>\n",
       "      <td>[i, ve, no, problem, with, universities, that,...</td>\n",
       "      <td>[i, ve, no, problem, with, univers, that, teac...</td>\n",
       "      <td>[i, ve, no, problem, with, university, that, t...</td>\n",
       "      <td>i ve no problem with universities that teach a...</td>\n",
       "      <td>i ve no problem with universities that teach a...</td>\n",
       "      <td>1</td>\n",
       "    </tr>\n",
       "    <tr>\n",
       "      <th>...</th>\n",
       "      <td>...</td>\n",
       "      <td>...</td>\n",
       "      <td>...</td>\n",
       "      <td>...</td>\n",
       "      <td>...</td>\n",
       "      <td>...</td>\n",
       "      <td>...</td>\n",
       "      <td>...</td>\n",
       "      <td>...</td>\n",
       "      <td>...</td>\n",
       "    </tr>\n",
       "    <tr>\n",
       "      <th>3721</th>\n",
       "      <td>17405</td>\n",
       "      <td>check out this new trending #funny #gif !  , p...</td>\n",
       "      <td>check out this new trending #funny #gif pixel ...</td>\n",
       "      <td>check out this new trending funny gif pixel ce...</td>\n",
       "      <td>[check, out, this, new, trending, funny, gif, ...</td>\n",
       "      <td>[check, out, this, new, trend, funni, gif, pix...</td>\n",
       "      <td>[check, out, this, new, trending, funny, gif, ...</td>\n",
       "      <td>check out this new trending funny gif pixel ce...</td>\n",
       "      <td>check out this new trending funny gif pixel ce...</td>\n",
       "      <td>0</td>\n",
       "    </tr>\n",
       "    <tr>\n",
       "      <th>28057</th>\n",
       "      <td>31774</td>\n",
       "      <td>this reminds me of this. i am   love these two...</td>\n",
       "      <td>this reminds me of this i am love these two th...</td>\n",
       "      <td>this reminds me of this i am love these two th...</td>\n",
       "      <td>[this, reminds, me, of, this, i, am, love, the...</td>\n",
       "      <td>[this, remind, me, of, this, i, am, love, thes...</td>\n",
       "      <td>[this, reminds, me, of, this, i, am, love, the...</td>\n",
       "      <td>this reminds me of this i am love these two th...</td>\n",
       "      <td>this reminds me of this i am love these two th...</td>\n",
       "      <td>0</td>\n",
       "    </tr>\n",
       "    <tr>\n",
       "      <th>15044</th>\n",
       "      <td>5789</td>\n",
       "      <td>livelypics: just when you think you know peop...</td>\n",
       "      <td>livelypics just when you think you know people...</td>\n",
       "      <td>livelypics just when you think you know people...</td>\n",
       "      <td>[livelypics, just, when, you, think, you, know...</td>\n",
       "      <td>[livelyp, just, when, you, think, you, know, p...</td>\n",
       "      <td>[livelypics, just, when, you, think, you, know...</td>\n",
       "      <td>livelypics just when you think you know people...</td>\n",
       "      <td>livelypics just when you think you know people...</td>\n",
       "      <td>0</td>\n",
       "    </tr>\n",
       "    <tr>\n",
       "      <th>23222</th>\n",
       "      <td>29934</td>\n",
       "      <td>trying not to shut down but maybe #pokemon wil...</td>\n",
       "      <td>trying not to shut down but maybe #pokemon wil...</td>\n",
       "      <td>trying not to shut down but maybe pokemon will...</td>\n",
       "      <td>[trying, not, to, shut, down, but, maybe, poke...</td>\n",
       "      <td>[tri, not, to, shut, down, but, mayb, pokemon,...</td>\n",
       "      <td>[trying, not, to, shut, down, but, maybe, poke...</td>\n",
       "      <td>trying not to shut down but maybe pokemon will...</td>\n",
       "      <td>trying not to shut down but maybe pokemon will...</td>\n",
       "      <td>0</td>\n",
       "    </tr>\n",
       "    <tr>\n",
       "      <th>27273</th>\n",
       "      <td>395</td>\n",
       "      <td>#first #bihday to our #puppy #eloise #sweetbab...</td>\n",
       "      <td>#first #bihday to our #puppy #eloise #sweetbab...</td>\n",
       "      <td>first bihday to our puppy eloise sweetbabins d...</td>\n",
       "      <td>[first, bihday, to, our, puppy, eloise, sweetb...</td>\n",
       "      <td>[first, bihday, to, our, puppi, elois, sweetba...</td>\n",
       "      <td>[first, bihday, to, our, puppy, eloise, sweetb...</td>\n",
       "      <td>first bihday to our puppy eloise sweetbabins d...</td>\n",
       "      <td>first bihday to our puppy eloise sweetbabins d...</td>\n",
       "      <td>0</td>\n",
       "    </tr>\n",
       "    <tr>\n",
       "      <th>30304</th>\n",
       "      <td>10458</td>\n",
       "      <td>@user it was in ceain areas yeah, you not seen...</td>\n",
       "      <td>it was in ceain areas yeah you not seen the vi...</td>\n",
       "      <td>it was in ceain areas yeah you not seen the vi...</td>\n",
       "      <td>[it, was, in, ceain, areas, yeah, you, not, se...</td>\n",
       "      <td>[it, was, in, ceain, area, yeah, you, not, see...</td>\n",
       "      <td>[it, wa, in, ceain, area, yeah, you, not, seen...</td>\n",
       "      <td>it was in ceain areas yeah you not seen the vi...</td>\n",
       "      <td>it was in ceain areas yeah you not seen the vi...</td>\n",
       "      <td>0</td>\n",
       "    </tr>\n",
       "    <tr>\n",
       "      <th>3928</th>\n",
       "      <td>19081</td>\n",
       "      <td>so many shit talkers/bullies in the youtube co...</td>\n",
       "      <td>so many shit talkers bullies in the youtube co...</td>\n",
       "      <td>so many shit talkers bullies in the youtube co...</td>\n",
       "      <td>[so, many, shit, talkers, bullies, in, the, yo...</td>\n",
       "      <td>[so, mani, shit, talker, bulli, in, the, youtu...</td>\n",
       "      <td>[so, many, shit, talker, bully, in, the, youtu...</td>\n",
       "      <td>so many shit talkers bullies in the youtube co...</td>\n",
       "      <td>so many shit talkers bullies in the youtube co...</td>\n",
       "      <td>0</td>\n",
       "    </tr>\n",
       "    <tr>\n",
       "      <th>269</th>\n",
       "      <td>13429</td>\n",
       "      <td>all ready to pay xx #saturday #daughter #love ...</td>\n",
       "      <td>all ready to pay xx #saturday #daughter #love ...</td>\n",
       "      <td>all ready to pay xx saturday daughter love pay...</td>\n",
       "      <td>[all, ready, to, pay, xx, saturday, daughter, ...</td>\n",
       "      <td>[all, readi, to, pay, xx, saturday, daughter, ...</td>\n",
       "      <td>[all, ready, to, pay, xx, saturday, daughter, ...</td>\n",
       "      <td>all ready to pay xx saturday daughter love pay...</td>\n",
       "      <td>all ready to pay xx saturday daughter love pay...</td>\n",
       "      <td>0</td>\n",
       "    </tr>\n",
       "    <tr>\n",
       "      <th>9826</th>\n",
       "      <td>6122</td>\n",
       "      <td>feeling a little #mole tonight! ó¾« #food #fo...</td>\n",
       "      <td>feeling a little #mole tonight #food #foodblog...</td>\n",
       "      <td>feeling a little mole tonight food foodblogger...</td>\n",
       "      <td>[feeling, a, little, mole, tonight, food, food...</td>\n",
       "      <td>[feel, a, littl, mole, tonight, food, foodblog...</td>\n",
       "      <td>[feeling, a, little, mole, tonight, food, food...</td>\n",
       "      <td>feeling a little mole tonight food foodblogger...</td>\n",
       "      <td>feeling a little mole tonight food foodblogger...</td>\n",
       "      <td>0</td>\n",
       "    </tr>\n",
       "    <tr>\n",
       "      <th>11548</th>\n",
       "      <td>14426</td>\n",
       "      <td>while we're still trying to get over the shock...</td>\n",
       "      <td>while we re still trying to get over the shock...</td>\n",
       "      <td>while we re still trying to get over the shock...</td>\n",
       "      <td>[while, we, re, still, trying, to, get, over, ...</td>\n",
       "      <td>[while, we, re, still, tri, to, get, over, the...</td>\n",
       "      <td>[while, we, re, still, trying, to, get, over, ...</td>\n",
       "      <td>while we re still trying to get over the shock...</td>\n",
       "      <td>while we re still trying to get over the shock...</td>\n",
       "      <td>0</td>\n",
       "    </tr>\n",
       "    <tr>\n",
       "      <th>19491</th>\n",
       "      <td>19469</td>\n",
       "      <td>fantasy aisle ð #i #fantasy #aisle #summer ...</td>\n",
       "      <td>fantasy aisle #i #fantasy #aisle #summer #gran...</td>\n",
       "      <td>fantasy aisle i fantasy aisle summer grand vac...</td>\n",
       "      <td>[fantasy, aisle, i, fantasy, aisle, summer, gr...</td>\n",
       "      <td>[fantasi, aisl, i, fantasi, aisl, summer, gran...</td>\n",
       "      <td>[fantasy, aisle, i, fantasy, aisle, summer, gr...</td>\n",
       "      <td>fantasy aisle i fantasy aisle summer grand vac...</td>\n",
       "      <td>fantasy aisle i fantasy aisle summer grand vac...</td>\n",
       "      <td>0</td>\n",
       "    </tr>\n",
       "    <tr>\n",
       "      <th>31522</th>\n",
       "      <td>17794</td>\n",
       "      <td>have a wonderful f r i d a y ð¸  #love #emik...</td>\n",
       "      <td>have a wonderful f r i d a y #love #emikagifts...</td>\n",
       "      <td>have a wonderful f r i d a y love emikagifts j...</td>\n",
       "      <td>[have, a, wonderful, f, r, i, d, a, y, love, e...</td>\n",
       "      <td>[have, a, wonder, f, r, i, d, a, y, love, emik...</td>\n",
       "      <td>[have, a, wonderful, f, r, i, d, a, y, love, e...</td>\n",
       "      <td>have a wonderful f r i d a y love emikagifts j...</td>\n",
       "      <td>have a wonderful f r i d a y love emikagifts j...</td>\n",
       "      <td>0</td>\n",
       "    </tr>\n",
       "    <tr>\n",
       "      <th>750</th>\n",
       "      <td>11550</td>\n",
       "      <td>who wants him to be the next commander in chie...</td>\n",
       "      <td>who wants him to be the next commander in chie...</td>\n",
       "      <td>who wants him to be the next commander in chie...</td>\n",
       "      <td>[who, wants, him, to, be, the, next, commander...</td>\n",
       "      <td>[who, want, him, to, be, the, next, command, i...</td>\n",
       "      <td>[who, want, him, to, be, the, next, commander,...</td>\n",
       "      <td>who wants him to be the next commander in chie...</td>\n",
       "      <td>who wants him to be the next commander in chie...</td>\n",
       "      <td>0</td>\n",
       "    </tr>\n",
       "    <tr>\n",
       "      <th>21399</th>\n",
       "      <td>18137</td>\n",
       "      <td>we beat that cock.   #beatit #penis</td>\n",
       "      <td>we beat that cock #beatit #penis</td>\n",
       "      <td>we beat that cock beatit penis</td>\n",
       "      <td>[we, beat, that, cock, beatit, penis]</td>\n",
       "      <td>[we, beat, that, cock, beatit, peni]</td>\n",
       "      <td>[we, beat, that, cock, beatit, penis]</td>\n",
       "      <td>we beat that cock beatit penis</td>\n",
       "      <td>we beat that cock beatit peni</td>\n",
       "      <td>0</td>\n",
       "    </tr>\n",
       "    <tr>\n",
       "      <th>16625</th>\n",
       "      <td>14918</td>\n",
       "      <td>lik if u cri everi tim</td>\n",
       "      <td>lik if u cri everi tim</td>\n",
       "      <td>lik if u cri everi tim</td>\n",
       "      <td>[lik, if, u, cri, everi, tim]</td>\n",
       "      <td>[lik, if, u, cri, everi, tim]</td>\n",
       "      <td>[lik, if, u, cri, everi, tim]</td>\n",
       "      <td>lik if u cri everi tim</td>\n",
       "      <td>lik if u cri everi tim</td>\n",
       "      <td>0</td>\n",
       "    </tr>\n",
       "    <tr>\n",
       "      <th>7084</th>\n",
       "      <td>12925</td>\n",
       "      <td>speakers dinner on eve of #ricsrural conferenc...</td>\n",
       "      <td>speakers dinner on eve of #ricsrural conferenc...</td>\n",
       "      <td>speakers dinner on eve of ricsrural conference...</td>\n",
       "      <td>[speakers, dinner, on, eve, of, ricsrural, con...</td>\n",
       "      <td>[speaker, dinner, on, eve, of, ricsrur, confer...</td>\n",
       "      <td>[speaker, dinner, on, eve, of, ricsrural, conf...</td>\n",
       "      <td>speakers dinner on eve of ricsrural conference...</td>\n",
       "      <td>speakers dinner on eve of ricsrural conference...</td>\n",
       "      <td>0</td>\n",
       "    </tr>\n",
       "    <tr>\n",
       "      <th>21332</th>\n",
       "      <td>1640</td>\n",
       "      <td>best facetime today; i can't wait to see my bo...</td>\n",
       "      <td>best facetime today i can t wait to see my boy...</td>\n",
       "      <td>best facetime today i can t wait to see my boy...</td>\n",
       "      <td>[best, facetime, today, i, can, t, wait, to, s...</td>\n",
       "      <td>[best, facetim, today, i, can, t, wait, to, se...</td>\n",
       "      <td>[best, facetime, today, i, can, t, wait, to, s...</td>\n",
       "      <td>best facetime today i can t wait to see my boy...</td>\n",
       "      <td>best facetime today i can t wait to see my boy...</td>\n",
       "      <td>0</td>\n",
       "    </tr>\n",
       "    <tr>\n",
       "      <th>28564</th>\n",
       "      <td>18855</td>\n",
       "      <td>archery for year 5 at 1.30pm!   #archery</td>\n",
       "      <td>archery for year at pm #archery</td>\n",
       "      <td>archery for year at pm archery</td>\n",
       "      <td>[archery, for, year, at, pm, archery]</td>\n",
       "      <td>[archeri, for, year, at, pm, archeri]</td>\n",
       "      <td>[archery, for, year, at, pm, archery]</td>\n",
       "      <td>archery for year at pm archery</td>\n",
       "      <td>archery for year at pm archeri</td>\n",
       "      <td>0</td>\n",
       "    </tr>\n",
       "    <tr>\n",
       "      <th>12504</th>\n",
       "      <td>23278</td>\n",
       "      <td>#whoolo in film you can have sad endings.  #an...</td>\n",
       "      <td>#whoolo in film you can have sad endings #anna...</td>\n",
       "      <td>whoolo in film you can have sad endings anna torv</td>\n",
       "      <td>[whoolo, in, film, you, can, have, sad, ending...</td>\n",
       "      <td>[whoolo, in, film, you, can, have, sad, end, a...</td>\n",
       "      <td>[whoolo, in, film, you, can, have, sad, ending...</td>\n",
       "      <td>whoolo in film you can have sad endings anna torv</td>\n",
       "      <td>whoolo in film you can have sad endings anna torv</td>\n",
       "      <td>0</td>\n",
       "    </tr>\n",
       "    <tr>\n",
       "      <th>22295</th>\n",
       "      <td>17561</td>\n",
       "      <td>@user @user at what time will the gates open?</td>\n",
       "      <td>at what time will the gates open</td>\n",
       "      <td>at what time will the gates open</td>\n",
       "      <td>[at, what, time, will, the, gates, open]</td>\n",
       "      <td>[at, what, time, will, the, gate, open]</td>\n",
       "      <td>[at, what, time, will, the, gate, open]</td>\n",
       "      <td>at what time will the gates open</td>\n",
       "      <td>at what time will the gates open</td>\n",
       "      <td>0</td>\n",
       "    </tr>\n",
       "    <tr>\n",
       "      <th>13326</th>\n",
       "      <td>6135</td>\n",
       "      <td>thank you @user for a new #chargehr after mine...</td>\n",
       "      <td>thank you for a new #chargehr after mine broke...</td>\n",
       "      <td>thank you for a new chargehr after mine broke ...</td>\n",
       "      <td>[thank, you, for, a, new, chargehr, after, min...</td>\n",
       "      <td>[thank, you, for, a, new, chargehr, after, min...</td>\n",
       "      <td>[thank, you, for, a, new, chargehr, after, min...</td>\n",
       "      <td>thank you for a new chargehr after mine broke ...</td>\n",
       "      <td>thank you for a new chargehr after mine broke ...</td>\n",
       "      <td>0</td>\n",
       "    </tr>\n",
       "    <tr>\n",
       "      <th>1147</th>\n",
       "      <td>21952</td>\n",
       "      <td>our thoughts and prayers goes out to everyone ...</td>\n",
       "      <td>our thoughts and prayers goes out to everyone ...</td>\n",
       "      <td>our thoughts and prayers goes out to everyone ...</td>\n",
       "      <td>[our, thoughts, and, prayers, goes, out, to, e...</td>\n",
       "      <td>[our, thought, and, prayer, goe, out, to, ever...</td>\n",
       "      <td>[our, thought, and, prayer, go, out, to, every...</td>\n",
       "      <td>our thoughts and prayers goes out to everyone ...</td>\n",
       "      <td>our thoughts and prayers goes out to everyone ...</td>\n",
       "      <td>0</td>\n",
       "    </tr>\n",
       "    <tr>\n",
       "      <th>19044</th>\n",
       "      <td>25937</td>\n",
       "      <td>#film   bull up: you will dominate your bull a...</td>\n",
       "      <td>#film bull up you will dominate your bull and ...</td>\n",
       "      <td>film bull up you will dominate your bull and y...</td>\n",
       "      <td>[film, bull, up, you, will, dominate, your, bu...</td>\n",
       "      <td>[film, bull, up, you, will, domin, your, bull,...</td>\n",
       "      <td>[film, bull, up, you, will, dominate, your, bu...</td>\n",
       "      <td>film bull up you will dominate your bull and y...</td>\n",
       "      <td>film bull up you will dominate your bull and y...</td>\n",
       "      <td>0</td>\n",
       "    </tr>\n",
       "    <tr>\n",
       "      <th>31112</th>\n",
       "      <td>17229</td>\n",
       "      <td>this is horribly sad news. a fine actor with g...</td>\n",
       "      <td>this is horribly sad news a fine actor with gr...</td>\n",
       "      <td>this is horribly sad news a fine actor with gr...</td>\n",
       "      <td>[this, is, horribly, sad, news, a, fine, actor...</td>\n",
       "      <td>[this, is, horribl, sad, news, a, fine, actor,...</td>\n",
       "      <td>[this, is, horribly, sad, news, a, fine, actor...</td>\n",
       "      <td>this is horribly sad news a fine actor with gr...</td>\n",
       "      <td>this is horribly sad news a fine actor with gr...</td>\n",
       "      <td>0</td>\n",
       "    </tr>\n",
       "    <tr>\n",
       "      <th>14188</th>\n",
       "      <td>7012</td>\n",
       "      <td>follow your #hea and be   â¤</td>\n",
       "      <td>follow your #hea and be</td>\n",
       "      <td>follow your hea and be</td>\n",
       "      <td>[follow, your, hea, and, be]</td>\n",
       "      <td>[follow, your, hea, and, be]</td>\n",
       "      <td>[follow, your, hea, and, be]</td>\n",
       "      <td>follow your hea and be</td>\n",
       "      <td>follow your hea and b</td>\n",
       "      <td>0</td>\n",
       "    </tr>\n",
       "    <tr>\n",
       "      <th>1034</th>\n",
       "      <td>31177</td>\n",
       "      <td>cops giving tickets when they didn't even see ...</td>\n",
       "      <td>cops giving tickets when they didn t even see ...</td>\n",
       "      <td>cops giving tickets when they didn t even see ...</td>\n",
       "      <td>[cops, giving, tickets, when, they, didn, t, e...</td>\n",
       "      <td>[cop, give, ticket, when, they, didn, t, even,...</td>\n",
       "      <td>[cop, giving, ticket, when, they, didn, t, eve...</td>\n",
       "      <td>cops giving tickets when they didn t even see ...</td>\n",
       "      <td>cops giving tickets when they didn t even see ...</td>\n",
       "      <td>0</td>\n",
       "    </tr>\n",
       "    <tr>\n",
       "      <th>2874</th>\n",
       "      <td>23672</td>\n",
       "      <td>singapore city gallery   #riclswtravelbook #be...</td>\n",
       "      <td>singapore city gallery #riclswtravelbook #bear...</td>\n",
       "      <td>singapore city gallery riclswtravelbook bearlo...</td>\n",
       "      <td>[singapore, city, gallery, riclswtravelbook, b...</td>\n",
       "      <td>[singapor, citi, galleri, riclswtravelbook, be...</td>\n",
       "      <td>[singapore, city, gallery, riclswtravelbook, b...</td>\n",
       "      <td>singapore city gallery riclswtravelbook bearlo...</td>\n",
       "      <td>singapore city gallery riclswtravelbook bearlo...</td>\n",
       "      <td>0</td>\n",
       "    </tr>\n",
       "    <tr>\n",
       "      <th>8230</th>\n",
       "      <td>19584</td>\n",
       "      <td>oh man, been waiting for #wehappyfew for so lo...</td>\n",
       "      <td>oh man been waiting for #wehappyfew for so lon...</td>\n",
       "      <td>oh man been waiting for wehappyfew for so long...</td>\n",
       "      <td>[oh, man, been, waiting, for, wehappyfew, for,...</td>\n",
       "      <td>[oh, man, been, wait, for, wehappyfew, for, so...</td>\n",
       "      <td>[oh, man, been, waiting, for, wehappyfew, for,...</td>\n",
       "      <td>oh man been waiting for wehappyfew for so long...</td>\n",
       "      <td>oh man been waiting for wehappyfew for so long...</td>\n",
       "      <td>0</td>\n",
       "    </tr>\n",
       "    <tr>\n",
       "      <th>15277</th>\n",
       "      <td>9967</td>\n",
       "      <td>schools almost over.</td>\n",
       "      <td>schools almost over</td>\n",
       "      <td>schools almost over</td>\n",
       "      <td>[schools, almost, over]</td>\n",
       "      <td>[school, almost, over]</td>\n",
       "      <td>[school, almost, over]</td>\n",
       "      <td>schools almost over</td>\n",
       "      <td>schools almost ov</td>\n",
       "      <td>0</td>\n",
       "    </tr>\n",
       "    <tr>\n",
       "      <th>30396</th>\n",
       "      <td>2987</td>\n",
       "      <td>â #usd/cad bounces-off 0.2900, despite high...</td>\n",
       "      <td>#usd cad bounces off despite higher oil #blog ...</td>\n",
       "      <td>usd cad bounces off despite higher oil blog si...</td>\n",
       "      <td>[usd, cad, bounces, off, despite, higher, oil,...</td>\n",
       "      <td>[usd, cad, bounc, off, despit, higher, oil, bl...</td>\n",
       "      <td>[usd, cad, bounce, off, despite, higher, oil, ...</td>\n",
       "      <td>usd cad bounces off despite higher oil blog si...</td>\n",
       "      <td>usd cad bounces off despite higher oil blog si...</td>\n",
       "      <td>0</td>\n",
       "    </tr>\n",
       "  </tbody>\n",
       "</table>\n",
       "<p>37982 rows × 10 columns</p>\n",
       "</div>"
      ],
      "text/plain": [
       "          id                                              tweet  \\\n",
       "565    20676  @user f*** this  ð¦ðº government that deli...   \n",
       "21531  24025  despite a demoralizing 2016: may ur #newyear20...   \n",
       "13300  18145  @user #koreans &amp; joseon people in japan, w...   \n",
       "18925   8506  @user @user @user @user classic ! yet you jewi...   \n",
       "12619  15464  @user did someone say #antisemetic ? gee (((@u...   \n",
       "26964  28937  couldn't have said this any better nor truthfu...   \n",
       "17273  25291  @user racism stuffed into skinny jeans with a ...   \n",
       "1561   12717  the end of   #me #selfie # #love #messi #cr7 #...   \n",
       "17875  11612  trump ally wishes mad cow disease death for ob...   \n",
       "17184  20554  opinion:  is rife in the #lgbt community. #gay...   \n",
       "8573   25151  @user #allahsoil the cold war was fought over ...   \n",
       "26779  13585  omg, these trump suppoers are deplorable! #dum...   \n",
       "15332   2581  sea shepherd suppoers are racist!   #antiracis...   \n",
       "12290   6519  .@user @user while @user can use phrases like ...   \n",
       "24159   9563  @user #allahsoil enlightenment is wasted on th...   \n",
       "25895   8452  @user here comes a  #supermistict douchebag wh...   \n",
       "23934  17750  @user hidden  in #america is as rampant as bla...   \n",
       "29174  21389  will the alt-right promote a new kind of  gene...   \n",
       "10474  23431  #us why weneed #empathy #ageoftrump #grassroot...   \n",
       "30743  12301  black trump suppoer smacks down cnn repoer for...   \n",
       "6190   19407  so sick of all the pre-programmed #hillbots rh...   \n",
       "19746    406  @user when you're blocked by a  troll because ...   \n",
       "19581  11720  @user @user you forgot #democrate, because vet...   \n",
       "31767  28476  sea shepherd suppoers are racist!   #antiracis...   \n",
       "25210  24768                             porn vids web free sex   \n",
       "19800  19745  @user &amp; the  #democraticpay keeps telling ...   \n",
       "7812    1242  @user although, i am not a , a #bigot or a #mi...   \n",
       "5074   23280               this is sooooo  or may be just funny   \n",
       "6317   15050  @user âwe the peopleâ originally meant â...   \n",
       "5988   24766  i've no problem with #universities that teach ...   \n",
       "...      ...                                                ...   \n",
       "3721   17405  check out this new trending #funny #gif !  , p...   \n",
       "28057  31774  this reminds me of this. i am   love these two...   \n",
       "15044   5789   livelypics: just when you think you know peop...   \n",
       "23222  29934  trying not to shut down but maybe #pokemon wil...   \n",
       "27273    395  #first #bihday to our #puppy #eloise #sweetbab...   \n",
       "30304  10458  @user it was in ceain areas yeah, you not seen...   \n",
       "3928   19081  so many shit talkers/bullies in the youtube co...   \n",
       "269    13429  all ready to pay xx #saturday #daughter #love ...   \n",
       "9826    6122  feeling a little #mole tonight! ó¾« #food #fo...   \n",
       "11548  14426  while we're still trying to get over the shock...   \n",
       "19491  19469  fantasy aisle ð #i #fantasy #aisle #summer ...   \n",
       "31522  17794  have a wonderful f r i d a y ð¸  #love #emik...   \n",
       "750    11550  who wants him to be the next commander in chie...   \n",
       "21399  18137                we beat that cock.   #beatit #penis   \n",
       "16625  14918                             lik if u cri everi tim   \n",
       "7084   12925  speakers dinner on eve of #ricsrural conferenc...   \n",
       "21332   1640  best facetime today; i can't wait to see my bo...   \n",
       "28564  18855           archery for year 5 at 1.30pm!   #archery   \n",
       "12504  23278  #whoolo in film you can have sad endings.  #an...   \n",
       "22295  17561      @user @user at what time will the gates open?   \n",
       "13326   6135  thank you @user for a new #chargehr after mine...   \n",
       "1147   21952  our thoughts and prayers goes out to everyone ...   \n",
       "19044  25937  #film   bull up: you will dominate your bull a...   \n",
       "31112  17229  this is horribly sad news. a fine actor with g...   \n",
       "14188   7012                      follow your #hea and be   â¤   \n",
       "1034   31177  cops giving tickets when they didn't even see ...   \n",
       "2874   23672  singapore city gallery   #riclswtravelbook #be...   \n",
       "8230   19584  oh man, been waiting for #wehappyfew for so lo...   \n",
       "15277   9967                               schools almost over.   \n",
       "30396   2987   â #usd/cad bounces-off 0.2900, despite high...   \n",
       "\n",
       "                                              tidy_tweet  \\\n",
       "565    f this government that deliberately toures #re...   \n",
       "21531  despite a demoralizing may ur #newyear be #cla...   \n",
       "13300  #koreans amp joseon people in japan will abuse...   \n",
       "18925  classic yet you jewish bastards wonder why you...   \n",
       "12619  did someone say #antisemetic gee you re a bit ...   \n",
       "26964  couldn t have said this any better nor truthfu...   \n",
       "17273  racism stuffed into skinny jeans with a hipste...   \n",
       "1561   the end of #me #selfie # #love #messi #cr #rel...   \n",
       "17875  trump ally wishes mad cow disease death for ob...   \n",
       "17184  opinion is rife in the #lgbt community #gay pe...   \n",
       "8573   #allahsoil the cold war was fought over oil #t...   \n",
       "26779  omg these trump suppoers are deplorable #dumpt...   \n",
       "15332  sea shepherd suppoers are racist #antiracism #...   \n",
       "12290  while can use phrases like #sandniggers is acc...   \n",
       "24159  #allahsoil enlightenment is wasted on the wilf...   \n",
       "25895  here comes a #supermistict douchebag who can o...   \n",
       "23934  hidden in #america is as rampant as blatant ra...   \n",
       "29174  will the alt right promote a new kind of genet...   \n",
       "10474  #us why weneed #empathy #ageoftrump #grassroot...   \n",
       "30743  black trump suppoer smacks down cnn repoer for...   \n",
       "6190   so sick of all the pre programmed #hillbots rh...   \n",
       "19746  when you re blocked by a troll because you pro...   \n",
       "19581  you forgot #democrate because vetting people f...   \n",
       "31767  sea shepherd suppoers are racist #antiracism #...   \n",
       "25210                             porn vids web free sex   \n",
       "19800  amp the #democraticpay keeps telling me that #...   \n",
       "7812   although i am not a a #bigot or a #misogynist ...   \n",
       "5074                 this is sooooo or may be just funny   \n",
       "6317   we the people originally meant we the white la...   \n",
       "5988   i ve no problem with #universities that teach ...   \n",
       "...                                                  ...   \n",
       "3721   check out this new trending #funny #gif pixel ...   \n",
       "28057  this reminds me of this i am love these two th...   \n",
       "15044  livelypics just when you think you know people...   \n",
       "23222  trying not to shut down but maybe #pokemon wil...   \n",
       "27273  #first #bihday to our #puppy #eloise #sweetbab...   \n",
       "30304  it was in ceain areas yeah you not seen the vi...   \n",
       "3928   so many shit talkers bullies in the youtube co...   \n",
       "269    all ready to pay xx #saturday #daughter #love ...   \n",
       "9826   feeling a little #mole tonight #food #foodblog...   \n",
       "11548  while we re still trying to get over the shock...   \n",
       "19491  fantasy aisle #i #fantasy #aisle #summer #gran...   \n",
       "31522  have a wonderful f r i d a y #love #emikagifts...   \n",
       "750    who wants him to be the next commander in chie...   \n",
       "21399                   we beat that cock #beatit #penis   \n",
       "16625                             lik if u cri everi tim   \n",
       "7084   speakers dinner on eve of #ricsrural conferenc...   \n",
       "21332  best facetime today i can t wait to see my boy...   \n",
       "28564                    archery for year at pm #archery   \n",
       "12504  #whoolo in film you can have sad endings #anna...   \n",
       "22295                   at what time will the gates open   \n",
       "13326  thank you for a new #chargehr after mine broke...   \n",
       "1147   our thoughts and prayers goes out to everyone ...   \n",
       "19044  #film bull up you will dominate your bull and ...   \n",
       "31112  this is horribly sad news a fine actor with gr...   \n",
       "14188                            follow your #hea and be   \n",
       "1034   cops giving tickets when they didn t even see ...   \n",
       "2874   singapore city gallery #riclswtravelbook #bear...   \n",
       "8230   oh man been waiting for #wehappyfew for so lon...   \n",
       "15277                                schools almost over   \n",
       "30396  #usd cad bounces off despite higher oil #blog ...   \n",
       "\n",
       "                                           no_hash_tweet  \\\n",
       "565    f this government that deliberately toures ref...   \n",
       "21531  despite a demoralizing may ur newyear be class...   \n",
       "13300  koreans amp joseon people in japan will abuse ...   \n",
       "18925  classic yet you jewish bastards wonder why you...   \n",
       "12619  did someone say antisemetic gee you re a bit t...   \n",
       "26964  couldn t have said this any better nor truthfu...   \n",
       "17273  racism stuffed into skinny jeans with a hipste...   \n",
       "1561   the end of me selfie  love messi cr religion c...   \n",
       "17875  trump ally wishes mad cow disease death for ob...   \n",
       "17184  opinion is rife in the lgbt community gay peop...   \n",
       "8573   allahsoil the cold war was fought over oil tea...   \n",
       "26779  omg these trump suppoers are deplorable dumptr...   \n",
       "15332  sea shepherd suppoers are racist antiracism se...   \n",
       "12290  while can use phrases like sandniggers is acce...   \n",
       "24159  allahsoil enlightenment is wasted on the wilfu...   \n",
       "25895  here comes a supermistict douchebag who can on...   \n",
       "23934  hidden in america is as rampant as blatant racism   \n",
       "29174  will the alt right promote a new kind of genet...   \n",
       "10474  us why weneed empathy ageoftrump grassrootsact...   \n",
       "30743  black trump suppoer smacks down cnn repoer for...   \n",
       "6190   so sick of all the pre programmed hillbots rhe...   \n",
       "19746  when you re blocked by a troll because you pro...   \n",
       "19581  you forgot democrate because vetting people fr...   \n",
       "31767  sea shepherd suppoers are racist antiracism se...   \n",
       "25210                             porn vids web free sex   \n",
       "19800  amp the democraticpay keeps telling me that bl...   \n",
       "7812   although i am not a a bigot or a misogynist so...   \n",
       "5074                 this is sooooo or may be just funny   \n",
       "6317   we the people originally meant we the white la...   \n",
       "5988   i ve no problem with universities that teach a...   \n",
       "...                                                  ...   \n",
       "3721   check out this new trending funny gif pixel ce...   \n",
       "28057  this reminds me of this i am love these two th...   \n",
       "15044  livelypics just when you think you know people...   \n",
       "23222  trying not to shut down but maybe pokemon will...   \n",
       "27273  first bihday to our puppy eloise sweetbabins d...   \n",
       "30304  it was in ceain areas yeah you not seen the vi...   \n",
       "3928   so many shit talkers bullies in the youtube co...   \n",
       "269    all ready to pay xx saturday daughter love pay...   \n",
       "9826   feeling a little mole tonight food foodblogger...   \n",
       "11548  while we re still trying to get over the shock...   \n",
       "19491  fantasy aisle i fantasy aisle summer grand vac...   \n",
       "31522  have a wonderful f r i d a y love emikagifts j...   \n",
       "750    who wants him to be the next commander in chie...   \n",
       "21399                     we beat that cock beatit penis   \n",
       "16625                             lik if u cri everi tim   \n",
       "7084   speakers dinner on eve of ricsrural conference...   \n",
       "21332  best facetime today i can t wait to see my boy...   \n",
       "28564                     archery for year at pm archery   \n",
       "12504  whoolo in film you can have sad endings anna torv   \n",
       "22295                   at what time will the gates open   \n",
       "13326  thank you for a new chargehr after mine broke ...   \n",
       "1147   our thoughts and prayers goes out to everyone ...   \n",
       "19044  film bull up you will dominate your bull and y...   \n",
       "31112  this is horribly sad news a fine actor with gr...   \n",
       "14188                             follow your hea and be   \n",
       "1034   cops giving tickets when they didn t even see ...   \n",
       "2874   singapore city gallery riclswtravelbook bearlo...   \n",
       "8230   oh man been waiting for wehappyfew for so long...   \n",
       "15277                                schools almost over   \n",
       "30396  usd cad bounces off despite higher oil blog si...   \n",
       "\n",
       "                                         tokenized_tweet  \\\n",
       "565    [f, this, government, that, deliberately, tour...   \n",
       "21531  [despite, a, demoralizing, may, ur, newyear, b...   \n",
       "13300  [koreans, amp, joseon, people, in, japan, will...   \n",
       "18925  [classic, yet, you, jewish, bastards, wonder, ...   \n",
       "12619  [did, someone, say, antisemetic, gee, you, re,...   \n",
       "26964  [couldn, t, have, said, this, any, better, nor...   \n",
       "17273  [racism, stuffed, into, skinny, jeans, with, a...   \n",
       "1561   [the, end, of, me, selfie, love, messi, cr, re...   \n",
       "17875  [trump, ally, wishes, mad, cow, disease, death...   \n",
       "17184  [opinion, is, rife, in, the, lgbt, community, ...   \n",
       "8573   [allahsoil, the, cold, war, was, fought, over,...   \n",
       "26779  [omg, these, trump, suppoers, are, deplorable,...   \n",
       "15332  [sea, shepherd, suppoers, are, racist, antirac...   \n",
       "12290  [while, can, use, phrases, like, sandniggers, ...   \n",
       "24159  [allahsoil, enlightenment, is, wasted, on, the...   \n",
       "25895  [here, comes, a, supermistict, douchebag, who,...   \n",
       "23934  [hidden, in, america, is, as, rampant, as, bla...   \n",
       "29174  [will, the, alt, right, promote, a, new, kind,...   \n",
       "10474  [us, why, weneed, empathy, ageoftrump, grassro...   \n",
       "30743  [black, trump, suppoer, smacks, down, cnn, rep...   \n",
       "6190   [so, sick, of, all, the, pre, programmed, hill...   \n",
       "19746  [when, you, re, blocked, by, a, troll, because...   \n",
       "19581  [you, forgot, democrate, because, vetting, peo...   \n",
       "31767  [sea, shepherd, suppoers, are, racist, antirac...   \n",
       "25210                       [porn, vids, web, free, sex]   \n",
       "19800  [amp, the, democraticpay, keeps, telling, me, ...   \n",
       "7812   [although, i, am, not, a, a, bigot, or, a, mis...   \n",
       "5074        [this, is, sooooo, or, may, be, just, funny]   \n",
       "6317   [we, the, people, originally, meant, we, the, ...   \n",
       "5988   [i, ve, no, problem, with, universities, that,...   \n",
       "...                                                  ...   \n",
       "3721   [check, out, this, new, trending, funny, gif, ...   \n",
       "28057  [this, reminds, me, of, this, i, am, love, the...   \n",
       "15044  [livelypics, just, when, you, think, you, know...   \n",
       "23222  [trying, not, to, shut, down, but, maybe, poke...   \n",
       "27273  [first, bihday, to, our, puppy, eloise, sweetb...   \n",
       "30304  [it, was, in, ceain, areas, yeah, you, not, se...   \n",
       "3928   [so, many, shit, talkers, bullies, in, the, yo...   \n",
       "269    [all, ready, to, pay, xx, saturday, daughter, ...   \n",
       "9826   [feeling, a, little, mole, tonight, food, food...   \n",
       "11548  [while, we, re, still, trying, to, get, over, ...   \n",
       "19491  [fantasy, aisle, i, fantasy, aisle, summer, gr...   \n",
       "31522  [have, a, wonderful, f, r, i, d, a, y, love, e...   \n",
       "750    [who, wants, him, to, be, the, next, commander...   \n",
       "21399              [we, beat, that, cock, beatit, penis]   \n",
       "16625                      [lik, if, u, cri, everi, tim]   \n",
       "7084   [speakers, dinner, on, eve, of, ricsrural, con...   \n",
       "21332  [best, facetime, today, i, can, t, wait, to, s...   \n",
       "28564              [archery, for, year, at, pm, archery]   \n",
       "12504  [whoolo, in, film, you, can, have, sad, ending...   \n",
       "22295           [at, what, time, will, the, gates, open]   \n",
       "13326  [thank, you, for, a, new, chargehr, after, min...   \n",
       "1147   [our, thoughts, and, prayers, goes, out, to, e...   \n",
       "19044  [film, bull, up, you, will, dominate, your, bu...   \n",
       "31112  [this, is, horribly, sad, news, a, fine, actor...   \n",
       "14188                       [follow, your, hea, and, be]   \n",
       "1034   [cops, giving, tickets, when, they, didn, t, e...   \n",
       "2874   [singapore, city, gallery, riclswtravelbook, b...   \n",
       "8230   [oh, man, been, waiting, for, wehappyfew, for,...   \n",
       "15277                            [schools, almost, over]   \n",
       "30396  [usd, cad, bounces, off, despite, higher, oil,...   \n",
       "\n",
       "                                          stemmed_tokens  \\\n",
       "565    [f, this, govern, that, deliber, tour, refuge,...   \n",
       "21531  [despit, a, demor, may, ur, newyear, be, class...   \n",
       "13300  [korean, amp, joseon, peopl, in, japan, will, ...   \n",
       "18925  [classic, yet, you, jewish, bastard, wonder, w...   \n",
       "12619  [did, someon, say, antisemet, gee, you, re, a,...   \n",
       "26964  [couldn, t, have, said, this, ani, better, nor...   \n",
       "17273  [racism, stuf, into, skinni, jean, with, a, hi...   \n",
       "1561   [the, end, of, me, selfi, love, messi, cr, rel...   \n",
       "17875  [trump, alli, wish, mad, cow, diseas, death, f...   \n",
       "17184  [opinion, is, rife, in, the, lgbt, communiti, ...   \n",
       "8573   [allahsoil, the, cold, war, was, fought, over,...   \n",
       "26779  [omg, these, trump, suppoer, are, deplor, dump...   \n",
       "15332  [sea, shepherd, suppoer, are, racist, antirac,...   \n",
       "12290  [while, can, use, phrase, like, sandnigg, is, ...   \n",
       "24159  [allahsoil, enlighten, is, wast, on, the, wil,...   \n",
       "25895  [here, come, a, supermistict, douchebag, who, ...   \n",
       "23934  [hidden, in, america, is, as, rampant, as, bla...   \n",
       "29174  [will, the, alt, right, promot, a, new, kind, ...   \n",
       "10474  [us, whi, wene, empathi, ageoftrump, grassroot...   \n",
       "30743  [black, trump, suppoer, smack, down, cnn, repo...   \n",
       "6190   [so, sick, of, all, the, pre, program, hillbot...   \n",
       "19746  [when, you, re, block, by, a, troll, becaus, y...   \n",
       "19581  [you, forgot, democr, becaus, vet, peopl, from...   \n",
       "31767  [sea, shepherd, suppoer, are, racist, antirac,...   \n",
       "25210                        [porn, vid, web, free, sex]   \n",
       "19800  [amp, the, democraticpay, keep, tell, me, that...   \n",
       "7812   [although, i, am, not, a, a, bigot, or, a, mis...   \n",
       "5074        [this, is, sooooo, or, may, be, just, funni]   \n",
       "6317   [we, the, peopl, origin, meant, we, the, white...   \n",
       "5988   [i, ve, no, problem, with, univers, that, teac...   \n",
       "...                                                  ...   \n",
       "3721   [check, out, this, new, trend, funni, gif, pix...   \n",
       "28057  [this, remind, me, of, this, i, am, love, thes...   \n",
       "15044  [livelyp, just, when, you, think, you, know, p...   \n",
       "23222  [tri, not, to, shut, down, but, mayb, pokemon,...   \n",
       "27273  [first, bihday, to, our, puppi, elois, sweetba...   \n",
       "30304  [it, was, in, ceain, area, yeah, you, not, see...   \n",
       "3928   [so, mani, shit, talker, bulli, in, the, youtu...   \n",
       "269    [all, readi, to, pay, xx, saturday, daughter, ...   \n",
       "9826   [feel, a, littl, mole, tonight, food, foodblog...   \n",
       "11548  [while, we, re, still, tri, to, get, over, the...   \n",
       "19491  [fantasi, aisl, i, fantasi, aisl, summer, gran...   \n",
       "31522  [have, a, wonder, f, r, i, d, a, y, love, emik...   \n",
       "750    [who, want, him, to, be, the, next, command, i...   \n",
       "21399               [we, beat, that, cock, beatit, peni]   \n",
       "16625                      [lik, if, u, cri, everi, tim]   \n",
       "7084   [speaker, dinner, on, eve, of, ricsrur, confer...   \n",
       "21332  [best, facetim, today, i, can, t, wait, to, se...   \n",
       "28564              [archeri, for, year, at, pm, archeri]   \n",
       "12504  [whoolo, in, film, you, can, have, sad, end, a...   \n",
       "22295            [at, what, time, will, the, gate, open]   \n",
       "13326  [thank, you, for, a, new, chargehr, after, min...   \n",
       "1147   [our, thought, and, prayer, goe, out, to, ever...   \n",
       "19044  [film, bull, up, you, will, domin, your, bull,...   \n",
       "31112  [this, is, horribl, sad, news, a, fine, actor,...   \n",
       "14188                       [follow, your, hea, and, be]   \n",
       "1034   [cop, give, ticket, when, they, didn, t, even,...   \n",
       "2874   [singapor, citi, galleri, riclswtravelbook, be...   \n",
       "8230   [oh, man, been, wait, for, wehappyfew, for, so...   \n",
       "15277                             [school, almost, over]   \n",
       "30396  [usd, cad, bounc, off, despit, higher, oil, bl...   \n",
       "\n",
       "                                       lemmatized_tokens  \\\n",
       "565    [f, this, government, that, deliberately, tour...   \n",
       "21531  [despite, a, demoralizing, may, ur, newyear, b...   \n",
       "13300  [korean, amp, joseon, people, in, japan, will,...   \n",
       "18925  [classic, yet, you, jewish, bastard, wonder, w...   \n",
       "12619  [did, someone, say, antisemetic, gee, you, re,...   \n",
       "26964  [couldn, t, have, said, this, any, better, nor...   \n",
       "17273  [racism, stuffed, into, skinny, jean, with, a,...   \n",
       "1561   [the, end, of, me, selfie, love, messi, cr, re...   \n",
       "17875  [trump, ally, wish, mad, cow, disease, death, ...   \n",
       "17184  [opinion, is, rife, in, the, lgbt, community, ...   \n",
       "8573   [allahsoil, the, cold, war, wa, fought, over, ...   \n",
       "26779  [omg, these, trump, suppoers, are, deplorable,...   \n",
       "15332  [sea, shepherd, suppoers, are, racist, antirac...   \n",
       "12290  [while, can, use, phrase, like, sandniggers, i...   \n",
       "24159  [allahsoil, enlightenment, is, wasted, on, the...   \n",
       "25895  [here, come, a, supermistict, douchebag, who, ...   \n",
       "23934  [hidden, in, america, is, a, rampant, a, blata...   \n",
       "29174  [will, the, alt, right, promote, a, new, kind,...   \n",
       "10474  [u, why, weneed, empathy, ageoftrump, grassroo...   \n",
       "30743  [black, trump, suppoer, smack, down, cnn, repo...   \n",
       "6190   [so, sick, of, all, the, pre, programmed, hill...   \n",
       "19746  [when, you, re, blocked, by, a, troll, because...   \n",
       "19581  [you, forgot, democrate, because, vetting, peo...   \n",
       "31767  [sea, shepherd, suppoers, are, racist, antirac...   \n",
       "25210                       [porn, vids, web, free, sex]   \n",
       "19800  [amp, the, democraticpay, keep, telling, me, t...   \n",
       "7812   [although, i, am, not, a, a, bigot, or, a, mis...   \n",
       "5074        [this, is, sooooo, or, may, be, just, funny]   \n",
       "6317   [we, the, people, originally, meant, we, the, ...   \n",
       "5988   [i, ve, no, problem, with, university, that, t...   \n",
       "...                                                  ...   \n",
       "3721   [check, out, this, new, trending, funny, gif, ...   \n",
       "28057  [this, reminds, me, of, this, i, am, love, the...   \n",
       "15044  [livelypics, just, when, you, think, you, know...   \n",
       "23222  [trying, not, to, shut, down, but, maybe, poke...   \n",
       "27273  [first, bihday, to, our, puppy, eloise, sweetb...   \n",
       "30304  [it, wa, in, ceain, area, yeah, you, not, seen...   \n",
       "3928   [so, many, shit, talker, bully, in, the, youtu...   \n",
       "269    [all, ready, to, pay, xx, saturday, daughter, ...   \n",
       "9826   [feeling, a, little, mole, tonight, food, food...   \n",
       "11548  [while, we, re, still, trying, to, get, over, ...   \n",
       "19491  [fantasy, aisle, i, fantasy, aisle, summer, gr...   \n",
       "31522  [have, a, wonderful, f, r, i, d, a, y, love, e...   \n",
       "750    [who, want, him, to, be, the, next, commander,...   \n",
       "21399              [we, beat, that, cock, beatit, penis]   \n",
       "16625                      [lik, if, u, cri, everi, tim]   \n",
       "7084   [speaker, dinner, on, eve, of, ricsrural, conf...   \n",
       "21332  [best, facetime, today, i, can, t, wait, to, s...   \n",
       "28564              [archery, for, year, at, pm, archery]   \n",
       "12504  [whoolo, in, film, you, can, have, sad, ending...   \n",
       "22295            [at, what, time, will, the, gate, open]   \n",
       "13326  [thank, you, for, a, new, chargehr, after, min...   \n",
       "1147   [our, thought, and, prayer, go, out, to, every...   \n",
       "19044  [film, bull, up, you, will, dominate, your, bu...   \n",
       "31112  [this, is, horribly, sad, news, a, fine, actor...   \n",
       "14188                       [follow, your, hea, and, be]   \n",
       "1034   [cop, giving, ticket, when, they, didn, t, eve...   \n",
       "2874   [singapore, city, gallery, riclswtravelbook, b...   \n",
       "8230   [oh, man, been, waiting, for, wehappyfew, for,...   \n",
       "15277                             [school, almost, over]   \n",
       "30396  [usd, cad, bounce, off, despite, higher, oil, ...   \n",
       "\n",
       "                                               lem_tweet  \\\n",
       "565    f this government that deliberately toures ref...   \n",
       "21531  despite a demoralizing may ur newyear be class...   \n",
       "13300  koreans amp joseon people in japan will abuse ...   \n",
       "18925  classic yet you jewish bastards wonder why you...   \n",
       "12619  did someone say antisemetic gee you re a bit t...   \n",
       "26964  couldn t have said this any better nor truthfu...   \n",
       "17273  racism stuffed into skinny jeans with a hipste...   \n",
       "1561   the end of me selfie  love messi cr religion c...   \n",
       "17875  trump ally wishes mad cow disease death for ob...   \n",
       "17184  opinion is rife in the lgbt community gay peop...   \n",
       "8573   allahsoil the cold war was fought over oil tea...   \n",
       "26779  omg these trump suppoers are deplorable dumptr...   \n",
       "15332  sea shepherd suppoers are racist antiracism se...   \n",
       "12290  while can use phrases like sandniggers is acce...   \n",
       "24159  allahsoil enlightenment is wasted on the wilfu...   \n",
       "25895  here comes a supermistict douchebag who can on...   \n",
       "23934  hidden in america is as rampant as blatant racism   \n",
       "29174  will the alt right promote a new kind of genet...   \n",
       "10474  us why weneed empathy ageoftrump grassrootsact...   \n",
       "30743  black trump suppoer smacks down cnn repoer for...   \n",
       "6190   so sick of all the pre programmed hillbots rhe...   \n",
       "19746  when you re blocked by a troll because you pro...   \n",
       "19581  you forgot democrate because vetting people fr...   \n",
       "31767  sea shepherd suppoers are racist antiracism se...   \n",
       "25210                             porn vids web free sex   \n",
       "19800  amp the democraticpay keeps telling me that bl...   \n",
       "7812   although i am not a a bigot or a misogynist so...   \n",
       "5074                 this is sooooo or may be just funny   \n",
       "6317   we the people originally meant we the white la...   \n",
       "5988   i ve no problem with universities that teach a...   \n",
       "...                                                  ...   \n",
       "3721   check out this new trending funny gif pixel ce...   \n",
       "28057  this reminds me of this i am love these two th...   \n",
       "15044  livelypics just when you think you know people...   \n",
       "23222  trying not to shut down but maybe pokemon will...   \n",
       "27273  first bihday to our puppy eloise sweetbabins d...   \n",
       "30304  it was in ceain areas yeah you not seen the vi...   \n",
       "3928   so many shit talkers bullies in the youtube co...   \n",
       "269    all ready to pay xx saturday daughter love pay...   \n",
       "9826   feeling a little mole tonight food foodblogger...   \n",
       "11548  while we re still trying to get over the shock...   \n",
       "19491  fantasy aisle i fantasy aisle summer grand vac...   \n",
       "31522  have a wonderful f r i d a y love emikagifts j...   \n",
       "750    who wants him to be the next commander in chie...   \n",
       "21399                     we beat that cock beatit penis   \n",
       "16625                             lik if u cri everi tim   \n",
       "7084   speakers dinner on eve of ricsrural conference...   \n",
       "21332  best facetime today i can t wait to see my boy...   \n",
       "28564                     archery for year at pm archery   \n",
       "12504  whoolo in film you can have sad endings anna torv   \n",
       "22295                   at what time will the gates open   \n",
       "13326  thank you for a new chargehr after mine broke ...   \n",
       "1147   our thoughts and prayers goes out to everyone ...   \n",
       "19044  film bull up you will dominate your bull and y...   \n",
       "31112  this is horribly sad news a fine actor with gr...   \n",
       "14188                             follow your hea and be   \n",
       "1034   cops giving tickets when they didn t even see ...   \n",
       "2874   singapore city gallery riclswtravelbook bearlo...   \n",
       "8230   oh man been waiting for wehappyfew for so long...   \n",
       "15277                                schools almost over   \n",
       "30396  usd cad bounces off despite higher oil blog si...   \n",
       "\n",
       "                                              stem_tweet  label  \n",
       "565    f this government that deliberately toures ref...      1  \n",
       "21531  despite a demoralizing may ur newyear be class...      1  \n",
       "13300  koreans amp joseon people in japan will abuse ...      1  \n",
       "18925  classic yet you jewish bastards wonder why you...      1  \n",
       "12619  did someone say antisemetic gee you re a bit t...      1  \n",
       "26964  couldn t have said this any better nor truthfu...      1  \n",
       "17273  racism stuffed into skinny jeans with a hipste...      1  \n",
       "1561   the end of me selfie  love messi cr religion c...      1  \n",
       "17875  trump ally wishes mad cow disease death for ob...      1  \n",
       "17184  opinion is rife in the lgbt community gay peop...      1  \n",
       "8573   allahsoil the cold war was fought over oil tea...      1  \n",
       "26779  omg these trump suppoers are deplorable dumptr...      1  \n",
       "15332  sea shepherd suppoers are racist antiracism se...      1  \n",
       "12290  while can use phrases like sandniggers is acce...      1  \n",
       "24159  allahsoil enlightenment is wasted on the wilfu...      1  \n",
       "25895  here comes a supermistict douchebag who can on...      1  \n",
       "23934     hidden in america is as rampant as blatant rac      1  \n",
       "29174  will the alt right promote a new kind of genet...      1  \n",
       "10474  us why weneed empathy ageoftrump grassrootsact...      1  \n",
       "30743  black trump suppoer smacks down cnn repoer for...      1  \n",
       "6190   so sick of all the pre programmed hillbots rhe...      1  \n",
       "19746  when you re blocked by a troll because you pro...      1  \n",
       "19581  you forgot democrate because vetting people fr...      1  \n",
       "31767  sea shepherd suppoers are racist antiracism se...      1  \n",
       "25210                             porn vids web free sex      1  \n",
       "19800  amp the democraticpay keeps telling me that bl...      1  \n",
       "7812   although i am not a a bigot or a misogynist so...      1  \n",
       "5074                 this is sooooo or may be just funni      1  \n",
       "6317   we the people originally meant we the white la...      1  \n",
       "5988   i ve no problem with universities that teach a...      1  \n",
       "...                                                  ...    ...  \n",
       "3721   check out this new trending funny gif pixel ce...      0  \n",
       "28057  this reminds me of this i am love these two th...      0  \n",
       "15044  livelypics just when you think you know people...      0  \n",
       "23222  trying not to shut down but maybe pokemon will...      0  \n",
       "27273  first bihday to our puppy eloise sweetbabins d...      0  \n",
       "30304  it was in ceain areas yeah you not seen the vi...      0  \n",
       "3928   so many shit talkers bullies in the youtube co...      0  \n",
       "269    all ready to pay xx saturday daughter love pay...      0  \n",
       "9826   feeling a little mole tonight food foodblogger...      0  \n",
       "11548  while we re still trying to get over the shock...      0  \n",
       "19491  fantasy aisle i fantasy aisle summer grand vac...      0  \n",
       "31522  have a wonderful f r i d a y love emikagifts j...      0  \n",
       "750    who wants him to be the next commander in chie...      0  \n",
       "21399                      we beat that cock beatit peni      0  \n",
       "16625                             lik if u cri everi tim      0  \n",
       "7084   speakers dinner on eve of ricsrural conference...      0  \n",
       "21332  best facetime today i can t wait to see my boy...      0  \n",
       "28564                     archery for year at pm archeri      0  \n",
       "12504  whoolo in film you can have sad endings anna torv      0  \n",
       "22295                   at what time will the gates open      0  \n",
       "13326  thank you for a new chargehr after mine broke ...      0  \n",
       "1147   our thoughts and prayers goes out to everyone ...      0  \n",
       "19044  film bull up you will dominate your bull and y...      0  \n",
       "31112  this is horribly sad news a fine actor with gr...      0  \n",
       "14188                              follow your hea and b      0  \n",
       "1034   cops giving tickets when they didn t even see ...      0  \n",
       "2874   singapore city gallery riclswtravelbook bearlo...      0  \n",
       "8230   oh man been waiting for wehappyfew for so long...      0  \n",
       "15277                                  schools almost ov      0  \n",
       "30396  usd cad bounces off despite higher oil blog si...      0  \n",
       "\n",
       "[37982 rows x 10 columns]"
      ]
     },
     "execution_count": 25,
     "metadata": {},
     "output_type": "execute_result"
    }
   ],
   "source": [
    "upsample_training_data(X_train, y_train)"
   ]
  },
  {
   "cell_type": "code",
   "execution_count": 26,
   "metadata": {},
   "outputs": [],
   "source": [
    "train_upsampled = upsample_training_data(X_train, y_train)\n",
    "\n",
    "X_train_up = train_upsampled.drop(['label'], axis = 1)\n",
    "y_train_up = pd.DataFrame(train_upsampled.label)"
   ]
  },
  {
   "cell_type": "code",
   "execution_count": 27,
   "metadata": {},
   "outputs": [
    {
     "data": {
      "text/plain": [
       "1    18991\n",
       "0    18991\n",
       "Name: label, dtype: int64"
      ]
     },
     "execution_count": 27,
     "metadata": {},
     "output_type": "execute_result"
    }
   ],
   "source": [
    "train_upsampled['label'].value_counts()"
   ]
  },
  {
   "cell_type": "code",
   "execution_count": 28,
   "metadata": {},
   "outputs": [],
   "source": [
    "train_downsampled = downsample_training_data(X_train, y_train)\n",
    "\n",
    "X_train_down = train_downsampled.drop(['label'], axis = 1)\n",
    "y_train_down = pd.DataFrame(train_downsampled.label)"
   ]
  },
  {
   "cell_type": "code",
   "execution_count": 29,
   "metadata": {},
   "outputs": [
    {
     "data": {
      "text/plain": [
       "1    1464\n",
       "0    1464\n",
       "Name: label, dtype: int64"
      ]
     },
     "execution_count": 29,
     "metadata": {},
     "output_type": "execute_result"
    }
   ],
   "source": [
    "train_downsampled['label'].value_counts()"
   ]
  },
  {
   "cell_type": "markdown",
   "metadata": {},
   "source": [
    "## Comparing Vectorization and Method Performance"
   ]
  },
  {
   "cell_type": "code",
   "execution_count": 30,
   "metadata": {},
   "outputs": [],
   "source": [
    "count_vect = CountVectorizer()\n",
    "tfidf_vectorizer = TfidfVectorizer(min_df=.001)\n",
    "tfidf_ngram = TfidfVectorizer(ngram_range=(1,2), min_df=.001)\n",
    "tfidf_ngram2 = TfidfVectorizer(ngram_range=(2,3),min_df=.001)\n",
    "\n",
    "logreg = LogisticRegression()\n",
    "rfc = RandomForestClassifier(random_state=10)\n",
    "nb = GaussianNB()\n",
    "svc = SVC(random_state=10)\n",
    "\n",
    "vectorization_list = [('COUNT_VECTORIZER', count_vect),\n",
    "                      ('TFIDF_VECTORIZER', tfidf_vectorizer),\n",
    "                      ('TFIDF_NGRAM_1_2', tfidf_ngram),\n",
    "                      ('TFIDF_NGRAM_2_3', tfidf_ngram2)]\n",
    "\n"
   ]
  },
  {
   "cell_type": "code",
   "execution_count": 38,
   "metadata": {},
   "outputs": [],
   "source": [
    "%run custom_functions.ipynb"
   ]
  },
  {
   "cell_type": "markdown",
   "metadata": {},
   "source": [
    "## Naive Bayes"
   ]
  },
  {
   "cell_type": "code",
   "execution_count": 15,
   "metadata": {},
   "outputs": [],
   "source": [
    "np.random.seed(0)"
   ]
  },
  {
   "cell_type": "code",
   "execution_count": 16,
   "metadata": {
    "collapsed": true
   },
   "outputs": [
    {
     "ename": "KeyboardInterrupt",
     "evalue": "",
     "output_type": "error",
     "traceback": [
      "\u001b[0;31m---------------------------------------------------------------------------\u001b[0m",
      "\u001b[0;31mKeyboardInterrupt\u001b[0m                         Traceback (most recent call last)",
      "\u001b[0;32m<ipython-input-16-0e9feb973b7a>\u001b[0m in \u001b[0;36m<module>\u001b[0;34m\u001b[0m\n\u001b[1;32m      1\u001b[0m NB_compare_vectorization_model(X_train.lem_tweet, y_train, \n\u001b[0;32m----> 2\u001b[0;31m                                    X_val.lem_tweet, y_val, GaussianNB())\n\u001b[0m",
      "\u001b[0;32m<ipython-input-14-4166f9486ac3>\u001b[0m in \u001b[0;36mNB_compare_vectorization_model\u001b[0;34m(X_train_col, y_train, X_val_col, y_val, classifier)\u001b[0m\n\u001b[1;32m     35\u001b[0m         \u001b[0mX_val_transformed\u001b[0m \u001b[0;34m=\u001b[0m \u001b[0mX_val_transformed\u001b[0m\u001b[0;34m.\u001b[0m\u001b[0mtoarray\u001b[0m\u001b[0;34m(\u001b[0m\u001b[0;34m)\u001b[0m\u001b[0;34m\u001b[0m\u001b[0;34m\u001b[0m\u001b[0m\n\u001b[1;32m     36\u001b[0m \u001b[0;34m\u001b[0m\u001b[0m\n\u001b[0;32m---> 37\u001b[0;31m         \u001b[0mclassifier\u001b[0m\u001b[0;34m.\u001b[0m\u001b[0mfit\u001b[0m\u001b[0;34m(\u001b[0m\u001b[0mX_train_transformed\u001b[0m\u001b[0;34m,\u001b[0m \u001b[0my_train\u001b[0m\u001b[0;34m.\u001b[0m\u001b[0mvalues\u001b[0m\u001b[0;34m.\u001b[0m\u001b[0mravel\u001b[0m\u001b[0;34m(\u001b[0m\u001b[0;34m)\u001b[0m\u001b[0;34m)\u001b[0m\u001b[0;34m\u001b[0m\u001b[0;34m\u001b[0m\u001b[0m\n\u001b[0m\u001b[1;32m     38\u001b[0m \u001b[0;34m\u001b[0m\u001b[0m\n\u001b[1;32m     39\u001b[0m         \u001b[0mtrain_predictions\u001b[0m \u001b[0;34m=\u001b[0m \u001b[0mclassifier\u001b[0m\u001b[0;34m.\u001b[0m\u001b[0mpredict\u001b[0m \u001b[0;34m(\u001b[0m\u001b[0mX_train_transformed\u001b[0m\u001b[0;34m)\u001b[0m\u001b[0;34m\u001b[0m\u001b[0;34m\u001b[0m\u001b[0m\n",
      "\u001b[0;32m~/anaconda3/lib/python3.7/site-packages/sklearn/naive_bayes.py\u001b[0m in \u001b[0;36mfit\u001b[0;34m(self, X, y, sample_weight)\u001b[0m\n\u001b[1;32m    189\u001b[0m         \u001b[0mX\u001b[0m\u001b[0;34m,\u001b[0m \u001b[0my\u001b[0m \u001b[0;34m=\u001b[0m \u001b[0mcheck_X_y\u001b[0m\u001b[0;34m(\u001b[0m\u001b[0mX\u001b[0m\u001b[0;34m,\u001b[0m \u001b[0my\u001b[0m\u001b[0;34m)\u001b[0m\u001b[0;34m\u001b[0m\u001b[0;34m\u001b[0m\u001b[0m\n\u001b[1;32m    190\u001b[0m         return self._partial_fit(X, y, np.unique(y), _refit=True,\n\u001b[0;32m--> 191\u001b[0;31m                                  sample_weight=sample_weight)\n\u001b[0m\u001b[1;32m    192\u001b[0m \u001b[0;34m\u001b[0m\u001b[0m\n\u001b[1;32m    193\u001b[0m     \u001b[0;34m@\u001b[0m\u001b[0mstaticmethod\u001b[0m\u001b[0;34m\u001b[0m\u001b[0;34m\u001b[0m\u001b[0m\n",
      "\u001b[0;32m~/anaconda3/lib/python3.7/site-packages/sklearn/naive_bayes.py\u001b[0m in \u001b[0;36m_partial_fit\u001b[0;34m(self, X, y, classes, _refit, sample_weight)\u001b[0m\n\u001b[1;32m    346\u001b[0m         \u001b[0;31m# boost the variance by epsilon, a small fraction of the standard\u001b[0m\u001b[0;34m\u001b[0m\u001b[0;34m\u001b[0m\u001b[0;34m\u001b[0m\u001b[0m\n\u001b[1;32m    347\u001b[0m         \u001b[0;31m# deviation of the largest dimension.\u001b[0m\u001b[0;34m\u001b[0m\u001b[0;34m\u001b[0m\u001b[0;34m\u001b[0m\u001b[0m\n\u001b[0;32m--> 348\u001b[0;31m         \u001b[0mself\u001b[0m\u001b[0;34m.\u001b[0m\u001b[0mepsilon_\u001b[0m \u001b[0;34m=\u001b[0m \u001b[0mself\u001b[0m\u001b[0;34m.\u001b[0m\u001b[0mvar_smoothing\u001b[0m \u001b[0;34m*\u001b[0m \u001b[0mnp\u001b[0m\u001b[0;34m.\u001b[0m\u001b[0mvar\u001b[0m\u001b[0;34m(\u001b[0m\u001b[0mX\u001b[0m\u001b[0;34m,\u001b[0m \u001b[0maxis\u001b[0m\u001b[0;34m=\u001b[0m\u001b[0;36m0\u001b[0m\u001b[0;34m)\u001b[0m\u001b[0;34m.\u001b[0m\u001b[0mmax\u001b[0m\u001b[0;34m(\u001b[0m\u001b[0;34m)\u001b[0m\u001b[0;34m\u001b[0m\u001b[0;34m\u001b[0m\u001b[0m\n\u001b[0m\u001b[1;32m    349\u001b[0m \u001b[0;34m\u001b[0m\u001b[0m\n\u001b[1;32m    350\u001b[0m         \u001b[0;32mif\u001b[0m \u001b[0m_refit\u001b[0m\u001b[0;34m:\u001b[0m\u001b[0;34m\u001b[0m\u001b[0;34m\u001b[0m\u001b[0m\n",
      "\u001b[0;32m~/anaconda3/lib/python3.7/site-packages/numpy/core/fromnumeric.py\u001b[0m in \u001b[0;36mvar\u001b[0;34m(a, axis, dtype, out, ddof, keepdims)\u001b[0m\n\u001b[1;32m   3365\u001b[0m \u001b[0;34m\u001b[0m\u001b[0m\n\u001b[1;32m   3366\u001b[0m     return _methods._var(a, axis=axis, dtype=dtype, out=out, ddof=ddof,\n\u001b[0;32m-> 3367\u001b[0;31m                          **kwargs)\n\u001b[0m\u001b[1;32m   3368\u001b[0m \u001b[0;34m\u001b[0m\u001b[0m\n\u001b[1;32m   3369\u001b[0m \u001b[0;34m\u001b[0m\u001b[0m\n",
      "\u001b[0;32m~/anaconda3/lib/python3.7/site-packages/numpy/core/_methods.py\u001b[0m in \u001b[0;36m_var\u001b[0;34m(a, axis, dtype, out, ddof, keepdims)\u001b[0m\n\u001b[1;32m    119\u001b[0m         \u001b[0mx\u001b[0m \u001b[0;34m=\u001b[0m \u001b[0mum\u001b[0m\u001b[0;34m.\u001b[0m\u001b[0mmultiply\u001b[0m\u001b[0;34m(\u001b[0m\u001b[0mx\u001b[0m\u001b[0;34m,\u001b[0m \u001b[0mum\u001b[0m\u001b[0;34m.\u001b[0m\u001b[0mconjugate\u001b[0m\u001b[0;34m(\u001b[0m\u001b[0mx\u001b[0m\u001b[0;34m)\u001b[0m\u001b[0;34m,\u001b[0m \u001b[0mout\u001b[0m\u001b[0;34m=\u001b[0m\u001b[0mx\u001b[0m\u001b[0;34m)\u001b[0m\u001b[0;34m.\u001b[0m\u001b[0mreal\u001b[0m\u001b[0;34m\u001b[0m\u001b[0;34m\u001b[0m\u001b[0m\n\u001b[1;32m    120\u001b[0m     \u001b[0;32melse\u001b[0m\u001b[0;34m:\u001b[0m\u001b[0;34m\u001b[0m\u001b[0;34m\u001b[0m\u001b[0m\n\u001b[0;32m--> 121\u001b[0;31m         \u001b[0mx\u001b[0m \u001b[0;34m=\u001b[0m \u001b[0mum\u001b[0m\u001b[0;34m.\u001b[0m\u001b[0mmultiply\u001b[0m\u001b[0;34m(\u001b[0m\u001b[0mx\u001b[0m\u001b[0;34m,\u001b[0m \u001b[0mx\u001b[0m\u001b[0;34m,\u001b[0m \u001b[0mout\u001b[0m\u001b[0;34m=\u001b[0m\u001b[0mx\u001b[0m\u001b[0;34m)\u001b[0m\u001b[0;34m\u001b[0m\u001b[0;34m\u001b[0m\u001b[0m\n\u001b[0m\u001b[1;32m    122\u001b[0m     \u001b[0mret\u001b[0m \u001b[0;34m=\u001b[0m \u001b[0mumr_sum\u001b[0m\u001b[0;34m(\u001b[0m\u001b[0mx\u001b[0m\u001b[0;34m,\u001b[0m \u001b[0maxis\u001b[0m\u001b[0;34m,\u001b[0m \u001b[0mdtype\u001b[0m\u001b[0;34m,\u001b[0m \u001b[0mout\u001b[0m\u001b[0;34m,\u001b[0m \u001b[0mkeepdims\u001b[0m\u001b[0;34m)\u001b[0m\u001b[0;34m\u001b[0m\u001b[0;34m\u001b[0m\u001b[0m\n\u001b[1;32m    123\u001b[0m \u001b[0;34m\u001b[0m\u001b[0m\n",
      "\u001b[0;31mKeyboardInterrupt\u001b[0m: "
     ]
    }
   ],
   "source": [
    "NB_compare_vectorization_model(X_train.lem_tweet, y_train, \n",
    "                                   X_val.lem_tweet, y_val, GaussianNB())"
   ]
  },
  {
   "cell_type": "markdown",
   "metadata": {},
   "source": [
    "## Logistic Regression"
   ]
  },
  {
   "cell_type": "code",
   "execution_count": 32,
   "metadata": {},
   "outputs": [],
   "source": [
    "%run custom_functions.ipynb"
   ]
  },
  {
   "cell_type": "code",
   "execution_count": 42,
   "metadata": {
    "collapsed": true
   },
   "outputs": [
    {
     "data": {
      "text/plain": [
       "{'COUNT_VECTORIZER': {'Train Accuracy': 0.96,\n",
       "  'Train Precision': 0.68,\n",
       "  'Train Recall': 0.88,\n",
       "  'Train F1': 0.77,\n",
       "  'Validation Accuracy': 0.89,\n",
       "  'Validation Precision': 0.34,\n",
       "  'Validation Recall': 0.68,\n",
       "  'Validation F1': 0.45},\n",
       " 'TFIDF_VECTORIZER': {'Train Accuracy': 0.9,\n",
       "  'Train Precision': 0.4,\n",
       "  'Train Recall': 0.84,\n",
       "  'Train F1': 0.54,\n",
       "  'Validation Accuracy': 0.88,\n",
       "  'Validation Precision': 0.31,\n",
       "  'Validation Recall': 0.72,\n",
       "  'Validation F1': 0.44},\n",
       " 'TFIDF_NGRAM_1_2': {'Train Accuracy': 0.9,\n",
       "  'Train Precision': 0.42,\n",
       "  'Train Recall': 0.85,\n",
       "  'Train F1': 0.56,\n",
       "  'Validation Accuracy': 0.89,\n",
       "  'Validation Precision': 0.32,\n",
       "  'Validation Recall': 0.71,\n",
       "  'Validation F1': 0.44},\n",
       " 'TFIDF_NGRAM_2_3': {'Train Accuracy': 0.57,\n",
       "  'Train Precision': 0.13,\n",
       "  'Train Recall': 0.87,\n",
       "  'Train F1': 0.22,\n",
       "  'Validation Accuracy': 0.55,\n",
       "  'Validation Precision': 0.1,\n",
       "  'Validation Recall': 0.78,\n",
       "  'Validation F1': 0.18}}"
      ]
     },
     "execution_count": 42,
     "metadata": {},
     "output_type": "execute_result"
    }
   ],
   "source": [
    "#Logistic Regression: compare vectorizers using lemmitizing + class balances\n",
    "LR_cw_lemm = wrapper_compare_vectorizations(X_train.lem_tweet, \n",
    "                            y_train, X_val.lem_tweet, y_val, \n",
    "                            LogisticRegression(class_weight='balanced', solver = 'lbfgs'), \n",
    "                                            vectorization_list, apply_smote = True)\n",
    "\n",
    "LR_cw_lemm"
   ]
  },
  {
   "cell_type": "code",
   "execution_count": 45,
   "metadata": {
    "collapsed": true
   },
   "outputs": [
    {
     "data": {
      "text/html": [
       "<div>\n",
       "<style scoped>\n",
       "    .dataframe tbody tr th:only-of-type {\n",
       "        vertical-align: middle;\n",
       "    }\n",
       "\n",
       "    .dataframe tbody tr th {\n",
       "        vertical-align: top;\n",
       "    }\n",
       "\n",
       "    .dataframe thead th {\n",
       "        text-align: right;\n",
       "    }\n",
       "</style>\n",
       "<table border=\"1\" class=\"dataframe\">\n",
       "  <thead>\n",
       "    <tr style=\"text-align: right;\">\n",
       "      <th></th>\n",
       "      <th>COUNT_VECTORIZER</th>\n",
       "      <th>TFIDF_VECTORIZER</th>\n",
       "      <th>TFIDF_NGRAM_1_2</th>\n",
       "      <th>TFIDF_NGRAM_2_3</th>\n",
       "    </tr>\n",
       "  </thead>\n",
       "  <tbody>\n",
       "    <tr>\n",
       "      <th>Train Accuracy</th>\n",
       "      <td>0.99</td>\n",
       "      <td>0.94</td>\n",
       "      <td>0.96</td>\n",
       "      <td>0.80</td>\n",
       "    </tr>\n",
       "    <tr>\n",
       "      <th>Train F1</th>\n",
       "      <td>0.99</td>\n",
       "      <td>0.94</td>\n",
       "      <td>0.96</td>\n",
       "      <td>0.77</td>\n",
       "    </tr>\n",
       "    <tr>\n",
       "      <th>Train Precision</th>\n",
       "      <td>0.99</td>\n",
       "      <td>0.93</td>\n",
       "      <td>0.94</td>\n",
       "      <td>0.88</td>\n",
       "    </tr>\n",
       "    <tr>\n",
       "      <th>Train Recall</th>\n",
       "      <td>1.00</td>\n",
       "      <td>0.96</td>\n",
       "      <td>0.98</td>\n",
       "      <td>0.69</td>\n",
       "    </tr>\n",
       "    <tr>\n",
       "      <th>Validation Accuracy</th>\n",
       "      <td>0.95</td>\n",
       "      <td>0.91</td>\n",
       "      <td>0.91</td>\n",
       "      <td>0.87</td>\n",
       "    </tr>\n",
       "    <tr>\n",
       "      <th>Validation F1</th>\n",
       "      <td>0.65</td>\n",
       "      <td>0.51</td>\n",
       "      <td>0.53</td>\n",
       "      <td>0.32</td>\n",
       "    </tr>\n",
       "    <tr>\n",
       "      <th>Validation Precision</th>\n",
       "      <td>0.62</td>\n",
       "      <td>0.38</td>\n",
       "      <td>0.41</td>\n",
       "      <td>0.24</td>\n",
       "    </tr>\n",
       "    <tr>\n",
       "      <th>Validation Recall</th>\n",
       "      <td>0.68</td>\n",
       "      <td>0.76</td>\n",
       "      <td>0.76</td>\n",
       "      <td>0.47</td>\n",
       "    </tr>\n",
       "  </tbody>\n",
       "</table>\n",
       "</div>"
      ],
      "text/plain": [
       "                      COUNT_VECTORIZER  TFIDF_VECTORIZER  TFIDF_NGRAM_1_2  \\\n",
       "Train Accuracy                    0.99              0.94             0.96   \n",
       "Train F1                          0.99              0.94             0.96   \n",
       "Train Precision                   0.99              0.93             0.94   \n",
       "Train Recall                      1.00              0.96             0.98   \n",
       "Validation Accuracy               0.95              0.91             0.91   \n",
       "Validation F1                     0.65              0.51             0.53   \n",
       "Validation Precision              0.62              0.38             0.41   \n",
       "Validation Recall                 0.68              0.76             0.76   \n",
       "\n",
       "                      TFIDF_NGRAM_2_3  \n",
       "Train Accuracy                   0.80  \n",
       "Train F1                         0.77  \n",
       "Train Precision                  0.88  \n",
       "Train Recall                     0.69  \n",
       "Validation Accuracy              0.87  \n",
       "Validation F1                    0.32  \n",
       "Validation Precision             0.24  \n",
       "Validation Recall                0.47  "
      ]
     },
     "execution_count": 45,
     "metadata": {},
     "output_type": "execute_result"
    }
   ],
   "source": [
    "#Logistic Regression: compare vectorizers using lemmitizing + upsampling\n",
    "LR_cw_lemm = wrapper_compare_vectorizations(X_train_up.lem_tweet, \n",
    "                            y_train_up, X_val.lem_tweet, y_val, \n",
    "                            LogisticRegression(class_weight='balanced', solver = 'lbfgs'), \n",
    "                                            vectorization_list, apply_smote = False)\n",
    "\n",
    "pd.DataFrame(LR_cw_lemm)"
   ]
  },
  {
   "cell_type": "code",
   "execution_count": 114,
   "metadata": {},
   "outputs": [],
   "source": [
    "with open('mycsvfile.csv','a') as f:\n",
    "    w = csv.writer(f)\n",
    "    w.writerows(LR_cw_lemm.items())"
   ]
  },
  {
   "cell_type": "code",
   "execution_count": 47,
   "metadata": {},
   "outputs": [],
   "source": [
    "(pd.DataFrame.from_dict(data= LR_cw_lemm).to_csv('dict_file.csv', header=False))"
   ]
  },
  {
   "cell_type": "code",
   "execution_count": 48,
   "metadata": {},
   "outputs": [
    {
     "data": {
      "text/html": [
       "<div>\n",
       "<style scoped>\n",
       "    .dataframe tbody tr th:only-of-type {\n",
       "        vertical-align: middle;\n",
       "    }\n",
       "\n",
       "    .dataframe tbody tr th {\n",
       "        vertical-align: top;\n",
       "    }\n",
       "\n",
       "    .dataframe thead th {\n",
       "        text-align: right;\n",
       "    }\n",
       "</style>\n",
       "<table border=\"1\" class=\"dataframe\">\n",
       "  <thead>\n",
       "    <tr style=\"text-align: right;\">\n",
       "      <th></th>\n",
       "      <th>COUNT_VECTORIZER</th>\n",
       "      <th>TFIDF_VECTORIZER</th>\n",
       "      <th>TFIDF_NGRAM_1_2</th>\n",
       "      <th>TFIDF_NGRAM_2_3</th>\n",
       "    </tr>\n",
       "  </thead>\n",
       "  <tbody>\n",
       "    <tr>\n",
       "      <th>Train Accuracy</th>\n",
       "      <td>0.96</td>\n",
       "      <td>0.89</td>\n",
       "      <td>0.90</td>\n",
       "      <td>0.56</td>\n",
       "    </tr>\n",
       "    <tr>\n",
       "      <th>Train F1</th>\n",
       "      <td>0.76</td>\n",
       "      <td>0.53</td>\n",
       "      <td>0.55</td>\n",
       "      <td>0.22</td>\n",
       "    </tr>\n",
       "    <tr>\n",
       "      <th>Train Precision</th>\n",
       "      <td>0.67</td>\n",
       "      <td>0.39</td>\n",
       "      <td>0.41</td>\n",
       "      <td>0.13</td>\n",
       "    </tr>\n",
       "    <tr>\n",
       "      <th>Train Recall</th>\n",
       "      <td>0.88</td>\n",
       "      <td>0.84</td>\n",
       "      <td>0.85</td>\n",
       "      <td>0.87</td>\n",
       "    </tr>\n",
       "    <tr>\n",
       "      <th>Validation Accuracy</th>\n",
       "      <td>0.89</td>\n",
       "      <td>0.88</td>\n",
       "      <td>0.88</td>\n",
       "      <td>0.54</td>\n",
       "    </tr>\n",
       "    <tr>\n",
       "      <th>Validation F1</th>\n",
       "      <td>0.43</td>\n",
       "      <td>0.43</td>\n",
       "      <td>0.43</td>\n",
       "      <td>0.18</td>\n",
       "    </tr>\n",
       "    <tr>\n",
       "      <th>Validation Precision</th>\n",
       "      <td>0.32</td>\n",
       "      <td>0.31</td>\n",
       "      <td>0.31</td>\n",
       "      <td>0.10</td>\n",
       "    </tr>\n",
       "    <tr>\n",
       "      <th>Validation Recall</th>\n",
       "      <td>0.66</td>\n",
       "      <td>0.71</td>\n",
       "      <td>0.70</td>\n",
       "      <td>0.78</td>\n",
       "    </tr>\n",
       "  </tbody>\n",
       "</table>\n",
       "</div>"
      ],
      "text/plain": [
       "                      COUNT_VECTORIZER  TFIDF_VECTORIZER  TFIDF_NGRAM_1_2  \\\n",
       "Train Accuracy                    0.96              0.89             0.90   \n",
       "Train F1                          0.76              0.53             0.55   \n",
       "Train Precision                   0.67              0.39             0.41   \n",
       "Train Recall                      0.88              0.84             0.85   \n",
       "Validation Accuracy               0.89              0.88             0.88   \n",
       "Validation F1                     0.43              0.43             0.43   \n",
       "Validation Precision              0.32              0.31             0.31   \n",
       "Validation Recall                 0.66              0.71             0.70   \n",
       "\n",
       "                      TFIDF_NGRAM_2_3  \n",
       "Train Accuracy                   0.56  \n",
       "Train F1                         0.22  \n",
       "Train Precision                  0.13  \n",
       "Train Recall                     0.87  \n",
       "Validation Accuracy              0.54  \n",
       "Validation F1                    0.18  \n",
       "Validation Precision             0.10  \n",
       "Validation Recall                0.78  "
      ]
     },
     "execution_count": 48,
     "metadata": {},
     "output_type": "execute_result"
    }
   ],
   "source": [
    "#Logistic Regression: compare vectorizers using stemming + class balances\n",
    "pd.DataFrame(wrapper_compare_vectorizations(X_train.stem_tweet, \n",
    "                            y_train, X_val.stem_tweet, y_val, \n",
    "                            LogisticRegression(class_weight='balanced', solver = 'lbfgs'),\n",
    "                            vectorization_list, apply_smote= True))"
   ]
  },
  {
   "cell_type": "markdown",
   "metadata": {},
   "source": [
    "### Comparison Functions"
   ]
  },
  {
   "cell_type": "code",
   "execution_count": 49,
   "metadata": {},
   "outputs": [],
   "source": [
    "%run custom_functions.ipynb"
   ]
  },
  {
   "cell_type": "code",
   "execution_count": 75,
   "metadata": {},
   "outputs": [
    {
     "data": {
      "text/plain": [
       "{'Train Accuracy': 0.99,\n",
       " 'Train Precision': 0.99,\n",
       " 'Train Recall': 1.0,\n",
       " 'Train F1': 0.99,\n",
       " 'Validation Accuracy': 0.95,\n",
       " 'Validation Precision': 0.59,\n",
       " 'Validation Recall': 0.66,\n",
       " 'Validation F1': 0.62}"
      ]
     },
     "execution_count": 75,
     "metadata": {},
     "output_type": "execute_result"
    }
   ],
   "source": [
    "X_val_transformed, metrics_dict, val_confusion_matrix, y_val_pred, y_val_prob, pred_df = \\\n",
    "\\\n",
    "single_vector_model(X_train_up.lem_tweet, y_train_up, X_val.lem_tweet, y_val,\n",
    "                            LogisticRegression(class_weight='balanced', penalty = 'l1'), count_vect)\n",
    "metrics_dict"
   ]
  },
  {
   "cell_type": "code",
   "execution_count": 74,
   "metadata": {},
   "outputs": [],
   "source": [
    "X_val_transformed, metrics_dict, val_confusion_matrix, y_val_pred, y_val_prob, pred_df = \\\n",
    "\\\n",
    "smote_vector_model(X_train_up.lem_tweet, y_train_up, X_val.lem_tweet, y_val, \n",
    "                    LogisticRegression(class_weight='balanced', penalty = 'l1'), count_vect)"
   ]
  },
  {
   "cell_type": "code",
   "execution_count": null,
   "metadata": {},
   "outputs": [],
   "source": [
    "val_confusion_matrix"
   ]
  },
  {
   "cell_type": "code",
   "execution_count": null,
   "metadata": {},
   "outputs": [],
   "source": [
    "pred_df"
   ]
  },
  {
   "cell_type": "code",
   "execution_count": null,
   "metadata": {},
   "outputs": [],
   "source": [
    "X_val_transformed, metrics_dict, val_confusion_matrix, y_val_pred, y_val_prob, pred_df = \\\n",
    "\\\n",
    "single_vector_model(X_train_up.lem_tweet, y_train_up, X_val.lem_tweet, y_val, \n",
    "                    LogisticRegression(class_weight='balanced', penalty = 'l1', random_state=1), count_vect)"
   ]
  },
  {
   "cell_type": "code",
   "execution_count": null,
   "metadata": {},
   "outputs": [],
   "source": [
    "val_confusion_matrix"
   ]
  },
  {
   "cell_type": "code",
   "execution_count": null,
   "metadata": {},
   "outputs": [],
   "source": [
    "X_val_transformed, metrics_dict, val_confusion_matrix, y_val_pred, y_val_prob, pred_df = \\\n",
    "\\\n",
    "wrapper_single_vectorization(X_train_up.lem_tweet, y_train_up, X_val.lem_tweet, y_val, \n",
    "                            LogisticRegression(class_weight='balanced', penalty = 'l1', random_state=1),\n",
    "                            count_vect, apply_smote = False)"
   ]
  },
  {
   "cell_type": "code",
   "execution_count": null,
   "metadata": {},
   "outputs": [],
   "source": [
    "val_confusion_matrix"
   ]
  },
  {
   "cell_type": "markdown",
   "metadata": {},
   "source": [
    "#### Multiple Comparison Functions"
   ]
  },
  {
   "cell_type": "code",
   "execution_count": 78,
   "metadata": {
    "collapsed": true
   },
   "outputs": [
    {
     "data": {
      "text/html": [
       "<div>\n",
       "<style scoped>\n",
       "    .dataframe tbody tr th:only-of-type {\n",
       "        vertical-align: middle;\n",
       "    }\n",
       "\n",
       "    .dataframe tbody tr th {\n",
       "        vertical-align: top;\n",
       "    }\n",
       "\n",
       "    .dataframe thead th {\n",
       "        text-align: right;\n",
       "    }\n",
       "</style>\n",
       "<table border=\"1\" class=\"dataframe\">\n",
       "  <thead>\n",
       "    <tr style=\"text-align: right;\">\n",
       "      <th></th>\n",
       "      <th>COUNT_VECTORIZER</th>\n",
       "      <th>TFIDF_VECTORIZER</th>\n",
       "      <th>TFIDF_NGRAM_1_2</th>\n",
       "      <th>TFIDF_NGRAM_2_3</th>\n",
       "    </tr>\n",
       "  </thead>\n",
       "  <tbody>\n",
       "    <tr>\n",
       "      <th>Train Accuracy</th>\n",
       "      <td>0.99</td>\n",
       "      <td>0.94</td>\n",
       "      <td>0.96</td>\n",
       "      <td>0.80</td>\n",
       "    </tr>\n",
       "    <tr>\n",
       "      <th>Train F1</th>\n",
       "      <td>0.99</td>\n",
       "      <td>0.94</td>\n",
       "      <td>0.96</td>\n",
       "      <td>0.77</td>\n",
       "    </tr>\n",
       "    <tr>\n",
       "      <th>Train Precision</th>\n",
       "      <td>0.99</td>\n",
       "      <td>0.93</td>\n",
       "      <td>0.94</td>\n",
       "      <td>0.88</td>\n",
       "    </tr>\n",
       "    <tr>\n",
       "      <th>Train Recall</th>\n",
       "      <td>1.00</td>\n",
       "      <td>0.96</td>\n",
       "      <td>0.98</td>\n",
       "      <td>0.69</td>\n",
       "    </tr>\n",
       "    <tr>\n",
       "      <th>Validation Accuracy</th>\n",
       "      <td>0.95</td>\n",
       "      <td>0.91</td>\n",
       "      <td>0.91</td>\n",
       "      <td>0.87</td>\n",
       "    </tr>\n",
       "    <tr>\n",
       "      <th>Validation F1</th>\n",
       "      <td>0.65</td>\n",
       "      <td>0.51</td>\n",
       "      <td>0.53</td>\n",
       "      <td>0.32</td>\n",
       "    </tr>\n",
       "    <tr>\n",
       "      <th>Validation Precision</th>\n",
       "      <td>0.62</td>\n",
       "      <td>0.38</td>\n",
       "      <td>0.41</td>\n",
       "      <td>0.24</td>\n",
       "    </tr>\n",
       "    <tr>\n",
       "      <th>Validation Recall</th>\n",
       "      <td>0.68</td>\n",
       "      <td>0.76</td>\n",
       "      <td>0.76</td>\n",
       "      <td>0.47</td>\n",
       "    </tr>\n",
       "  </tbody>\n",
       "</table>\n",
       "</div>"
      ],
      "text/plain": [
       "                      COUNT_VECTORIZER  TFIDF_VECTORIZER  TFIDF_NGRAM_1_2  \\\n",
       "Train Accuracy                    0.99              0.94             0.96   \n",
       "Train F1                          0.99              0.94             0.96   \n",
       "Train Precision                   0.99              0.93             0.94   \n",
       "Train Recall                      1.00              0.96             0.98   \n",
       "Validation Accuracy               0.95              0.91             0.91   \n",
       "Validation F1                     0.65              0.51             0.53   \n",
       "Validation Precision              0.62              0.38             0.41   \n",
       "Validation Recall                 0.68              0.76             0.76   \n",
       "\n",
       "                      TFIDF_NGRAM_2_3  \n",
       "Train Accuracy                   0.80  \n",
       "Train F1                         0.77  \n",
       "Train Precision                  0.88  \n",
       "Train Recall                     0.69  \n",
       "Validation Accuracy              0.87  \n",
       "Validation F1                    0.32  \n",
       "Validation Precision             0.24  \n",
       "Validation Recall                0.47  "
      ]
     },
     "execution_count": 78,
     "metadata": {},
     "output_type": "execute_result"
    }
   ],
   "source": [
    "metrics_dict = wrapper_compare_vectorizations(X_train_up.lem_tweet, \n",
    "                            y_train_up, X_val.lem_tweet, y_val, \n",
    "                            LogisticRegression(random_state =10, solver = 'lbfgs'),\n",
    "                            vectorization_list, apply_smote = False)\n",
    "\n",
    "pd.DataFrame(metrics_dict)"
   ]
  },
  {
   "cell_type": "code",
   "execution_count": 79,
   "metadata": {},
   "outputs": [],
   "source": [
    "metrics_dict = wrapper_compare_vectorizations(X_train_up.lem_tweet, y_train_up, X_val.lem_tweet, y_val, \n",
    "                            LogisticRegression(class_weight='balanced', penalty = 'l1'), \n",
    "                            vectorization_list, apply_smote = False)"
   ]
  },
  {
   "cell_type": "code",
   "execution_count": 80,
   "metadata": {},
   "outputs": [],
   "source": [
    "metrics_dict = wrapper_compare_vectorizations(X_train_up.lem_tweet, y_train_up, X_val.lem_tweet, y_val, \n",
    "                            LogisticRegression(class_weight='balanced', penalty = 'l1'), \n",
    "                            vectorization_list, apply_smote = True)"
   ]
  },
  {
   "cell_type": "markdown",
   "metadata": {},
   "source": [
    "#### Testing Wrappers"
   ]
  },
  {
   "cell_type": "code",
   "execution_count": 164,
   "metadata": {},
   "outputs": [],
   "source": [
    "%run custom_functions.ipynb"
   ]
  },
  {
   "cell_type": "code",
   "execution_count": 162,
   "metadata": {},
   "outputs": [
    {
     "data": {
      "text/html": [
       "<div>\n",
       "<style scoped>\n",
       "    .dataframe tbody tr th:only-of-type {\n",
       "        vertical-align: middle;\n",
       "    }\n",
       "\n",
       "    .dataframe tbody tr th {\n",
       "        vertical-align: top;\n",
       "    }\n",
       "\n",
       "    .dataframe thead th {\n",
       "        text-align: right;\n",
       "    }\n",
       "</style>\n",
       "<table border=\"1\" class=\"dataframe\">\n",
       "  <thead>\n",
       "    <tr style=\"text-align: right;\">\n",
       "      <th></th>\n",
       "      <th>COUNT_VECTORIZER</th>\n",
       "      <th>TFIDF_VECTORIZER</th>\n",
       "      <th>TFIDF_NGRAM_1_2</th>\n",
       "      <th>TFIDF_NGRAM_2_3</th>\n",
       "    </tr>\n",
       "  </thead>\n",
       "  <tbody>\n",
       "    <tr>\n",
       "      <th>Train Accuracy</th>\n",
       "      <td>0.74</td>\n",
       "      <td>0.78</td>\n",
       "      <td>0.75</td>\n",
       "      <td>0.58</td>\n",
       "    </tr>\n",
       "    <tr>\n",
       "      <th>Train F1</th>\n",
       "      <td>0.70</td>\n",
       "      <td>0.76</td>\n",
       "      <td>0.69</td>\n",
       "      <td>0.29</td>\n",
       "    </tr>\n",
       "    <tr>\n",
       "      <th>Train Precision</th>\n",
       "      <td>0.84</td>\n",
       "      <td>0.85</td>\n",
       "      <td>0.90</td>\n",
       "      <td>0.96</td>\n",
       "    </tr>\n",
       "    <tr>\n",
       "      <th>Train Recall</th>\n",
       "      <td>0.60</td>\n",
       "      <td>0.68</td>\n",
       "      <td>0.56</td>\n",
       "      <td>0.17</td>\n",
       "    </tr>\n",
       "    <tr>\n",
       "      <th>Validation Accuracy</th>\n",
       "      <td>0.85</td>\n",
       "      <td>0.85</td>\n",
       "      <td>0.91</td>\n",
       "      <td>0.94</td>\n",
       "    </tr>\n",
       "    <tr>\n",
       "      <th>Validation F1</th>\n",
       "      <td>0.31</td>\n",
       "      <td>0.33</td>\n",
       "      <td>0.44</td>\n",
       "      <td>0.21</td>\n",
       "    </tr>\n",
       "    <tr>\n",
       "      <th>Validation Precision</th>\n",
       "      <td>0.22</td>\n",
       "      <td>0.23</td>\n",
       "      <td>0.37</td>\n",
       "      <td>0.57</td>\n",
       "    </tr>\n",
       "    <tr>\n",
       "      <th>Validation Recall</th>\n",
       "      <td>0.51</td>\n",
       "      <td>0.60</td>\n",
       "      <td>0.53</td>\n",
       "      <td>0.13</td>\n",
       "    </tr>\n",
       "  </tbody>\n",
       "</table>\n",
       "</div>"
      ],
      "text/plain": [
       "                      COUNT_VECTORIZER  TFIDF_VECTORIZER  TFIDF_NGRAM_1_2  \\\n",
       "Train Accuracy                    0.74              0.78             0.75   \n",
       "Train F1                          0.70              0.76             0.69   \n",
       "Train Precision                   0.84              0.85             0.90   \n",
       "Train Recall                      0.60              0.68             0.56   \n",
       "Validation Accuracy               0.85              0.85             0.91   \n",
       "Validation F1                     0.31              0.33             0.44   \n",
       "Validation Precision              0.22              0.23             0.37   \n",
       "Validation Recall                 0.51              0.60             0.53   \n",
       "\n",
       "                      TFIDF_NGRAM_2_3  \n",
       "Train Accuracy                   0.58  \n",
       "Train F1                         0.29  \n",
       "Train Precision                  0.96  \n",
       "Train Recall                     0.17  \n",
       "Validation Accuracy              0.94  \n",
       "Validation F1                    0.21  \n",
       "Validation Precision             0.57  \n",
       "Validation Recall                0.13  "
      ]
     },
     "execution_count": 162,
     "metadata": {},
     "output_type": "execute_result"
    }
   ],
   "source": [
    "metrics_dict = wrapper_compare_vectorizations(X_train_up.lem_tweet, y_train_up, X_val.lem_tweet, y_val, \n",
    "                            RandomForestClassifier(max_depth=10, random_state=1), \n",
    "                            vectorization_list, sampling= 'upsampling')\n",
    "pd.DataFrame(metrics_dict)"
   ]
  },
  {
   "cell_type": "code",
   "execution_count": 168,
   "metadata": {},
   "outputs": [
    {
     "data": {
      "text/plain": [
       "{'Train Accuracy': 1.0,\n",
       " 'Train Precision': 1.0,\n",
       " 'Train Recall': 1.0,\n",
       " 'Train F1': 1.0,\n",
       " 'Validation Accuracy': 0.96,\n",
       " 'Validation Precision': 0.88,\n",
       " 'Validation Recall': 0.44,\n",
       " 'Validation F1': 0.59}"
      ]
     },
     "execution_count": 168,
     "metadata": {},
     "output_type": "execute_result"
    }
   ],
   "source": [
    "X_val_transformed, metrics_dict, val_confusion_matrix, y_val_pred, y_val_prob, pred_df = \\\n",
    "\\\n",
    "wrapper_single_vectorization2(X_train_up.lem_tweet, y_train_up, X_val.lem_tweet, y_val, \n",
    "                            RandomForestClassifier(random_state=1), count_vect, sampling='downsampling')\n",
    "metrics_dict"
   ]
  },
  {
   "cell_type": "markdown",
   "metadata": {},
   "source": [
    "##  Final Logistic Regression Model"
   ]
  },
  {
   "cell_type": "code",
   "execution_count": 165,
   "metadata": {},
   "outputs": [
    {
     "data": {
      "text/html": [
       "<div>\n",
       "<style scoped>\n",
       "    .dataframe tbody tr th:only-of-type {\n",
       "        vertical-align: middle;\n",
       "    }\n",
       "\n",
       "    .dataframe tbody tr th {\n",
       "        vertical-align: top;\n",
       "    }\n",
       "\n",
       "    .dataframe thead th {\n",
       "        text-align: right;\n",
       "    }\n",
       "</style>\n",
       "<table border=\"1\" class=\"dataframe\">\n",
       "  <thead>\n",
       "    <tr style=\"text-align: right;\">\n",
       "      <th></th>\n",
       "      <th>COUNT_VECTORIZER</th>\n",
       "      <th>TFIDF_VECTORIZER</th>\n",
       "      <th>TFIDF_NGRAM_1_2</th>\n",
       "      <th>TFIDF_NGRAM_2_3</th>\n",
       "    </tr>\n",
       "  </thead>\n",
       "  <tbody>\n",
       "    <tr>\n",
       "      <th>Train Accuracy</th>\n",
       "      <td>0.99</td>\n",
       "      <td>0.95</td>\n",
       "      <td>0.97</td>\n",
       "      <td>0.80</td>\n",
       "    </tr>\n",
       "    <tr>\n",
       "      <th>Train F1</th>\n",
       "      <td>0.99</td>\n",
       "      <td>0.95</td>\n",
       "      <td>0.97</td>\n",
       "      <td>0.78</td>\n",
       "    </tr>\n",
       "    <tr>\n",
       "      <th>Train Precision</th>\n",
       "      <td>0.99</td>\n",
       "      <td>0.94</td>\n",
       "      <td>0.96</td>\n",
       "      <td>0.88</td>\n",
       "    </tr>\n",
       "    <tr>\n",
       "      <th>Train Recall</th>\n",
       "      <td>1.00</td>\n",
       "      <td>0.97</td>\n",
       "      <td>0.99</td>\n",
       "      <td>0.69</td>\n",
       "    </tr>\n",
       "    <tr>\n",
       "      <th>Validation Accuracy</th>\n",
       "      <td>0.95</td>\n",
       "      <td>0.92</td>\n",
       "      <td>0.93</td>\n",
       "      <td>0.88</td>\n",
       "    </tr>\n",
       "    <tr>\n",
       "      <th>Validation F1</th>\n",
       "      <td>0.62</td>\n",
       "      <td>0.53</td>\n",
       "      <td>0.56</td>\n",
       "      <td>0.33</td>\n",
       "    </tr>\n",
       "    <tr>\n",
       "      <th>Validation Precision</th>\n",
       "      <td>0.59</td>\n",
       "      <td>0.41</td>\n",
       "      <td>0.46</td>\n",
       "      <td>0.25</td>\n",
       "    </tr>\n",
       "    <tr>\n",
       "      <th>Validation Recall</th>\n",
       "      <td>0.66</td>\n",
       "      <td>0.73</td>\n",
       "      <td>0.72</td>\n",
       "      <td>0.47</td>\n",
       "    </tr>\n",
       "  </tbody>\n",
       "</table>\n",
       "</div>"
      ],
      "text/plain": [
       "                      COUNT_VECTORIZER  TFIDF_VECTORIZER  TFIDF_NGRAM_1_2  \\\n",
       "Train Accuracy                    0.99              0.95             0.97   \n",
       "Train F1                          0.99              0.95             0.97   \n",
       "Train Precision                   0.99              0.94             0.96   \n",
       "Train Recall                      1.00              0.97             0.99   \n",
       "Validation Accuracy               0.95              0.92             0.93   \n",
       "Validation F1                     0.62              0.53             0.56   \n",
       "Validation Precision              0.59              0.41             0.46   \n",
       "Validation Recall                 0.66              0.73             0.72   \n",
       "\n",
       "                      TFIDF_NGRAM_2_3  \n",
       "Train Accuracy                   0.80  \n",
       "Train F1                         0.78  \n",
       "Train Precision                  0.88  \n",
       "Train Recall                     0.69  \n",
       "Validation Accuracy              0.88  \n",
       "Validation F1                    0.33  \n",
       "Validation Precision             0.25  \n",
       "Validation Recall                0.47  "
      ]
     },
     "execution_count": 165,
     "metadata": {},
     "output_type": "execute_result"
    }
   ],
   "source": [
    "metrics_dict = wrapper_compare_vectorizations(X_train_up.lem_tweet, y_train_up, X_val.lem_tweet, y_val, \n",
    "                            LogisticRegression(class_weight='balanced', penalty = 'l1'), \n",
    "                            vectorization_list, sampling='help')\n",
    "pd.DataFrame(metrics_dict)"
   ]
  },
  {
   "cell_type": "code",
   "execution_count": null,
   "metadata": {},
   "outputs": [],
   "source": []
  },
  {
   "cell_type": "code",
   "execution_count": 170,
   "metadata": {},
   "outputs": [
    {
     "data": {
      "text/plain": [
       "{'Train Accuracy': 1.0,\n",
       " 'Train Precision': 1.0,\n",
       " 'Train Recall': 1.0,\n",
       " 'Train F1': 1.0,\n",
       " 'Validation Accuracy': 0.96,\n",
       " 'Validation Precision': 0.88,\n",
       " 'Validation Recall': 0.44,\n",
       " 'Validation F1': 0.59}"
      ]
     },
     "execution_count": 170,
     "metadata": {},
     "output_type": "execute_result"
    }
   ],
   "source": [
    "X_val_transformed, metrics_dict, val_confusion_matrix, y_val_pred, y_val_prob, pred_df = \\\n",
    "\\\n",
    "wrapper_single_vectorization(X_train_up.lem_tweet, y_train_up, X_val.lem_tweet, y_val, \n",
    "                            RandomForestClassifier(random_state=1), count_vect, apply_smote=False)\n",
    "metrics_dict"
   ]
  },
  {
   "cell_type": "code",
   "execution_count": 139,
   "metadata": {},
   "outputs": [
    {
     "data": {
      "text/plain": [
       "{'Train Accuracy': 1.0,\n",
       " 'Train Precision': 1.0,\n",
       " 'Train Recall': 1.0,\n",
       " 'Train F1': 1.0,\n",
       " 'Validation Accuracy': 0.96,\n",
       " 'Validation Precision': 0.88,\n",
       " 'Validation Recall': 0.44,\n",
       " 'Validation F1': 0.59}"
      ]
     },
     "execution_count": 139,
     "metadata": {},
     "output_type": "execute_result"
    }
   ],
   "source": [
    "X_val_transformed, metrics_dict, val_confusion_matrix, y_val_pred, y_val_prob, pred_df = \\\n",
    "\\\n",
    "wrapper_single_vectorization(X_train_up.lem_tweet, y_train_up, X_val.lem_tweet, y_val, \n",
    "                            RandomForestClassifier(random_state=1), count_vect, apply_smote=True)\n",
    "metrics_dict"
   ]
  },
  {
   "cell_type": "code",
   "execution_count": null,
   "metadata": {},
   "outputs": [],
   "source": []
  },
  {
   "cell_type": "code",
   "execution_count": 81,
   "metadata": {},
   "outputs": [],
   "source": [
    "logreg = LogisticRegression(random_state=10)"
   ]
  },
  {
   "cell_type": "code",
   "execution_count": 82,
   "metadata": {},
   "outputs": [],
   "source": [
    "X_val_transformed, metrics_dict, val_confusion_matrix, y_val_pred, y_val_prob, pred_df = \\\n",
    "\\\n",
    "wrapper_single_vectorization(X_train_up.lem_tweet, y_train_up, X_val.lem_tweet, y_val, \n",
    "                            logreg, count_vect, apply_smote = False)"
   ]
  },
  {
   "cell_type": "code",
   "execution_count": 122,
   "metadata": {},
   "outputs": [
    {
     "data": {
      "text/plain": [
       "{'Train Accuracy': 0.9,\n",
       " 'Train Precision': 0.94,\n",
       " 'Train Recall': 0.85,\n",
       " 'Train F1': 0.89,\n",
       " 'Validation Accuracy': 0.91,\n",
       " 'Validation Precision': 0.38,\n",
       " 'Validation Recall': 0.68,\n",
       " 'Validation F1': 0.49}"
      ]
     },
     "execution_count": 122,
     "metadata": {},
     "output_type": "execute_result"
    }
   ],
   "source": [
    "metrics_dict"
   ]
  },
  {
   "cell_type": "code",
   "execution_count": 84,
   "metadata": {},
   "outputs": [
    {
     "name": "stdout",
     "output_type": "stream",
     "text": [
      "AUC: 0.924572438431134\n"
     ]
    },
    {
     "data": {
      "image/png": "[encoded data removed]",
      "text/plain": [
       "<Figure size 720x576 with 1 Axes>"
      ]
     },
     "metadata": {},
     "output_type": "display_data"
    },
    {
     "name": "stdout",
     "output_type": "stream",
     "text": [
      "Average precision-recall score RF: 0.44314644879614806\n"
     ]
    }
   ],
   "source": [
    "y_score = logreg.decision_function(X_val_transformed)\n",
    "   \n",
    "fpr, tpr, thresholds = roc_curve(y_val, y_score)\n",
    "y_val_score = logreg.decision_function(X_val_transformed)\n",
    "val_fpr, val_tpr, thresholds = roc_curve(y_val, y_val_score)\n",
    "\n",
    "sns.set_style(\"darkgrid\", {\"axes.facecolor\": \".9\"})\n",
    "plt.figure(figsize=(10,8))\n",
    "lw = 2\n",
    "plt.plot(fpr, tpr, color='darkorange',\n",
    "         lw=lw, label='ROC curve')\n",
    "plt.plot([0, 1], [0, 1], color='navy', lw=lw, linestyle='--')\n",
    "plt.xlim([0.0, 1.0])\n",
    "plt.ylim([0.0, 1.05])\n",
    "plt.yticks([i/20.0 for i in range(21)])\n",
    "plt.xticks([i/20.0 for i in range(21)])\n",
    "plt.xlabel('False Positive Rate')\n",
    "plt.ylabel('True Positive Rate')\n",
    "plt.title('Receiver operating characteristic (ROC) Curve for Validation Set')\n",
    "plt.legend(loc=\"lower right\")\n",
    "print('AUC: {}'.format(auc(fpr, tpr)))\n",
    "plt.show()\n",
    "\n",
    "average_precision = average_precision_score(y_val, y_val_pred)\n",
    "\n",
    "print('Average precision-recall score RF: {}'.format(average_precision))"
   ]
  },
  {
   "cell_type": "code",
   "execution_count": 85,
   "metadata": {},
   "outputs": [],
   "source": [
    "weighted_predictions_val = []\n",
    "for item in logreg.predict_proba(X_val_transformed):\n",
    "    if item[0] <= .85:\n",
    "        weighted_predictions_val.append(1)\n",
    "    else:\n",
    "        weighted_predictions_val.append(0)"
   ]
  },
  {
   "cell_type": "code",
   "execution_count": 86,
   "metadata": {},
   "outputs": [
    {
     "data": {
      "text/html": [
       "<div>\n",
       "<style scoped>\n",
       "    .dataframe tbody tr th:only-of-type {\n",
       "        vertical-align: middle;\n",
       "    }\n",
       "\n",
       "    .dataframe tbody tr th {\n",
       "        vertical-align: top;\n",
       "    }\n",
       "\n",
       "    .dataframe thead th {\n",
       "        text-align: right;\n",
       "    }\n",
       "</style>\n",
       "<table border=\"1\" class=\"dataframe\">\n",
       "  <thead>\n",
       "    <tr style=\"text-align: right;\">\n",
       "      <th></th>\n",
       "      <th>predicted 0</th>\n",
       "      <th>predicted 1</th>\n",
       "    </tr>\n",
       "  </thead>\n",
       "  <tbody>\n",
       "    <tr>\n",
       "      <th>actual 0</th>\n",
       "      <td>4646</td>\n",
       "      <td>138</td>\n",
       "    </tr>\n",
       "    <tr>\n",
       "      <th>actual 1</th>\n",
       "      <td>105</td>\n",
       "      <td>225</td>\n",
       "    </tr>\n",
       "  </tbody>\n",
       "</table>\n",
       "</div>"
      ],
      "text/plain": [
       "          predicted 0  predicted 1\n",
       "actual 0         4646          138\n",
       "actual 1          105          225"
      ]
     },
     "execution_count": 86,
     "metadata": {},
     "output_type": "execute_result"
    }
   ],
   "source": [
    "val_confusion_matrix"
   ]
  },
  {
   "cell_type": "code",
   "execution_count": 87,
   "metadata": {
    "scrolled": true
   },
   "outputs": [
    {
     "data": {
      "text/html": [
       "<div>\n",
       "<style scoped>\n",
       "    .dataframe tbody tr th:only-of-type {\n",
       "        vertical-align: middle;\n",
       "    }\n",
       "\n",
       "    .dataframe tbody tr th {\n",
       "        vertical-align: top;\n",
       "    }\n",
       "\n",
       "    .dataframe thead th {\n",
       "        text-align: right;\n",
       "    }\n",
       "</style>\n",
       "<table border=\"1\" class=\"dataframe\">\n",
       "  <thead>\n",
       "    <tr style=\"text-align: right;\">\n",
       "      <th></th>\n",
       "      <th>predicted 0</th>\n",
       "      <th>predicted 1</th>\n",
       "    </tr>\n",
       "  </thead>\n",
       "  <tbody>\n",
       "    <tr>\n",
       "      <th>actual 0</th>\n",
       "      <td>4202</td>\n",
       "      <td>582</td>\n",
       "    </tr>\n",
       "    <tr>\n",
       "      <th>actual 1</th>\n",
       "      <td>60</td>\n",
       "      <td>270</td>\n",
       "    </tr>\n",
       "  </tbody>\n",
       "</table>\n",
       "</div>"
      ],
      "text/plain": [
       "          predicted 0  predicted 1\n",
       "actual 0         4202          582\n",
       "actual 1           60          270"
      ]
     },
     "execution_count": 87,
     "metadata": {},
     "output_type": "execute_result"
    }
   ],
   "source": [
    "#with threshhold adjustment\n",
    "pd.DataFrame(confusion_matrix(y_val, weighted_predictions_val), index = ['actual 0', 'actual 1'], columns = ['predicted 0', 'predicted 1'])"
   ]
  },
  {
   "cell_type": "code",
   "execution_count": 88,
   "metadata": {},
   "outputs": [
    {
     "data": {
      "text/html": [
       "<div>\n",
       "<style scoped>\n",
       "    .dataframe tbody tr th:only-of-type {\n",
       "        vertical-align: middle;\n",
       "    }\n",
       "\n",
       "    .dataframe tbody tr th {\n",
       "        vertical-align: top;\n",
       "    }\n",
       "\n",
       "    .dataframe thead th {\n",
       "        text-align: right;\n",
       "    }\n",
       "</style>\n",
       "<table border=\"1\" class=\"dataframe\">\n",
       "  <thead>\n",
       "    <tr style=\"text-align: right;\">\n",
       "      <th></th>\n",
       "      <th>0</th>\n",
       "      <th>1</th>\n",
       "      <th>predicted_class</th>\n",
       "      <th>actual_class</th>\n",
       "    </tr>\n",
       "  </thead>\n",
       "  <tbody>\n",
       "    <tr>\n",
       "      <th>17631</th>\n",
       "      <td>0.96</td>\n",
       "      <td>0.04</td>\n",
       "      <td>0</td>\n",
       "      <td>0</td>\n",
       "    </tr>\n",
       "    <tr>\n",
       "      <th>20997</th>\n",
       "      <td>0.95</td>\n",
       "      <td>0.05</td>\n",
       "      <td>0</td>\n",
       "      <td>0</td>\n",
       "    </tr>\n",
       "    <tr>\n",
       "      <th>20465</th>\n",
       "      <td>0.98</td>\n",
       "      <td>0.02</td>\n",
       "      <td>0</td>\n",
       "      <td>0</td>\n",
       "    </tr>\n",
       "    <tr>\n",
       "      <th>29819</th>\n",
       "      <td>0.93</td>\n",
       "      <td>0.07</td>\n",
       "      <td>0</td>\n",
       "      <td>0</td>\n",
       "    </tr>\n",
       "    <tr>\n",
       "      <th>15058</th>\n",
       "      <td>0.99</td>\n",
       "      <td>0.01</td>\n",
       "      <td>0</td>\n",
       "      <td>0</td>\n",
       "    </tr>\n",
       "  </tbody>\n",
       "</table>\n",
       "</div>"
      ],
      "text/plain": [
       "          0     1  predicted_class  actual_class\n",
       "17631  0.96  0.04                0             0\n",
       "20997  0.95  0.05                0             0\n",
       "20465  0.98  0.02                0             0\n",
       "29819  0.93  0.07                0             0\n",
       "15058  0.99  0.01                0             0"
      ]
     },
     "execution_count": 88,
     "metadata": {},
     "output_type": "execute_result"
    }
   ],
   "source": [
    "pred_df[pred_df['actual_class'] != pred_df['predicted_class']]\n",
    "pred_df.head()"
   ]
  },
  {
   "cell_type": "code",
   "execution_count": 90,
   "metadata": {},
   "outputs": [
    {
     "data": {
      "text/html": [
       "<div>\n",
       "<style scoped>\n",
       "    .dataframe tbody tr th:only-of-type {\n",
       "        vertical-align: middle;\n",
       "    }\n",
       "\n",
       "    .dataframe tbody tr th {\n",
       "        vertical-align: top;\n",
       "    }\n",
       "\n",
       "    .dataframe thead th {\n",
       "        text-align: right;\n",
       "    }\n",
       "</style>\n",
       "<table border=\"1\" class=\"dataframe\">\n",
       "  <thead>\n",
       "    <tr style=\"text-align: right;\">\n",
       "      <th></th>\n",
       "      <th>0</th>\n",
       "      <th>1</th>\n",
       "      <th>predicted_class</th>\n",
       "      <th>actual_class</th>\n",
       "      <th>weighted_predictions</th>\n",
       "    </tr>\n",
       "  </thead>\n",
       "  <tbody>\n",
       "    <tr>\n",
       "      <th>11418</th>\n",
       "      <td>0.86</td>\n",
       "      <td>0.14</td>\n",
       "      <td>0</td>\n",
       "      <td>1</td>\n",
       "      <td>0</td>\n",
       "    </tr>\n",
       "    <tr>\n",
       "      <th>3651</th>\n",
       "      <td>0.81</td>\n",
       "      <td>0.19</td>\n",
       "      <td>0</td>\n",
       "      <td>0</td>\n",
       "      <td>1</td>\n",
       "    </tr>\n",
       "    <tr>\n",
       "      <th>7166</th>\n",
       "      <td>0.84</td>\n",
       "      <td>0.16</td>\n",
       "      <td>0</td>\n",
       "      <td>0</td>\n",
       "      <td>1</td>\n",
       "    </tr>\n",
       "    <tr>\n",
       "      <th>13993</th>\n",
       "      <td>0.79</td>\n",
       "      <td>0.21</td>\n",
       "      <td>0</td>\n",
       "      <td>0</td>\n",
       "      <td>1</td>\n",
       "    </tr>\n",
       "    <tr>\n",
       "      <th>26922</th>\n",
       "      <td>0.61</td>\n",
       "      <td>0.39</td>\n",
       "      <td>0</td>\n",
       "      <td>0</td>\n",
       "      <td>1</td>\n",
       "    </tr>\n",
       "  </tbody>\n",
       "</table>\n",
       "</div>"
      ],
      "text/plain": [
       "          0     1  predicted_class  actual_class  weighted_predictions\n",
       "11418  0.86  0.14                0             1                     0\n",
       "3651   0.81  0.19                0             0                     1\n",
       "7166   0.84  0.16                0             0                     1\n",
       "13993  0.79  0.21                0             0                     1\n",
       "26922  0.61  0.39                0             0                     1"
      ]
     },
     "execution_count": 90,
     "metadata": {},
     "output_type": "execute_result"
    }
   ],
   "source": [
    "pred_df['weighted_predictions'] = weighted_predictions_val\n",
    "pred_df[pred_df['actual_class'] != pred_df['weighted_predictions']].head()"
   ]
  },
  {
   "cell_type": "code",
   "execution_count": 91,
   "metadata": {},
   "outputs": [
    {
     "data": {
      "text/plain": [
       "'@user @user lock the gate! #pamgelleheracist   #mmiw #mmiwg'"
      ]
     },
     "execution_count": 91,
     "metadata": {},
     "output_type": "execute_result"
    }
   ],
   "source": [
    "df.tweet[11418]"
   ]
  },
  {
   "cell_type": "markdown",
   "metadata": {},
   "source": [
    "#### Test Set"
   ]
  },
  {
   "cell_type": "code",
   "execution_count": null,
   "metadata": {},
   "outputs": [],
   "source": [
    "X_train_transformed, metrics_dict, train_confusion_matrix, y_test_pred, y_test_prob, test_df = \\\n",
    "\\\n",
    "wrapper_single_vectorization(X_train_up.lem_tweet, y_train_up, X_test.lem_tweet, y_test, \n",
    "                            logreg, count_vect, apply_smote = False)"
   ]
  },
  {
   "cell_type": "code",
   "execution_count": null,
   "metadata": {},
   "outputs": [],
   "source": [
    "metrics_dict"
   ]
  },
  {
   "cell_type": "code",
   "execution_count": null,
   "metadata": {},
   "outputs": [],
   "source": [
    "y_score = logreg.decision_function(X_train_transformed)\n",
    "   \n",
    "fpr, tpr, thresholds = roc_curve(y_test, y_score)\n",
    "y_test_score = logreg.decision_function(X_train_transformed)\n",
    "test_fpr, test_tpr, thresholds = roc_curve(y_test, y_test_score)\n",
    "\n",
    "sns.set_style(\"darkgrid\", {\"axes.facecolor\": \".9\"})\n",
    "plt.figure(figsize=(10,8))\n",
    "lw = 2\n",
    "plt.plot(fpr, tpr, color='darkorange',\n",
    "         lw=lw, label='ROC curve')\n",
    "plt.plot([0, 1], [0, 1], color='navy', lw=lw, linestyle='--')\n",
    "plt.xlim([0.0, 1.0])\n",
    "plt.ylim([0.0, 1.05])\n",
    "plt.yticks([i/20.0 for i in range(21)])\n",
    "plt.xticks([i/20.0 for i in range(21)])\n",
    "plt.xlabel('False Positive Rate')\n",
    "plt.ylabel('True Positive Rate')\n",
    "plt.title('Receiver operating characteristic (ROC) Curve for Validation Set')\n",
    "plt.legend(loc=\"lower right\")\n",
    "print('AUC: {}'.format(auc(fpr, tpr)))\n",
    "plt.show()\n",
    "\n",
    "average_precision = average_precision_score(y_test, y_test_pred)\n",
    "\n",
    "print('Average precision-recall score RF: {}'.format(average_precision))"
   ]
  },
  {
   "cell_type": "code",
   "execution_count": null,
   "metadata": {},
   "outputs": [],
   "source": [
    "weighted_predictions_test = []\n",
    "for item in logreg.predict_proba(X_train_transformed):\n",
    "    if item[0] <= .85:\n",
    "        weighted_predictions_test.append(1)\n",
    "    else:\n",
    "        weighted_predictions_test.append(0)"
   ]
  },
  {
   "cell_type": "code",
   "execution_count": null,
   "metadata": {},
   "outputs": [],
   "source": [
    "pd.DataFrame(confusion_matrix(y_test, weighted_predictions_test), index = ['actual 0', 'actual 1'], columns = ['predicted 0', 'predicted 1'])"
   ]
  },
  {
   "cell_type": "markdown",
   "metadata": {},
   "source": [
    "## SVM\n"
   ]
  },
  {
   "cell_type": "code",
   "execution_count": 319,
   "metadata": {
    "collapsed": true
   },
   "outputs": [
    {
     "ename": "NameError",
     "evalue": "name 'svm_metrics_dict' is not defined",
     "output_type": "error",
     "traceback": [
      "\u001b[0;31m---------------------------------------------------------------------------\u001b[0m",
      "\u001b[0;31mNameError\u001b[0m                                 Traceback (most recent call last)",
      "\u001b[0;32m<ipython-input-319-e2dd7d93fd9c>\u001b[0m in \u001b[0;36m<module>\u001b[0;34m\u001b[0m\n\u001b[1;32m      3\u001b[0m wrapper_compare_vectorizations(X_train.lem_tweet, y_train, X_val.lem_tweet, y_val, \n\u001b[1;32m      4\u001b[0m                                    SVC(class_weight ='balanced', gamma='auto', random_state = 10), vectorization_list, apply_smote=False)\n\u001b[0;32m----> 5\u001b[0;31m \u001b[0mpd\u001b[0m\u001b[0;34m.\u001b[0m\u001b[0mDataFrame\u001b[0m\u001b[0;34m(\u001b[0m\u001b[0msvm_metrics_dict\u001b[0m\u001b[0;34m)\u001b[0m\u001b[0;34m\u001b[0m\u001b[0;34m\u001b[0m\u001b[0m\n\u001b[0m",
      "\u001b[0;31mNameError\u001b[0m: name 'svm_metrics_dict' is not defined"
     ]
    }
   ],
   "source": [
    "#class weight = balanced + lemmatized\n",
    "svm_metrics_balance, svm_X_train_transformed, svm_X_val_transformed = \\\n",
    "wrapper_compare_vectorizations(X_train.lem_tweet, y_train, X_val.lem_tweet, y_val, \n",
    "                                   SVC(class_weight ='balanced', gamma='auto', random_state = 10), vectorization_list, apply_smote=False)"
   ]
  },
  {
   "cell_type": "code",
   "execution_count": 320,
   "metadata": {
    "collapsed": true
   },
   "outputs": [
    {
     "data": {
      "text/html": [
       "<div>\n",
       "<style scoped>\n",
       "    .dataframe tbody tr th:only-of-type {\n",
       "        vertical-align: middle;\n",
       "    }\n",
       "\n",
       "    .dataframe tbody tr th {\n",
       "        vertical-align: top;\n",
       "    }\n",
       "\n",
       "    .dataframe thead th {\n",
       "        text-align: right;\n",
       "    }\n",
       "</style>\n",
       "<table border=\"1\" class=\"dataframe\">\n",
       "  <thead>\n",
       "    <tr style=\"text-align: right;\">\n",
       "      <th></th>\n",
       "      <th>COUNT_VECTORIZER</th>\n",
       "      <th>TFIDF_VECTORIZER</th>\n",
       "      <th>TFIDF_NGRAM_1_2</th>\n",
       "      <th>TFIDF_NGRAM_2_3</th>\n",
       "    </tr>\n",
       "  </thead>\n",
       "  <tbody>\n",
       "    <tr>\n",
       "      <th>Train Accuracy</th>\n",
       "      <td>0.07</td>\n",
       "      <td>0.08</td>\n",
       "      <td>0.07</td>\n",
       "      <td>0.93</td>\n",
       "    </tr>\n",
       "    <tr>\n",
       "      <th>Train F1</th>\n",
       "      <td>0.13</td>\n",
       "      <td>0.13</td>\n",
       "      <td>0.13</td>\n",
       "      <td>0.18</td>\n",
       "    </tr>\n",
       "    <tr>\n",
       "      <th>Train Precision</th>\n",
       "      <td>0.07</td>\n",
       "      <td>0.07</td>\n",
       "      <td>0.07</td>\n",
       "      <td>0.54</td>\n",
       "    </tr>\n",
       "    <tr>\n",
       "      <th>Train Recall</th>\n",
       "      <td>1.00</td>\n",
       "      <td>1.00</td>\n",
       "      <td>1.00</td>\n",
       "      <td>0.10</td>\n",
       "    </tr>\n",
       "    <tr>\n",
       "      <th>Validation Accuracy</th>\n",
       "      <td>0.06</td>\n",
       "      <td>0.07</td>\n",
       "      <td>0.06</td>\n",
       "      <td>0.94</td>\n",
       "    </tr>\n",
       "    <tr>\n",
       "      <th>Validation F1</th>\n",
       "      <td>0.12</td>\n",
       "      <td>0.12</td>\n",
       "      <td>0.12</td>\n",
       "      <td>0.13</td>\n",
       "    </tr>\n",
       "    <tr>\n",
       "      <th>Validation Precision</th>\n",
       "      <td>0.06</td>\n",
       "      <td>0.06</td>\n",
       "      <td>0.06</td>\n",
       "      <td>0.50</td>\n",
       "    </tr>\n",
       "    <tr>\n",
       "      <th>Validation Recall</th>\n",
       "      <td>1.00</td>\n",
       "      <td>1.00</td>\n",
       "      <td>1.00</td>\n",
       "      <td>0.08</td>\n",
       "    </tr>\n",
       "  </tbody>\n",
       "</table>\n",
       "</div>"
      ],
      "text/plain": [
       "                      COUNT_VECTORIZER  TFIDF_VECTORIZER  TFIDF_NGRAM_1_2  \\\n",
       "Train Accuracy                    0.07              0.08             0.07   \n",
       "Train F1                          0.13              0.13             0.13   \n",
       "Train Precision                   0.07              0.07             0.07   \n",
       "Train Recall                      1.00              1.00             1.00   \n",
       "Validation Accuracy               0.06              0.07             0.06   \n",
       "Validation F1                     0.12              0.12             0.12   \n",
       "Validation Precision              0.06              0.06             0.06   \n",
       "Validation Recall                 1.00              1.00             1.00   \n",
       "\n",
       "                      TFIDF_NGRAM_2_3  \n",
       "Train Accuracy                   0.93  \n",
       "Train F1                         0.18  \n",
       "Train Precision                  0.54  \n",
       "Train Recall                     0.10  \n",
       "Validation Accuracy              0.94  \n",
       "Validation F1                    0.13  \n",
       "Validation Precision             0.50  \n",
       "Validation Recall                0.08  "
      ]
     },
     "execution_count": 320,
     "metadata": {},
     "output_type": "execute_result"
    }
   ],
   "source": [
    "pd.DataFrame(svm_metrics_balance)"
   ]
  },
  {
   "cell_type": "code",
   "execution_count": null,
   "metadata": {},
   "outputs": [],
   "source": [
    "#SMOTE + lemmatized \n",
    "svm_metrics_smote, svm_X_train_smote, svm_X_val_smote   = \\\n",
    "wrapper_compare_vectorizations(X_train.lem_tweet, y_train, X_val.lem_tweet, y_val, \n",
    "                                   SVC(class_weight ='balanced', gamma='auto', random_state = 10), vectorization_list, apply_smote=False)"
   ]
  },
  {
   "cell_type": "code",
   "execution_count": null,
   "metadata": {},
   "outputs": [],
   "source": [
    "pd.DataFrame(svm_metrics_smote)"
   ]
  },
  {
   "cell_type": "code",
   "execution_count": null,
   "metadata": {},
   "outputs": [],
   "source": [
    "#upsampling + lemmatized\n",
    "svm_metrics_up, svm_X_train_up, svm_X_val_up = \\\n",
    "wrapper_compare_vectorizations(X_train_up.lem_tweet, y_train, X_val_up.lem_tweet, y_val, \n",
    "                                   SVC(gamma='auto', random_state = 10), vectorization_list, apply_smote=False)\n",
    "pd.DataFrame(svm_metrics_up)"
   ]
  },
  {
   "cell_type": "markdown",
   "metadata": {},
   "source": [
    "#### Grid Searching:"
   ]
  },
  {
   "cell_type": "code",
   "execution_count": null,
   "metadata": {},
   "outputs": [],
   "source": [
    "wrapper_compare_vectorizations()"
   ]
  },
  {
   "cell_type": "code",
   "execution_count": null,
   "metadata": {},
   "outputs": [],
   "source": [
    "X_train_tfid2 =  tfidf_ngram2.fit_transform(X_train_up.lemmatized_tweet)\n",
    "X_val_tfid2 =  tfidf_ngram2.transform(X_val.lemmatized_tweet)"
   ]
  },
  {
   "cell_type": "code",
   "execution_count": null,
   "metadata": {},
   "outputs": [],
   "source": [
    "# svc = SVC(kernel='linear', C=1, gamma=1, class_weight ='balanced')\n",
    "\n",
    "params = {\n",
    "'C': [0.1,.2, .3, 0.8,1,1.2,1.4],\n",
    "'kernel':['linear', 'rbf'],\n",
    "'gamma' :[0.1,0.8,1,1.2,1.4]\n",
    "}\n",
    "\n",
    "svm_gs= GridSearchCV(svc, param_grid = params, cv = 3)\n",
    "\n",
    "scores = ['f1','accuracy','recall']"
   ]
  },
  {
   "cell_type": "code",
   "execution_count": null,
   "metadata": {},
   "outputs": [],
   "source": [
    "svm_gs.fit(X_train_tfid2, y_train_up)"
   ]
  },
  {
   "cell_type": "code",
   "execution_count": null,
   "metadata": {},
   "outputs": [],
   "source": [
    "svm_gs.best_estimator_"
   ]
  },
  {
   "cell_type": "code",
   "execution_count": null,
   "metadata": {},
   "outputs": [],
   "source": [
    "single_vector_model()"
   ]
  },
  {
   "cell_type": "code",
   "execution_count": null,
   "metadata": {},
   "outputs": [],
   "source": [
    "compare_vectorization_model(X_train_up.lemmatized_tweet, y_train_up, X_val.lemmatized_tweet, y_val, \n",
    "                                   SVC(C=1.2, cache_size=200, class_weight=None, coef0=0.0,\n",
    "    decision_function_shape='ovr', degree=3, gamma=1.4, kernel='rbf',\n",
    "    max_iter=-1, probability=False, random_state=None, shrinking=True,\n",
    "    tol=0.001, verbose=False))"
   ]
  },
  {
   "cell_type": "markdown",
   "metadata": {},
   "source": [
    "# Random Forest"
   ]
  },
  {
   "cell_type": "markdown",
   "metadata": {},
   "source": [
    "### Compare Multiple Methods:"
   ]
  },
  {
   "cell_type": "code",
   "execution_count": 110,
   "metadata": {},
   "outputs": [
    {
     "data": {
      "text/html": [
       "<div>\n",
       "<style scoped>\n",
       "    .dataframe tbody tr th:only-of-type {\n",
       "        vertical-align: middle;\n",
       "    }\n",
       "\n",
       "    .dataframe tbody tr th {\n",
       "        vertical-align: top;\n",
       "    }\n",
       "\n",
       "    .dataframe thead th {\n",
       "        text-align: right;\n",
       "    }\n",
       "</style>\n",
       "<table border=\"1\" class=\"dataframe\">\n",
       "  <thead>\n",
       "    <tr style=\"text-align: right;\">\n",
       "      <th></th>\n",
       "      <th>COUNT_VECTORIZER</th>\n",
       "      <th>TFIDF_VECTORIZER</th>\n",
       "      <th>TFIDF_NGRAM_1_2</th>\n",
       "      <th>TFIDF_NGRAM_2_3</th>\n",
       "    </tr>\n",
       "  </thead>\n",
       "  <tbody>\n",
       "    <tr>\n",
       "      <th>Train Accuracy</th>\n",
       "      <td>0.93</td>\n",
       "      <td>0.89</td>\n",
       "      <td>0.90</td>\n",
       "      <td>0.91</td>\n",
       "    </tr>\n",
       "    <tr>\n",
       "      <th>Train F1</th>\n",
       "      <td>0.59</td>\n",
       "      <td>0.50</td>\n",
       "      <td>0.51</td>\n",
       "      <td>0.29</td>\n",
       "    </tr>\n",
       "    <tr>\n",
       "      <th>Train Precision</th>\n",
       "      <td>0.49</td>\n",
       "      <td>0.38</td>\n",
       "      <td>0.39</td>\n",
       "      <td>0.32</td>\n",
       "    </tr>\n",
       "    <tr>\n",
       "      <th>Train Recall</th>\n",
       "      <td>0.73</td>\n",
       "      <td>0.73</td>\n",
       "      <td>0.74</td>\n",
       "      <td>0.26</td>\n",
       "    </tr>\n",
       "    <tr>\n",
       "      <th>Validation Accuracy</th>\n",
       "      <td>0.91</td>\n",
       "      <td>0.88</td>\n",
       "      <td>0.88</td>\n",
       "      <td>0.90</td>\n",
       "    </tr>\n",
       "    <tr>\n",
       "      <th>Validation F1</th>\n",
       "      <td>0.48</td>\n",
       "      <td>0.40</td>\n",
       "      <td>0.40</td>\n",
       "      <td>0.18</td>\n",
       "    </tr>\n",
       "    <tr>\n",
       "      <th>Validation Precision</th>\n",
       "      <td>0.39</td>\n",
       "      <td>0.29</td>\n",
       "      <td>0.29</td>\n",
       "      <td>0.19</td>\n",
       "    </tr>\n",
       "    <tr>\n",
       "      <th>Validation Recall</th>\n",
       "      <td>0.62</td>\n",
       "      <td>0.62</td>\n",
       "      <td>0.61</td>\n",
       "      <td>0.17</td>\n",
       "    </tr>\n",
       "  </tbody>\n",
       "</table>\n",
       "</div>"
      ],
      "text/plain": [
       "                      COUNT_VECTORIZER  TFIDF_VECTORIZER  TFIDF_NGRAM_1_2  \\\n",
       "Train Accuracy                    0.93              0.89             0.90   \n",
       "Train F1                          0.59              0.50             0.51   \n",
       "Train Precision                   0.49              0.38             0.39   \n",
       "Train Recall                      0.73              0.73             0.74   \n",
       "Validation Accuracy               0.91              0.88             0.88   \n",
       "Validation F1                     0.48              0.40             0.40   \n",
       "Validation Precision              0.39              0.29             0.29   \n",
       "Validation Recall                 0.62              0.62             0.61   \n",
       "\n",
       "                      TFIDF_NGRAM_2_3  \n",
       "Train Accuracy                   0.91  \n",
       "Train F1                         0.29  \n",
       "Train Precision                  0.32  \n",
       "Train Recall                     0.26  \n",
       "Validation Accuracy              0.90  \n",
       "Validation F1                    0.18  \n",
       "Validation Precision             0.19  \n",
       "Validation Recall                0.17  "
      ]
     },
     "execution_count": 110,
     "metadata": {},
     "output_type": "execute_result"
    }
   ],
   "source": [
    "# Random Forest: compare vectorizers with class weight balances + lemmatizing \n",
    "rfc_metrics_bal = \\\n",
    "wrapper_compare_vectorizations(X_train.lem_tweet, y_train, X_val.lem_tweet, y_val, \n",
    "                                   RandomForestClassifier(max_depth= 10, \n",
    "                                   n_estimators = 100, class_weight='balanced', random_state=10), \n",
    "                                   vectorization_list, apply_smote=False)\n",
    "pd.DataFrame(rfc_metrics_bal)"
   ]
  },
  {
   "cell_type": "code",
   "execution_count": 111,
   "metadata": {},
   "outputs": [
    {
     "data": {
      "text/html": [
       "<div>\n",
       "<style scoped>\n",
       "    .dataframe tbody tr th:only-of-type {\n",
       "        vertical-align: middle;\n",
       "    }\n",
       "\n",
       "    .dataframe tbody tr th {\n",
       "        vertical-align: top;\n",
       "    }\n",
       "\n",
       "    .dataframe thead th {\n",
       "        text-align: right;\n",
       "    }\n",
       "</style>\n",
       "<table border=\"1\" class=\"dataframe\">\n",
       "  <thead>\n",
       "    <tr style=\"text-align: right;\">\n",
       "      <th></th>\n",
       "      <th>COUNT_VECTORIZER</th>\n",
       "      <th>TFIDF_VECTORIZER</th>\n",
       "      <th>TFIDF_NGRAM_1_2</th>\n",
       "      <th>TFIDF_NGRAM_2_3</th>\n",
       "    </tr>\n",
       "  </thead>\n",
       "  <tbody>\n",
       "    <tr>\n",
       "      <th>Train Accuracy</th>\n",
       "      <td>0.90</td>\n",
       "      <td>0.87</td>\n",
       "      <td>0.86</td>\n",
       "      <td>0.63</td>\n",
       "    </tr>\n",
       "    <tr>\n",
       "      <th>Train F1</th>\n",
       "      <td>0.89</td>\n",
       "      <td>0.86</td>\n",
       "      <td>0.85</td>\n",
       "      <td>0.43</td>\n",
       "    </tr>\n",
       "    <tr>\n",
       "      <th>Train Precision</th>\n",
       "      <td>0.94</td>\n",
       "      <td>0.93</td>\n",
       "      <td>0.93</td>\n",
       "      <td>0.97</td>\n",
       "    </tr>\n",
       "    <tr>\n",
       "      <th>Train Recall</th>\n",
       "      <td>0.85</td>\n",
       "      <td>0.80</td>\n",
       "      <td>0.79</td>\n",
       "      <td>0.28</td>\n",
       "    </tr>\n",
       "    <tr>\n",
       "      <th>Validation Accuracy</th>\n",
       "      <td>0.91</td>\n",
       "      <td>0.91</td>\n",
       "      <td>0.91</td>\n",
       "      <td>0.93</td>\n",
       "    </tr>\n",
       "    <tr>\n",
       "      <th>Validation F1</th>\n",
       "      <td>0.49</td>\n",
       "      <td>0.47</td>\n",
       "      <td>0.47</td>\n",
       "      <td>0.28</td>\n",
       "    </tr>\n",
       "    <tr>\n",
       "      <th>Validation Precision</th>\n",
       "      <td>0.38</td>\n",
       "      <td>0.37</td>\n",
       "      <td>0.37</td>\n",
       "      <td>0.48</td>\n",
       "    </tr>\n",
       "    <tr>\n",
       "      <th>Validation Recall</th>\n",
       "      <td>0.68</td>\n",
       "      <td>0.63</td>\n",
       "      <td>0.64</td>\n",
       "      <td>0.19</td>\n",
       "    </tr>\n",
       "  </tbody>\n",
       "</table>\n",
       "</div>"
      ],
      "text/plain": [
       "                      COUNT_VECTORIZER  TFIDF_VECTORIZER  TFIDF_NGRAM_1_2  \\\n",
       "Train Accuracy                    0.90              0.87             0.86   \n",
       "Train F1                          0.89              0.86             0.85   \n",
       "Train Precision                   0.94              0.93             0.93   \n",
       "Train Recall                      0.85              0.80             0.79   \n",
       "Validation Accuracy               0.91              0.91             0.91   \n",
       "Validation F1                     0.49              0.47             0.47   \n",
       "Validation Precision              0.38              0.37             0.37   \n",
       "Validation Recall                 0.68              0.63             0.64   \n",
       "\n",
       "                      TFIDF_NGRAM_2_3  \n",
       "Train Accuracy                   0.63  \n",
       "Train F1                         0.43  \n",
       "Train Precision                  0.97  \n",
       "Train Recall                     0.28  \n",
       "Validation Accuracy              0.93  \n",
       "Validation F1                    0.28  \n",
       "Validation Precision             0.48  \n",
       "Validation Recall                0.19  "
      ]
     },
     "execution_count": 111,
     "metadata": {},
     "output_type": "execute_result"
    }
   ],
   "source": [
    "# Random Forest: compare vectorizers with upsampling + lemmatizing \n",
    "rfc_metrics_up = \\\n",
    "wrapper_compare_vectorizations(X_train_up.lem_tweet, y_train_up, X_val.lem_tweet, y_val, \n",
    "                                   RandomForestClassifier(max_depth= 20, \n",
    "                                   n_estimators = 100, class_weight='balanced', random_state=10), \n",
    "                                   vectorization_list, apply_smote=False)\n",
    "pd.DataFrame(rfc_metrics_up)"
   ]
  },
  {
   "cell_type": "code",
   "execution_count": 112,
   "metadata": {},
   "outputs": [
    {
     "data": {
      "text/html": [
       "<div>\n",
       "<style scoped>\n",
       "    .dataframe tbody tr th:only-of-type {\n",
       "        vertical-align: middle;\n",
       "    }\n",
       "\n",
       "    .dataframe tbody tr th {\n",
       "        vertical-align: top;\n",
       "    }\n",
       "\n",
       "    .dataframe thead th {\n",
       "        text-align: right;\n",
       "    }\n",
       "</style>\n",
       "<table border=\"1\" class=\"dataframe\">\n",
       "  <thead>\n",
       "    <tr style=\"text-align: right;\">\n",
       "      <th></th>\n",
       "      <th>COUNT_VECTORIZER</th>\n",
       "      <th>TFIDF_VECTORIZER</th>\n",
       "      <th>TFIDF_NGRAM_1_2</th>\n",
       "      <th>TFIDF_NGRAM_2_3</th>\n",
       "    </tr>\n",
       "  </thead>\n",
       "  <tbody>\n",
       "    <tr>\n",
       "      <th>Train Accuracy</th>\n",
       "      <td>0.95</td>\n",
       "      <td>0.94</td>\n",
       "      <td>0.94</td>\n",
       "      <td>0.44</td>\n",
       "    </tr>\n",
       "    <tr>\n",
       "      <th>Train F1</th>\n",
       "      <td>0.69</td>\n",
       "      <td>0.63</td>\n",
       "      <td>0.65</td>\n",
       "      <td>0.19</td>\n",
       "    </tr>\n",
       "    <tr>\n",
       "      <th>Train Precision</th>\n",
       "      <td>0.62</td>\n",
       "      <td>0.54</td>\n",
       "      <td>0.56</td>\n",
       "      <td>0.11</td>\n",
       "    </tr>\n",
       "    <tr>\n",
       "      <th>Train Recall</th>\n",
       "      <td>0.79</td>\n",
       "      <td>0.77</td>\n",
       "      <td>0.77</td>\n",
       "      <td>0.94</td>\n",
       "    </tr>\n",
       "    <tr>\n",
       "      <th>Validation Accuracy</th>\n",
       "      <td>0.93</td>\n",
       "      <td>0.90</td>\n",
       "      <td>0.90</td>\n",
       "      <td>0.41</td>\n",
       "    </tr>\n",
       "    <tr>\n",
       "      <th>Validation F1</th>\n",
       "      <td>0.54</td>\n",
       "      <td>0.44</td>\n",
       "      <td>0.44</td>\n",
       "      <td>0.16</td>\n",
       "    </tr>\n",
       "    <tr>\n",
       "      <th>Validation Precision</th>\n",
       "      <td>0.48</td>\n",
       "      <td>0.35</td>\n",
       "      <td>0.36</td>\n",
       "      <td>0.09</td>\n",
       "    </tr>\n",
       "    <tr>\n",
       "      <th>Validation Recall</th>\n",
       "      <td>0.62</td>\n",
       "      <td>0.58</td>\n",
       "      <td>0.59</td>\n",
       "      <td>0.86</td>\n",
       "    </tr>\n",
       "  </tbody>\n",
       "</table>\n",
       "</div>"
      ],
      "text/plain": [
       "                      COUNT_VECTORIZER  TFIDF_VECTORIZER  TFIDF_NGRAM_1_2  \\\n",
       "Train Accuracy                    0.95              0.94             0.94   \n",
       "Train F1                          0.69              0.63             0.65   \n",
       "Train Precision                   0.62              0.54             0.56   \n",
       "Train Recall                      0.79              0.77             0.77   \n",
       "Validation Accuracy               0.93              0.90             0.90   \n",
       "Validation F1                     0.54              0.44             0.44   \n",
       "Validation Precision              0.48              0.35             0.36   \n",
       "Validation Recall                 0.62              0.58             0.59   \n",
       "\n",
       "                      TFIDF_NGRAM_2_3  \n",
       "Train Accuracy                   0.44  \n",
       "Train F1                         0.19  \n",
       "Train Precision                  0.11  \n",
       "Train Recall                     0.94  \n",
       "Validation Accuracy              0.41  \n",
       "Validation F1                    0.16  \n",
       "Validation Precision             0.09  \n",
       "Validation Recall                0.86  "
      ]
     },
     "execution_count": 112,
     "metadata": {},
     "output_type": "execute_result"
    }
   ],
   "source": [
    "# Random Forest: compare vectorizers with SMOTE + lemmatizing  \n",
    "rfc_metrics_smote  = \\\n",
    "wrapper_compare_vectorizations(X_train.lem_tweet, y_train, X_val.lem_tweet, y_val, \n",
    "                                   RandomForestClassifier(max_depth= 20, \n",
    "                                   n_estimators = 100, class_weight='balanced', random_state=10), \n",
    "                                   vectorization_list, apply_smote=False)\n",
    "pd.DataFrame(rfc_metrics_smote)"
   ]
  },
  {
   "cell_type": "code",
   "execution_count": 113,
   "metadata": {},
   "outputs": [],
   "source": [
    "X_val_transformed, metrics_dict, val_confusion_matrix, y_val_pred, y_val_prob, pred_df = \\\n",
    "\\\n",
    "single_vector_model(X_train_up.lem_tweet, y_train_up, X_val.lem_tweet, y_val, \n",
    "                    RandomForestClassifier(max_depth= 20, \n",
    "                                   n_estimators = 100, class_weight='balanced', random_state=10), count_vect)"
   ]
  },
  {
   "cell_type": "markdown",
   "metadata": {},
   "source": [
    "### Grid-Searching For Best Fit for Count Vectorizer + Upsampling"
   ]
  },
  {
   "cell_type": "code",
   "execution_count": 332,
   "metadata": {},
   "outputs": [],
   "source": [
    "np.random.seed(0)\n",
    "# rfc = RandomForestClassifier(n_estimators=60, max_depth=6, random_state=10, class_weight = 'balanced')"
   ]
  },
  {
   "cell_type": "code",
   "execution_count": 97,
   "metadata": {},
   "outputs": [],
   "source": [
    "X_train_countvect =  count_vect.fit_transform(X_train.lem_tweet)\n",
    "X_val_countvect =  count_vect.transform(X_val.lem_tweet)\n",
    "X_test_countvect = count_vect.transform(X_test.lem_tweet)"
   ]
  },
  {
   "cell_type": "code",
   "execution_count": 350,
   "metadata": {},
   "outputs": [],
   "source": [
    "rfc = RandomForestClassifier(random_state=10)\n",
    "\n",
    "parameters = {'n_estimators' : [40, 60, 80, 100],\n",
    "'max_leaf_nodes' : [200, 400, 600],\n",
    "'random_state' : [10],\n",
    "'max_depth': [5, 7, 10, 20],\n",
    " 'verbose' : [0],\n",
    "'class_weight': ['balanced', 'balanced_subsample']}\n",
    "          \n",
    "rfc_gs = GridSearchCV(rfc, param_grid=parameters, cv = 3)"
   ]
  },
  {
   "cell_type": "code",
   "execution_count": 351,
   "metadata": {
    "collapsed": true
   },
   "outputs": [
    {
     "data": {
      "text/plain": [
       "GridSearchCV(cv=3, error_score='raise-deprecating',\n",
       "             estimator=RandomForestClassifier(bootstrap=True, class_weight=None,\n",
       "                                              criterion='gini', max_depth=None,\n",
       "                                              max_features='auto',\n",
       "                                              max_leaf_nodes=None,\n",
       "                                              min_impurity_decrease=0.0,\n",
       "                                              min_impurity_split=None,\n",
       "                                              min_samples_leaf=1,\n",
       "                                              min_samples_split=2,\n",
       "                                              min_weight_fraction_leaf=0.0,\n",
       "                                              n_estimators='warn', n_jobs=None,\n",
       "                                              oob_score=False, random_state=10,\n",
       "                                              verbose=0, warm_start=False),\n",
       "             iid='warn', n_jobs=None,\n",
       "             param_grid={'class_weight': ['balanced', 'balanced_subsample'],\n",
       "                         'max_depth': [5, 7, 10, 20],\n",
       "                         'max_leaf_nodes': [200, 400, 600],\n",
       "                         'n_estimators': [40, 60, 80, 100],\n",
       "                         'random_state': [10], 'verbose': [0]},\n",
       "             pre_dispatch='2*n_jobs', refit=True, return_train_score=False,\n",
       "             scoring=None, verbose=0)"
      ]
     },
     "execution_count": 351,
     "metadata": {},
     "output_type": "execute_result"
    }
   ],
   "source": [
    "rfc_gs.fit(X_train_countvect, y_train)"
   ]
  },
  {
   "cell_type": "code",
   "execution_count": 353,
   "metadata": {},
   "outputs": [
    {
     "data": {
      "text/plain": [
       "{'class_weight': 'balanced',\n",
       " 'max_depth': 20,\n",
       " 'max_leaf_nodes': 200,\n",
       " 'n_estimators': 100,\n",
       " 'random_state': 10,\n",
       " 'verbose': 0}"
      ]
     },
     "execution_count": 353,
     "metadata": {},
     "output_type": "execute_result"
    }
   ],
   "source": [
    "rfc_gs.best_params_"
   ]
  },
  {
   "cell_type": "code",
   "execution_count": 354,
   "metadata": {
    "collapsed": true
   },
   "outputs": [
    {
     "data": {
      "text/plain": [
       "RandomForestClassifier(bootstrap=True, class_weight='balanced',\n",
       "                       criterion='gini', max_depth=20, max_features='auto',\n",
       "                       max_leaf_nodes=200, min_impurity_decrease=0.0,\n",
       "                       min_impurity_split=None, min_samples_leaf=1,\n",
       "                       min_samples_split=2, min_weight_fraction_leaf=0.0,\n",
       "                       n_estimators=100, n_jobs=None, oob_score=False,\n",
       "                       random_state=10, verbose=0, warm_start=False)"
      ]
     },
     "execution_count": 354,
     "metadata": {},
     "output_type": "execute_result"
    }
   ],
   "source": [
    "rfc_gs.best_estimator_"
   ]
  },
  {
   "cell_type": "code",
   "execution_count": 98,
   "metadata": {},
   "outputs": [],
   "source": [
    "rfc2 = RandomForestClassifier(bootstrap=True, class_weight='balanced',\n",
    "                       criterion='gini', max_depth=20, max_features='auto',\n",
    "                       max_leaf_nodes=200, min_impurity_decrease=0.0,\n",
    "                       min_impurity_split=None, min_samples_leaf=1,\n",
    "                       min_samples_split=2, min_weight_fraction_leaf=0.0,\n",
    "                       n_estimators=100, n_jobs=None, oob_score=False,\n",
    "                       random_state=10, verbose=0, warm_start=False)"
   ]
  },
  {
   "cell_type": "code",
   "execution_count": 99,
   "metadata": {},
   "outputs": [
    {
     "data": {
      "text/plain": [
       "RandomForestClassifier(bootstrap=True, class_weight='balanced',\n",
       "                       criterion='gini', max_depth=20, max_features='auto',\n",
       "                       max_leaf_nodes=200, min_impurity_decrease=0.0,\n",
       "                       min_impurity_split=None, min_samples_leaf=1,\n",
       "                       min_samples_split=2, min_weight_fraction_leaf=0.0,\n",
       "                       n_estimators=100, n_jobs=None, oob_score=False,\n",
       "                       random_state=10, verbose=0, warm_start=False)"
      ]
     },
     "execution_count": 99,
     "metadata": {},
     "output_type": "execute_result"
    }
   ],
   "source": [
    "rfc2.fit(X_train_countvect, y_train)"
   ]
  },
  {
   "cell_type": "code",
   "execution_count": 100,
   "metadata": {},
   "outputs": [
    {
     "data": {
      "text/plain": [
       "0.7278624716185533"
      ]
     },
     "execution_count": 100,
     "metadata": {},
     "output_type": "execute_result"
    }
   ],
   "source": [
    "y_train_predict = rfc2.predict(X_train_countvect)\n",
    "metrics.f1_score(y_train, y_train_predict)"
   ]
  },
  {
   "cell_type": "code",
   "execution_count": 101,
   "metadata": {},
   "outputs": [],
   "source": [
    "y_val_predict = rfc2.predict(X_val_countvect)"
   ]
  },
  {
   "cell_type": "code",
   "execution_count": 102,
   "metadata": {},
   "outputs": [
    {
     "data": {
      "text/plain": [
       "0.5694249649368864"
      ]
     },
     "execution_count": 102,
     "metadata": {},
     "output_type": "execute_result"
    }
   ],
   "source": [
    "metrics.f1_score(y_val, y_val_predict)"
   ]
  },
  {
   "cell_type": "code",
   "execution_count": 106,
   "metadata": {
    "collapsed": true
   },
   "outputs": [
    {
     "ename": "AttributeError",
     "evalue": "columns not found",
     "output_type": "error",
     "traceback": [
      "\u001b[0;31m---------------------------------------------------------------------------\u001b[0m",
      "\u001b[0;31mAttributeError\u001b[0m                            Traceback (most recent call last)",
      "\u001b[0;32m<ipython-input-106-61d9ab0f621b>\u001b[0m in \u001b[0;36m<module>\u001b[0;34m\u001b[0m\n\u001b[1;32m     10\u001b[0m     \u001b[0mplt\u001b[0m\u001b[0;34m.\u001b[0m\u001b[0mylabel\u001b[0m\u001b[0;34m(\u001b[0m\u001b[0;34m\"Feature\"\u001b[0m\u001b[0;34m)\u001b[0m\u001b[0;34m\u001b[0m\u001b[0;34m\u001b[0m\u001b[0m\n\u001b[1;32m     11\u001b[0m \u001b[0;34m\u001b[0m\u001b[0m\n\u001b[0;32m---> 12\u001b[0;31m \u001b[0mplot_feature_importances\u001b[0m\u001b[0;34m(\u001b[0m\u001b[0mrfc2\u001b[0m\u001b[0;34m)\u001b[0m\u001b[0;34m\u001b[0m\u001b[0;34m\u001b[0m\u001b[0m\n\u001b[0m",
      "\u001b[0;32m<ipython-input-106-61d9ab0f621b>\u001b[0m in \u001b[0;36mplot_feature_importances\u001b[0;34m(rfc2)\u001b[0m\n\u001b[1;32m      6\u001b[0m     \u001b[0mplt\u001b[0m\u001b[0;34m.\u001b[0m\u001b[0mfigure\u001b[0m\u001b[0;34m(\u001b[0m\u001b[0mfigsize\u001b[0m\u001b[0;34m=\u001b[0m\u001b[0;34m(\u001b[0m\u001b[0;36m8\u001b[0m\u001b[0;34m,\u001b[0m\u001b[0;36m8\u001b[0m\u001b[0;34m)\u001b[0m\u001b[0;34m)\u001b[0m\u001b[0;34m\u001b[0m\u001b[0;34m\u001b[0m\u001b[0m\n\u001b[1;32m      7\u001b[0m     \u001b[0mplt\u001b[0m\u001b[0;34m.\u001b[0m\u001b[0mbarh\u001b[0m\u001b[0;34m(\u001b[0m\u001b[0mrange\u001b[0m\u001b[0;34m(\u001b[0m\u001b[0mn_features\u001b[0m\u001b[0;34m)\u001b[0m\u001b[0;34m,\u001b[0m \u001b[0mrfc2\u001b[0m\u001b[0;34m.\u001b[0m\u001b[0mfeature_importances_\u001b[0m\u001b[0;34m,\u001b[0m \u001b[0malign\u001b[0m\u001b[0;34m=\u001b[0m\u001b[0;34m'center'\u001b[0m\u001b[0;34m)\u001b[0m\u001b[0;34m\u001b[0m\u001b[0;34m\u001b[0m\u001b[0m\n\u001b[0;32m----> 8\u001b[0;31m     \u001b[0mplt\u001b[0m\u001b[0;34m.\u001b[0m\u001b[0myticks\u001b[0m\u001b[0;34m(\u001b[0m\u001b[0mnp\u001b[0m\u001b[0;34m.\u001b[0m\u001b[0marange\u001b[0m\u001b[0;34m(\u001b[0m\u001b[0mn_features\u001b[0m\u001b[0;34m)\u001b[0m\u001b[0;34m,\u001b[0m \u001b[0mX_val_countvect\u001b[0m\u001b[0;34m.\u001b[0m\u001b[0mcolumns\u001b[0m\u001b[0;34m.\u001b[0m\u001b[0mvalues\u001b[0m\u001b[0;34m)\u001b[0m\u001b[0;34m\u001b[0m\u001b[0;34m\u001b[0m\u001b[0m\n\u001b[0m\u001b[1;32m      9\u001b[0m     \u001b[0mplt\u001b[0m\u001b[0;34m.\u001b[0m\u001b[0mxlabel\u001b[0m\u001b[0;34m(\u001b[0m\u001b[0;34m\"Feature importance\"\u001b[0m\u001b[0;34m)\u001b[0m\u001b[0;34m\u001b[0m\u001b[0;34m\u001b[0m\u001b[0m\n\u001b[1;32m     10\u001b[0m     \u001b[0mplt\u001b[0m\u001b[0;34m.\u001b[0m\u001b[0mylabel\u001b[0m\u001b[0;34m(\u001b[0m\u001b[0;34m\"Feature\"\u001b[0m\u001b[0;34m)\u001b[0m\u001b[0;34m\u001b[0m\u001b[0;34m\u001b[0m\u001b[0m\n",
      "\u001b[0;32m~/anaconda3/lib/python3.7/site-packages/scipy/sparse/base.py\u001b[0m in \u001b[0;36m__getattr__\u001b[0;34m(self, attr)\u001b[0m\n\u001b[1;32m    687\u001b[0m             \u001b[0;32mreturn\u001b[0m \u001b[0mself\u001b[0m\u001b[0;34m.\u001b[0m\u001b[0mgetnnz\u001b[0m\u001b[0;34m(\u001b[0m\u001b[0;34m)\u001b[0m\u001b[0;34m\u001b[0m\u001b[0;34m\u001b[0m\u001b[0m\n\u001b[1;32m    688\u001b[0m         \u001b[0;32melse\u001b[0m\u001b[0;34m:\u001b[0m\u001b[0;34m\u001b[0m\u001b[0;34m\u001b[0m\u001b[0m\n\u001b[0;32m--> 689\u001b[0;31m             \u001b[0;32mraise\u001b[0m \u001b[0mAttributeError\u001b[0m\u001b[0;34m(\u001b[0m\u001b[0mattr\u001b[0m \u001b[0;34m+\u001b[0m \u001b[0;34m\" not found\"\u001b[0m\u001b[0;34m)\u001b[0m\u001b[0;34m\u001b[0m\u001b[0;34m\u001b[0m\u001b[0m\n\u001b[0m\u001b[1;32m    690\u001b[0m \u001b[0;34m\u001b[0m\u001b[0m\n\u001b[1;32m    691\u001b[0m     \u001b[0;32mdef\u001b[0m \u001b[0mtranspose\u001b[0m\u001b[0;34m(\u001b[0m\u001b[0mself\u001b[0m\u001b[0;34m,\u001b[0m \u001b[0maxes\u001b[0m\u001b[0;34m=\u001b[0m\u001b[0;32mNone\u001b[0m\u001b[0;34m,\u001b[0m \u001b[0mcopy\u001b[0m\u001b[0;34m=\u001b[0m\u001b[0;32mFalse\u001b[0m\u001b[0;34m)\u001b[0m\u001b[0;34m:\u001b[0m\u001b[0;34m\u001b[0m\u001b[0;34m\u001b[0m\u001b[0m\n",
      "\u001b[0;31mAttributeError\u001b[0m: columns not found"
     ]
    },
    {
     "data": {
      "image/png": "[encoded data removed]",
      "text/plain": [
       "<Figure size 576x576 with 1 Axes>"
      ]
     },
     "metadata": {
      "needs_background": "light"
     },
     "output_type": "display_data"
    }
   ],
   "source": [
    "import matplotlib.pyplot as plt\n",
    "%matplotlib inline\n",
    "\n",
    "def plot_feature_importances(rfc2):\n",
    "    n_features = X_val_countvect.shape[1]\n",
    "    plt.figure(figsize=(8,8))\n",
    "    plt.barh(range(n_features), rfc2.feature_importances_, align='center') \n",
    "    plt.yticks(np.arange(n_features), countvect.values) \n",
    "    plt.xlabel(\"Feature importance\")\n",
    "    plt.ylabel(\"Feature\")\n",
    "\n",
    "plot_feature_importances(rfc2)"
   ]
  },
  {
   "cell_type": "markdown",
   "metadata": {},
   "source": [
    "# Word to Vec"
   ]
  },
  {
   "cell_type": "code",
   "execution_count": null,
   "metadata": {},
   "outputs": [],
   "source": [
    "type(df.tokenized_tweet[0])"
   ]
  },
  {
   "cell_type": "code",
   "execution_count": null,
   "metadata": {},
   "outputs": [],
   "source": [
    "(X_train.tokenized_tweet[0])"
   ]
  },
  {
   "cell_type": "code",
   "execution_count": null,
   "metadata": {},
   "outputs": [],
   "source": [
    "X_train.tokenized_tweet.head()"
   ]
  },
  {
   "cell_type": "markdown",
   "metadata": {},
   "source": [
    "### X-train pre-processing"
   ]
  },
  {
   "cell_type": "code",
   "execution_count": null,
   "metadata": {
    "scrolled": true
   },
   "outputs": [],
   "source": [
    "X_train.tokenized_tweet.shape"
   ]
  },
  {
   "cell_type": "code",
   "execution_count": null,
   "metadata": {},
   "outputs": [],
   "source": [
    "# X_train['tokenized_tweet']= X_train['tokenized_tweet'].apply(eval)"
   ]
  },
  {
   "cell_type": "code",
   "execution_count": 52,
   "metadata": {},
   "outputs": [],
   "source": [
    "X_train_token_list = list(X_train.tokenized_tweet)"
   ]
  },
  {
   "cell_type": "code",
   "execution_count": 53,
   "metadata": {},
   "outputs": [
    {
     "data": {
      "text/plain": [
       "list"
      ]
     },
     "execution_count": 53,
     "metadata": {},
     "output_type": "execute_result"
    }
   ],
   "source": [
    "type(X_train_token_list[0])"
   ]
  },
  {
   "cell_type": "code",
   "execution_count": 54,
   "metadata": {},
   "outputs": [],
   "source": [
    "X_train_token_sumlist = sum(X_train_token_list,[])"
   ]
  },
  {
   "cell_type": "code",
   "execution_count": 55,
   "metadata": {},
   "outputs": [
    {
     "name": "stdout",
     "output_type": "stream",
     "text": [
      "The unique number of words in the training dataset is: 28638\n"
     ]
    }
   ],
   "source": [
    "X_train_unique_tokens = set(X_train_token_sumlist)\n",
    "print('The unique number of words in the training dataset is: {}'.format(len(X_train_unique_tokens)))"
   ]
  },
  {
   "cell_type": "markdown",
   "metadata": {},
   "source": [
    "#### X-val pre-processing"
   ]
  },
  {
   "cell_type": "code",
   "execution_count": 58,
   "metadata": {},
   "outputs": [
    {
     "name": "stdout",
     "output_type": "stream",
     "text": [
      "The unique number of words in the validation dataset is: 11739\n"
     ]
    }
   ],
   "source": [
    "X_val_token_list = list(X_val['tokenized_tweet'])\n",
    "X_val_token_sumlist = sum(X_val_token_list,[])\n",
    "X_val_unique_tokens = set(X_val_token_sumlist)\n",
    "\n",
    "print('The unique number of words in the validation dataset is: {}'.format(len(X_val_unique_tokens)))"
   ]
  },
  {
   "cell_type": "markdown",
   "metadata": {},
   "source": [
    "#### X-test pre-processing"
   ]
  },
  {
   "cell_type": "code",
   "execution_count": 59,
   "metadata": {},
   "outputs": [
    {
     "name": "stdout",
     "output_type": "stream",
     "text": [
      "The unique number of words in the training dataset is: 13677\n"
     ]
    }
   ],
   "source": [
    "X_test_token_list = list(X_test['tokenized_tweet'])\n",
    "X_test_token_sumlist = sum(X_test_token_list,[])\n",
    "\n",
    "X_test_unique_tokens = set(X_test_token_sumlist)\n",
    "print('The unique number of words in the training dataset is: {}'.format(len(X_test_unique_tokens)))"
   ]
  },
  {
   "cell_type": "markdown",
   "metadata": {},
   "source": [
    "### Training Model"
   ]
  },
  {
   "cell_type": "code",
   "execution_count": 60,
   "metadata": {},
   "outputs": [
    {
     "name": "stdout",
     "output_type": "stream",
     "text": [
      "Time to train the model: 0.07 mins\n"
     ]
    }
   ],
   "source": [
    "from time import time\n",
    "t = time()\n",
    "\n",
    "w2v_model = gensim.models.Word2Vec(X_train_token_list, sg=1, min_count=1)\n",
    "\n",
    "print('Time to train the model: {} mins'.format(round((time() - t) / 60, 2)))"
   ]
  },
  {
   "cell_type": "code",
   "execution_count": 61,
   "metadata": {},
   "outputs": [
    {
     "name": "stderr",
     "output_type": "stream",
     "text": [
      "WARNING: Logging before flag parsing goes to stderr.\n",
      "W0726 11:51:26.661659 140735734276992 base_any2vec.py:1182] Effective 'alpha' higher than previous training cycles\n"
     ]
    },
    {
     "data": {
      "text/plain": [
       "(1059046, 1270695)"
      ]
     },
     "execution_count": 61,
     "metadata": {},
     "output_type": "execute_result"
    }
   ],
   "source": [
    "w2v_model.train(X_train_token_list, total_examples=w2v_model.corpus_count, epochs=w2v_model.epochs)"
   ]
  },
  {
   "cell_type": "code",
   "execution_count": 62,
   "metadata": {},
   "outputs": [],
   "source": [
    "w2v_model.save('data/w2v.model')\n",
    "\n",
    "w2v = gensim.models.Word2Vec.load('data/w2v.model')"
   ]
  },
  {
   "cell_type": "code",
   "execution_count": 63,
   "metadata": {
    "scrolled": false
   },
   "outputs": [
    {
     "data": {
      "text/plain": [
       "20455"
      ]
     },
     "execution_count": 63,
     "metadata": {},
     "output_type": "execute_result"
    }
   ],
   "source": [
    "w2v.corpus_count"
   ]
  },
  {
   "cell_type": "code",
   "execution_count": 64,
   "metadata": {},
   "outputs": [],
   "source": [
    "w2v_vocab= w2v.wv.vocab"
   ]
  },
  {
   "cell_type": "code",
   "execution_count": 395,
   "metadata": {},
   "outputs": [
    {
     "data": {
      "text/plain": [
       "28638"
      ]
     },
     "execution_count": 395,
     "metadata": {},
     "output_type": "execute_result"
    }
   ],
   "source": [
    "len(w2v_vocab)"
   ]
  },
  {
   "cell_type": "code",
   "execution_count": 396,
   "metadata": {},
   "outputs": [
    {
     "data": {
      "text/plain": [
       "(28638, 100)"
      ]
     },
     "execution_count": 396,
     "metadata": {},
     "output_type": "execute_result"
    }
   ],
   "source": [
    "w2v.wv.vectors.shape"
   ]
  },
  {
   "cell_type": "code",
   "execution_count": 397,
   "metadata": {
    "collapsed": true
   },
   "outputs": [
    {
     "data": {
      "text/plain": [
       "array([-1.0741628 ,  0.25726736, -0.28648418,  0.584742  ,  0.6637516 ,\n",
       "       -0.323804  ,  0.15741855,  0.10598789,  0.65175503,  0.58140874,\n",
       "       -0.6858151 ,  0.27742994, -0.7756751 ,  0.384504  ,  0.17189607,\n",
       "       -0.0779872 ,  0.720414  , -0.14792329,  0.3027056 ,  0.26341632,\n",
       "        0.564876  , -0.01558565, -0.2851384 , -0.5719765 ,  0.10701799,\n",
       "       -0.04947015, -0.13864604, -0.15518494, -0.53318757, -0.05348621,\n",
       "       -0.02617207, -0.3777389 , -0.5651622 ,  0.23554018, -0.5019818 ,\n",
       "        0.28997305, -0.623897  , -0.12971206, -0.18043801, -0.18210743,\n",
       "        0.1676428 , -0.13844441, -0.2695112 , -0.19630684,  0.00210546,\n",
       "        0.4490902 ,  0.22908258,  0.66579163,  0.39319432,  0.03842583,\n",
       "        0.07071815,  0.35224882, -0.01833265,  0.30844247,  0.573281  ,\n",
       "       -0.31231984,  0.16718751,  0.06626698, -0.52159023, -0.05834407,\n",
       "        0.06671209, -0.52523416,  0.00899767, -0.05377226, -0.14505701,\n",
       "       -0.6625283 , -0.15970175,  0.3465464 , -0.11873607,  0.6024351 ,\n",
       "       -0.09394083, -0.39062175,  0.14463694, -0.48668283, -0.5271387 ,\n",
       "        0.09678972,  0.1084594 ,  0.454414  , -0.61435306, -0.29905105,\n",
       "       -0.11387684,  0.52043086, -0.41144788,  0.7426081 , -0.52662545,\n",
       "       -0.625695  ,  0.40188828, -0.4948679 ,  0.84673065, -0.0125394 ,\n",
       "       -0.10079043, -0.19086188,  0.16118406,  0.2970656 , -0.09066874,\n",
       "        0.11023952,  0.00478813, -0.03985578, -0.41531447,  0.38738012],\n",
       "      dtype=float32)"
      ]
     },
     "execution_count": 397,
     "metadata": {},
     "output_type": "execute_result"
    }
   ],
   "source": [
    "w2v.wv['trump']"
   ]
  },
  {
   "cell_type": "code",
   "execution_count": 398,
   "metadata": {},
   "outputs": [
    {
     "data": {
      "text/plain": [
       "[('paladino', 0.8283085823059082),\n",
       " ('carl', 0.8134002685546875),\n",
       " ('obama', 0.8051496148109436),\n",
       " ('donald', 0.7897615432739258),\n",
       " ('clinton', 0.7894325852394104),\n",
       " ('remarks', 0.7865539789199829),\n",
       " ('blm', 0.7865400314331055),\n",
       " ('comments', 0.7766364812850952),\n",
       " ('obamas', 0.7705139517784119),\n",
       " ('ally', 0.7704936265945435)]"
      ]
     },
     "execution_count": 398,
     "metadata": {},
     "output_type": "execute_result"
    }
   ],
   "source": [
    "w2v.wv.most_similar(['trump'])"
   ]
  },
  {
   "cell_type": "code",
   "execution_count": 516,
   "metadata": {},
   "outputs": [
    {
     "data": {
      "text/plain": [
       "[('clinton', 0.8898996114730835),\n",
       " ('kkk', 0.8775207996368408),\n",
       " ('bigot', 0.8729462623596191),\n",
       " ('paladino', 0.8713377714157104),\n",
       " ('misogynist', 0.8632591366767883),\n",
       " ('carl', 0.8615664839744568),\n",
       " ('homophobic', 0.8582882881164551),\n",
       " ('comments', 0.858141303062439),\n",
       " ('non', 0.8573181629180908),\n",
       " ('liar', 0.85687255859375)]"
      ]
     },
     "execution_count": 516,
     "metadata": {},
     "output_type": "execute_result"
    }
   ],
   "source": [
    "w2v.wv.most_similar(['racist'])"
   ]
  },
  {
   "cell_type": "code",
   "execution_count": 399,
   "metadata": {},
   "outputs": [
    {
     "data": {
      "text/plain": [
       "[('brown', 0.9132056832313538),\n",
       " ('dating', 0.9076129794120789),\n",
       " ('minded', 0.907611608505249),\n",
       " ('fuckin', 0.9014075398445129),\n",
       " ('bills', 0.8978642225265503),\n",
       " ('deplorable', 0.8956817984580994),\n",
       " ('proving', 0.8955982327461243),\n",
       " ('feeding', 0.8938329815864563),\n",
       " ('letterkenny', 0.8933387994766235),\n",
       " ('besides', 0.8898042440414429)]"
      ]
     },
     "execution_count": 399,
     "metadata": {},
     "output_type": "execute_result"
    }
   ],
   "source": [
    "w2v.wv.most_similar(positive=['lazy','black'])"
   ]
  },
  {
   "cell_type": "code",
   "execution_count": 429,
   "metadata": {},
   "outputs": [
    {
     "data": {
      "text/plain": [
       "<gensim.models.keyedvectors.Word2VecKeyedVectors at 0x1a4b048518>"
      ]
     },
     "execution_count": 429,
     "metadata": {},
     "output_type": "execute_result"
    }
   ],
   "source": [
    "w2v.wv"
   ]
  },
  {
   "cell_type": "code",
   "execution_count": 401,
   "metadata": {},
   "outputs": [
    {
     "data": {
      "text/plain": [
       "<bound method Word2VecKeyedVectors.get_keras_embedding of <gensim.models.keyedvectors.Word2VecKeyedVectors object at 0x1a4b048518>>"
      ]
     },
     "execution_count": 401,
     "metadata": {},
     "output_type": "execute_result"
    }
   ],
   "source": [
    "w2v.wv.get_keras_embedding"
   ]
  },
  {
   "cell_type": "code",
   "execution_count": 402,
   "metadata": {},
   "outputs": [],
   "source": [
    "w2v_X = w2v.wv.vectors"
   ]
  },
  {
   "cell_type": "markdown",
   "metadata": {},
   "source": [
    "## Classification with Word2Vec"
   ]
  },
  {
   "cell_type": "code",
   "execution_count": null,
   "metadata": {},
   "outputs": [],
   "source": [
    "sentence = X_train_token_list[1]\n",
    "sentence"
   ]
  },
  {
   "cell_type": "code",
   "execution_count": 65,
   "metadata": {},
   "outputs": [],
   "source": [
    "X_train_w2v = np.empty((20455, 100))\n",
    "for sentence in X_train_token_list:\n",
    "    np.append(X_train_w2v, np.mean([w2v[w] for w in sentence if w in w2v]\n",
    "                   or [np.zeros(100)], axis=0))\n",
    "\n",
    "X_val_w2v = np.empty((5114, 100))\n",
    "for sentence in X_val_token_list:\n",
    "    np.append(X_val_w2v, np.mean([w2v[w] for w in sentence if w in w2v]\n",
    "                   or [np.zeros(100)], axis=0))"
   ]
  },
  {
   "cell_type": "code",
   "execution_count": 427,
   "metadata": {
    "collapsed": true
   },
   "outputs": [
    {
     "data": {
      "text/plain": [
       "array([0., 0., 0., 0., 0., 0., 0., 0., 0., 0., 0., 0., 0., 0., 0., 0., 0.,\n",
       "       0., 0., 0., 0., 0., 0., 0., 0., 0., 0., 0., 0., 0., 0., 0., 0., 0.,\n",
       "       0., 0., 0., 0., 0., 0., 0., 0., 0., 0., 0., 0., 0., 0., 0., 0., 0.,\n",
       "       0., 0., 0., 0., 0., 0., 0., 0., 0., 0., 0., 0., 0., 0., 0., 0., 0.,\n",
       "       0., 0., 0., 0., 0., 0., 0., 0., 0., 0., 0., 0., 0., 0., 0., 0., 0.,\n",
       "       0., 0., 0., 0., 0., 0., 0., 0., 0., 0., 0., 0., 0., 0., 0.])"
      ]
     },
     "execution_count": 427,
     "metadata": {},
     "output_type": "execute_result"
    }
   ],
   "source": [
    "X_train_w2v[20]"
   ]
  },
  {
   "cell_type": "code",
   "execution_count": 66,
   "metadata": {},
   "outputs": [],
   "source": [
    "#create average vector for train and test from model\n",
    "#returned list of numpy arrays are then stacked \n",
    "\n",
    "X_train_w2v_2 = np.concatenate([avg_word_vectors(word, w2v) for word in X_train_token_list])\n",
    "\n",
    "X_val_w2v_2 = np.concatenate([avg_word_vectors(word, w2v) for word in X_val_token_list])"
   ]
  },
  {
   "cell_type": "code",
   "execution_count": 445,
   "metadata": {
    "collapsed": true
   },
   "outputs": [
    {
     "data": {
      "text/plain": [
       "array([-0.28823341,  0.07312309, -0.20851161,  0.06421986,  0.3664251 ,\n",
       "       -0.06542463,  0.00562458,  0.05938577,  0.02248305,  0.02420388,\n",
       "       -0.05223551,  0.09545344, -0.200593  ,  0.05784301,  0.01856432,\n",
       "       -0.14747404,  0.1177594 , -0.46701664, -0.13469652,  0.06984268,\n",
       "       -0.09360238,  0.23719825, -0.68535973, -0.15376803,  0.32805413,\n",
       "       -0.07435187,  0.36213338, -0.10601687,  0.17945274, -0.43607683,\n",
       "       -0.26756533,  0.32542747, -0.17665357,  0.15005742, -0.19501098,\n",
       "        0.11132066, -0.03504308, -0.12257827,  0.05847587, -0.05714871,\n",
       "        0.27701876,  0.00147894, -0.14153895, -0.08310635,  0.02631015,\n",
       "        0.07375977, -0.20184338, -0.02832522, -0.02476832, -0.08871662,\n",
       "        0.05824629,  0.15230941,  0.05233768,  0.08011377,  0.55853388,\n",
       "        0.20630752, -0.08700915,  0.15207756, -0.12323522, -0.17290489,\n",
       "       -0.12458454, -0.2057261 , -0.43881546,  0.12705594, -0.25701744,\n",
       "       -0.2308612 , -0.19199194, -0.11990811,  0.16399261,  0.03320788,\n",
       "        0.01793683, -0.15430561,  0.22409219, -0.32258257,  0.14086155,\n",
       "        0.11200625, -0.0046262 ,  0.12578172, -0.0213434 , -0.13176388,\n",
       "        0.24250354,  0.23884157,  0.20026546,  0.21086903, -0.00130135,\n",
       "       -0.09595749,  0.29260252, -0.39647596,  0.28873768,  0.06751546,\n",
       "       -0.02591443, -0.0640447 ,  0.36502416,  0.50302316, -0.08778854,\n",
       "       -0.04135202, -0.30395537, -0.1561361 , -0.40979241,  0.33322317])"
      ]
     },
     "execution_count": 445,
     "metadata": {},
     "output_type": "execute_result"
    }
   ],
   "source": [
    "X_train_w2v_2[10]"
   ]
  },
  {
   "cell_type": "markdown",
   "metadata": {},
   "source": [
    "## Classification with Word Embeddings"
   ]
  },
  {
   "cell_type": "code",
   "execution_count": 67,
   "metadata": {
    "collapsed": true
   },
   "outputs": [
    {
     "ename": "ValueError",
     "evalue": "Input contains NaN, infinity or a value too large for dtype('float64').",
     "output_type": "error",
     "traceback": [
      "\u001b[0;31m---------------------------------------------------------------------------\u001b[0m",
      "\u001b[0;31mValueError\u001b[0m                                Traceback (most recent call last)",
      "\u001b[0;32m<ipython-input-67-6d16e52ab1dc>\u001b[0m in \u001b[0;36m<module>\u001b[0;34m\u001b[0m\n\u001b[0;32m----> 1\u001b[0;31m \u001b[0msmote_w2v_model\u001b[0m\u001b[0;34m(\u001b[0m\u001b[0mX_train_w2v\u001b[0m\u001b[0;34m,\u001b[0m \u001b[0my_train\u001b[0m\u001b[0;34m,\u001b[0m \u001b[0mX_val_w2v\u001b[0m\u001b[0;34m,\u001b[0m \u001b[0my_val\u001b[0m\u001b[0;34m,\u001b[0m \u001b[0mLogisticRegression\u001b[0m\u001b[0;34m(\u001b[0m\u001b[0msolver\u001b[0m\u001b[0;34m=\u001b[0m\u001b[0;34m'lbfgs'\u001b[0m\u001b[0;34m)\u001b[0m\u001b[0;34m)\u001b[0m\u001b[0;34m\u001b[0m\u001b[0;34m\u001b[0m\u001b[0m\n\u001b[0m",
      "\u001b[0;32m<ipython-input-49-50107401b501>\u001b[0m in \u001b[0;36msmote_w2v_model\u001b[0;34m(X_train_w2v, y_train, X_val_w2v, y_val, classifier)\u001b[0m\n\u001b[1;32m      5\u001b[0m     \u001b[0mpipe\u001b[0m \u001b[0;34m=\u001b[0m \u001b[0mmake_pipeline\u001b[0m\u001b[0;34m(\u001b[0m\u001b[0msmote\u001b[0m\u001b[0;34m,\u001b[0m \u001b[0mclassifier\u001b[0m\u001b[0;34m)\u001b[0m\u001b[0;34m\u001b[0m\u001b[0;34m\u001b[0m\u001b[0m\n\u001b[1;32m      6\u001b[0m \u001b[0;34m\u001b[0m\u001b[0m\n\u001b[0;32m----> 7\u001b[0;31m     \u001b[0mmodel\u001b[0m \u001b[0;34m=\u001b[0m \u001b[0mpipe\u001b[0m\u001b[0;34m.\u001b[0m\u001b[0mfit\u001b[0m\u001b[0;34m(\u001b[0m\u001b[0mX_train_w2v\u001b[0m\u001b[0;34m,\u001b[0m \u001b[0my_train\u001b[0m\u001b[0;34m)\u001b[0m\u001b[0;34m\u001b[0m\u001b[0;34m\u001b[0m\u001b[0m\n\u001b[0m\u001b[1;32m      8\u001b[0m \u001b[0;34m\u001b[0m\u001b[0m\n\u001b[1;32m      9\u001b[0m     \u001b[0mtrain_predictions\u001b[0m \u001b[0;34m=\u001b[0m \u001b[0mmodel\u001b[0m\u001b[0;34m.\u001b[0m\u001b[0mpredict\u001b[0m\u001b[0;34m(\u001b[0m\u001b[0mX_train_w2v_2\u001b[0m\u001b[0;34m)\u001b[0m\u001b[0;34m\u001b[0m\u001b[0;34m\u001b[0m\u001b[0m\n",
      "\u001b[0;32m~/anaconda3/lib/python3.7/site-packages/imblearn/pipeline.py\u001b[0m in \u001b[0;36mfit\u001b[0;34m(self, X, y, **fit_params)\u001b[0m\n\u001b[1;32m    236\u001b[0m \u001b[0;34m\u001b[0m\u001b[0m\n\u001b[1;32m    237\u001b[0m         \"\"\"\n\u001b[0;32m--> 238\u001b[0;31m         \u001b[0mXt\u001b[0m\u001b[0;34m,\u001b[0m \u001b[0myt\u001b[0m\u001b[0;34m,\u001b[0m \u001b[0mfit_params\u001b[0m \u001b[0;34m=\u001b[0m \u001b[0mself\u001b[0m\u001b[0;34m.\u001b[0m\u001b[0m_fit\u001b[0m\u001b[0;34m(\u001b[0m\u001b[0mX\u001b[0m\u001b[0;34m,\u001b[0m \u001b[0my\u001b[0m\u001b[0;34m,\u001b[0m \u001b[0;34m**\u001b[0m\u001b[0mfit_params\u001b[0m\u001b[0;34m)\u001b[0m\u001b[0;34m\u001b[0m\u001b[0;34m\u001b[0m\u001b[0m\n\u001b[0m\u001b[1;32m    239\u001b[0m         \u001b[0;32mif\u001b[0m \u001b[0mself\u001b[0m\u001b[0;34m.\u001b[0m\u001b[0m_final_estimator\u001b[0m \u001b[0;34m!=\u001b[0m \u001b[0;34m'passthrough'\u001b[0m\u001b[0;34m:\u001b[0m\u001b[0;34m\u001b[0m\u001b[0;34m\u001b[0m\u001b[0m\n\u001b[1;32m    240\u001b[0m             \u001b[0mself\u001b[0m\u001b[0;34m.\u001b[0m\u001b[0m_final_estimator\u001b[0m\u001b[0;34m.\u001b[0m\u001b[0mfit\u001b[0m\u001b[0;34m(\u001b[0m\u001b[0mXt\u001b[0m\u001b[0;34m,\u001b[0m \u001b[0myt\u001b[0m\u001b[0;34m,\u001b[0m \u001b[0;34m**\u001b[0m\u001b[0mfit_params\u001b[0m\u001b[0;34m)\u001b[0m\u001b[0;34m\u001b[0m\u001b[0;34m\u001b[0m\u001b[0m\n",
      "\u001b[0;32m~/anaconda3/lib/python3.7/site-packages/imblearn/pipeline.py\u001b[0m in \u001b[0;36m_fit\u001b[0;34m(self, X, y, **fit_params)\u001b[0m\n\u001b[1;32m    199\u001b[0m             \u001b[0;32melif\u001b[0m \u001b[0mhasattr\u001b[0m\u001b[0;34m(\u001b[0m\u001b[0mcloned_transformer\u001b[0m\u001b[0;34m,\u001b[0m \u001b[0;34m\"fit_resample\"\u001b[0m\u001b[0;34m)\u001b[0m\u001b[0;34m:\u001b[0m\u001b[0;34m\u001b[0m\u001b[0;34m\u001b[0m\u001b[0m\n\u001b[1;32m    200\u001b[0m                 X, y, fitted_transformer = fit_resample_one_cached(\n\u001b[0;32m--> 201\u001b[0;31m                     cloned_transformer, X, y, **fit_params_steps[name])\n\u001b[0m\u001b[1;32m    202\u001b[0m             \u001b[0;31m# Replace the transformer of the step with the fitted\u001b[0m\u001b[0;34m\u001b[0m\u001b[0;34m\u001b[0m\u001b[0;34m\u001b[0m\u001b[0m\n\u001b[1;32m    203\u001b[0m             \u001b[0;31m# transformer. This is necessary when loading the transformer\u001b[0m\u001b[0;34m\u001b[0m\u001b[0;34m\u001b[0m\u001b[0;34m\u001b[0m\u001b[0m\n",
      "\u001b[0;32m~/anaconda3/lib/python3.7/site-packages/joblib/memory.py\u001b[0m in \u001b[0;36m__call__\u001b[0;34m(self, *args, **kwargs)\u001b[0m\n\u001b[1;32m    353\u001b[0m \u001b[0;34m\u001b[0m\u001b[0m\n\u001b[1;32m    354\u001b[0m     \u001b[0;32mdef\u001b[0m \u001b[0m__call__\u001b[0m\u001b[0;34m(\u001b[0m\u001b[0mself\u001b[0m\u001b[0;34m,\u001b[0m \u001b[0;34m*\u001b[0m\u001b[0margs\u001b[0m\u001b[0;34m,\u001b[0m \u001b[0;34m**\u001b[0m\u001b[0mkwargs\u001b[0m\u001b[0;34m)\u001b[0m\u001b[0;34m:\u001b[0m\u001b[0;34m\u001b[0m\u001b[0;34m\u001b[0m\u001b[0m\n\u001b[0;32m--> 355\u001b[0;31m         \u001b[0;32mreturn\u001b[0m \u001b[0mself\u001b[0m\u001b[0;34m.\u001b[0m\u001b[0mfunc\u001b[0m\u001b[0;34m(\u001b[0m\u001b[0;34m*\u001b[0m\u001b[0margs\u001b[0m\u001b[0;34m,\u001b[0m \u001b[0;34m**\u001b[0m\u001b[0mkwargs\u001b[0m\u001b[0;34m)\u001b[0m\u001b[0;34m\u001b[0m\u001b[0;34m\u001b[0m\u001b[0m\n\u001b[0m\u001b[1;32m    356\u001b[0m \u001b[0;34m\u001b[0m\u001b[0m\n\u001b[1;32m    357\u001b[0m     \u001b[0;32mdef\u001b[0m \u001b[0mcall_and_shelve\u001b[0m\u001b[0;34m(\u001b[0m\u001b[0mself\u001b[0m\u001b[0;34m,\u001b[0m \u001b[0;34m*\u001b[0m\u001b[0margs\u001b[0m\u001b[0;34m,\u001b[0m \u001b[0;34m**\u001b[0m\u001b[0mkwargs\u001b[0m\u001b[0;34m)\u001b[0m\u001b[0;34m:\u001b[0m\u001b[0;34m\u001b[0m\u001b[0;34m\u001b[0m\u001b[0m\n",
      "\u001b[0;32m~/anaconda3/lib/python3.7/site-packages/imblearn/pipeline.py\u001b[0m in \u001b[0;36m_fit_resample_one\u001b[0;34m(sampler, X, y, **fit_params)\u001b[0m\n\u001b[1;32m    580\u001b[0m \u001b[0;34m\u001b[0m\u001b[0m\n\u001b[1;32m    581\u001b[0m \u001b[0;32mdef\u001b[0m \u001b[0m_fit_resample_one\u001b[0m\u001b[0;34m(\u001b[0m\u001b[0msampler\u001b[0m\u001b[0;34m,\u001b[0m \u001b[0mX\u001b[0m\u001b[0;34m,\u001b[0m \u001b[0my\u001b[0m\u001b[0;34m,\u001b[0m \u001b[0;34m**\u001b[0m\u001b[0mfit_params\u001b[0m\u001b[0;34m)\u001b[0m\u001b[0;34m:\u001b[0m\u001b[0;34m\u001b[0m\u001b[0;34m\u001b[0m\u001b[0m\n\u001b[0;32m--> 582\u001b[0;31m     \u001b[0mX_res\u001b[0m\u001b[0;34m,\u001b[0m \u001b[0my_res\u001b[0m \u001b[0;34m=\u001b[0m \u001b[0msampler\u001b[0m\u001b[0;34m.\u001b[0m\u001b[0mfit_resample\u001b[0m\u001b[0;34m(\u001b[0m\u001b[0mX\u001b[0m\u001b[0;34m,\u001b[0m \u001b[0my\u001b[0m\u001b[0;34m,\u001b[0m \u001b[0;34m**\u001b[0m\u001b[0mfit_params\u001b[0m\u001b[0;34m)\u001b[0m\u001b[0;34m\u001b[0m\u001b[0;34m\u001b[0m\u001b[0m\n\u001b[0m\u001b[1;32m    583\u001b[0m \u001b[0;34m\u001b[0m\u001b[0m\n\u001b[1;32m    584\u001b[0m     \u001b[0;32mreturn\u001b[0m \u001b[0mX_res\u001b[0m\u001b[0;34m,\u001b[0m \u001b[0my_res\u001b[0m\u001b[0;34m,\u001b[0m \u001b[0msampler\u001b[0m\u001b[0;34m\u001b[0m\u001b[0;34m\u001b[0m\u001b[0m\n",
      "\u001b[0;32m~/anaconda3/lib/python3.7/site-packages/imblearn/base.py\u001b[0m in \u001b[0;36mfit_resample\u001b[0;34m(self, X, y)\u001b[0m\n\u001b[1;32m     77\u001b[0m \u001b[0;34m\u001b[0m\u001b[0m\n\u001b[1;32m     78\u001b[0m         \u001b[0mcheck_classification_targets\u001b[0m\u001b[0;34m(\u001b[0m\u001b[0my\u001b[0m\u001b[0;34m)\u001b[0m\u001b[0;34m\u001b[0m\u001b[0;34m\u001b[0m\u001b[0m\n\u001b[0;32m---> 79\u001b[0;31m         \u001b[0mX\u001b[0m\u001b[0;34m,\u001b[0m \u001b[0my\u001b[0m\u001b[0;34m,\u001b[0m \u001b[0mbinarize_y\u001b[0m \u001b[0;34m=\u001b[0m \u001b[0mself\u001b[0m\u001b[0;34m.\u001b[0m\u001b[0m_check_X_y\u001b[0m\u001b[0;34m(\u001b[0m\u001b[0mX\u001b[0m\u001b[0;34m,\u001b[0m \u001b[0my\u001b[0m\u001b[0;34m)\u001b[0m\u001b[0;34m\u001b[0m\u001b[0;34m\u001b[0m\u001b[0m\n\u001b[0m\u001b[1;32m     80\u001b[0m \u001b[0;34m\u001b[0m\u001b[0m\n\u001b[1;32m     81\u001b[0m         self.sampling_strategy_ = check_sampling_strategy(\n",
      "\u001b[0;32m~/anaconda3/lib/python3.7/site-packages/imblearn/base.py\u001b[0m in \u001b[0;36m_check_X_y\u001b[0;34m(X, y)\u001b[0m\n\u001b[1;32m    135\u001b[0m     \u001b[0;32mdef\u001b[0m \u001b[0m_check_X_y\u001b[0m\u001b[0;34m(\u001b[0m\u001b[0mX\u001b[0m\u001b[0;34m,\u001b[0m \u001b[0my\u001b[0m\u001b[0;34m)\u001b[0m\u001b[0;34m:\u001b[0m\u001b[0;34m\u001b[0m\u001b[0;34m\u001b[0m\u001b[0m\n\u001b[1;32m    136\u001b[0m         \u001b[0my\u001b[0m\u001b[0;34m,\u001b[0m \u001b[0mbinarize_y\u001b[0m \u001b[0;34m=\u001b[0m \u001b[0mcheck_target_type\u001b[0m\u001b[0;34m(\u001b[0m\u001b[0my\u001b[0m\u001b[0;34m,\u001b[0m \u001b[0mindicate_one_vs_all\u001b[0m\u001b[0;34m=\u001b[0m\u001b[0;32mTrue\u001b[0m\u001b[0;34m)\u001b[0m\u001b[0;34m\u001b[0m\u001b[0;34m\u001b[0m\u001b[0m\n\u001b[0;32m--> 137\u001b[0;31m         \u001b[0mX\u001b[0m\u001b[0;34m,\u001b[0m \u001b[0my\u001b[0m \u001b[0;34m=\u001b[0m \u001b[0mcheck_X_y\u001b[0m\u001b[0;34m(\u001b[0m\u001b[0mX\u001b[0m\u001b[0;34m,\u001b[0m \u001b[0my\u001b[0m\u001b[0;34m,\u001b[0m \u001b[0maccept_sparse\u001b[0m\u001b[0;34m=\u001b[0m\u001b[0;34m[\u001b[0m\u001b[0;34m'csr'\u001b[0m\u001b[0;34m,\u001b[0m \u001b[0;34m'csc'\u001b[0m\u001b[0;34m]\u001b[0m\u001b[0;34m)\u001b[0m\u001b[0;34m\u001b[0m\u001b[0;34m\u001b[0m\u001b[0m\n\u001b[0m\u001b[1;32m    138\u001b[0m         \u001b[0;32mreturn\u001b[0m \u001b[0mX\u001b[0m\u001b[0;34m,\u001b[0m \u001b[0my\u001b[0m\u001b[0;34m,\u001b[0m \u001b[0mbinarize_y\u001b[0m\u001b[0;34m\u001b[0m\u001b[0;34m\u001b[0m\u001b[0m\n\u001b[1;32m    139\u001b[0m \u001b[0;34m\u001b[0m\u001b[0m\n",
      "\u001b[0;32m~/anaconda3/lib/python3.7/site-packages/sklearn/utils/validation.py\u001b[0m in \u001b[0;36mcheck_X_y\u001b[0;34m(X, y, accept_sparse, accept_large_sparse, dtype, order, copy, force_all_finite, ensure_2d, allow_nd, multi_output, ensure_min_samples, ensure_min_features, y_numeric, warn_on_dtype, estimator)\u001b[0m\n\u001b[1;32m    717\u001b[0m                     \u001b[0mensure_min_features\u001b[0m\u001b[0;34m=\u001b[0m\u001b[0mensure_min_features\u001b[0m\u001b[0;34m,\u001b[0m\u001b[0;34m\u001b[0m\u001b[0;34m\u001b[0m\u001b[0m\n\u001b[1;32m    718\u001b[0m                     \u001b[0mwarn_on_dtype\u001b[0m\u001b[0;34m=\u001b[0m\u001b[0mwarn_on_dtype\u001b[0m\u001b[0;34m,\u001b[0m\u001b[0;34m\u001b[0m\u001b[0;34m\u001b[0m\u001b[0m\n\u001b[0;32m--> 719\u001b[0;31m                     estimator=estimator)\n\u001b[0m\u001b[1;32m    720\u001b[0m     \u001b[0;32mif\u001b[0m \u001b[0mmulti_output\u001b[0m\u001b[0;34m:\u001b[0m\u001b[0;34m\u001b[0m\u001b[0;34m\u001b[0m\u001b[0m\n\u001b[1;32m    721\u001b[0m         y = check_array(y, 'csr', force_all_finite=True, ensure_2d=False,\n",
      "\u001b[0;32m~/anaconda3/lib/python3.7/site-packages/sklearn/utils/validation.py\u001b[0m in \u001b[0;36mcheck_array\u001b[0;34m(array, accept_sparse, accept_large_sparse, dtype, order, copy, force_all_finite, ensure_2d, allow_nd, ensure_min_samples, ensure_min_features, warn_on_dtype, estimator)\u001b[0m\n\u001b[1;32m    540\u001b[0m         \u001b[0;32mif\u001b[0m \u001b[0mforce_all_finite\u001b[0m\u001b[0;34m:\u001b[0m\u001b[0;34m\u001b[0m\u001b[0;34m\u001b[0m\u001b[0m\n\u001b[1;32m    541\u001b[0m             _assert_all_finite(array,\n\u001b[0;32m--> 542\u001b[0;31m                                allow_nan=force_all_finite == 'allow-nan')\n\u001b[0m\u001b[1;32m    543\u001b[0m \u001b[0;34m\u001b[0m\u001b[0m\n\u001b[1;32m    544\u001b[0m     \u001b[0;32mif\u001b[0m \u001b[0mensure_min_samples\u001b[0m \u001b[0;34m>\u001b[0m \u001b[0;36m0\u001b[0m\u001b[0;34m:\u001b[0m\u001b[0;34m\u001b[0m\u001b[0;34m\u001b[0m\u001b[0m\n",
      "\u001b[0;32m~/anaconda3/lib/python3.7/site-packages/sklearn/utils/validation.py\u001b[0m in \u001b[0;36m_assert_all_finite\u001b[0;34m(X, allow_nan)\u001b[0m\n\u001b[1;32m     54\u001b[0m                 not allow_nan and not np.isfinite(X).all()):\n\u001b[1;32m     55\u001b[0m             \u001b[0mtype_err\u001b[0m \u001b[0;34m=\u001b[0m \u001b[0;34m'infinity'\u001b[0m \u001b[0;32mif\u001b[0m \u001b[0mallow_nan\u001b[0m \u001b[0;32melse\u001b[0m \u001b[0;34m'NaN, infinity'\u001b[0m\u001b[0;34m\u001b[0m\u001b[0;34m\u001b[0m\u001b[0m\n\u001b[0;32m---> 56\u001b[0;31m             \u001b[0;32mraise\u001b[0m \u001b[0mValueError\u001b[0m\u001b[0;34m(\u001b[0m\u001b[0mmsg_err\u001b[0m\u001b[0;34m.\u001b[0m\u001b[0mformat\u001b[0m\u001b[0;34m(\u001b[0m\u001b[0mtype_err\u001b[0m\u001b[0;34m,\u001b[0m \u001b[0mX\u001b[0m\u001b[0;34m.\u001b[0m\u001b[0mdtype\u001b[0m\u001b[0;34m)\u001b[0m\u001b[0;34m)\u001b[0m\u001b[0;34m\u001b[0m\u001b[0;34m\u001b[0m\u001b[0m\n\u001b[0m\u001b[1;32m     57\u001b[0m     \u001b[0;31m# for object dtype data, we only check for NaNs (GH-13254)\u001b[0m\u001b[0;34m\u001b[0m\u001b[0;34m\u001b[0m\u001b[0;34m\u001b[0m\u001b[0m\n\u001b[1;32m     58\u001b[0m     \u001b[0;32melif\u001b[0m \u001b[0mX\u001b[0m\u001b[0;34m.\u001b[0m\u001b[0mdtype\u001b[0m \u001b[0;34m==\u001b[0m \u001b[0mnp\u001b[0m\u001b[0;34m.\u001b[0m\u001b[0mdtype\u001b[0m\u001b[0;34m(\u001b[0m\u001b[0;34m'object'\u001b[0m\u001b[0;34m)\u001b[0m \u001b[0;32mand\u001b[0m \u001b[0;32mnot\u001b[0m \u001b[0mallow_nan\u001b[0m\u001b[0;34m:\u001b[0m\u001b[0;34m\u001b[0m\u001b[0;34m\u001b[0m\u001b[0m\n",
      "\u001b[0;31mValueError\u001b[0m: Input contains NaN, infinity or a value too large for dtype('float64')."
     ]
    }
   ],
   "source": [
    "smote_w2v_model(X_train_w2v, y_train, X_val_w2v, y_val, LogisticRegression(solver='lbfgs'))"
   ]
  },
  {
   "cell_type": "code",
   "execution_count": 68,
   "metadata": {},
   "outputs": [
    {
     "name": "stdout",
     "output_type": "stream",
     "text": [
      "Train Accuracy: 0.84\n",
      "Train Precision: 0.3\n",
      "Train Recall: 0.86\n",
      "Train F1: 0.44\n",
      "\n",
      "\n",
      "Validation Accuracy: 0.85\n",
      "Validation Precision: 0.28\n",
      "Validation Recall: 0.79\n",
      "Validation F1: 0.41\n"
     ]
    },
    {
     "data": {
      "text/html": [
       "<div>\n",
       "<style scoped>\n",
       "    .dataframe tbody tr th:only-of-type {\n",
       "        vertical-align: middle;\n",
       "    }\n",
       "\n",
       "    .dataframe tbody tr th {\n",
       "        vertical-align: top;\n",
       "    }\n",
       "\n",
       "    .dataframe thead th {\n",
       "        text-align: right;\n",
       "    }\n",
       "</style>\n",
       "<table border=\"1\" class=\"dataframe\">\n",
       "  <thead>\n",
       "    <tr style=\"text-align: right;\">\n",
       "      <th>Predicted</th>\n",
       "      <th>0</th>\n",
       "      <th>1</th>\n",
       "      <th>All</th>\n",
       "    </tr>\n",
       "    <tr>\n",
       "      <th>Actual</th>\n",
       "      <th></th>\n",
       "      <th></th>\n",
       "      <th></th>\n",
       "    </tr>\n",
       "  </thead>\n",
       "  <tbody>\n",
       "    <tr>\n",
       "      <th>0</th>\n",
       "      <td>4104</td>\n",
       "      <td>680</td>\n",
       "      <td>4784</td>\n",
       "    </tr>\n",
       "    <tr>\n",
       "      <th>1</th>\n",
       "      <td>68</td>\n",
       "      <td>262</td>\n",
       "      <td>330</td>\n",
       "    </tr>\n",
       "    <tr>\n",
       "      <th>All</th>\n",
       "      <td>4172</td>\n",
       "      <td>942</td>\n",
       "      <td>5114</td>\n",
       "    </tr>\n",
       "  </tbody>\n",
       "</table>\n",
       "</div>"
      ],
      "text/plain": [
       "Predicted     0    1   All\n",
       "Actual                    \n",
       "0          4104  680  4784\n",
       "1            68  262   330\n",
       "All        4172  942  5114"
      ]
     },
     "execution_count": 68,
     "metadata": {},
     "output_type": "execute_result"
    }
   ],
   "source": [
    "smote_w2v_model(X_train_w2v_2, y_train, X_val_w2v_2, y_val, LogisticRegression(solver='lbfgs'))"
   ]
  },
  {
   "cell_type": "code",
   "execution_count": 69,
   "metadata": {},
   "outputs": [
    {
     "name": "stdout",
     "output_type": "stream",
     "text": [
      "Train Accuracy: 1.0\n",
      "Train Precision: 0.99\n",
      "Train Recall: 1.0\n",
      "Train F1: 0.99\n",
      "\n",
      "\n",
      "Validation Accuracy: 0.94\n",
      "Validation Precision: 0.51\n",
      "Validation Recall: 0.5\n",
      "Validation F1: 0.5\n"
     ]
    },
    {
     "data": {
      "text/html": [
       "<div>\n",
       "<style scoped>\n",
       "    .dataframe tbody tr th:only-of-type {\n",
       "        vertical-align: middle;\n",
       "    }\n",
       "\n",
       "    .dataframe tbody tr th {\n",
       "        vertical-align: top;\n",
       "    }\n",
       "\n",
       "    .dataframe thead th {\n",
       "        text-align: right;\n",
       "    }\n",
       "</style>\n",
       "<table border=\"1\" class=\"dataframe\">\n",
       "  <thead>\n",
       "    <tr style=\"text-align: right;\">\n",
       "      <th>Predicted</th>\n",
       "      <th>0</th>\n",
       "      <th>1</th>\n",
       "      <th>All</th>\n",
       "    </tr>\n",
       "    <tr>\n",
       "      <th>Actual</th>\n",
       "      <th></th>\n",
       "      <th></th>\n",
       "      <th></th>\n",
       "    </tr>\n",
       "  </thead>\n",
       "  <tbody>\n",
       "    <tr>\n",
       "      <th>0</th>\n",
       "      <td>4625</td>\n",
       "      <td>159</td>\n",
       "      <td>4784</td>\n",
       "    </tr>\n",
       "    <tr>\n",
       "      <th>1</th>\n",
       "      <td>165</td>\n",
       "      <td>165</td>\n",
       "      <td>330</td>\n",
       "    </tr>\n",
       "    <tr>\n",
       "      <th>All</th>\n",
       "      <td>4790</td>\n",
       "      <td>324</td>\n",
       "      <td>5114</td>\n",
       "    </tr>\n",
       "  </tbody>\n",
       "</table>\n",
       "</div>"
      ],
      "text/plain": [
       "Predicted     0    1   All\n",
       "Actual                    \n",
       "0          4625  159  4784\n",
       "1           165  165   330\n",
       "All        4790  324  5114"
      ]
     },
     "execution_count": 69,
     "metadata": {},
     "output_type": "execute_result"
    }
   ],
   "source": [
    "smote_w2v_model(X_train_w2v_2, y_train, X_val_w2v_2, y_val, RandomForestClassifier())"
   ]
  },
  {
   "cell_type": "markdown",
   "metadata": {},
   "source": [
    "### Glove"
   ]
  },
  {
   "cell_type": "code",
   "execution_count": 407,
   "metadata": {
    "collapsed": true
   },
   "outputs": [
    {
     "ename": "FileNotFoundError",
     "evalue": "[Errno 2] No such file or directory: 'glove.twitter.27B.100d.txt'",
     "output_type": "error",
     "traceback": [
      "\u001b[0;31m---------------------------------------------------------------------------\u001b[0m",
      "\u001b[0;31mFileNotFoundError\u001b[0m                         Traceback (most recent call last)",
      "\u001b[0;32m<ipython-input-407-ab131508714c>\u001b[0m in \u001b[0;36m<module>\u001b[0;34m\u001b[0m\n\u001b[1;32m      3\u001b[0m \u001b[0mglove_input_file\u001b[0m \u001b[0;34m=\u001b[0m \u001b[0;34m'glove.twitter.27B.100d.txt'\u001b[0m\u001b[0;34m\u001b[0m\u001b[0;34m\u001b[0m\u001b[0m\n\u001b[1;32m      4\u001b[0m \u001b[0mglove_output_file\u001b[0m \u001b[0;34m=\u001b[0m \u001b[0;34m'data/glove.txt.word2vec'\u001b[0m\u001b[0;34m\u001b[0m\u001b[0;34m\u001b[0m\u001b[0m\n\u001b[0;32m----> 5\u001b[0;31m \u001b[0mglove2word2vec\u001b[0m\u001b[0;34m(\u001b[0m\u001b[0mglove_input_file\u001b[0m\u001b[0;34m,\u001b[0m \u001b[0mglove_output_file\u001b[0m\u001b[0;34m)\u001b[0m\u001b[0;34m\u001b[0m\u001b[0;34m\u001b[0m\u001b[0m\n\u001b[0m",
      "\u001b[0;32m~/anaconda3/lib/python3.7/site-packages/gensim/scripts/glove2word2vec.py\u001b[0m in \u001b[0;36mglove2word2vec\u001b[0;34m(glove_input_file, word2vec_output_file)\u001b[0m\n\u001b[1;32m    102\u001b[0m \u001b[0;34m\u001b[0m\u001b[0m\n\u001b[1;32m    103\u001b[0m     \"\"\"\n\u001b[0;32m--> 104\u001b[0;31m     \u001b[0mnum_lines\u001b[0m\u001b[0;34m,\u001b[0m \u001b[0mnum_dims\u001b[0m \u001b[0;34m=\u001b[0m \u001b[0mget_glove_info\u001b[0m\u001b[0;34m(\u001b[0m\u001b[0mglove_input_file\u001b[0m\u001b[0;34m)\u001b[0m\u001b[0;34m\u001b[0m\u001b[0;34m\u001b[0m\u001b[0m\n\u001b[0m\u001b[1;32m    105\u001b[0m     \u001b[0mlogger\u001b[0m\u001b[0;34m.\u001b[0m\u001b[0minfo\u001b[0m\u001b[0;34m(\u001b[0m\u001b[0;34m\"converting %i vectors from %s to %s\"\u001b[0m\u001b[0;34m,\u001b[0m \u001b[0mnum_lines\u001b[0m\u001b[0;34m,\u001b[0m \u001b[0mglove_input_file\u001b[0m\u001b[0;34m,\u001b[0m \u001b[0mword2vec_output_file\u001b[0m\u001b[0;34m)\u001b[0m\u001b[0;34m\u001b[0m\u001b[0;34m\u001b[0m\u001b[0m\n\u001b[1;32m    106\u001b[0m     \u001b[0;32mwith\u001b[0m \u001b[0mutils\u001b[0m\u001b[0;34m.\u001b[0m\u001b[0mopen\u001b[0m\u001b[0;34m(\u001b[0m\u001b[0mword2vec_output_file\u001b[0m\u001b[0;34m,\u001b[0m \u001b[0;34m'wb'\u001b[0m\u001b[0;34m)\u001b[0m \u001b[0;32mas\u001b[0m \u001b[0mfout\u001b[0m\u001b[0;34m:\u001b[0m\u001b[0;34m\u001b[0m\u001b[0;34m\u001b[0m\u001b[0m\n",
      "\u001b[0;32m~/anaconda3/lib/python3.7/site-packages/gensim/scripts/glove2word2vec.py\u001b[0m in \u001b[0;36mget_glove_info\u001b[0;34m(glove_file_name)\u001b[0m\n\u001b[1;32m     79\u001b[0m \u001b[0;34m\u001b[0m\u001b[0m\n\u001b[1;32m     80\u001b[0m     \"\"\"\n\u001b[0;32m---> 81\u001b[0;31m     \u001b[0;32mwith\u001b[0m \u001b[0mutils\u001b[0m\u001b[0;34m.\u001b[0m\u001b[0mopen\u001b[0m\u001b[0;34m(\u001b[0m\u001b[0mglove_file_name\u001b[0m\u001b[0;34m,\u001b[0m \u001b[0;34m'rb'\u001b[0m\u001b[0;34m)\u001b[0m \u001b[0;32mas\u001b[0m \u001b[0mf\u001b[0m\u001b[0;34m:\u001b[0m\u001b[0;34m\u001b[0m\u001b[0;34m\u001b[0m\u001b[0m\n\u001b[0m\u001b[1;32m     82\u001b[0m         \u001b[0mnum_lines\u001b[0m \u001b[0;34m=\u001b[0m \u001b[0msum\u001b[0m\u001b[0;34m(\u001b[0m\u001b[0;36m1\u001b[0m \u001b[0;32mfor\u001b[0m \u001b[0m_\u001b[0m \u001b[0;32min\u001b[0m \u001b[0mf\u001b[0m\u001b[0;34m)\u001b[0m\u001b[0;34m\u001b[0m\u001b[0;34m\u001b[0m\u001b[0m\n\u001b[1;32m     83\u001b[0m     \u001b[0;32mwith\u001b[0m \u001b[0mutils\u001b[0m\u001b[0;34m.\u001b[0m\u001b[0mopen\u001b[0m\u001b[0;34m(\u001b[0m\u001b[0mglove_file_name\u001b[0m\u001b[0;34m,\u001b[0m \u001b[0;34m'rb'\u001b[0m\u001b[0;34m)\u001b[0m \u001b[0;32mas\u001b[0m \u001b[0mf\u001b[0m\u001b[0;34m:\u001b[0m\u001b[0;34m\u001b[0m\u001b[0;34m\u001b[0m\u001b[0m\n",
      "\u001b[0;32m~/anaconda3/lib/python3.7/site-packages/smart_open/smart_open_lib.py\u001b[0m in \u001b[0;36mopen\u001b[0;34m(uri, mode, buffering, encoding, errors, newline, closefd, opener, ignore_ext, transport_params)\u001b[0m\n\u001b[1;32m    305\u001b[0m         \u001b[0mbuffering\u001b[0m\u001b[0;34m=\u001b[0m\u001b[0mbuffering\u001b[0m\u001b[0;34m,\u001b[0m\u001b[0;34m\u001b[0m\u001b[0;34m\u001b[0m\u001b[0m\n\u001b[1;32m    306\u001b[0m         \u001b[0mencoding\u001b[0m\u001b[0;34m=\u001b[0m\u001b[0mencoding\u001b[0m\u001b[0;34m,\u001b[0m\u001b[0;34m\u001b[0m\u001b[0;34m\u001b[0m\u001b[0m\n\u001b[0;32m--> 307\u001b[0;31m         \u001b[0merrors\u001b[0m\u001b[0;34m=\u001b[0m\u001b[0merrors\u001b[0m\u001b[0;34m,\u001b[0m\u001b[0;34m\u001b[0m\u001b[0;34m\u001b[0m\u001b[0m\n\u001b[0m\u001b[1;32m    308\u001b[0m     )\n\u001b[1;32m    309\u001b[0m     \u001b[0;32mif\u001b[0m \u001b[0mfobj\u001b[0m \u001b[0;32mis\u001b[0m \u001b[0;32mnot\u001b[0m \u001b[0;32mNone\u001b[0m\u001b[0;34m:\u001b[0m\u001b[0;34m\u001b[0m\u001b[0;34m\u001b[0m\u001b[0m\n",
      "\u001b[0;32m~/anaconda3/lib/python3.7/site-packages/smart_open/smart_open_lib.py\u001b[0m in \u001b[0;36m_shortcut_open\u001b[0;34m(uri, mode, ignore_ext, buffering, encoding, errors)\u001b[0m\n\u001b[1;32m    510\u001b[0m     \u001b[0;31m#\u001b[0m\u001b[0;34m\u001b[0m\u001b[0;34m\u001b[0m\u001b[0;34m\u001b[0m\u001b[0m\n\u001b[1;32m    511\u001b[0m     \u001b[0;32mif\u001b[0m \u001b[0msix\u001b[0m\u001b[0;34m.\u001b[0m\u001b[0mPY3\u001b[0m\u001b[0;34m:\u001b[0m\u001b[0;34m\u001b[0m\u001b[0;34m\u001b[0m\u001b[0m\n\u001b[0;32m--> 512\u001b[0;31m         \u001b[0;32mreturn\u001b[0m \u001b[0m_builtin_open\u001b[0m\u001b[0;34m(\u001b[0m\u001b[0mparsed_uri\u001b[0m\u001b[0;34m.\u001b[0m\u001b[0muri_path\u001b[0m\u001b[0;34m,\u001b[0m \u001b[0mmode\u001b[0m\u001b[0;34m,\u001b[0m \u001b[0mbuffering\u001b[0m\u001b[0;34m=\u001b[0m\u001b[0mbuffering\u001b[0m\u001b[0;34m,\u001b[0m \u001b[0;34m**\u001b[0m\u001b[0mopen_kwargs\u001b[0m\u001b[0;34m)\u001b[0m\u001b[0;34m\u001b[0m\u001b[0;34m\u001b[0m\u001b[0m\n\u001b[0m\u001b[1;32m    513\u001b[0m     \u001b[0;32melif\u001b[0m \u001b[0;32mnot\u001b[0m \u001b[0mopen_kwargs\u001b[0m\u001b[0;34m:\u001b[0m\u001b[0;34m\u001b[0m\u001b[0;34m\u001b[0m\u001b[0m\n\u001b[1;32m    514\u001b[0m         \u001b[0;32mreturn\u001b[0m \u001b[0m_builtin_open\u001b[0m\u001b[0;34m(\u001b[0m\u001b[0mparsed_uri\u001b[0m\u001b[0;34m.\u001b[0m\u001b[0muri_path\u001b[0m\u001b[0;34m,\u001b[0m \u001b[0mmode\u001b[0m\u001b[0;34m,\u001b[0m \u001b[0mbuffering\u001b[0m\u001b[0;34m=\u001b[0m\u001b[0mbuffering\u001b[0m\u001b[0;34m)\u001b[0m\u001b[0;34m\u001b[0m\u001b[0;34m\u001b[0m\u001b[0m\n",
      "\u001b[0;31mFileNotFoundError\u001b[0m: [Errno 2] No such file or directory: 'glove.twitter.27B.100d.txt'"
     ]
    }
   ],
   "source": [
    "# from gensim.scripts.glove2word2vec import glove2word2vec\n",
    "\n",
    "# glove_input_file = 'data/glove.twitter.27B.100d.txt'\n",
    "# glove_output_file = 'data/glove.txt.word2vec'\n",
    "# glove2word2vec(glove_input_file, glove_output_file)"
   ]
  },
  {
   "cell_type": "code",
   "execution_count": 70,
   "metadata": {},
   "outputs": [],
   "source": [
    "glove_model = KeyedVectors.load_word2vec_format('data/glove.txt.word2vec', binary=False)"
   ]
  },
  {
   "cell_type": "code",
   "execution_count": 120,
   "metadata": {},
   "outputs": [
    {
     "data": {
      "text/plain": [
       "[('white', 0.8178365230560303),\n",
       " ('non', 0.7734473943710327),\n",
       " ('woman', 0.7680543661117554),\n",
       " ('asian', 0.7646945714950562),\n",
       " ('hispanic', 0.7526468634605408),\n",
       " ('brown', 0.7498205304145813),\n",
       " ('racist', 0.7466655969619751),\n",
       " ('tag', 0.740607500076294),\n",
       " ('venusexchange', 0.7382000088691711),\n",
       " ('scum', 0.7306535243988037)]"
      ]
     },
     "execution_count": 120,
     "metadata": {},
     "output_type": "execute_result"
    }
   ],
   "source": [
    "w2v.most_similar('black')"
   ]
  },
  {
   "cell_type": "code",
   "execution_count": 121,
   "metadata": {},
   "outputs": [
    {
     "data": {
      "text/plain": [
       "[('white', 0.9390966892242432),\n",
       " ('blue', 0.8325154781341553),\n",
       " ('red', 0.7988946437835693),\n",
       " ('pink', 0.7783992290496826),\n",
       " ('green', 0.7753273844718933),\n",
       " ('purple', 0.7709735035896301),\n",
       " ('brown', 0.7628934383392334),\n",
       " ('yellow', 0.758215606212616),\n",
       " ('dark', 0.756466269493103),\n",
       " ('grey', 0.7383605241775513)]"
      ]
     },
     "execution_count": 121,
     "metadata": {},
     "output_type": "execute_result"
    }
   ],
   "source": [
    "glove_model.most_similar('black')"
   ]
  },
  {
   "cell_type": "code",
   "execution_count": 471,
   "metadata": {
    "collapsed": true
   },
   "outputs": [
    {
     "data": {
      "text/plain": [
       "array([-4.8371e-01, -2.7318e-01, -4.6840e-02,  7.0274e-01, -5.6301e-01,\n",
       "       -1.7214e-01,  8.1775e-01, -6.6641e-02,  2.0224e-02, -2.3878e-01,\n",
       "       -1.6122e-02, -1.7875e-01, -4.9281e+00, -4.0272e-01, -4.1190e-01,\n",
       "       -1.4570e-01,  1.8508e-01, -1.9116e-01, -8.4608e-01,  6.5378e-01,\n",
       "        1.2370e-01,  4.8835e-02, -3.3709e-01,  2.5834e-01,  4.7729e-01,\n",
       "       -8.8145e-01, -1.3083e-01,  7.9499e-01,  8.6216e-02, -9.1803e-01,\n",
       "       -9.6671e-01, -4.8309e-01, -4.0963e-01,  1.6920e-01,  2.3241e-01,\n",
       "       -2.0524e-02,  2.2267e-01, -2.6763e-01,  1.4378e-01, -4.6547e-02,\n",
       "       -1.1726e+00, -3.5298e-02,  2.8347e-01,  4.3446e-01,  1.8472e-01,\n",
       "        3.3065e-01,  6.7848e-02, -7.6485e-01,  1.8351e-01, -6.4361e-01,\n",
       "       -7.5015e-01, -4.2583e-02,  2.4262e-01, -6.4108e-01,  6.9741e-01,\n",
       "       -2.3133e-01, -2.1454e-01,  3.1040e-01,  2.3161e-01,  6.8397e-02,\n",
       "        8.1428e-02, -3.9331e-01, -1.0927e+00, -4.2618e-02, -9.6970e-02,\n",
       "        3.1243e-01, -1.0463e+00,  2.8207e-01, -7.2446e-01,  3.1422e-01,\n",
       "        5.9191e-01, -2.7716e-01, -8.3745e-02, -3.0487e-01,  4.0743e-01,\n",
       "        1.6906e-02, -5.3021e-01, -4.0651e-01, -2.8332e-01,  3.5181e-01,\n",
       "        1.4475e+00,  1.0493e-01, -9.7307e-02, -1.4306e-01,  2.9544e-03,\n",
       "        5.3336e-01,  3.9376e-02,  5.1001e-01,  8.3593e-02,  1.3237e-01,\n",
       "        8.8598e-01,  2.8876e-01, -7.1663e-02,  3.3424e-01, -8.8094e-02,\n",
       "        4.1479e-02, -1.8501e-01, -3.2992e-01,  2.7373e-01, -1.5416e-01],\n",
       "      dtype=float32)"
      ]
     },
     "execution_count": 471,
     "metadata": {},
     "output_type": "execute_result"
    }
   ],
   "source": [
    "glove_model['love']"
   ]
  },
  {
   "cell_type": "code",
   "execution_count": 119,
   "metadata": {
    "collapsed": true
   },
   "outputs": [
    {
     "data": {
      "text/plain": [
       "['model',\n",
       " 'i',\n",
       " 'love',\n",
       " 'u',\n",
       " 'take',\n",
       " 'with',\n",
       " 'u',\n",
       " 'all',\n",
       " 'the',\n",
       " 'time',\n",
       " 'in',\n",
       " 'ur']"
      ]
     },
     "execution_count": 119,
     "metadata": {},
     "output_type": "execute_result"
    }
   ],
   "source": [
    "X_train_token_list[0]"
   ]
  },
  {
   "cell_type": "code",
   "execution_count": 477,
   "metadata": {},
   "outputs": [],
   "source": [
    "X_train_glove2 = np.empty((20455, 100))\n",
    "for sentence in X_train_token_list:\n",
    "    np.append(X_train_glove2, np.mean([glove_model[w] for w in sentence if w in glove_model]\n",
    "                   or [np.zeros(100)], axis=0))"
   ]
  },
  {
   "cell_type": "code",
   "execution_count": 71,
   "metadata": {},
   "outputs": [],
   "source": [
    "X_train_glove = np.concatenate([avg_word_vectors(w, glove_model) for w in X_train_token_list])\n",
    "X_val_glove = np.concatenate([avg_word_vectors(w, glove_model) for w in X_val_token_list])"
   ]
  },
  {
   "cell_type": "code",
   "execution_count": 116,
   "metadata": {},
   "outputs": [
    {
     "data": {
      "text/plain": [
       "array([0., 0., 0., 0., 0., 0., 0., 0., 0., 0., 0., 0., 0., 0., 0., 0., 0.,\n",
       "       0., 0., 0., 0., 0., 0., 0., 0., 0., 0., 0., 0., 0., 0., 0., 0., 0.,\n",
       "       0., 0., 0., 0., 0., 0., 0., 0., 0., 0., 0., 0., 0., 0., 0., 0., 0.,\n",
       "       0., 0., 0., 0., 0., 0., 0., 0., 0., 0., 0., 0., 0., 0., 0., 0., 0.,\n",
       "       0., 0., 0., 0., 0., 0., 0., 0., 0., 0., 0., 0., 0., 0., 0., 0., 0.,\n",
       "       0., 0., 0., 0., 0., 0., 0., 0., 0., 0., 0., 0., 0., 0., 0.])"
      ]
     },
     "execution_count": 116,
     "metadata": {},
     "output_type": "execute_result"
    }
   ],
   "source": [
    "X_train_w2v[10]"
   ]
  },
  {
   "cell_type": "code",
   "execution_count": 117,
   "metadata": {
    "collapsed": true
   },
   "outputs": [
    {
     "data": {
      "text/plain": [
       "array([-0.028505  , -0.04374214,  0.18586859, -0.01696486, -0.47875792,\n",
       "        0.01426772, -0.25949828,  0.34069775, -0.01975948, -0.3021883 ,\n",
       "        0.05335021,  0.33508971, -0.37468172, -0.15916829,  0.33115939,\n",
       "        0.23021236,  0.10092731, -0.01055496, -0.22143245, -0.2765775 ,\n",
       "       -0.11729609,  0.59136347,  0.0837363 ,  0.22692289,  0.14306551,\n",
       "        0.17185371, -0.31483988,  0.04305273, -0.1257824 , -0.38313468,\n",
       "        0.02947778,  0.0759358 ,  0.08734205, -0.01308978,  0.04350968,\n",
       "        0.10200389,  0.14046779, -0.45173085, -0.07938617, -0.34419653,\n",
       "       -0.16534324,  0.14472922,  0.28601627,  0.13695804,  0.16271638,\n",
       "       -0.12347816,  0.13635907, -0.36715094, -0.00888368,  0.11414939,\n",
       "       -0.15993796,  0.0929606 , -0.41119229, -0.02858371, -0.12876672,\n",
       "       -0.03553657, -0.13776215,  0.31243446,  0.28799529, -0.03698096,\n",
       "        0.05387536,  0.2913464 , -0.40524991, -0.08885277, -0.24015333,\n",
       "       -0.11776452, -0.12920914, -0.20915868, -0.19259807,  0.35950353,\n",
       "       -0.22930713, -0.12574733,  0.01357989, -0.12591634, -0.48147522,\n",
       "        0.11510526, -0.16485232,  0.05467255, -0.50577471,  0.02670927,\n",
       "       -0.00295293, -0.14812569, -0.23803934,  0.10216917, -0.04794974,\n",
       "       -0.27021588,  0.20741428,  0.05237857, -0.23213364,  0.19121008,\n",
       "       -0.02326109,  0.0261383 ,  0.03599726,  0.13088754,  0.09788964,\n",
       "       -0.09242559,  0.11011475, -0.07399436,  0.13657168, -0.09666208])"
      ]
     },
     "execution_count": 117,
     "metadata": {},
     "output_type": "execute_result"
    }
   ],
   "source": [
    "X_train_w2v_2[10]"
   ]
  },
  {
   "cell_type": "code",
   "execution_count": null,
   "metadata": {},
   "outputs": [],
   "source": [
    "X_train_glove[255]"
   ]
  },
  {
   "cell_type": "code",
   "execution_count": 72,
   "metadata": {},
   "outputs": [
    {
     "name": "stdout",
     "output_type": "stream",
     "text": [
      "Train Accuracy: 0.88\n",
      "Train Precision: 0.01\n",
      "Train Recall: 0.01\n",
      "Train F1: 0.01\n",
      "\n",
      "\n",
      "Validation Accuracy: 0.89\n",
      "Validation Precision: 0.02\n",
      "Validation Recall: 0.01\n",
      "Validation F1: 0.01\n"
     ]
    },
    {
     "data": {
      "text/html": [
       "<div>\n",
       "<style scoped>\n",
       "    .dataframe tbody tr th:only-of-type {\n",
       "        vertical-align: middle;\n",
       "    }\n",
       "\n",
       "    .dataframe tbody tr th {\n",
       "        vertical-align: top;\n",
       "    }\n",
       "\n",
       "    .dataframe thead th {\n",
       "        text-align: right;\n",
       "    }\n",
       "</style>\n",
       "<table border=\"1\" class=\"dataframe\">\n",
       "  <thead>\n",
       "    <tr style=\"text-align: right;\">\n",
       "      <th>Predicted</th>\n",
       "      <th>0</th>\n",
       "      <th>1</th>\n",
       "      <th>All</th>\n",
       "    </tr>\n",
       "    <tr>\n",
       "      <th>Actual</th>\n",
       "      <th></th>\n",
       "      <th></th>\n",
       "      <th></th>\n",
       "    </tr>\n",
       "  </thead>\n",
       "  <tbody>\n",
       "    <tr>\n",
       "      <th>0</th>\n",
       "      <td>4537</td>\n",
       "      <td>247</td>\n",
       "      <td>4784</td>\n",
       "    </tr>\n",
       "    <tr>\n",
       "      <th>1</th>\n",
       "      <td>326</td>\n",
       "      <td>4</td>\n",
       "      <td>330</td>\n",
       "    </tr>\n",
       "    <tr>\n",
       "      <th>All</th>\n",
       "      <td>4863</td>\n",
       "      <td>251</td>\n",
       "      <td>5114</td>\n",
       "    </tr>\n",
       "  </tbody>\n",
       "</table>\n",
       "</div>"
      ],
      "text/plain": [
       "Predicted     0    1   All\n",
       "Actual                    \n",
       "0          4537  247  4784\n",
       "1           326    4   330\n",
       "All        4863  251  5114"
      ]
     },
     "execution_count": 72,
     "metadata": {},
     "output_type": "execute_result"
    }
   ],
   "source": [
    "smote_w2v_model (X_train_glove, y_train, X_val_glove, y_val, LogisticRegression (class_weight='balanced'))"
   ]
  },
  {
   "cell_type": "code",
   "execution_count": null,
   "metadata": {},
   "outputs": [],
   "source": []
  },
  {
   "cell_type": "markdown",
   "metadata": {},
   "source": [
    "##  Testing Scraped Trump Tweets"
   ]
  },
  {
   "cell_type": "code",
   "execution_count": 492,
   "metadata": {
    "scrolled": true
   },
   "outputs": [
    {
     "data": {
      "text/html": [
       "<div>\n",
       "<style scoped>\n",
       "    .dataframe tbody tr th:only-of-type {\n",
       "        vertical-align: middle;\n",
       "    }\n",
       "\n",
       "    .dataframe tbody tr th {\n",
       "        vertical-align: top;\n",
       "    }\n",
       "\n",
       "    .dataframe thead th {\n",
       "        text-align: right;\n",
       "    }\n",
       "</style>\n",
       "<table border=\"1\" class=\"dataframe\">\n",
       "  <thead>\n",
       "    <tr style=\"text-align: right;\">\n",
       "      <th></th>\n",
       "      <th>Unnamed: 0</th>\n",
       "      <th>tweet</th>\n",
       "      <th>tidy_tweet</th>\n",
       "      <th>no_hash_tweet</th>\n",
       "      <th>tokenized_tweet</th>\n",
       "      <th>stemmed_tokens</th>\n",
       "      <th>lemmatized_tokens</th>\n",
       "      <th>lem_tweet</th>\n",
       "      <th>stem_tweet</th>\n",
       "    </tr>\n",
       "  </thead>\n",
       "  <tbody>\n",
       "    <tr>\n",
       "      <th>0</th>\n",
       "      <td>0</td>\n",
       "      <td>So Robert Mueller has now asked for his long t...</td>\n",
       "      <td>Robert Mueller asked long time Never Trumper l...</td>\n",
       "      <td>Robert Mueller asked long time Never Trumper l...</td>\n",
       "      <td>['Robert', 'Mueller', 'asked', 'long', 'time',...</td>\n",
       "      <td>['robert', 'mueller', 'ask', 'long', 'time', '...</td>\n",
       "      <td>['Robert', 'Mueller', 'asked', 'long', 'time',...</td>\n",
       "      <td>Robert Mueller asked long time Never Trumper l...</td>\n",
       "      <td>robert mueller asked long time never trumper l...</td>\n",
       "    </tr>\n",
       "    <tr>\n",
       "      <th>1</th>\n",
       "      <td>1</td>\n",
       "      <td>The young leaders here today (@TPUSA) are part...</td>\n",
       "      <td>young leaders here today part movement unlike ...</td>\n",
       "      <td>young leaders here today part movement unlike ...</td>\n",
       "      <td>['young', 'leaders', 'here', 'today', 'part', ...</td>\n",
       "      <td>['young', 'leader', 'here', 'today', 'part', '...</td>\n",
       "      <td>['young', 'leader', 'here', 'today', 'part', '...</td>\n",
       "      <td>young leaders here today part movement unlike ...</td>\n",
       "      <td>young leaders here today part movement unlike ...</td>\n",
       "    </tr>\n",
       "    <tr>\n",
       "      <th>2</th>\n",
       "      <td>2</td>\n",
       "      <td>Congratulations to our new Secretary of Defens...</td>\n",
       "      <td>Congratulations Secretary Defense Mark twitter</td>\n",
       "      <td>Congratulations Secretary Defense Mark twitter</td>\n",
       "      <td>['Congratulations', 'Secretary', 'Defense', 'M...</td>\n",
       "      <td>['congratul', 'secretari', 'defens', 'mark', '...</td>\n",
       "      <td>['Congratulations', 'Secretary', 'Defense', 'M...</td>\n",
       "      <td>Congratulations Secretary Defense Mark twitter</td>\n",
       "      <td>congratulations secretary defense mark twitt</td>\n",
       "    </tr>\n",
       "    <tr>\n",
       "      <th>3</th>\n",
       "      <td>3</td>\n",
       "      <td>Oh well, we still have the great @seanhannity ...</td>\n",
       "      <td>well still have great hear really strong show ...</td>\n",
       "      <td>well still have great hear really strong show ...</td>\n",
       "      <td>['well', 'still', 'have', 'great', 'hear', 're...</td>\n",
       "      <td>['well', 'still', 'have', 'great', 'hear', 're...</td>\n",
       "      <td>['well', 'still', 'have', 'great', 'hear', 're...</td>\n",
       "      <td>well still have great hear really strong show ...</td>\n",
       "      <td>well still have great hear really strong show ...</td>\n",
       "    </tr>\n",
       "    <tr>\n",
       "      <th>4</th>\n",
       "      <td>4</td>\n",
       "      <td>THANK YOU @TPUSA! #MAGApic.twitter.com/1eqR2Im8dQ</td>\n",
       "      <td>THANK #MAGApic twitter</td>\n",
       "      <td>THANK MAGApic twitter</td>\n",
       "      <td>['THANK', 'MAGApic', 'twitter']</td>\n",
       "      <td>['thank', 'magap', 'twitter']</td>\n",
       "      <td>['THANK', 'MAGApic', 'twitter']</td>\n",
       "      <td>THANK MAGApic twitter</td>\n",
       "      <td>thank magapic twitt</td>\n",
       "    </tr>\n",
       "  </tbody>\n",
       "</table>\n",
       "</div>"
      ],
      "text/plain": [
       "   Unnamed: 0                                              tweet  \\\n",
       "0           0  So Robert Mueller has now asked for his long t...   \n",
       "1           1  The young leaders here today (@TPUSA) are part...   \n",
       "2           2  Congratulations to our new Secretary of Defens...   \n",
       "3           3  Oh well, we still have the great @seanhannity ...   \n",
       "4           4  THANK YOU @TPUSA! #MAGApic.twitter.com/1eqR2Im8dQ   \n",
       "\n",
       "                                          tidy_tweet  \\\n",
       "0  Robert Mueller asked long time Never Trumper l...   \n",
       "1  young leaders here today part movement unlike ...   \n",
       "2     Congratulations Secretary Defense Mark twitter   \n",
       "3  well still have great hear really strong show ...   \n",
       "4                             THANK #MAGApic twitter   \n",
       "\n",
       "                                       no_hash_tweet  \\\n",
       "0  Robert Mueller asked long time Never Trumper l...   \n",
       "1  young leaders here today part movement unlike ...   \n",
       "2     Congratulations Secretary Defense Mark twitter   \n",
       "3  well still have great hear really strong show ...   \n",
       "4                              THANK MAGApic twitter   \n",
       "\n",
       "                                     tokenized_tweet  \\\n",
       "0  ['Robert', 'Mueller', 'asked', 'long', 'time',...   \n",
       "1  ['young', 'leaders', 'here', 'today', 'part', ...   \n",
       "2  ['Congratulations', 'Secretary', 'Defense', 'M...   \n",
       "3  ['well', 'still', 'have', 'great', 'hear', 're...   \n",
       "4                    ['THANK', 'MAGApic', 'twitter']   \n",
       "\n",
       "                                      stemmed_tokens  \\\n",
       "0  ['robert', 'mueller', 'ask', 'long', 'time', '...   \n",
       "1  ['young', 'leader', 'here', 'today', 'part', '...   \n",
       "2  ['congratul', 'secretari', 'defens', 'mark', '...   \n",
       "3  ['well', 'still', 'have', 'great', 'hear', 're...   \n",
       "4                      ['thank', 'magap', 'twitter']   \n",
       "\n",
       "                                   lemmatized_tokens  \\\n",
       "0  ['Robert', 'Mueller', 'asked', 'long', 'time',...   \n",
       "1  ['young', 'leader', 'here', 'today', 'part', '...   \n",
       "2  ['Congratulations', 'Secretary', 'Defense', 'M...   \n",
       "3  ['well', 'still', 'have', 'great', 'hear', 're...   \n",
       "4                    ['THANK', 'MAGApic', 'twitter']   \n",
       "\n",
       "                                           lem_tweet  \\\n",
       "0  Robert Mueller asked long time Never Trumper l...   \n",
       "1  young leaders here today part movement unlike ...   \n",
       "2     Congratulations Secretary Defense Mark twitter   \n",
       "3  well still have great hear really strong show ...   \n",
       "4                              THANK MAGApic twitter   \n",
       "\n",
       "                                          stem_tweet  \n",
       "0  robert mueller asked long time never trumper l...  \n",
       "1  young leaders here today part movement unlike ...  \n",
       "2       congratulations secretary defense mark twitt  \n",
       "3  well still have great hear really strong show ...  \n",
       "4                                thank magapic twitt  "
      ]
     },
     "execution_count": 492,
     "metadata": {},
     "output_type": "execute_result"
    }
   ],
   "source": [
    "trump_df= pd.read_csv('data/cleaned-trump-tweet.csv')\n",
    "trump_df.head()"
   ]
  },
  {
   "cell_type": "code",
   "execution_count": 493,
   "metadata": {},
   "outputs": [],
   "source": [
    "X_train_countvect =  count_vect.fit_transform(X_train_up.lem_tweet)"
   ]
  },
  {
   "cell_type": "code",
   "execution_count": 494,
   "metadata": {},
   "outputs": [],
   "source": [
    "logreg = LogisticRegression(class_weight='balanced')"
   ]
  },
  {
   "cell_type": "code",
   "execution_count": 495,
   "metadata": {},
   "outputs": [
    {
     "data": {
      "text/plain": [
       "LogisticRegression(C=1.0, class_weight='balanced', dual=False,\n",
       "                   fit_intercept=True, intercept_scaling=1, l1_ratio=None,\n",
       "                   max_iter=100, multi_class='warn', n_jobs=None, penalty='l2',\n",
       "                   random_state=None, solver='warn', tol=0.0001, verbose=0,\n",
       "                   warm_start=False)"
      ]
     },
     "execution_count": 495,
     "metadata": {},
     "output_type": "execute_result"
    }
   ],
   "source": [
    "logreg.fit(X_train_countvect, y_train_up)"
   ]
  },
  {
   "cell_type": "code",
   "execution_count": 496,
   "metadata": {},
   "outputs": [],
   "source": [
    "X_trump = count_vect.transform(trump_df.lem_tweet)"
   ]
  },
  {
   "cell_type": "code",
   "execution_count": 497,
   "metadata": {},
   "outputs": [],
   "source": [
    "X_trump = X_trump.toarray()"
   ]
  },
  {
   "cell_type": "code",
   "execution_count": 498,
   "metadata": {},
   "outputs": [
    {
     "data": {
      "text/plain": [
       "(20, 28610)"
      ]
     },
     "execution_count": 498,
     "metadata": {},
     "output_type": "execute_result"
    }
   ],
   "source": [
    "X_trump.shape"
   ]
  },
  {
   "cell_type": "code",
   "execution_count": 499,
   "metadata": {},
   "outputs": [],
   "source": [
    "y_trump_predict = logreg.predict(X_trump)"
   ]
  },
  {
   "cell_type": "code",
   "execution_count": 500,
   "metadata": {},
   "outputs": [
    {
     "data": {
      "text/plain": [
       "array([0, 0, 0, 0, 0, 0, 0, 1, 0, 0, 0, 1, 1, 0, 0, 0, 1, 0, 0, 1])"
      ]
     },
     "execution_count": 500,
     "metadata": {},
     "output_type": "execute_result"
    }
   ],
   "source": [
    "y_trump_predict"
   ]
  },
  {
   "cell_type": "code",
   "execution_count": 501,
   "metadata": {},
   "outputs": [],
   "source": [
    "trump_df['predictions'] = y_trump_predict"
   ]
  },
  {
   "cell_type": "code",
   "execution_count": 502,
   "metadata": {},
   "outputs": [],
   "source": [
    "y_trump_predict_prob = logreg.predict_proba(X_trump)"
   ]
  },
  {
   "cell_type": "code",
   "execution_count": 503,
   "metadata": {},
   "outputs": [],
   "source": [
    "y_trump_predict_prob = pd.DataFrame(y_trump_predict_prob)"
   ]
  },
  {
   "cell_type": "code",
   "execution_count": 504,
   "metadata": {},
   "outputs": [],
   "source": [
    "trump_df['predict_probability'] = y_trump_predict_prob[0]"
   ]
  },
  {
   "cell_type": "code",
   "execution_count": 505,
   "metadata": {},
   "outputs": [],
   "source": [
    "trump_df = trump_df[['tweet','predictions', 'predict_probability']]\n"
   ]
  },
  {
   "cell_type": "code",
   "execution_count": 506,
   "metadata": {},
   "outputs": [],
   "source": [
    "trump0 = trump_df[trump_df.predictions == 0]"
   ]
  },
  {
   "cell_type": "code",
   "execution_count": 507,
   "metadata": {},
   "outputs": [],
   "source": [
    "pd.set_option('display.max_colwidth', -1)"
   ]
  },
  {
   "cell_type": "code",
   "execution_count": 508,
   "metadata": {
    "collapsed": true
   },
   "outputs": [
    {
     "data": {
      "text/plain": [
       "0     So Robert Mueller has now asked for his long time Never Trumper lawyer to sit beside him and help with answers. What’s this all about? His lawyer represented the “basement server guy” who got off free in the Crooked Hillary case. This should NOT be allowed. Rigged Witch Hunt!                        \n",
       "1     The young leaders here today (@TPUSA) are part of a movement unlike anything in the history of our nation. It is a movement about reclaiming YOUR future, rebuilding YOUR Country, restoring YOUR destiny, and renewing the values that are the true source of American GREATNESS!pic.twitter.com/unURpLS8Lc\n",
       "2     Congratulations to our new Secretary of Defense, Mark @EsperDoD!pic.twitter.com/aT3D1ZX5KK                                                                                                                                                                                                                  \n",
       "3     Oh well, we still have the great @seanhannity who I hear has a really strong show tonight. 9:00 P.M.                                                                                                                                                                                                        \n",
       "4     THANK YOU @TPUSA! #MAGApic.twitter.com/1eqR2Im8dQ                                                                                                                                                                                                                                                           \n",
       "5     Just watched Rep. Eric Swalwell be asked endless softball questions by @marthamaccallum on @FoxNews about the phony Witch Hunt. He was just forced out of the Democrat Presidential Primary because he polled at ZERO. Fox sure ain’t what it used to be. Too bad!                                          \n",
       "6     Just got back only to hear of a last minute change allowing a Never Trumper attorney to help Robert Mueller with his testimony before Congress tomorrow. What a disgrace to our system. Never heard of this before. VERY UNFAIR, SHOULD NOT BE ALLOWED. A rigged Witch Hunt!                                \n",
       "8     ....I got to know him over his many years as Chairman of the Police Athletic League, for which he devoted so much time and energy. Bob Morgenthau, a legend, will be greatly missed!                                                                                                                        \n",
       "9     I was saddened to learn of the recent passing of Bob Morgenthau, a truly great man! Bob served as a Naval Officer in World War II, was an extraordinary US Attorney, Manhattan District Attorney, and always a warrior for our Country that he loved so dearly....                                          \n",
       "10    Leaving for Turning Point USA. Will be speaking to some of the greatest and smartest young people on the planet. See you there!                                                                                                                                                                             \n",
       "13    ....Tariffs, Remittance Fees, or all of the above. Guatemala has not been good. Big U.S. taxpayer dollars going to them was cut off by me 9 months ago.                                                                                                                                                     \n",
       "14    Guatemala, which has been forming Caravans and sending large numbers of people, some with criminal records, to the United States, has decided to break the deal they had with us on signing a necessary Safe Third Agreement. We were ready to go. Now we are looking at the “BAN,”....                     \n",
       "15    Farmers are starting to do great again, after 15 years of a downward spiral. The 16 Billion Dollar China “replacement” money didn’t exactly hurt!                                                                                                                                                           \n",
       "17    Congratulations to Boris Johnson on becoming the new Prime Minister of the United Kingdom. He will be great!                                                                                                                                                                                                \n",
       "18    ....Best and Newest Military (almost totally rebuilt from the depleted military I took over) in History, Best V.A. in History (Choice), and MUCH, MUCH MORE. Gee, let’s impeach the President. The “Squad” (AOC Plus 3) and other Dems suffer from Trump Derangement Syndrome. Crazy!                       \n",
       "Name: tweet, dtype: object"
      ]
     },
     "execution_count": 508,
     "metadata": {},
     "output_type": "execute_result"
    }
   ],
   "source": [
    "trump0.tweet"
   ]
  },
  {
   "cell_type": "code",
   "execution_count": 509,
   "metadata": {
    "collapsed": true
   },
   "outputs": [
    {
     "data": {
      "text/html": [
       "<div>\n",
       "<style scoped>\n",
       "    .dataframe tbody tr th:only-of-type {\n",
       "        vertical-align: middle;\n",
       "    }\n",
       "\n",
       "    .dataframe tbody tr th {\n",
       "        vertical-align: top;\n",
       "    }\n",
       "\n",
       "    .dataframe thead th {\n",
       "        text-align: right;\n",
       "    }\n",
       "</style>\n",
       "<table border=\"1\" class=\"dataframe\">\n",
       "  <thead>\n",
       "    <tr style=\"text-align: right;\">\n",
       "      <th></th>\n",
       "      <th>tweet</th>\n",
       "      <th>predictions</th>\n",
       "      <th>predict_probability</th>\n",
       "    </tr>\n",
       "  </thead>\n",
       "  <tbody>\n",
       "    <tr>\n",
       "      <th>0</th>\n",
       "      <td>So Robert Mueller has now asked for his long time Never Trumper lawyer to sit beside him and help with answers. What’s this all about? His lawyer represented the “basement server guy” who got off free in the Crooked Hillary case. This should NOT be allowed. Rigged Witch Hunt!</td>\n",
       "      <td>0</td>\n",
       "      <td>0.955340</td>\n",
       "    </tr>\n",
       "    <tr>\n",
       "      <th>1</th>\n",
       "      <td>The young leaders here today (@TPUSA) are part of a movement unlike anything in the history of our nation. It is a movement about reclaiming YOUR future, rebuilding YOUR Country, restoring YOUR destiny, and renewing the values that are the true source of American GREATNESS!pic.twitter.com/unURpLS8Lc</td>\n",
       "      <td>0</td>\n",
       "      <td>0.870890</td>\n",
       "    </tr>\n",
       "    <tr>\n",
       "      <th>2</th>\n",
       "      <td>Congratulations to our new Secretary of Defense, Mark @EsperDoD!pic.twitter.com/aT3D1ZX5KK</td>\n",
       "      <td>0</td>\n",
       "      <td>0.978122</td>\n",
       "    </tr>\n",
       "    <tr>\n",
       "      <th>3</th>\n",
       "      <td>Oh well, we still have the great @seanhannity who I hear has a really strong show tonight. 9:00 P.M.</td>\n",
       "      <td>0</td>\n",
       "      <td>0.999288</td>\n",
       "    </tr>\n",
       "    <tr>\n",
       "      <th>4</th>\n",
       "      <td>THANK YOU @TPUSA! #MAGApic.twitter.com/1eqR2Im8dQ</td>\n",
       "      <td>0</td>\n",
       "      <td>0.937782</td>\n",
       "    </tr>\n",
       "    <tr>\n",
       "      <th>5</th>\n",
       "      <td>Just watched Rep. Eric Swalwell be asked endless softball questions by @marthamaccallum on @FoxNews about the phony Witch Hunt. He was just forced out of the Democrat Presidential Primary because he polled at ZERO. Fox sure ain’t what it used to be. Too bad!</td>\n",
       "      <td>0</td>\n",
       "      <td>0.953525</td>\n",
       "    </tr>\n",
       "    <tr>\n",
       "      <th>6</th>\n",
       "      <td>Just got back only to hear of a last minute change allowing a Never Trumper attorney to help Robert Mueller with his testimony before Congress tomorrow. What a disgrace to our system. Never heard of this before. VERY UNFAIR, SHOULD NOT BE ALLOWED. A rigged Witch Hunt!</td>\n",
       "      <td>0</td>\n",
       "      <td>0.999638</td>\n",
       "    </tr>\n",
       "    <tr>\n",
       "      <th>7</th>\n",
       "      <td>Budget Deal gives great victories to our Military and Vets, keeps out Democrat poison pill riders. Republicans and Democrats in Congress need to act ASAP and support this deal.</td>\n",
       "      <td>1</td>\n",
       "      <td>0.032784</td>\n",
       "    </tr>\n",
       "    <tr>\n",
       "      <th>8</th>\n",
       "      <td>....I got to know him over his many years as Chairman of the Police Athletic League, for which he devoted so much time and energy. Bob Morgenthau, a legend, will be greatly missed!</td>\n",
       "      <td>0</td>\n",
       "      <td>0.977587</td>\n",
       "    </tr>\n",
       "    <tr>\n",
       "      <th>9</th>\n",
       "      <td>I was saddened to learn of the recent passing of Bob Morgenthau, a truly great man! Bob served as a Naval Officer in World War II, was an extraordinary US Attorney, Manhattan District Attorney, and always a warrior for our Country that he loved so dearly....</td>\n",
       "      <td>0</td>\n",
       "      <td>0.840154</td>\n",
       "    </tr>\n",
       "    <tr>\n",
       "      <th>10</th>\n",
       "      <td>Leaving for Turning Point USA. Will be speaking to some of the greatest and smartest young people on the planet. See you there!</td>\n",
       "      <td>0</td>\n",
       "      <td>0.972643</td>\n",
       "    </tr>\n",
       "    <tr>\n",
       "      <th>11</th>\n",
       "      <td>When an old Wall at the Southern Border, that is crumbling and falling over, built in an important section to keep out problems, is replaced with a brand new 30 foot high steel and concrete Wall, the Media says no new Wall has been built. Fake News! Building lots of Wall!</td>\n",
       "      <td>1</td>\n",
       "      <td>0.053194</td>\n",
       "    </tr>\n",
       "    <tr>\n",
       "      <th>12</th>\n",
       "      <td>In 2016 I almost won Minnesota. In 2020, because of America hating anti-Semite Rep. Omar, &amp; the fact that Minnesota is having its best economic year ever, I will win the State! “We are going to be a nightmare to the President,” she say. No, AOC Plus 3 are a Nightmare for America!</td>\n",
       "      <td>1</td>\n",
       "      <td>0.008696</td>\n",
       "    </tr>\n",
       "    <tr>\n",
       "      <th>13</th>\n",
       "      <td>....Tariffs, Remittance Fees, or all of the above. Guatemala has not been good. Big U.S. taxpayer dollars going to them was cut off by me 9 months ago.</td>\n",
       "      <td>0</td>\n",
       "      <td>0.917712</td>\n",
       "    </tr>\n",
       "    <tr>\n",
       "      <th>14</th>\n",
       "      <td>Guatemala, which has been forming Caravans and sending large numbers of people, some with criminal records, to the United States, has decided to break the deal they had with us on signing a necessary Safe Third Agreement. We were ready to go. Now we are looking at the “BAN,”....</td>\n",
       "      <td>0</td>\n",
       "      <td>0.999320</td>\n",
       "    </tr>\n",
       "    <tr>\n",
       "      <th>15</th>\n",
       "      <td>Farmers are starting to do great again, after 15 years of a downward spiral. The 16 Billion Dollar China “replacement” money didn’t exactly hurt!</td>\n",
       "      <td>0</td>\n",
       "      <td>0.958040</td>\n",
       "    </tr>\n",
       "    <tr>\n",
       "      <th>16</th>\n",
       "      <td>KEEP AMERICA GREAT!</td>\n",
       "      <td>1</td>\n",
       "      <td>0.370960</td>\n",
       "    </tr>\n",
       "    <tr>\n",
       "      <th>17</th>\n",
       "      <td>Congratulations to Boris Johnson on becoming the new Prime Minister of the United Kingdom. He will be great!</td>\n",
       "      <td>0</td>\n",
       "      <td>0.955888</td>\n",
       "    </tr>\n",
       "    <tr>\n",
       "      <th>18</th>\n",
       "      <td>....Best and Newest Military (almost totally rebuilt from the depleted military I took over) in History, Best V.A. in History (Choice), and MUCH, MUCH MORE. Gee, let’s impeach the President. The “Squad” (AOC Plus 3) and other Dems suffer from Trump Derangement Syndrome. Crazy!</td>\n",
       "      <td>0</td>\n",
       "      <td>0.554673</td>\n",
       "    </tr>\n",
       "    <tr>\n",
       "      <th>19</th>\n",
       "      <td>Newest Poll: Only 11% in favor of starting ridiculous impeachment hearings. Well, let’s see: We have the Best Economy in History, the Best Employment Numbers in History, Most People Working in History, Highest Stock Market in History, Biggest Tax and Regulation Cuts in History,..</td>\n",
       "      <td>1</td>\n",
       "      <td>0.019639</td>\n",
       "    </tr>\n",
       "  </tbody>\n",
       "</table>\n",
       "</div>"
      ],
      "text/plain": [
       "                                                                                                                                                                                                                                                                                                           tweet  \\\n",
       "0   So Robert Mueller has now asked for his long time Never Trumper lawyer to sit beside him and help with answers. What’s this all about? His lawyer represented the “basement server guy” who got off free in the Crooked Hillary case. This should NOT be allowed. Rigged Witch Hunt!                           \n",
       "1   The young leaders here today (@TPUSA) are part of a movement unlike anything in the history of our nation. It is a movement about reclaiming YOUR future, rebuilding YOUR Country, restoring YOUR destiny, and renewing the values that are the true source of American GREATNESS!pic.twitter.com/unURpLS8Lc   \n",
       "2   Congratulations to our new Secretary of Defense, Mark @EsperDoD!pic.twitter.com/aT3D1ZX5KK                                                                                                                                                                                                                     \n",
       "3   Oh well, we still have the great @seanhannity who I hear has a really strong show tonight. 9:00 P.M.                                                                                                                                                                                                           \n",
       "4   THANK YOU @TPUSA! #MAGApic.twitter.com/1eqR2Im8dQ                                                                                                                                                                                                                                                              \n",
       "5   Just watched Rep. Eric Swalwell be asked endless softball questions by @marthamaccallum on @FoxNews about the phony Witch Hunt. He was just forced out of the Democrat Presidential Primary because he polled at ZERO. Fox sure ain’t what it used to be. Too bad!                                             \n",
       "6   Just got back only to hear of a last minute change allowing a Never Trumper attorney to help Robert Mueller with his testimony before Congress tomorrow. What a disgrace to our system. Never heard of this before. VERY UNFAIR, SHOULD NOT BE ALLOWED. A rigged Witch Hunt!                                   \n",
       "7   Budget Deal gives great victories to our Military and Vets, keeps out Democrat poison pill riders. Republicans and Democrats in Congress need to act ASAP and support this deal.                                                                                                                               \n",
       "8   ....I got to know him over his many years as Chairman of the Police Athletic League, for which he devoted so much time and energy. Bob Morgenthau, a legend, will be greatly missed!                                                                                                                           \n",
       "9   I was saddened to learn of the recent passing of Bob Morgenthau, a truly great man! Bob served as a Naval Officer in World War II, was an extraordinary US Attorney, Manhattan District Attorney, and always a warrior for our Country that he loved so dearly....                                             \n",
       "10  Leaving for Turning Point USA. Will be speaking to some of the greatest and smartest young people on the planet. See you there!                                                                                                                                                                                \n",
       "11  When an old Wall at the Southern Border, that is crumbling and falling over, built in an important section to keep out problems, is replaced with a brand new 30 foot high steel and concrete Wall, the Media says no new Wall has been built. Fake News! Building lots of Wall!                               \n",
       "12  In 2016 I almost won Minnesota. In 2020, because of America hating anti-Semite Rep. Omar, & the fact that Minnesota is having its best economic year ever, I will win the State! “We are going to be a nightmare to the President,” she say. No, AOC Plus 3 are a Nightmare for America!                       \n",
       "13  ....Tariffs, Remittance Fees, or all of the above. Guatemala has not been good. Big U.S. taxpayer dollars going to them was cut off by me 9 months ago.                                                                                                                                                        \n",
       "14  Guatemala, which has been forming Caravans and sending large numbers of people, some with criminal records, to the United States, has decided to break the deal they had with us on signing a necessary Safe Third Agreement. We were ready to go. Now we are looking at the “BAN,”....                        \n",
       "15  Farmers are starting to do great again, after 15 years of a downward spiral. The 16 Billion Dollar China “replacement” money didn’t exactly hurt!                                                                                                                                                              \n",
       "16  KEEP AMERICA GREAT!                                                                                                                                                                                                                                                                                            \n",
       "17  Congratulations to Boris Johnson on becoming the new Prime Minister of the United Kingdom. He will be great!                                                                                                                                                                                                   \n",
       "18  ....Best and Newest Military (almost totally rebuilt from the depleted military I took over) in History, Best V.A. in History (Choice), and MUCH, MUCH MORE. Gee, let’s impeach the President. The “Squad” (AOC Plus 3) and other Dems suffer from Trump Derangement Syndrome. Crazy!                          \n",
       "19  Newest Poll: Only 11% in favor of starting ridiculous impeachment hearings. Well, let’s see: We have the Best Economy in History, the Best Employment Numbers in History, Most People Working in History, Highest Stock Market in History, Biggest Tax and Regulation Cuts in History,..                       \n",
       "\n",
       "    predictions  predict_probability  \n",
       "0   0            0.955340             \n",
       "1   0            0.870890             \n",
       "2   0            0.978122             \n",
       "3   0            0.999288             \n",
       "4   0            0.937782             \n",
       "5   0            0.953525             \n",
       "6   0            0.999638             \n",
       "7   1            0.032784             \n",
       "8   0            0.977587             \n",
       "9   0            0.840154             \n",
       "10  0            0.972643             \n",
       "11  1            0.053194             \n",
       "12  1            0.008696             \n",
       "13  0            0.917712             \n",
       "14  0            0.999320             \n",
       "15  0            0.958040             \n",
       "16  1            0.370960             \n",
       "17  0            0.955888             \n",
       "18  0            0.554673             \n",
       "19  1            0.019639             "
      ]
     },
     "execution_count": 509,
     "metadata": {},
     "output_type": "execute_result"
    }
   ],
   "source": [
    "trump_df"
   ]
  },
  {
   "cell_type": "code",
   "execution_count": 510,
   "metadata": {
    "collapsed": true
   },
   "outputs": [
    {
     "data": {
      "text/html": [
       "<div>\n",
       "<style scoped>\n",
       "    .dataframe tbody tr th:only-of-type {\n",
       "        vertical-align: middle;\n",
       "    }\n",
       "\n",
       "    .dataframe tbody tr th {\n",
       "        vertical-align: top;\n",
       "    }\n",
       "\n",
       "    .dataframe thead th {\n",
       "        text-align: right;\n",
       "    }\n",
       "</style>\n",
       "<table border=\"1\" class=\"dataframe\">\n",
       "  <thead>\n",
       "    <tr style=\"text-align: right;\">\n",
       "      <th></th>\n",
       "      <th>tweet</th>\n",
       "      <th>predictions</th>\n",
       "      <th>predict_probability</th>\n",
       "    </tr>\n",
       "  </thead>\n",
       "  <tbody>\n",
       "    <tr>\n",
       "      <th>0</th>\n",
       "      <td>So Robert Mueller has now asked for his long time Never Trumper lawyer to sit beside him and help with answers. What’s this all about? His lawyer represented the “basement server guy” who got off free in the Crooked Hillary case. This should NOT be allowed. Rigged Witch Hunt!</td>\n",
       "      <td>0</td>\n",
       "      <td>0.955340</td>\n",
       "    </tr>\n",
       "    <tr>\n",
       "      <th>1</th>\n",
       "      <td>The young leaders here today (@TPUSA) are part of a movement unlike anything in the history of our nation. It is a movement about reclaiming YOUR future, rebuilding YOUR Country, restoring YOUR destiny, and renewing the values that are the true source of American GREATNESS!pic.twitter.com/unURpLS8Lc</td>\n",
       "      <td>0</td>\n",
       "      <td>0.870890</td>\n",
       "    </tr>\n",
       "    <tr>\n",
       "      <th>2</th>\n",
       "      <td>Congratulations to our new Secretary of Defense, Mark @EsperDoD!pic.twitter.com/aT3D1ZX5KK</td>\n",
       "      <td>0</td>\n",
       "      <td>0.978122</td>\n",
       "    </tr>\n",
       "    <tr>\n",
       "      <th>3</th>\n",
       "      <td>Oh well, we still have the great @seanhannity who I hear has a really strong show tonight. 9:00 P.M.</td>\n",
       "      <td>0</td>\n",
       "      <td>0.999288</td>\n",
       "    </tr>\n",
       "    <tr>\n",
       "      <th>4</th>\n",
       "      <td>THANK YOU @TPUSA! #MAGApic.twitter.com/1eqR2Im8dQ</td>\n",
       "      <td>0</td>\n",
       "      <td>0.937782</td>\n",
       "    </tr>\n",
       "    <tr>\n",
       "      <th>5</th>\n",
       "      <td>Just watched Rep. Eric Swalwell be asked endless softball questions by @marthamaccallum on @FoxNews about the phony Witch Hunt. He was just forced out of the Democrat Presidential Primary because he polled at ZERO. Fox sure ain’t what it used to be. Too bad!</td>\n",
       "      <td>0</td>\n",
       "      <td>0.953525</td>\n",
       "    </tr>\n",
       "    <tr>\n",
       "      <th>6</th>\n",
       "      <td>Just got back only to hear of a last minute change allowing a Never Trumper attorney to help Robert Mueller with his testimony before Congress tomorrow. What a disgrace to our system. Never heard of this before. VERY UNFAIR, SHOULD NOT BE ALLOWED. A rigged Witch Hunt!</td>\n",
       "      <td>0</td>\n",
       "      <td>0.999638</td>\n",
       "    </tr>\n",
       "    <tr>\n",
       "      <th>8</th>\n",
       "      <td>....I got to know him over his many years as Chairman of the Police Athletic League, for which he devoted so much time and energy. Bob Morgenthau, a legend, will be greatly missed!</td>\n",
       "      <td>0</td>\n",
       "      <td>0.977587</td>\n",
       "    </tr>\n",
       "    <tr>\n",
       "      <th>9</th>\n",
       "      <td>I was saddened to learn of the recent passing of Bob Morgenthau, a truly great man! Bob served as a Naval Officer in World War II, was an extraordinary US Attorney, Manhattan District Attorney, and always a warrior for our Country that he loved so dearly....</td>\n",
       "      <td>0</td>\n",
       "      <td>0.840154</td>\n",
       "    </tr>\n",
       "    <tr>\n",
       "      <th>10</th>\n",
       "      <td>Leaving for Turning Point USA. Will be speaking to some of the greatest and smartest young people on the planet. See you there!</td>\n",
       "      <td>0</td>\n",
       "      <td>0.972643</td>\n",
       "    </tr>\n",
       "    <tr>\n",
       "      <th>13</th>\n",
       "      <td>....Tariffs, Remittance Fees, or all of the above. Guatemala has not been good. Big U.S. taxpayer dollars going to them was cut off by me 9 months ago.</td>\n",
       "      <td>0</td>\n",
       "      <td>0.917712</td>\n",
       "    </tr>\n",
       "    <tr>\n",
       "      <th>14</th>\n",
       "      <td>Guatemala, which has been forming Caravans and sending large numbers of people, some with criminal records, to the United States, has decided to break the deal they had with us on signing a necessary Safe Third Agreement. We were ready to go. Now we are looking at the “BAN,”....</td>\n",
       "      <td>0</td>\n",
       "      <td>0.999320</td>\n",
       "    </tr>\n",
       "    <tr>\n",
       "      <th>15</th>\n",
       "      <td>Farmers are starting to do great again, after 15 years of a downward spiral. The 16 Billion Dollar China “replacement” money didn’t exactly hurt!</td>\n",
       "      <td>0</td>\n",
       "      <td>0.958040</td>\n",
       "    </tr>\n",
       "    <tr>\n",
       "      <th>17</th>\n",
       "      <td>Congratulations to Boris Johnson on becoming the new Prime Minister of the United Kingdom. He will be great!</td>\n",
       "      <td>0</td>\n",
       "      <td>0.955888</td>\n",
       "    </tr>\n",
       "    <tr>\n",
       "      <th>18</th>\n",
       "      <td>....Best and Newest Military (almost totally rebuilt from the depleted military I took over) in History, Best V.A. in History (Choice), and MUCH, MUCH MORE. Gee, let’s impeach the President. The “Squad” (AOC Plus 3) and other Dems suffer from Trump Derangement Syndrome. Crazy!</td>\n",
       "      <td>0</td>\n",
       "      <td>0.554673</td>\n",
       "    </tr>\n",
       "  </tbody>\n",
       "</table>\n",
       "</div>"
      ],
      "text/plain": [
       "                                                                                                                                                                                                                                                                                                           tweet  \\\n",
       "0   So Robert Mueller has now asked for his long time Never Trumper lawyer to sit beside him and help with answers. What’s this all about? His lawyer represented the “basement server guy” who got off free in the Crooked Hillary case. This should NOT be allowed. Rigged Witch Hunt!                           \n",
       "1   The young leaders here today (@TPUSA) are part of a movement unlike anything in the history of our nation. It is a movement about reclaiming YOUR future, rebuilding YOUR Country, restoring YOUR destiny, and renewing the values that are the true source of American GREATNESS!pic.twitter.com/unURpLS8Lc   \n",
       "2   Congratulations to our new Secretary of Defense, Mark @EsperDoD!pic.twitter.com/aT3D1ZX5KK                                                                                                                                                                                                                     \n",
       "3   Oh well, we still have the great @seanhannity who I hear has a really strong show tonight. 9:00 P.M.                                                                                                                                                                                                           \n",
       "4   THANK YOU @TPUSA! #MAGApic.twitter.com/1eqR2Im8dQ                                                                                                                                                                                                                                                              \n",
       "5   Just watched Rep. Eric Swalwell be asked endless softball questions by @marthamaccallum on @FoxNews about the phony Witch Hunt. He was just forced out of the Democrat Presidential Primary because he polled at ZERO. Fox sure ain’t what it used to be. Too bad!                                             \n",
       "6   Just got back only to hear of a last minute change allowing a Never Trumper attorney to help Robert Mueller with his testimony before Congress tomorrow. What a disgrace to our system. Never heard of this before. VERY UNFAIR, SHOULD NOT BE ALLOWED. A rigged Witch Hunt!                                   \n",
       "8   ....I got to know him over his many years as Chairman of the Police Athletic League, for which he devoted so much time and energy. Bob Morgenthau, a legend, will be greatly missed!                                                                                                                           \n",
       "9   I was saddened to learn of the recent passing of Bob Morgenthau, a truly great man! Bob served as a Naval Officer in World War II, was an extraordinary US Attorney, Manhattan District Attorney, and always a warrior for our Country that he loved so dearly....                                             \n",
       "10  Leaving for Turning Point USA. Will be speaking to some of the greatest and smartest young people on the planet. See you there!                                                                                                                                                                                \n",
       "13  ....Tariffs, Remittance Fees, or all of the above. Guatemala has not been good. Big U.S. taxpayer dollars going to them was cut off by me 9 months ago.                                                                                                                                                        \n",
       "14  Guatemala, which has been forming Caravans and sending large numbers of people, some with criminal records, to the United States, has decided to break the deal they had with us on signing a necessary Safe Third Agreement. We were ready to go. Now we are looking at the “BAN,”....                        \n",
       "15  Farmers are starting to do great again, after 15 years of a downward spiral. The 16 Billion Dollar China “replacement” money didn’t exactly hurt!                                                                                                                                                              \n",
       "17  Congratulations to Boris Johnson on becoming the new Prime Minister of the United Kingdom. He will be great!                                                                                                                                                                                                   \n",
       "18  ....Best and Newest Military (almost totally rebuilt from the depleted military I took over) in History, Best V.A. in History (Choice), and MUCH, MUCH MORE. Gee, let’s impeach the President. The “Squad” (AOC Plus 3) and other Dems suffer from Trump Derangement Syndrome. Crazy!                          \n",
       "\n",
       "    predictions  predict_probability  \n",
       "0   0            0.955340             \n",
       "1   0            0.870890             \n",
       "2   0            0.978122             \n",
       "3   0            0.999288             \n",
       "4   0            0.937782             \n",
       "5   0            0.953525             \n",
       "6   0            0.999638             \n",
       "8   0            0.977587             \n",
       "9   0            0.840154             \n",
       "10  0            0.972643             \n",
       "13  0            0.917712             \n",
       "14  0            0.999320             \n",
       "15  0            0.958040             \n",
       "17  0            0.955888             \n",
       "18  0            0.554673             "
      ]
     },
     "execution_count": 510,
     "metadata": {},
     "output_type": "execute_result"
    }
   ],
   "source": [
    "trump_df[trump_df.predictions == 0]"
   ]
  },
  {
   "cell_type": "code",
   "execution_count": 511,
   "metadata": {},
   "outputs": [],
   "source": [
    "trump1 = trump_df[trump_df.predictions == 1]"
   ]
  },
  {
   "cell_type": "code",
   "execution_count": 512,
   "metadata": {},
   "outputs": [
    {
     "data": {
      "text/plain": [
       "7     Budget Deal gives great victories to our Military and Vets, keeps out Democrat poison pill riders. Republicans and Democrats in Congress need to act ASAP and support this deal.                                                                                                        \n",
       "11    When an old Wall at the Southern Border, that is crumbling and falling over, built in an important section to keep out problems, is replaced with a brand new 30 foot high steel and concrete Wall, the Media says no new Wall has been built. Fake News! Building lots of Wall!        \n",
       "12    In 2016 I almost won Minnesota. In 2020, because of America hating anti-Semite Rep. Omar, & the fact that Minnesota is having its best economic year ever, I will win the State! “We are going to be a nightmare to the President,” she say. No, AOC Plus 3 are a Nightmare for America!\n",
       "16    KEEP AMERICA GREAT!                                                                                                                                                                                                                                                                     \n",
       "19    Newest Poll: Only 11% in favor of starting ridiculous impeachment hearings. Well, let’s see: We have the Best Economy in History, the Best Employment Numbers in History, Most People Working in History, Highest Stock Market in History, Biggest Tax and Regulation Cuts in History,..\n",
       "Name: tweet, dtype: object"
      ]
     },
     "execution_count": 512,
     "metadata": {},
     "output_type": "execute_result"
    }
   ],
   "source": [
    "trump1.tweet"
   ]
  },
  {
   "cell_type": "code",
   "execution_count": null,
   "metadata": {},
   "outputs": [],
   "source": []
  }
 ],
 "metadata": {
  "kernelspec": {
   "display_name": "Python 3",
   "language": "python",
   "name": "python3"
  },
  "language_info": {
   "codemirror_mode": {
    "name": "ipython",
    "version": 3
   },
   "file_extension": ".py",
   "mimetype": "text/x-python",
   "name": "python",
   "nbconvert_exporter": "python",
   "pygments_lexer": "ipython3",
   "version": "3.7.3"
  }
 },
 "nbformat": 4,
 "nbformat_minor": 2
}
